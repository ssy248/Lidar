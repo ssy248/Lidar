{
 "cells": [
  {
   "cell_type": "code",
   "execution_count": 55,
   "metadata": {},
   "outputs": [
    {
     "name": "stdout",
     "output_type": "stream",
     "text": [
      "Sian\n"
     ]
    }
   ],
   "source": [
    "print(\"Sian\")"
   ]
  },
  {
   "cell_type": "code",
   "execution_count": 1,
   "metadata": {},
   "outputs": [],
   "source": [
    "# determine the extreme values of points \n",
    "import csv\n",
    "\n",
    "trajfile = \"2019-9-10-12-0-0-BF1-CL1-Traj(0-18000frames).csv\"\n",
    "\n",
    "with open(trajfile) as csv_file:\n",
    "    csv_reader = csv.reader(csv_file, delimiter=',')\n",
    "    line_count = 0\n",
    "    for row in csv_reader:\n",
    "        if line_count ==0:\n",
    "            line_count = line_count+1\n",
    "            continue\n",
    "        # init \n",
    "        if line_count==1:\n",
    "            xmax = float(row[6])\n",
    "            xmin = float(row[6])\n",
    "            ymax = float(row[7])\n",
    "            ymin = float(row[7])\n",
    "        # x, y vals \n",
    "        xval = float(row[6])\n",
    "        yval = float(row[7])\n",
    "        if xval > xmax:\n",
    "            xmax = xval\n",
    "        if xval < xmin:\n",
    "            xmin = xval\n",
    "        if yval > ymax:\n",
    "            ymax = yval\n",
    "        if yval < ymin:\n",
    "            ymin = yval\n",
    "            \n",
    "        line_count = line_count+1\n"
   ]
  },
  {
   "cell_type": "code",
   "execution_count": 1,
   "metadata": {},
   "outputs": [
    {
     "ename": "NameError",
     "evalue": "name 'line_count' is not defined",
     "output_type": "error",
     "traceback": [
      "\u001b[1;31m---------------------------------------------------------------------------\u001b[0m",
      "\u001b[1;31mNameError\u001b[0m                                 Traceback (most recent call last)",
      "\u001b[1;32m<ipython-input-1-ada80435c05d>\u001b[0m in \u001b[0;36m<module>\u001b[1;34m\u001b[0m\n\u001b[1;32m----> 1\u001b[1;33m \u001b[0mline_count\u001b[0m\u001b[1;33m\u001b[0m\u001b[1;33m\u001b[0m\u001b[0m\n\u001b[0m",
      "\u001b[1;31mNameError\u001b[0m: name 'line_count' is not defined"
     ]
    }
   ],
   "source": [
    "line_count"
   ]
  },
  {
   "cell_type": "code",
   "execution_count": 3,
   "metadata": {},
   "outputs": [
    {
     "data": {
      "text/plain": [
       "160.0"
      ]
     },
     "execution_count": 3,
     "metadata": {},
     "output_type": "execute_result"
    }
   ],
   "source": [
    "xmax"
   ]
  },
  {
   "cell_type": "code",
   "execution_count": 2,
   "metadata": {},
   "outputs": [],
   "source": [
    "import numpy as np\n",
    "xmax = np.ceil(float(xmax))\n",
    "ymax = np.ceil(float(ymax))\n",
    "\n",
    "xmin = np.floor(float(xmin))\n",
    "ymin = np.floor(float(ymin))\n",
    "\n",
    "ymax = ymax+1\n",
    "xmax = xmax+1\n"
   ]
  },
  {
   "cell_type": "code",
   "execution_count": 11,
   "metadata": {},
   "outputs": [
    {
     "data": {
      "text/plain": [
       "160.0"
      ]
     },
     "execution_count": 11,
     "metadata": {},
     "output_type": "execute_result"
    }
   ],
   "source": [
    "xmax"
   ]
  },
  {
   "cell_type": "code",
   "execution_count": 4,
   "metadata": {},
   "outputs": [],
   "source": [
    "\n",
    "# december step 1\n",
    "\n",
    "dcmap1 = {}\n",
    "ind= 0\n",
    "\n",
    "for ix in range(int(xmin), int(xmax)):\n",
    "    for iy in range(int(ymin), int(ymax)):\n",
    "        myvec=[]\n",
    "        myvec.append(ix)\n",
    "        myvec.append(iy)\n",
    "        dcmap1[ind]=myvec\n",
    "        ind=ind+1\n"
   ]
  },
  {
   "cell_type": "code",
   "execution_count": 7,
   "metadata": {},
   "outputs": [
    {
     "data": {
      "text/plain": [
       "36712"
      ]
     },
     "execution_count": 7,
     "metadata": {},
     "output_type": "execute_result"
    }
   ],
   "source": [
    "ind"
   ]
  },
  {
   "cell_type": "code",
   "execution_count": 5,
   "metadata": {},
   "outputs": [
    {
     "name": "stdout",
     "output_type": "stream",
     "text": [
      "24000\n"
     ]
    }
   ],
   "source": [
    "# initialize \n",
    "\n",
    "# combine steps \n",
    "\n",
    "# december step 2 \n",
    "dlookupdict={}\n",
    "dinvlookupdict={}\n",
    "\n",
    "for i in range(36712):\n",
    "    dlookupdict[i] = dcmap1[i]\n",
    "    p1 = dcmap1[i][0]\n",
    "    p2 = dcmap1[i][1]\n",
    "    dinvlookupdict[(p1,p2)]=i\n",
    "\n",
    "# december step 3\n",
    "\n",
    "dtrajcount={}\n",
    "# xmin, xmax, ymin, ymax\n",
    "\n",
    "# change range to -10, 10\n",
    "range1 = 10 \n",
    "\n",
    "for i in range(36712):\n",
    "    p = dlookupdict[i]\n",
    "    px = p[0]\n",
    "    py = p[1]\n",
    "    if i==24000:\n",
    "        print(24000)\n",
    "    # calculate x between i.x - 5, i.x+5\n",
    "    for j in range(-range1, range1+ 1):\n",
    "        jx = px+j\n",
    "        if jx>xmax-1 or jx<xmin: # check if pts in range\n",
    "            continue\n",
    "        # calculate y between i.y-5, i.y+5 \n",
    "        for k in range(-range1, range1+1):\n",
    "            jy = py+k\n",
    "            # check if pts are in range\n",
    "            if jy>ymax-1 or jy<ymin:\n",
    "                continue\n",
    "            # inv dict lookup\n",
    "            p2 = dinvlookupdict[(jx, jy)]\n",
    "            # save trajcount1[(i, p2)]\n",
    "            dtrajcount[(i, p2)]=0\n"
   ]
  },
  {
   "cell_type": "code",
   "execution_count": 17,
   "metadata": {},
   "outputs": [
    {
     "name": "stdout",
     "output_type": "stream",
     "text": [
      "24000\n"
     ]
    }
   ],
   "source": [
    "# december step 3: reset dtrajcount to 0s \n",
    "\n",
    "dtrajcount={}\n",
    "# xmin, xmax, ymin, ymax\n",
    "\n",
    "# change range to -10, 10\n",
    "range1 = 10 \n",
    "\n",
    "for i in range(36712):\n",
    "    p = dlookupdict[i]\n",
    "    px = p[0]\n",
    "    py = p[1]\n",
    "    if i==24000:\n",
    "        print(24000)\n",
    "    # calculate x between i.x - 5, i.x+5\n",
    "    for j in range(-range1, range1+ 1):\n",
    "        jx = px+j\n",
    "        if jx>xmax-1 or jx<xmin: # check if pts in range\n",
    "            continue\n",
    "        # calculate y between i.y-5, i.y+5 \n",
    "        for k in range(-range1, range1+1):\n",
    "            jy = py+k\n",
    "            # check if pts are in range\n",
    "            if jy>ymax-1 or jy<ymin:\n",
    "                continue\n",
    "            # inv dict lookup\n",
    "            p2 = dinvlookupdict[(jx, jy)]\n",
    "            # save trajcount1[(i, p2)]\n",
    "            dtrajcount[(i, p2)]=0\n"
   ]
  },
  {
   "cell_type": "code",
   "execution_count": 13,
   "metadata": {},
   "outputs": [
    {
     "data": {
      "text/plain": [
       "100000.0"
      ]
     },
     "execution_count": 13,
     "metadata": {},
     "output_type": "execute_result"
    }
   ],
   "source": [
    ".1e6"
   ]
  },
  {
   "cell_type": "code",
   "execution_count": 19,
   "metadata": {},
   "outputs": [],
   "source": [
    "import csv "
   ]
  },
  {
   "cell_type": "code",
   "execution_count": 15,
   "metadata": {},
   "outputs": [
    {
     "name": "stdout",
     "output_type": "stream",
     "text": [
      "1141630.0\n",
      "1240720.0\n",
      "1338290.0\n",
      "1437440.0\n",
      "1536580.0\n",
      "1636010.0\n",
      "1735370.0\n",
      "1836180.0\n",
      "1935650.0\n",
      "2032760.0\n",
      "2134660.0\n",
      "2234250.0\n",
      "1160520.0\n",
      "1263040.0\n",
      "1365890.0\n",
      "1467030.0\n",
      "1567220.0\n",
      "1668690.0\n",
      "1767840.0\n",
      "1868370.0\n",
      "1968510.0\n",
      "2069820.0\n",
      "2171060.0\n",
      "2271060.0\n",
      "2372010.0\n",
      "2472010.0\n",
      "2570030.0\n",
      "1428070.0\n"
     ]
    }
   ],
   "source": [
    "# create new file for filling in the timestamps\n",
    "dectfile = \"dec2019/Ramp/2019-9-9-15-0-0-BF1-CL1-Traj(0-18000frames)Ramp.csv\"\n",
    "\n",
    "dectfile2= \"dec2019/Ramp/TimestampsFilledRamp.csv\"\n",
    "\n",
    "import csv \n",
    "\n",
    "with open(dectfile2, 'w') as wfile:\n",
    "    csv_writer = csv.writer(wfile)\n",
    "    \n",
    "    with open(dectfile) as csv_file:\n",
    "        csv_reader = csv.reader(csv_file, delimiter=',')\n",
    "        line_count = 0\n",
    "        for row in csv_reader:\n",
    "            if line_count ==0:\n",
    "                csv_writer.writerow(row)\n",
    "                line_count = line_count+1 \n",
    "                continue\n",
    "            # store the prev timestamp\n",
    "            ts = float(row[2])\n",
    "            \n",
    "            row1 = row\n",
    "            if ts ==0 :\n",
    "                ts1 = previous_ts + .1e6  \n",
    "                ts = ts1\n",
    "                row1[2] = ts1 \n",
    "                csv_writer.writerow(row1)\n",
    "            else:\n",
    "                csv_writer.writerow(row)\n",
    "            print(ts)\n",
    "            previous_ts = float(row[2])\n",
    "            \n",
    "            if line_count==28:\n",
    "                break\n",
    "            \n",
    "            line_count = line_count+1\n"
   ]
  },
  {
   "cell_type": "code",
   "execution_count": null,
   "metadata": {
    "collapsed": true
   },
   "outputs": [],
   "source": [
    "# dec step 4 b : dynamic time \n",
    "\n",
    "# using timestamps \n",
    "\n",
    "# 0.1 , 0.2., 0.5 "
   ]
  },
  {
   "cell_type": "code",
   "execution_count": null,
   "metadata": {
    "collapsed": true
   },
   "outputs": [],
   "source": [
    "xmin = -100\n",
    "xmax = 109\n",
    "ymin=-87\n",
    "ymax =116\n"
   ]
  },
  {
   "cell_type": "code",
   "execution_count": null,
   "metadata": {
    "collapsed": true
   },
   "outputs": [],
   "source": [
    "# find out how to measure accuracy \n",
    "\n",
    "# a: use the scores divided by the # of pts in cluster, to evaluate the accuracy \n",
    "\n",
    "# b: divide space into lanes , associate directions with the positions \n",
    "# analyze one section of the space first \n",
    "\n",
    "\n",
    " # section of space to be analyzed based on the usual length of a trajectory\n",
    "# based on orig_method_960to985.png\n",
    "xlim1 = -50\n",
    "xlim2 = 90\n",
    "ylim1 = 0 \n",
    "ylim2 = 22\n"
   ]
  },
  {
   "cell_type": "code",
   "execution_count": null,
   "metadata": {
    "collapsed": true
   },
   "outputs": [],
   "source": [
    "# calculate the jumps\n",
    "\n",
    "jumpthreshold =10 \n",
    "\n"
   ]
  },
  {
   "cell_type": "code",
   "execution_count": 56,
   "metadata": {},
   "outputs": [
    {
     "name": "stdout",
     "output_type": "stream",
     "text": [
      "0.997790291438\n"
     ]
    }
   ],
   "source": [
    "# try calculating least squares regression error\n",
    "\n",
    "from sklearn.datasets import make_regression\n",
    "from matplotlib import pyplot as plt\n",
    "import numpy as np\n",
    "from sklearn.linear_model import LinearRegression\n",
    "\n",
    "X = [1,2,3,4,5,6,7,8]\n",
    "y = [2,3,4,5,6,7,8,9]\n",
    "\n",
    "X, y, coefficients = make_regression(\n",
    "    n_samples=50,\n",
    "    n_features=1,\n",
    "    n_informative=1,\n",
    "    n_targets=1,\n",
    "    noise=5,\n",
    "    coef=True,\n",
    "    random_state=1\n",
    ")\n",
    "\n",
    "lr = LinearRegression()\n",
    "lr.fit(X, y)\n",
    "print(lr.score(X, y))"
   ]
  },
  {
   "cell_type": "code",
   "execution_count": 62,
   "metadata": {},
   "outputs": [
    {
     "data": {
      "text/plain": [
       "array([ -26.76938706,   20.6715239 ,  -61.41392253,  -15.92798116,\n",
       "        186.76014964,   -5.84613003,  -49.01594134,  144.83985375,\n",
       "         50.62143795,  164.46179248, -206.18715001,   23.28605481,\n",
       "         64.985374  ,   -7.51397738,  -75.45070245,  -71.74608535,\n",
       "        -76.15795798,   81.1225618 ,  -41.47363832,  -55.23420476,\n",
       "          4.89047099,  102.35499458, -100.72056154,  -65.39899685,\n",
       "         73.71625804, -181.52752617,   47.97805898,  -56.60306427,\n",
       "         98.02256459,  -85.79111447,  -99.88352074,  -28.72597902,\n",
       "        152.8564725 ,   86.4353764 ,   60.38888092,  144.66311336,\n",
       "        -97.97374352,  -33.55435009,  -97.80486013,  -64.36936601,\n",
       "         54.21739344,    2.91855365,   22.36423953,  131.25411321,\n",
       "        -61.47356951,   15.85043898,  -33.5680284 ,   -5.25351985,\n",
       "        -24.45871006,  -64.0756542 ])"
      ]
     },
     "execution_count": 62,
     "metadata": {},
     "output_type": "execute_result"
    }
   ],
   "source": []
  },
  {
   "cell_type": "code",
   "execution_count": 52,
   "metadata": {
    "collapsed": true
   },
   "outputs": [],
   "source": [
    "from numpy import *\n",
    "#y1 = array[1,2,3,4,5]\n",
    "\n",
    "y1= np.array([0.0, 0.0, 1, 1])"
   ]
  },
  {
   "cell_type": "code",
   "execution_count": 78,
   "metadata": {},
   "outputs": [
    {
     "data": {
      "text/plain": [
       "LinearRegression(copy_X=True, fit_intercept=True, n_jobs=1, normalize=False)"
      ]
     },
     "execution_count": 78,
     "metadata": {},
     "output_type": "execute_result"
    }
   ],
   "source": [
    "lr2.fit(x3,y2)"
   ]
  },
  {
   "cell_type": "code",
   "execution_count": 77,
   "metadata": {},
   "outputs": [
    {
     "data": {
      "text/plain": [
       "(7, 1)"
      ]
     },
     "execution_count": 77,
     "metadata": {},
     "output_type": "execute_result"
    }
   ],
   "source": [
    "x3=x2.reshape((7,1))\n",
    "x3.shape"
   ]
  },
  {
   "cell_type": "code",
   "execution_count": 67,
   "metadata": {},
   "outputs": [
    {
     "ename": "ValueError",
     "evalue": "Found input variables with inconsistent numbers of samples: [1, 7]",
     "output_type": "error",
     "traceback": [
      "\u001b[0;31m---------------------------------------------------------------------------\u001b[0m",
      "\u001b[0;31mValueError\u001b[0m                                Traceback (most recent call last)",
      "\u001b[0;32m<ipython-input-67-5d9916b88402>\u001b[0m in \u001b[0;36m<module>\u001b[0;34m()\u001b[0m\n\u001b[1;32m      5\u001b[0m \u001b[0;34m\u001b[0m\u001b[0m\n\u001b[1;32m      6\u001b[0m \u001b[0mlr2\u001b[0m \u001b[0;34m=\u001b[0m \u001b[0mLinearRegression\u001b[0m\u001b[0;34m(\u001b[0m\u001b[0;34m)\u001b[0m\u001b[0;34m\u001b[0m\u001b[0m\n\u001b[0;32m----> 7\u001b[0;31m \u001b[0mlr2\u001b[0m\u001b[0;34m.\u001b[0m\u001b[0mfit\u001b[0m\u001b[0;34m(\u001b[0m\u001b[0mx2\u001b[0m\u001b[0;34m,\u001b[0m \u001b[0my2\u001b[0m\u001b[0;34m)\u001b[0m\u001b[0;34m\u001b[0m\u001b[0m\n\u001b[0m\u001b[1;32m      8\u001b[0m \u001b[0;32mprint\u001b[0m\u001b[0;34m(\u001b[0m\u001b[0mlr\u001b[0m\u001b[0;34m.\u001b[0m\u001b[0mscore\u001b[0m\u001b[0;34m(\u001b[0m\u001b[0mx2\u001b[0m\u001b[0;34m,\u001b[0m \u001b[0my2\u001b[0m\u001b[0;34m)\u001b[0m\u001b[0;34m)\u001b[0m\u001b[0;34m\u001b[0m\u001b[0m\n",
      "\u001b[0;32m/Users/sian/anaconda/lib/python2.7/site-packages/sklearn/linear_model/base.pyc\u001b[0m in \u001b[0;36mfit\u001b[0;34m(self, X, y, sample_weight)\u001b[0m\n\u001b[1;32m    510\u001b[0m         \u001b[0mn_jobs_\u001b[0m \u001b[0;34m=\u001b[0m \u001b[0mself\u001b[0m\u001b[0;34m.\u001b[0m\u001b[0mn_jobs\u001b[0m\u001b[0;34m\u001b[0m\u001b[0m\n\u001b[1;32m    511\u001b[0m         X, y = check_X_y(X, y, accept_sparse=['csr', 'csc', 'coo'],\n\u001b[0;32m--> 512\u001b[0;31m                          y_numeric=True, multi_output=True)\n\u001b[0m\u001b[1;32m    513\u001b[0m \u001b[0;34m\u001b[0m\u001b[0m\n\u001b[1;32m    514\u001b[0m         \u001b[0;32mif\u001b[0m \u001b[0msample_weight\u001b[0m \u001b[0;32mis\u001b[0m \u001b[0;32mnot\u001b[0m \u001b[0mNone\u001b[0m \u001b[0;32mand\u001b[0m \u001b[0mnp\u001b[0m\u001b[0;34m.\u001b[0m\u001b[0matleast_1d\u001b[0m\u001b[0;34m(\u001b[0m\u001b[0msample_weight\u001b[0m\u001b[0;34m)\u001b[0m\u001b[0;34m.\u001b[0m\u001b[0mndim\u001b[0m \u001b[0;34m>\u001b[0m \u001b[0;36m1\u001b[0m\u001b[0;34m:\u001b[0m\u001b[0;34m\u001b[0m\u001b[0m\n",
      "\u001b[0;32m/Users/sian/anaconda/lib/python2.7/site-packages/sklearn/utils/validation.pyc\u001b[0m in \u001b[0;36mcheck_X_y\u001b[0;34m(X, y, accept_sparse, dtype, order, copy, force_all_finite, ensure_2d, allow_nd, multi_output, ensure_min_samples, ensure_min_features, y_numeric, warn_on_dtype, estimator)\u001b[0m\n\u001b[1;32m    529\u001b[0m         \u001b[0my\u001b[0m \u001b[0;34m=\u001b[0m \u001b[0my\u001b[0m\u001b[0;34m.\u001b[0m\u001b[0mastype\u001b[0m\u001b[0;34m(\u001b[0m\u001b[0mnp\u001b[0m\u001b[0;34m.\u001b[0m\u001b[0mfloat64\u001b[0m\u001b[0;34m)\u001b[0m\u001b[0;34m\u001b[0m\u001b[0m\n\u001b[1;32m    530\u001b[0m \u001b[0;34m\u001b[0m\u001b[0m\n\u001b[0;32m--> 531\u001b[0;31m     \u001b[0mcheck_consistent_length\u001b[0m\u001b[0;34m(\u001b[0m\u001b[0mX\u001b[0m\u001b[0;34m,\u001b[0m \u001b[0my\u001b[0m\u001b[0;34m)\u001b[0m\u001b[0;34m\u001b[0m\u001b[0m\n\u001b[0m\u001b[1;32m    532\u001b[0m \u001b[0;34m\u001b[0m\u001b[0m\n\u001b[1;32m    533\u001b[0m     \u001b[0;32mreturn\u001b[0m \u001b[0mX\u001b[0m\u001b[0;34m,\u001b[0m \u001b[0my\u001b[0m\u001b[0;34m\u001b[0m\u001b[0m\n",
      "\u001b[0;32m/Users/sian/anaconda/lib/python2.7/site-packages/sklearn/utils/validation.pyc\u001b[0m in \u001b[0;36mcheck_consistent_length\u001b[0;34m(*arrays)\u001b[0m\n\u001b[1;32m    179\u001b[0m     \u001b[0;32mif\u001b[0m \u001b[0mlen\u001b[0m\u001b[0;34m(\u001b[0m\u001b[0muniques\u001b[0m\u001b[0;34m)\u001b[0m \u001b[0;34m>\u001b[0m \u001b[0;36m1\u001b[0m\u001b[0;34m:\u001b[0m\u001b[0;34m\u001b[0m\u001b[0m\n\u001b[1;32m    180\u001b[0m         raise ValueError(\"Found input variables with inconsistent numbers of\"\n\u001b[0;32m--> 181\u001b[0;31m                          \" samples: %r\" % [int(l) for l in lengths])\n\u001b[0m\u001b[1;32m    182\u001b[0m \u001b[0;34m\u001b[0m\u001b[0m\n\u001b[1;32m    183\u001b[0m \u001b[0;34m\u001b[0m\u001b[0m\n",
      "\u001b[0;31mValueError\u001b[0m: Found input variables with inconsistent numbers of samples: [1, 7]"
     ]
    }
   ],
   "source": [
    "y2 = np.array([0,1,2,3,4,5,6])\n",
    "x2 = np.array([[1,2,3,4,5,6,7]])\n",
    "\n",
    "x2.reshape(7,1)\n",
    "\n",
    "lr2 = LinearRegression()\n",
    "lr2.fit(x2, y2)\n",
    "print(lr.score(x2, y2))\n"
   ]
  },
  {
   "cell_type": "code",
   "execution_count": 92,
   "metadata": {
    "collapsed": true
   },
   "outputs": [],
   "source": [
    "axv = np.array(xv)\n",
    "axv.shape[0]\n",
    "ayv = np.array(yv)"
   ]
  },
  {
   "cell_type": "code",
   "execution_count": 96,
   "metadata": {},
   "outputs": [
    {
     "name": "stdout",
     "output_type": "stream",
     "text": [
      "0.023767634981\n"
     ]
    }
   ],
   "source": [
    "# accuracy test on trajectory \n",
    "\n",
    "axv1 =axv.reshape(axv.shape[0],1)\n",
    "\n",
    "lr = LinearRegression()\n",
    "lr.fit(axv1, ayv)\n",
    "print(lr.score(axv1, ayv))\n",
    "\n",
    "y_pred = lr.predict(axv1)"
   ]
  },
  {
   "cell_type": "code",
   "execution_count": 99,
   "metadata": {},
   "outputs": [
    {
     "data": {
      "image/png": "[encoded data removed]",
      "text/plain": [
       "<matplotlib.figure.Figure at 0x114202950>"
      ]
     },
     "metadata": {},
     "output_type": "display_data"
    }
   ],
   "source": [
    "plt.scatter(axv1, ayv)\n",
    "plt.plot(axv1, y_pred, color='blue', linewidth=3)\n",
    "plt.show()"
   ]
  },
  {
   "cell_type": "code",
   "execution_count": 101,
   "metadata": {},
   "outputs": [
    {
     "name": "stdout",
     "output_type": "stream",
     "text": [
      "0.249801454731\n"
     ]
    },
    {
     "data": {
      "image/png": "[encoded data removed]",
      "text/plain": [
       "<matplotlib.figure.Figure at 0x113ddd590>"
      ]
     },
     "metadata": {},
     "output_type": "display_data"
    }
   ],
   "source": [
    "arrhx = np.array(arrhxvalues)\n",
    "arrhy = np.array(arrhyvalues)\n",
    "arrhx1 = arrhx.reshape(arrhx.shape[0],1)\n",
    "\n",
    "lr = LinearRegression()\n",
    "lr.fit(arrhx1, arrhy)\n",
    "print(lr.score(arrhx1, arrhy))\n",
    "\n",
    "hy_pred = lr.predict(arrhx1)\n",
    "\n",
    "plt.scatter(arrhxvalues, arrhyvalues)\n",
    "plt.plot(arrhx1, hy_pred, color='blue', linewidth=3)\n",
    "\n",
    "plt.show()\n"
   ]
  },
  {
   "cell_type": "code",
   "execution_count": 1,
   "metadata": {},
   "outputs": [
    {
     "data": {
      "text/plain": [
       "31"
      ]
     },
     "execution_count": 1,
     "metadata": {},
     "output_type": "execute_result"
    }
   ],
   "source": [
    "int(31.2)"
   ]
  },
  {
   "cell_type": "code",
   "execution_count": 115,
   "metadata": {
    "collapsed": true
   },
   "outputs": [],
   "source": [
    "# accuracy method 2\n",
    "# random sample of points : 1/10 of actual size\n",
    "\n",
    "onetenth = int(0.1*(arrhx.shape[0]))\n",
    "\n",
    "total_el = int(arrhx.shape[0])\n",
    "\n",
    "indices = np.random.randint(total_el, size=onetenth)\n",
    "\n",
    "xtake = np.take(arrhx, indices)\n",
    "ytake = np.take(arrhy, indices)\n",
    "# must sample from each cluster in step 5 alg. "
   ]
  },
  {
   "cell_type": "code",
   "execution_count": 117,
   "metadata": {},
   "outputs": [
    {
     "data": {
      "image/png": "[encoded data removed]",
      "text/plain": [
       "<matplotlib.figure.Figure at 0x113dd27d0>"
      ]
     },
     "metadata": {},
     "output_type": "display_data"
    }
   ],
   "source": [
    "plt.scatter(xtake, ytake)\n",
    "plt.show()"
   ]
  },
  {
   "cell_type": "code",
   "execution_count": null,
   "metadata": {
    "collapsed": true
   },
   "outputs": [],
   "source": [
    "# accuracy method 3 \n",
    "# take the next medians "
   ]
  },
  {
   "cell_type": "code",
   "execution_count": 100,
   "metadata": {},
   "outputs": [
    {
     "data": {
      "image/png": "[encoded data removed]",
      "text/plain": [
       "<matplotlib.figure.Figure at 0x11421a910>"
      ]
     },
     "metadata": {},
     "output_type": "display_data"
    }
   ],
   "source": [
    "plt.scatter(arrhxvalues, arrhyvalues)\n",
    "plt.show()"
   ]
  },
  {
   "cell_type": "code",
   "execution_count": 44,
   "metadata": {},
   "outputs": [
    {
     "data": {
      "text/plain": [
       "array([[ -26.76938706],\n",
       "       [  20.6715239 ],\n",
       "       [ -61.41392253],\n",
       "       [ -15.92798116],\n",
       "       [ 186.76014964],\n",
       "       [  -5.84613003],\n",
       "       [ -49.01594134],\n",
       "       [ 144.83985375],\n",
       "       [  50.62143795],\n",
       "       [ 164.46179248],\n",
       "       [-206.18715001],\n",
       "       [  23.28605481],\n",
       "       [  64.985374  ],\n",
       "       [  -7.51397738],\n",
       "       [ -75.45070245],\n",
       "       [ -71.74608535],\n",
       "       [ -76.15795798],\n",
       "       [  81.1225618 ],\n",
       "       [ -41.47363832],\n",
       "       [ -55.23420476],\n",
       "       [   4.89047099],\n",
       "       [ 102.35499458],\n",
       "       [-100.72056154],\n",
       "       [ -65.39899685],\n",
       "       [  73.71625804],\n",
       "       [-181.52752617],\n",
       "       [  47.97805898],\n",
       "       [ -56.60306427],\n",
       "       [  98.02256459],\n",
       "       [ -85.79111447],\n",
       "       [ -99.88352074],\n",
       "       [ -28.72597902],\n",
       "       [ 152.8564725 ],\n",
       "       [  86.4353764 ],\n",
       "       [  60.38888092],\n",
       "       [ 144.66311336],\n",
       "       [ -97.97374352],\n",
       "       [ -33.55435009],\n",
       "       [ -97.80486013],\n",
       "       [ -64.36936601],\n",
       "       [  54.21739344],\n",
       "       [   2.91855365],\n",
       "       [  22.36423953],\n",
       "       [ 131.25411321],\n",
       "       [ -61.47356951],\n",
       "       [  15.85043898],\n",
       "       [ -33.5680284 ],\n",
       "       [  -5.25351985],\n",
       "       [ -24.45871006],\n",
       "       [ -64.0756542 ]])"
      ]
     },
     "execution_count": 44,
     "metadata": {},
     "output_type": "execute_result"
    }
   ],
   "source": [
    "# reshape the array\n",
    "y.reshape((50,1))"
   ]
  },
  {
   "cell_type": "code",
   "execution_count": 34,
   "metadata": {},
   "outputs": [
    {
     "data": {
      "image/png": "[encoded data removed]",
      "text/plain": [
       "<matplotlib.figure.Figure at 0x11377d290>"
      ]
     },
     "metadata": {},
     "output_type": "display_data"
    }
   ],
   "source": [
    "plt.scatter(X, y)\n",
    "plt.show()"
   ]
  },
  {
   "cell_type": "code",
   "execution_count": 22,
   "metadata": {
    "collapsed": true
   },
   "outputs": [],
   "source": [
    "X = np.array([[1, 1], [1, 2], [2, 2], [2, 3]])\n",
    "y = np.dot(X, np.array([1, 2])) + 3"
   ]
  },
  {
   "cell_type": "code",
   "execution_count": 31,
   "metadata": {},
   "outputs": [
    {
     "data": {
      "text/plain": [
       "0.068817204301075297"
      ]
     },
     "execution_count": 31,
     "metadata": {},
     "output_type": "execute_result"
    }
   ],
   "source": [
    "import pandas as pd\n",
    "data = [[1,1], [2,2], [3,4],[9,1]]\n",
    "df = pd.DataFrame(data, columns=['xv', 'yv'])\n",
    "#df\n",
    "\n",
    "LR1 = LinearRegression()\n",
    "LR1.fit(df[['xv']], df['yv'])\n",
    "LR1.score(df[['xv']], df['yv'])\n"
   ]
  },
  {
   "cell_type": "code",
   "execution_count": 67,
   "metadata": {},
   "outputs": [],
   "source": [
    "# determine avg trajectory length\n",
    "\n",
    "tfile =  \"2019-9-10-12-0-0-BF1-CL1-Traj(0-18000frames).csv\"\n",
    "\n",
    "import math\n",
    "import csv\n",
    "\n",
    "trajnum = 0 \n",
    "tnum = 2\n",
    "\n",
    "irow =0\n",
    "\n",
    "outlier =0\n",
    "firstrow=0\n",
    "itrajlen =0\n",
    "tlengths = []\n",
    "\n",
    "\n",
    "with open(tfile) as csv_file:\n",
    "    csv_reader = csv.reader(csv_file, delimiter=',')\n",
    "    \n",
    "    for row in csv_reader:\n",
    "        if firstrow==0:\n",
    "            firstrow=1\n",
    "            continue\n",
    "        \n",
    "        trajnum = row[0] \n",
    "        # check for next trajectory number\n",
    "        \n",
    "        if tnum!=trajnum:\n",
    "            tlengths.append(itrajlen)\n",
    "            tnum = trajnum\n",
    "            itrajlen=0\n",
    "        itrajlen= itrajlen+1\n",
    "        \n",
    "        #irow= irow+1\n",
    "        #if irow>100:\n",
    "         #   break\n",
    "        \n",
    "        \n",
    "            "
   ]
  },
  {
   "cell_type": "code",
   "execution_count": 65,
   "metadata": {},
   "outputs": [
    {
     "data": {
      "text/plain": [
       "[22, 39, 33]"
      ]
     },
     "execution_count": 65,
     "metadata": {},
     "output_type": "execute_result"
    }
   ],
   "source": [
    "tlengths"
   ]
  },
  {
   "cell_type": "code",
   "execution_count": 68,
   "metadata": {},
   "outputs": [],
   "source": [
    "tlengths = tlengths[1:]"
   ]
  },
  {
   "cell_type": "code",
   "execution_count": 76,
   "metadata": {},
   "outputs": [
    {
     "data": {
      "text/plain": [
       "5113"
      ]
     },
     "execution_count": 76,
     "metadata": {},
     "output_type": "execute_result"
    }
   ],
   "source": [
    "len(tlengths)"
   ]
  },
  {
   "cell_type": "code",
   "execution_count": 69,
   "metadata": {},
   "outputs": [
    {
     "data": {
      "text/plain": [
       "28.7872090749071"
      ]
     },
     "execution_count": 69,
     "metadata": {},
     "output_type": "execute_result"
    }
   ],
   "source": [
    "np.mean(tlengths)"
   ]
  },
  {
   "cell_type": "code",
   "execution_count": 75,
   "metadata": {},
   "outputs": [
    {
     "data": {
      "text/plain": [
       "ModeResult(mode=array([17]), count=array([234]))"
      ]
     },
     "execution_count": 75,
     "metadata": {},
     "output_type": "execute_result"
    }
   ],
   "source": [
    "import scipy\n",
    "from scipy import stats\n",
    "stats.mode(tlengths)"
   ]
  },
  {
   "cell_type": "code",
   "execution_count": 84,
   "metadata": {},
   "outputs": [],
   "source": [
    "a = [1,1,1,2,3, 2, 2, 2,2,4,5]\n",
    "a = list(a)"
   ]
  },
  {
   "cell_type": "code",
   "execution_count": 86,
   "metadata": {},
   "outputs": [],
   "source": [
    "tlenlist = list(tlengths)"
   ]
  },
  {
   "cell_type": "code",
   "execution_count": 87,
   "metadata": {},
   "outputs": [
    {
     "data": {
      "text/plain": [
       "17"
      ]
     },
     "execution_count": 87,
     "metadata": {},
     "output_type": "execute_result"
    }
   ],
   "source": [
    "max(set(tlenlist), key=tlenlist.count)"
   ]
  },
  {
   "cell_type": "code",
   "execution_count": null,
   "metadata": {},
   "outputs": [],
   "source": []
  },
  {
   "cell_type": "code",
   "execution_count": 6,
   "metadata": {},
   "outputs": [
    {
     "name": "stdout",
     "output_type": "stream",
     "text": [
      "hi 1\n",
      "hi 1\n",
      "hi 1\n",
      "hi 1\n",
      "hi 1\n",
      "hi 1\n",
      "hi 1\n",
      "hi 1\n",
      "hi 1\n",
      "hi 1\n",
      "hi 1\n",
      "hi 1\n",
      "hi 1\n",
      "hi 1\n",
      "hi 1\n",
      "hi 1\n",
      "hi 1\n",
      "hi 1\n",
      "hi 1\n",
      "fromi 24260\n",
      "mcount 101\n",
      "fromi 24259\n",
      "mcount 101\n",
      "fromi 24260\n",
      "mcount 102\n",
      "fromi 24259\n",
      "mcount 102\n",
      "fromi 24260\n",
      "mcount 103\n",
      "fromi 24260\n",
      "mcount 104\n",
      "fromi 24259\n",
      "mcount 103\n",
      "fromi 24260\n",
      "mcount 105\n",
      "fromi 24259\n",
      "mcount 104\n",
      "fromi 24260\n",
      "mcount 106\n",
      "fromi 24259\n",
      "mcount 105\n",
      "fromi 24260\n",
      "mcount 107\n",
      "fromi 24259\n",
      "mcount 106\n",
      "fromi 24260\n",
      "mcount 108\n",
      "fromi 24259\n",
      "mcount 107\n",
      "fromi 24260\n",
      "mcount 109\n",
      "fromi 24259\n",
      "mcount 108\n",
      "fromi 24260\n",
      "mcount 110\n",
      "fromi 24260\n",
      "mcount 111\n",
      "fromi 24260\n",
      "mcount 112\n",
      "fromi 24260\n",
      "mcount 113\n",
      "fromi 24259\n",
      "mcount 109\n",
      "fromi 24259\n",
      "mcount 110\n",
      "fromi 24260\n",
      "mcount 114\n",
      "fromi 24259\n",
      "mcount 111\n",
      "fromi 24260\n",
      "mcount 115\n",
      "fromi 24259\n",
      "mcount 112\n",
      "fromi 24260\n",
      "mcount 116\n",
      "fromi 24259\n",
      "mcount 113\n",
      "fromi 24259\n",
      "mcount 114\n",
      "fromi 24260\n",
      "mcount 117\n",
      "fromi 24259\n",
      "mcount 115\n",
      "fromi 24259\n",
      "mcount 116\n",
      "fromi 24260\n",
      "mcount 118\n",
      "fromi 24259\n",
      "mcount 117\n",
      "fromi 24260\n",
      "mcount 119\n",
      "fromi 24259\n",
      "mcount 118\n",
      "fromi 24260\n",
      "mcount 120\n",
      "fromi 24259\n",
      "mcount 119\n",
      "fromi 24259\n",
      "mcount 120\n",
      "fromi 24260\n",
      "mcount 121\n",
      "fromi 24259\n",
      "mcount 121\n",
      "fromi 24260\n",
      "mcount 122\n",
      "fromi 24259\n",
      "mcount 122\n",
      "fromi 24260\n",
      "mcount 123\n",
      "fromi 24259\n",
      "mcount 123\n",
      "fromi 24260\n",
      "mcount 124\n",
      "fromi 24259\n",
      "mcount 124\n",
      "fromi 24260\n",
      "mcount 125\n",
      "fromi 24259\n",
      "mcount 125\n",
      "fromi 24260\n",
      "mcount 126\n",
      "fromi 24259\n",
      "mcount 126\n",
      "fromi 24260\n",
      "mcount 127\n",
      "fromi 24259\n",
      "mcount 127\n",
      "fromi 24260\n",
      "mcount 128\n",
      "fromi 24259\n",
      "mcount 128\n",
      "fromi 24260\n",
      "mcount 129\n",
      "hi 1\n",
      "fromi 24260\n",
      "mcount 130\n",
      "fromi 24259\n",
      "mcount 129\n",
      "fromi 24260\n",
      "mcount 131\n",
      "fromi 24259\n",
      "mcount 130\n",
      "fromi 24260\n",
      "mcount 132\n",
      "fromi 24259\n",
      "mcount 131\n",
      "fromi 24259\n",
      "mcount 132\n",
      "hi 1\n",
      "hi 1\n",
      "fromi 24260\n",
      "mcount 133\n",
      "fromi 24260\n",
      "mcount 134\n",
      "fromi 24259\n",
      "mcount 133\n",
      "fromi 24260\n",
      "mcount 135\n",
      "fromi 24259\n",
      "mcount 134\n",
      "fromi 24260\n",
      "mcount 136\n",
      "fromi 24259\n",
      "mcount 135\n",
      "fromi 24260\n",
      "mcount 137\n",
      "fromi 24259\n",
      "mcount 136\n",
      "hi 1\n",
      "hi 1\n",
      "hi 1\n",
      "fromi 24260\n",
      "mcount 138\n",
      "fromi 24259\n",
      "mcount 137\n",
      "fromi 24260\n",
      "mcount 139\n",
      "hi 1\n",
      "fromi 24260\n",
      "mcount 140\n",
      "fromi 24259\n",
      "mcount 138\n",
      "fromi 24260\n",
      "mcount 141\n",
      "fromi 24260\n",
      "mcount 142\n",
      "fromi 24259\n",
      "mcount 139\n",
      "fromi 24260\n",
      "mcount 143\n",
      "fromi 24259\n",
      "mcount 140\n",
      "fromi 24260\n",
      "mcount 144\n",
      "hi 1\n",
      "hi 1\n",
      "hi 1\n",
      "hi 1\n",
      "hi 1\n",
      "hi 1\n",
      "hi 1\n",
      "hi 1\n",
      "hi 1\n",
      "hi 1\n",
      "hi 1\n",
      "hi 1\n",
      "hi 1\n",
      "hi 1\n",
      "hi 1\n",
      "hi 1\n",
      "hi 1\n",
      "hi 1\n",
      "hi 1\n",
      "hi 1\n",
      "hi 1\n",
      "hi 1\n",
      "hi 1\n",
      "hi 1\n",
      "hi 1\n",
      "hi 1\n",
      "hi 1\n",
      "hi 1\n",
      "hi 1\n",
      "hi 1\n",
      "hi 1\n",
      "hi 1\n",
      "hi 1\n",
      "hi 1\n",
      "hi 1\n",
      "hi 1\n",
      "hi 1\n",
      "hi 1\n",
      "hi 1\n",
      "hi 1\n",
      "hi 1\n",
      "hi 1\n",
      "hi 1\n",
      "hi 1\n",
      "hi 1\n"
     ]
    }
   ],
   "source": [
    "# train with trajectory\n",
    "\n",
    "# dec step 3.b\n",
    "listoutliers = []\n",
    "rangeoutliers = {}\n",
    "doutlier = {}\n",
    "listoutliers2 = {}\n",
    "\n",
    "# step 4 \n",
    "\n",
    "#tfile = \"dec2019/Ramp/2019-9-9-15-0-0-BF1-CL1-Traj(0-18000frames)Ramp.csv\"\n",
    "tfile =  \"2019-9-10-12-0-0-BF1-CL1-Traj(0-18000frames).csv\"\n",
    "\n",
    "import math\n",
    "import csv\n",
    "\n",
    "trajnum = 0 \n",
    "obnum = 1\n",
    "\n",
    "irow =0\n",
    "\n",
    "outlier =0\n",
    "\n",
    "\n",
    "with open(tfile) as csv_file:\n",
    "    csv_reader = csv.reader(csv_file, delimiter=',')\n",
    "    line_count = 0\n",
    "    for row in csv_reader:\n",
    "        irow=irow+1\n",
    "        trajnum = row[0]\n",
    "        frameindex = row[17]\n",
    "        #print(\"frame:\",frameindex)\n",
    "        if line_count==0:\n",
    "            line_count=line_count+1\n",
    "            continue\n",
    "        if line_count==1:\n",
    "            line_count=line_count+1\n",
    "            prevrow = row\n",
    "            prevx = float(prevrow[6])\n",
    "            prevy = float(prevrow[7])\n",
    "            # use round instead of floor\n",
    "            pfx = round(prevx)\n",
    "            pfy = round(prevy)\n",
    "            continue\n",
    "        # skip if timestamp is 0\n",
    "        #timest = float(row[2])\n",
    "        #if timest==0:\n",
    "        #    continue\n",
    "        currx =float(row[6])\n",
    "        curry =float(row[7])\n",
    "        # instead of floor, use round\n",
    "        fx = round(currx)\n",
    "        fy = round(curry)\n",
    "        if pfx==fx and pfy==fy:\n",
    "            prevframe=frameindex\n",
    "            line_count = line_count + 1\n",
    "            continue\n",
    "        if obnum != trajnum:\n",
    "            pfx = fx\n",
    "            pfy= fy\n",
    "            obnum = trajnum\n",
    "            prevtrajnum = trajnum\n",
    "            prevframe=frameindex\n",
    "            line_count = line_count+1\n",
    "            continue\n",
    "        # now save to the map(i,j)\n",
    "        # debug\n",
    "        \n",
    "        fromi = dinvlookupdict[(pfx,pfy)]\n",
    "        #topt = []\n",
    "        toi = dinvlookupdict[(fx,fy)]\n",
    "        #check if in range \n",
    "        if abs(pfx - fx) >10 or abs(pfy - fy) > 10:\n",
    "            xr1 = fx - pfx\n",
    "            yr1 = fy - pfy\n",
    "            if [pfx, pfy] in listoutliers:\n",
    "                # get the list of points + their counts\n",
    "                #listptcount = doutlier[fromi]\n",
    "                arrayptcount = listoutliers2[fromi]\n",
    "                if [fx, fy] in arrayptcount:\n",
    "                    doutlier[fromi, toi] = doutlier[fromi, toi]+1\n",
    "                else:\n",
    "                    arrayptcount.append([fx,fy])\n",
    "                    listoutliers2[fromi] = arrayptcount \n",
    "                    doutlier[fromi, toi] = 1 \n",
    "            #add to outliers \n",
    "            else:\n",
    "                if len(listoutliers) ==0 :\n",
    "                    #print(\"hi 0\")\n",
    "                    listoutliers = [[pfx, pfy]]\n",
    "                    listoutliers2[fromi] = [[fx, fy]]\n",
    "                    doutlier[fromi, toi] = 1\n",
    "                    continue\n",
    "                print(\"hi 1\")\n",
    "                listoutliers.append([pfx, pfy])\n",
    "                listoutliers2[fromi] = [[fx, fy]]\n",
    "                doutlier[fromi, toi] = 1 \n",
    "            # print to keep track \n",
    "            #print(\"pfx, pfy\", pfx, pfy)\n",
    "            #print(\"fx, fy\", fx, fy)\n",
    "            line_count = line_count + 1\n",
    "            # skip normal step\n",
    "            continue\n",
    "\n",
    "        mcount = dtrajcount[(fromi,toi)]\n",
    "        if mcount >100:\n",
    "            print(\"fromi\",fromi)\n",
    "            print(\"mcount\", mcount)\n",
    "        dtrajcount[(fromi, toi)] = mcount+1\n",
    "        # set previous\n",
    "        pfx = fx\n",
    "        pfy = fy\n",
    "        prevframe = frameindex\n",
    "        prevtrajnum= trajnum\n",
    "        line_count=line_count+1\n"
   ]
  },
  {
   "cell_type": "code",
   "execution_count": 41,
   "metadata": {},
   "outputs": [
    {
     "data": {
      "text/plain": [
       "59.0"
      ]
     },
     "execution_count": 41,
     "metadata": {},
     "output_type": "execute_result"
    }
   ],
   "source": [
    "ymax"
   ]
  },
  {
   "cell_type": "code",
   "execution_count": 9,
   "metadata": {},
   "outputs": [
    {
     "data": {
      "text/plain": [
       "(145, 24259)"
      ]
     },
     "execution_count": 9,
     "metadata": {},
     "output_type": "execute_result"
    }
   ],
   "source": [
    "dhighestfreq(24260)"
   ]
  },
  {
   "cell_type": "code",
   "execution_count": 35,
   "metadata": {},
   "outputs": [
    {
     "name": "stdout",
     "output_type": "stream",
     "text": [
      "(0, 1030)\n",
      "(0, 1031)\n",
      "(0, 1032)\n",
      "(0, 1033)\n",
      "(0, 1034)\n",
      "(0, 1035)\n",
      "(0, 1036)\n",
      "(0, 1037)\n",
      "(0, 1038)\n",
      "(0, 1039)\n",
      "(0, 1040)\n",
      "(0, 1041)\n",
      "(0, 1042)\n",
      "(0, 1043)\n",
      "(0, 1044)\n",
      "(0, 1045)\n",
      "(0, 1046)\n",
      "(0, 1047)\n",
      "(0, 1048)\n",
      "(0, 1049)\n"
     ]
    }
   ],
   "source": [
    "for i in range(1030,1050):\n",
    "    print(dhighestfreq(i))"
   ]
  },
  {
   "cell_type": "code",
   "execution_count": 8,
   "metadata": {},
   "outputs": [],
   "source": [
    "# december highest \n",
    "# step 4 b \n",
    "            \n",
    "def dhighestfreq(fromi):\n",
    "    highest = 0\n",
    "    indexhighest = fromi\n",
    "    (px, py) = dlookupdict[fromi]\n",
    "    for j in range(-10, 11):\n",
    "        jx = px+j\n",
    "        if jx>xmax-1 or jx<xmin: # check if pts in range\n",
    "            continue\n",
    "        for k in range(-10, 11):\n",
    "            jy = py+k\n",
    "            # check if pts are in range\n",
    "            if jy>ymax-1 or jy<ymin:\n",
    "                continue\n",
    "            toi = dinvlookupdict[(jx, jy)]\n",
    "            t = dtrajcount[(fromi, toi)]\n",
    "            #if t>0:\n",
    "                #print(t)\n",
    "            if t > highest:\n",
    "                highest=t\n",
    "                indexhighest=toi\n",
    "    return highest, indexhighest"
   ]
  },
  {
   "cell_type": "code",
   "execution_count": 57,
   "metadata": {},
   "outputs": [],
   "source": []
  },
  {
   "cell_type": "code",
   "execution_count": null,
   "metadata": {},
   "outputs": [],
   "source": []
  },
  {
   "cell_type": "code",
   "execution_count": 355,
   "metadata": {
    "scrolled": true
   },
   "outputs": [
    {
     "data": {
      "text/plain": [
       "13"
      ]
     },
     "execution_count": 355,
     "metadata": {},
     "output_type": "execute_result"
    }
   ],
   "source": [
    "incorrect"
   ]
  },
  {
   "cell_type": "code",
   "execution_count": 283,
   "metadata": {},
   "outputs": [],
   "source": [
    "def disjoint(e,f):\n",
    "    c = e.copy() # [:] works also, but I think this is clearer\n",
    "    d = f.copy()\n",
    "    for i in e: # no need for index. just walk each items in the array\n",
    "        for j in f:\n",
    "            if i == j: # if there is a match, remove the match.\n",
    "                c.remove(i)\n",
    "                d.remove(j)\n",
    "    return c + d"
   ]
  },
  {
   "cell_type": "code",
   "execution_count": 20,
   "metadata": {},
   "outputs": [],
   "source": [
    "# disjoint where only find if prev matched not in current\n",
    "def disjoint1(e,f):\n",
    "    c = e.copy() # [:] works also, but I think this is clearer\n",
    "    d = f.copy()\n",
    "    for i in e:\n",
    "        for j in f:\n",
    "            if i==j:\n",
    "                c.remove(i)\n",
    "                d.remove(j)\n",
    "    return c"
   ]
  },
  {
   "cell_type": "code",
   "execution_count": 21,
   "metadata": {},
   "outputs": [],
   "source": [
    "def unique(list1): \n",
    "      \n",
    "    # insert the list to the set \n",
    "    list_set = set(list1) \n",
    "    # convert the set to the list \n",
    "    unique_list = (list(list_set)) \n",
    "    return unique_list"
   ]
  },
  {
   "cell_type": "code",
   "execution_count": 292,
   "metadata": {},
   "outputs": [
    {
     "data": {
      "text/plain": [
       "[2, 7]"
      ]
     },
     "execution_count": 292,
     "metadata": {},
     "output_type": "execute_result"
    }
   ],
   "source": [
    "a = [2,3,4,5,6]\n",
    "b= [3,4,5,6,7]\n",
    "\n",
    "a1 = [2,3,3,4,5,6,6]\n",
    "a2 = unique(a1)\n",
    "\n",
    "disjoint(a2, b)"
   ]
  },
  {
   "cell_type": "code",
   "execution_count": 342,
   "metadata": {},
   "outputs": [
    {
     "name": "stdout",
     "output_type": "stream",
     "text": [
      "current clusters for 11.0 is: [1.0, 2.0, 3.0, 4.0, 5.0, 6.0, 7.0]\n",
      "prev matched for 11.0 is: [1.0, 2.0, 3.0, 4.0, 5.0, 6.0]\n",
      "unmatched: [7.0]\n",
      "current clusters for 12.0 is: [1.0, 2.0, 3.0, 4.0, 5.0, 6.0, 7.0]\n",
      "prev matched for 12.0 is: [1.0, 3.0, 4.0, 5.0, 7.0, 8.0, 9.0]\n",
      "unmatched: [2.0, 6.0]\n"
     ]
    }
   ],
   "source": [
    "# input params\n",
    "\n",
    "initialframe = 10\n",
    "endframe = 13\n",
    "#####\n",
    "\n",
    "# method to find new cluster id without parent cluster id \n",
    "newclusters = []\n",
    "\n",
    "newstartframes = [] # corresponding starting frame\n",
    "\n",
    "# go over datastore file\n",
    "\n",
    "# ignore the starting point if it does not have a next cluster id \n",
    "\n",
    "matchedto = []\n",
    "prevmatchedto = []\n",
    "currentclusters = [] # compare with matched previous\n",
    "unmatched =[]\n",
    "\n",
    "currframe = initialframe # current frame\n",
    "\n",
    "with open(datastorename) as datastore_csv_file:\n",
    "    datastore_csv_reader = csv.reader(datastore_csv_file, delimiter=\",\")\n",
    "    \n",
    "    for row in datastore_csv_reader:\n",
    "        rownum =rownum+1\n",
    "        \n",
    "        # 1 - frame \n",
    "        framenum = float(row[0])\n",
    "        clusterid = float(row[1])\n",
    "        matched = float(row[18]) \n",
    "        \n",
    "         # if past end frame\n",
    "        if framenum > endframe:\n",
    "            break\n",
    "        \n",
    "        if framenum < initialframe:\n",
    "            continue\n",
    "        \n",
    "            \n",
    "        if framenum != currframe:\n",
    "            if currframe==initialframe:\n",
    "                prevmatchedto=matchedto\n",
    "                matchedto=[]\n",
    "                currentclusters=[]\n",
    "                currframe = framenum\n",
    "                continue\n",
    "            # compare currentclusters and prevmatchedto \n",
    "            unmatched = disjoint1(unique(currentclusters), unique(prevmatchedto)) \n",
    "            print(\"current clusters for\", currframe, \"is:\", unique(currentclusters))\n",
    "            print(\"prev matched for\", currframe, \"is:\", unique(prevmatchedto))\n",
    "            print(\"unmatched:\", unmatched)\n",
    "            for el in unmatched:\n",
    "                newclusters.append(el)\n",
    "                newstartframes.append(currframe)\n",
    "            \n",
    "            # reset \n",
    "            prevmatchedto = matchedto\n",
    "            matchedto= []\n",
    "            currentclusters = []\n",
    "            currframe = framenum\n",
    "       \n",
    "        currentclusters.append(clusterid)\n",
    "        matchedto.append(matched)\n",
    "        \n",
    "        \n",
    "        # check the matched \n",
    "        \n",
    "       \n",
    "            \n",
    "        # look for ids that were not mapped to \n",
    "        "
   ]
  },
  {
   "cell_type": "code",
   "execution_count": null,
   "metadata": {},
   "outputs": [],
   "source": [
    "# current clusters for 12 not showing 8 and 9 \n"
   ]
  },
  {
   "cell_type": "code",
   "execution_count": 343,
   "metadata": {},
   "outputs": [
    {
     "data": {
      "text/plain": [
       "[11.0, 12.0, 12.0]"
      ]
     },
     "execution_count": 343,
     "metadata": {},
     "output_type": "execute_result"
    }
   ],
   "source": [
    "newstartframes"
   ]
  },
  {
   "cell_type": "code",
   "execution_count": 344,
   "metadata": {},
   "outputs": [
    {
     "data": {
      "text/plain": [
       "[7.0, 2.0, 6.0]"
      ]
     },
     "execution_count": 344,
     "metadata": {},
     "output_type": "execute_result"
    }
   ],
   "source": [
    "newclusters"
   ]
  },
  {
   "cell_type": "code",
   "execution_count": 337,
   "metadata": {},
   "outputs": [
    {
     "data": {
      "text/plain": [
       "[2.0, 6.0]"
      ]
     },
     "execution_count": 337,
     "metadata": {},
     "output_type": "execute_result"
    }
   ],
   "source": [
    "a1 =[1.0, 3.0, 4.0, 5.0, 7.0, 8.0, 9.0]\n",
    "a2 = [1.0, 2.0, 3.0, 4.0, 5.0, 6.0, 7.0]\n",
    "disjoint1(a1,a2)"
   ]
  },
  {
   "cell_type": "code",
   "execution_count": 347,
   "metadata": {},
   "outputs": [
    {
     "data": {
      "text/plain": [
       "87"
      ]
     },
     "execution_count": 347,
     "metadata": {},
     "output_type": "execute_result"
    }
   ],
   "source": [
    "totalcomparisons"
   ]
  },
  {
   "cell_type": "code",
   "execution_count": null,
   "metadata": {},
   "outputs": [],
   "source": [
    "# function to check where two trajectories merge , based on app results\n",
    "\n",
    "\n",
    "# change trajectory length to have less errors\n"
   ]
  },
  {
   "cell_type": "code",
   "execution_count": 396,
   "metadata": {},
   "outputs": [
    {
     "name": "stdout",
     "output_type": "stream",
     "text": [
      "3\n"
     ]
    }
   ],
   "source": [
    "# code to find out the num of clusters in the current frame\n",
    "\n",
    "i = 290 # start frame \n",
    "name = \"file_out\"\n",
    "name = name+str(i)\n",
    "name = name+\".csv\"\n",
    "firstrow=0\n",
    "\n",
    "with open(name) as csv_file:\n",
    "    csv_reader = csv.reader(csv_file, delimiter=\",\")\n",
    "\n",
    "    for row in csv_reader:\n",
    "        clusteridfinal = row[0]\n",
    "\n",
    "print(clusteridfinal)"
   ]
  },
  {
   "cell_type": "code",
   "execution_count": 22,
   "metadata": {},
   "outputs": [],
   "source": [
    "clusteridfinal=7"
   ]
  },
  {
   "cell_type": "code",
   "execution_count": 10,
   "metadata": {},
   "outputs": [],
   "source": [
    "from collections import defaultdict\n",
    "import matplotlib.pyplot as plt\n",
    "\n",
    "search2 =1\n",
    "\n",
    "datastorename = 'newdatastoreMay17.csv'\n",
    "\n",
    "incorrect = 0"
   ]
  },
  {
   "cell_type": "code",
   "execution_count": 411,
   "metadata": {
    "scrolled": true
   },
   "outputs": [
    {
     "name": "stdout",
     "output_type": "stream",
     "text": [
      "f is 277\n",
      "f is 104\n",
      "f is 119\n",
      "f is 138\n",
      "f is 139\n",
      "f is 142\n",
      "f is 108\n",
      "f is 87\n",
      "f is 66\n"
     ]
    },
    {
     "data": {
      "image/png": "[encoded data removed]",
      "text/plain": [
       "<Figure size 432x288 with 1 Axes>"
      ]
     },
     "metadata": {
      "needs_background": "light"
     },
     "output_type": "display_data"
    },
    {
     "name": "stdout",
     "output_type": "stream",
     "text": [
      "f is 35\n",
      "f is 26\n",
      "0 h vals\n"
     ]
    },
    {
     "data": {
      "image/png": "[encoded data removed]",
      "text/plain": [
       "<Figure size 432x288 with 1 Axes>"
      ]
     },
     "metadata": {
      "needs_background": "light"
     },
     "output_type": "display_data"
    },
    {
     "name": "stdout",
     "output_type": "stream",
     "text": [
      "f is 10\n",
      "0 h vals\n"
     ]
    },
    {
     "data": {
      "image/png": "[encoded data removed]",
      "text/plain": [
       "<Figure size 432x288 with 1 Axes>"
      ]
     },
     "metadata": {
      "needs_background": "light"
     },
     "output_type": "display_data"
    },
    {
     "name": "stdout",
     "output_type": "stream",
     "text": [
      "wrong\n",
      "array1 [3, 3.0, 4.0, 4.0, 4.0, 4.0, 4.0, 4.0, 4.0, 4.0]\n",
      "array2 [3, 3.0, 4.0, 4.0, 3.0, 4.0]\n"
     ]
    }
   ],
   "source": [
    "# complete procedure 2\n",
    "\n",
    "\n",
    "# keep count of total number of comparisons + number of incorrect matches\n",
    "totalcomparisons = 0\n",
    "\n",
    "c1 = 1\n",
    "c2 = 3\n",
    "\n",
    "# new params\n",
    "totresults = []\n",
    "totclusterids=[]\n",
    "\n",
    "#diff. category of accuracy index\n",
    "missedmatching = 0\n",
    "wrongmatching =0 # matched to a different cluster\n",
    "continuedmatching = 0 # continues erroneously \n",
    "\n",
    "clustering_error = 0 \n",
    "\n",
    "#####\n",
    "initialframe = 290\n",
    "endframe = 299\n",
    "\n",
    "\n",
    "for c in range(c1, c2+1):\n",
    "    arrayx = []\n",
    "    arrayy=[]\n",
    "\n",
    "    initialcluster=c\n",
    "\n",
    "    listclusterids = []\n",
    "\n",
    "    listclusterids.append(initialcluster)\n",
    "\n",
    "    obnum = 0\n",
    "\n",
    "\n",
    "    totalmap={}\n",
    "\n",
    "    previndices=[]\n",
    "    currentindices=[]\n",
    "    totalmap = {}\n",
    "\n",
    "    finalarray=[]\n",
    "\n",
    "    xvalues = []\n",
    "    yvalues = []\n",
    "\n",
    "    hxvalues =[]\n",
    "    hyvalues= []\n",
    "\n",
    "    prevmap={}\n",
    "\n",
    "    mf = defaultdict(list)\n",
    "    # maximum object/cluster id in any frame\n",
    "    mx = 20\n",
    "\n",
    "    for j in range(0, mx):\n",
    "        mf[j]=0 \n",
    "\n",
    "    matchfreq= mf\n",
    "\n",
    "    for i in range(initialframe, endframe+1):\n",
    "        name = \"file_out\"\n",
    "        name = name+str(i)\n",
    "        name = name+\".csv\"\n",
    "        firstrow=0\n",
    "        # clear matchfreq\n",
    "        for j in range(0, mx):\n",
    "            matchfreq[j] =0\n",
    "        with open(name) as csv_file:\n",
    "            f =0 \n",
    "            # reset hxvalues , hyvalues\n",
    "            hxvalues = []\n",
    "            hyvalues=[]\n",
    "\n",
    "            currentmap= {}\n",
    "\n",
    "            csv_reader = csv.reader(csv_file, delimiter=\",\")\n",
    "\n",
    "            if i==initialframe:\n",
    "                for row in csv_reader:\n",
    "                    # no need for first row skip \n",
    "                    clusterid = float(row[0])\n",
    "                    if clusterid==initialcluster:\n",
    "                        xpoint = float(row[1])\n",
    "                        ypoint = float(row[2])\n",
    "                        #print(\"xpt\", xpoint)\n",
    "                        #print(\"ypt\", ypoint)\n",
    "                        arrayx.append(xpoint)\n",
    "                        arrayy.append(ypoint)\n",
    "                        xr = round(xpoint)\n",
    "                        yr = round(ypoint)\n",
    "                        fromi = dinvlookupdict[(xr,yr)]\n",
    "                        h1, i1 = dhighestfreq(fromi)\n",
    "                        prevmap[i1] = 1\n",
    "                plt.scatter(arrayx, arrayy)\n",
    "                # reset ky \n",
    "                ky = initialcluster\n",
    "                continue\n",
    "\n",
    "            for row in csv_reader:\n",
    "                clusterid = float(row[0])\n",
    "\n",
    "                if clusterid != obnum:\n",
    "                    numo1 = float(obnum)\n",
    "                    # append into dictionary of maps\n",
    "                    totalmap[numo1] = currentmap\n",
    "                    if matchfreq[numo1] > f:\n",
    "                        f = matchfreq[numo1]\n",
    "                        print(\"f is\", f)\n",
    "                        ky = numo1\n",
    "\n",
    "                        hxvalues = xvalues\n",
    "                        hyvalues = yvalues\n",
    "                    obnum = clusterid\n",
    "\n",
    "                    currentindices=[]\n",
    "                    currentmap= {}\n",
    "\n",
    "                    xvalues =[]\n",
    "                    yvalues =[]\n",
    "                    # append first values\n",
    "                    #xvalues.append(float(row[1]))\n",
    "                    #yvalues.append(float(row[2]))\n",
    "\n",
    "                    continue\n",
    "\n",
    "                xpoint = float(row[1])\n",
    "                ypoint = float(row[2])\n",
    "                xr = round(xpoint)\n",
    "                yr = round(ypoint)\n",
    "                xvalues.append(xpoint) # save to array \n",
    "                yvalues.append(ypoint)\n",
    "                fromi = dinvlookupdict[(xr,yr)]\n",
    "                # function to find highest freq \n",
    "                h1, i1 = dhighestfreq(fromi)\n",
    "                # check outlier\n",
    "                freqo =0 \n",
    "                if [xr, yr] in listoutliers:\n",
    "                    # determine highest outlier count + coordinates\n",
    "                    listofoutliers = listoutliers2[fromi]\n",
    "                    for outlierpt in listofoutliers:\n",
    "                        indexo = dinvlookupdict[(outlierpt[0], outlierpt[1])]\n",
    "                        ocount = doutlier[fromi, indexo]\n",
    "                        if ocount > freqo:\n",
    "                            freqo = ocount\n",
    "                            highindo = indexo\n",
    "                # compare with dhighestfreq\n",
    "                if freqo > h1:\n",
    "                    i1 = highindo\n",
    "                # save to indices\n",
    "                currentindices.append(i1) \n",
    "                # save to map\n",
    "                currentmap[i1] = 1\n",
    "                # check prev map\n",
    "                val = prevmap.get(fromi)\n",
    "                if val ==None:\n",
    "                    # do nothing\n",
    "                    if search2==0:\n",
    "                        print(\"hi\")\n",
    "                else:\n",
    "                    numo = float(obnum)\n",
    "                    matchfreq[numo]= matchfreq[numo]+1\n",
    "            # check f values at end of file\n",
    "            numo2 = float(obnum)\n",
    "            if matchfreq[numo2] > f:\n",
    "                ky = numo2\n",
    "                hxvalues = xvalues\n",
    "                hyvalues = yvalues\n",
    "                totalmap[ky]= currentmap\n",
    "            finalarray.append(ky)\n",
    "            # ky is the cluster id with the highest frequency\n",
    "\n",
    "            \n",
    "\n",
    "            if len(hxvalues) ==0:\n",
    "                print(\"0 h vals\")\n",
    "                # break out\n",
    "                break\n",
    "            if len(hxvalues) !=0:\n",
    "                #print(\"not 0\")\n",
    "                # set prevmap to the one \n",
    "                listclusterids.append(ky) # only append if there is next match\n",
    "                prevmap = totalmap[ky]\n",
    "            # obnum\n",
    "            plt.scatter(hxvalues, hyvalues)\n",
    "\n",
    "    plt.show()\n",
    "    #print(\"our res. array\", listclusterids)\n",
    "    currentframe = initialframe\n",
    "\n",
    "    #initialcluster \n",
    "\n",
    "    result = []\n",
    "    result.append(initialcluster)\n",
    "    \n",
    "    iframe = initialframe\n",
    "    currentcluster = initialcluster\n",
    "    t = True\n",
    "    while t:\n",
    "        nextres = findnextclusterapp(iframe, currentcluster)\n",
    "        if str(nextres) == \"nan\":\n",
    "            break\n",
    "        if iframe >= endframe:\n",
    "            break\n",
    "        result.append(nextres)\n",
    "        iframe = iframe+1\n",
    "        currentcluster = nextres\n",
    "        \n",
    "    len1 = len(result) #datastore result\n",
    "    len2 = len(listclusterids) # our result \n",
    "\n",
    "    setlen = min(len1, len2)\n",
    "    od1 = {}\n",
    "    od2 = {}\n",
    "    booleanwrong=[]\n",
    "    \n",
    "    for j1 in range(0,setlen):\n",
    "        nolongerwrong=0\n",
    "        nolongerwrongoriginal=0\n",
    "        frameno=initialframe+j1\n",
    "        od1[frameno]=[result[j1]]\n",
    "        od2[frameno]=[listclusterids[j1]]\n",
    "        if result[j1]==listclusterids[j1]:\n",
    "            nolongerwrong=1\n",
    "            nolongerwrongoriginal=1\n",
    "        if result[j1]!= listclusterids[j1]:\n",
    "            v1 = errorclusters.get(frameno)\n",
    "            if v1!=None:\n",
    "                errorarray= errorclusters[frameno]\n",
    "                for el in errorarray:\n",
    "                    if result[j1] in el:\n",
    "                        if listclusterids[j1] in el:\n",
    "                            nolongerwrong=1\n",
    "        if nolongerwrong!=1:\n",
    "            booleanwrong.append(1) # wrong\n",
    "        else:\n",
    "            booleanwrong.append(0) # not wrong\n",
    "            if nolongerwrongoriginal==0:\n",
    "                clustering_error = clustering_error+1\n",
    "\n",
    "    maxlen= max(len1, len2)\n",
    "    last1 = result[setlen-1]\n",
    "    last2 = listclusterids[setlen-1]\n",
    "    \n",
    "    if len1 != len2:\n",
    "# iterate over setlen to max len\n",
    "        for j2 in range(setlen, maxlen):\n",
    "            nolongerwrong=0\n",
    "            nolongerwrongoriginal = 0 \n",
    "            frameno2 = initialframe+j2\n",
    "            if len1 > len2:\n",
    "                next2 = findnextcluster(frameno2, last2)\n",
    "                if next2 == result[j2]:\n",
    "                    nolongerwrong=1\n",
    "                    nolongerwrongoriginal=1\n",
    "                v2 = errorclusters.get(frameno2)\n",
    "                if v2 != None:\n",
    "                    errorarray = errorclusters[frameno2]\n",
    "                    for el in errorarray:\n",
    "                        if result[j2] in el:\n",
    "                            if next2 in el:\n",
    "                                nolongerwrong=1\n",
    "                if nolongerwrong==1:\n",
    "                    booleanwrong.append(0)\n",
    "                    if nolongerwrongoriginal ==0:\n",
    "                        clustering_error= clustering_error+1\n",
    "                else:\n",
    "                    booleanwrong.append(1)\n",
    "                last2 = next2\n",
    "            if len2 > len1:\n",
    "                next2 = findnextclusterapp(frameno2, last2)\n",
    "                if next2 == listclusterids[j2]:\n",
    "                    nolongerwrong=1\n",
    "                    nolongerwrongoriginal=1\n",
    "                v2 = errorclusters.get(frameno2)\n",
    "                if v2 != None:\n",
    "                    errorarray = errorclusters[frameno2]\n",
    "                    for el in errorarray:\n",
    "                        if listclusterids[j2] in el:\n",
    "                            if next2 in el:\n",
    "                                nolongerwrong=1\n",
    "                if nolongerwrong==1:\n",
    "                    booleanwrong.append(0)\n",
    "                    if nolongerwrongoriginal==0:\n",
    "                        clustering_error=clustering_error+1\n",
    "                else:\n",
    "                    booleanwrong.append(1) # wrong\n",
    "                last2 = next2\n",
    "    d1 = {}\n",
    "    d2 = {}\n",
    "    \n",
    "    for j1 in range(0, setlen):\n",
    "        frameno = initialframe+j1\n",
    "        # check similar clusters\n",
    "        clusters1 = od1[frameno]\n",
    "        clusters2 = od2[frameno]\n",
    "\n",
    "        simclusters = errorclusters.get(frameno)\n",
    "        if simclusters != None:\n",
    "            simarray = errorclusters[frameno]\n",
    "            # check if matches\n",
    "            for el in simarray:\n",
    "                if od1[frameno] in el:\n",
    "                    clusters1.extend(el)\n",
    "                if od2[frameno] in el:\n",
    "                    clusters2.extend(el)\n",
    "        d1[frameno] = clusters1\n",
    "        d2[frameno] = clusters2\n",
    "        \n",
    "    maxlen= max(len1, len2)\n",
    "    # set original clusters for up to maxlen\n",
    "    for j2 in range(setlen, maxlen):\n",
    "        frameno = initialframe+j2\n",
    "        d1[frameno] = []\n",
    "        d2[frameno] = []\n",
    "        if len1>len2:\n",
    "            d1[frameno]= [result[j2]]\n",
    "        if len2>len1:\n",
    "            d2[frameno]=[listclusterids[j2]]\n",
    "\n",
    "    d1[initialframe+maxlen] = []\n",
    "    d2[initialframe+maxlen] = []\n",
    "    setlen = min(len1, len2)\n",
    "    maxlen= max(len1,len2)\n",
    "    \n",
    "    for j in range(0, maxlen):\n",
    "\n",
    "        frameno = initialframe+j \n",
    "        #print(\"j is\", j)\n",
    "        #print(\"frame num is\", frameno)\n",
    "\n",
    "        # all clusters within current frame\n",
    "        clust1 = d1[frameno]\n",
    "        clust2 = d2[frameno]\n",
    "\n",
    "\n",
    "        # check clusters to next step\n",
    "        for c1 in clust1:\n",
    "            nc1 = findnextclusterapp(frameno, c1)\n",
    "            if str(nc1) == \"nan\":\n",
    "                #print(\"nc1 is nan\")\n",
    "                continue\n",
    "            #print(\"frameno plus one\", frameno+1)\n",
    "            #print(\"nc1\", nc1)\n",
    "            nclust1 = d1[frameno+1]\n",
    "            # only append if not already there\n",
    "            if nc1 not in nclust1:\n",
    "                nclust1.append(nc1)\n",
    "            #nclust1.append(nc1)\n",
    "            #nclust1 = np.unique(nclust1)\n",
    "            d1[frameno+1] = nclust1\n",
    "        for c2 in clust2:\n",
    "            nc2 = findnextcluster(frameno, c2)\n",
    "            if nc2 == -1:\n",
    "                continue\n",
    "            nclust2 = d2[frameno+1]\n",
    "            if nc2 not in nclust2:\n",
    "                nclust2.append(nc2)\n",
    "            d2[frameno+1] = nclust2\n",
    "        if booleanwrong[j]==1:\n",
    "            set1 = set(clust1)\n",
    "            intersect = set1.intersection(clust2)\n",
    "            if len(intersect)>0:\n",
    "                print(\"intersect\")\n",
    "                booleanwrong[j]=0\n",
    "                clustering_error=clustering_error+1\n",
    "\n",
    "    bindex = 1\n",
    "    firstframewrong = -1\n",
    "    for b in booleanwrong:\n",
    "        if b == 1:\n",
    "            firstframewrong = bindex\n",
    "            break\n",
    "        bindex= bindex+1\n",
    "\n",
    "    if firstframewrong == -1:\n",
    "        totalcomparisons= totalcomparisons+maxlen\n",
    "    else:\n",
    "        totalcomparisons= totalcomparisons+firstframewrong\n",
    "        \n",
    "    contflag = 0\n",
    "    missedflag= 0\n",
    "    \n",
    "    if np.sum(booleanwrong) >0:\n",
    "        if firstframewrong>len1:\n",
    "            print(\"continued\")\n",
    "            print(\"array1\", result)\n",
    "            print(\"array2\", listclusterids)\n",
    "            contflag= 1\n",
    "            continuedmatching= continuedmatching+1\n",
    "        if firstframewrong > len2: \n",
    "            print(\"missed\")\n",
    "            print(\"array1\", result)\n",
    "            print(\"array2\", listclusterids)\n",
    "            missedmatching = missedmatching+1\n",
    "            missedflag=1\n",
    "        if contflag==0 and missedflag==0:\n",
    "            print(\"wrong\")\n",
    "            print(\"array1\", result)\n",
    "            print(\"array2\", listclusterids)\n",
    "            wrongmatching= wrongmatching+1\n",
    "        \n",
    "        if contflag==1 and missedflag==1:\n",
    "            print(\"BOTH CONTINUED AND MISSED\")\n",
    "    \n",
    "                \n",
    "\n",
    "    "
   ]
  },
  {
   "cell_type": "code",
   "execution_count": 413,
   "metadata": {},
   "outputs": [
    {
     "data": {
      "text/plain": [
       "290"
      ]
     },
     "execution_count": 413,
     "metadata": {},
     "output_type": "execute_result"
    }
   ],
   "source": [
    "initialframe"
   ]
  },
  {
   "cell_type": "code",
   "execution_count": 412,
   "metadata": {
    "scrolled": true
   },
   "outputs": [
    {
     "name": "stdout",
     "output_type": "stream",
     "text": [
      "total 18\n",
      "missed 0\n",
      "continued 0\n",
      "wrong 1\n",
      "clustering err 0\n"
     ]
    }
   ],
   "source": [
    "print(\"total\", totalcomparisons)\n",
    "\n",
    "print(\"missed\", missedmatching)\n",
    "print(\"continued\", continuedmatching)\n",
    "print(\"wrong\", wrongmatching)\n",
    "print(\"clustering err\", clustering_error)"
   ]
  },
  {
   "cell_type": "code",
   "execution_count": null,
   "metadata": {},
   "outputs": [],
   "source": []
  },
  {
   "cell_type": "code",
   "execution_count": 416,
   "metadata": {},
   "outputs": [
    {
     "data": {
      "image/png": "[encoded data removed]",
      "text/plain": [
       "<Figure size 432x288 with 1 Axes>"
      ]
     },
     "metadata": {
      "needs_background": "light"
     },
     "output_type": "display_data"
    }
   ],
   "source": [
    "# plot other clusters\n",
    "\n",
    "array1= [3, 3.0, 4.0, 4.0, 4.0, 4.0, 4.0, 4.0, 4.0, 4.0]\n",
    "array2= [3, 3.0, 4.0, 4.0, 3.0, 4.0]\n",
    "\n",
    "result=array1\n",
    "result2= array2\n",
    "\n",
    "alen = len(result)\n",
    "alen2 = len(result2)\n",
    "\n",
    "acounter=0\n",
    "# counter for array el\n",
    "\n",
    "xv1 =[]\n",
    "yv1=[]\n",
    "xv2 = []\n",
    "yv2 = []\n",
    "\n",
    "for i in range(initialframe, initialframe+alen):\n",
    "    name = \"file_out\"\n",
    "    name = name+str(i)\n",
    "    name = name+\".csv\"\n",
    "    \n",
    "    \n",
    "    a = result[acounter]\n",
    "    xarray = []\n",
    "    yarray = []\n",
    "    with open(name) as csv_file:\n",
    "        csv_reader = csv.reader(csv_file, delimiter=\",\")\n",
    "        for row in csv_reader:\n",
    "            clusterid = float(row[0])\n",
    "            xpoint = float(row[1])\n",
    "            ypoint = float(row[2])\n",
    "            \n",
    "            if clusterid == a:\n",
    "                xarray.append(xpoint)\n",
    "                yarray.append(ypoint)\n",
    "                \n",
    "                \n",
    "        # plot\n",
    "        xv1.extend(xarray)\n",
    "        yv1.extend(yarray)\n",
    "        #plt.scatter(xarray,yarray)\n",
    "    \n",
    "    acounter =acounter +1\n",
    "    if acounter > alen:\n",
    "        break\n",
    "\n",
    "acounter=0\n",
    "for i in range(initialframe, initialframe+alen2):\n",
    "    name = \"file_out\"\n",
    "    name = name+str(i)\n",
    "    name = name+\".csv\"\n",
    "    \n",
    "    \n",
    "    a = result2[acounter]\n",
    "    xarray = []\n",
    "    yarray = []\n",
    "    with open(name) as csv_file:\n",
    "        csv_reader = csv.reader(csv_file, delimiter=\",\")\n",
    "        for row in csv_reader:\n",
    "            clusterid = float(row[0])\n",
    "            xpoint = float(row[1])\n",
    "            ypoint = float(row[2])\n",
    "            \n",
    "            if clusterid == a:\n",
    "                xarray.append(xpoint)\n",
    "                yarray.append(ypoint)\n",
    "                \n",
    "                \n",
    "        # plot\n",
    "        xv2.extend(xarray)\n",
    "        yv2.extend(yarray)\n",
    "        #plt.scatter(xarray,yarray)\n",
    "    \n",
    "    acounter =acounter +1\n",
    "    if acounter > alen2:\n",
    "        break\n",
    "\n",
    "#plt.scatter(xv2, yv2)\n",
    "plt.scatter(xv1, yv1)\n",
    "plt.scatter(xv2, yv2)\n",
    "plt.show()\n",
    "\n",
    "\n",
    "\n",
    "    "
   ]
  },
  {
   "cell_type": "code",
   "execution_count": null,
   "metadata": {},
   "outputs": [],
   "source": [
    "# KF \n",
    "\n",
    "from numpy.linalg import inv\n",
    "def predict1(x, P):\n",
    "    x = np.dot(F, x) + np.dot(B, u)\n",
    "    P = np.dot(F, np.dot(P, F.transpose())) + Q\n",
    "    return x, P\n",
    "\n",
    "def update1(x, P, z):\n",
    "    y = z - np.dot(H,x)\n",
    "    S = np.dot(H, np.dot(P, H.transpose()))\n",
    "    K = np.dot(P, np.dot(H.transpose(), inv(S)))\n",
    "    #print(\"k\",K)\n",
    "    #print(\"y\", y)\n",
    "    x = x+ np.dot(K,y)\n",
    "    P = P - np.dot(K, np.dot(H, P))\n",
    "    xs.append(x)\n",
    "    cov.append(P)\n",
    "    return x, P\n",
    "\n",
    "def update2(x, P,z):\n",
    "    S = np.dot(np.dot(H, P), H.transpose()) + R\n",
    "    K = np.dot(np.dot(P, H.transpose()), inv(S))\n",
    "    z = matrix([z])\n",
    "    y = z.transpose() - np.dot(H, x)\n",
    "    x = x + np.dot(K, y)\n",
    "    P = P - np.dot(np.dot(K,H), P)\n",
    "    return x, P\n",
    "\n"
   ]
  },
  {
   "cell_type": "code",
   "execution_count": null,
   "metadata": {},
   "outputs": [],
   "source": [
    "# combine the measurements and the kalman filter\n",
    "# average the previous cluster for single pt \n",
    "# measure the min dist from cluster\n",
    "from numpy import array\n",
    "\n",
    "dt = 1\n",
    "# p_x, p_y, v_x, v_y\n",
    "x1 = array(([[px0], [py0], [avx], [avy]])) \n",
    "\n",
    "# extra change p_x, extra change p_y, change v_x, change v_y \n",
    "u = array(([[4.0], [12.0], [0], [0]]))\n",
    "\n",
    "P = array([[10, 0, 0 , 0], [0, 10, 0, 0], [0, 0, 100, 0], [0, 0, 0, 100]])\n",
    "\n",
    "F = array([[1, 0, dt , 0], [0, 1, 0, dt], [0, 0, 1, 0], [0, 0, 0, 1]])\n",
    "\n",
    "#H = array([[1,0,0,0], [0,1,0,0], [0,0,0,0], [0,0,0,0]])\n",
    "H = array([[1,0,0,0], [0,1,0,0]])\n",
    "           \n",
    "# meas noise\n",
    "R = array([[0.1,0], [0,0.1]])\n",
    "\n",
    "B = np.eye(4)\n",
    "\n",
    "Q = np.eye(4)"
   ]
  },
  {
   "cell_type": "code",
   "execution_count": 285,
   "metadata": {},
   "outputs": [
    {
     "data": {
      "image/png": "[encoded data removed]",
      "text/plain": [
       "<Figure size 432x288 with 1 Axes>"
      ]
     },
     "metadata": {
      "needs_background": "light"
     },
     "output_type": "display_data"
    }
   ],
   "source": [
    "# plot  clusters in frame\n",
    "i = 299\n",
    "\n",
    "a = [3,4]\n",
    "name = \"file_out\"\n",
    "name = name+str(i)\n",
    "name = name+\".csv\"\n",
    "    \n",
    "xarray = []\n",
    "yarray = []\n",
    "with open(name) as csv_file:\n",
    "    csv_reader = csv.reader(csv_file, delimiter=\",\")\n",
    "    for row in csv_reader:\n",
    "        clusterid = float(row[0])\n",
    "        xpoint = float(row[1])\n",
    "        ypoint = float(row[2])\n",
    "\n",
    "        if clusterid in a:\n",
    "            xarray.append(xpoint)\n",
    "            yarray.append(ypoint)\n",
    "\n",
    "\n",
    "    # plot\n",
    "    xv1.extend(xarray)\n",
    "    yv1.extend(yarray)\n",
    "\n",
    "plt.scatter(xarray,yarray)\n",
    "plt.show()"
   ]
  },
  {
   "cell_type": "code",
   "execution_count": 50,
   "metadata": {},
   "outputs": [
    {
     "data": {
      "image/png": "[encoded data removed]",
      "text/plain": [
       "<Figure size 432x288 with 1 Axes>"
      ]
     },
     "metadata": {
      "needs_background": "light"
     },
     "output_type": "display_data"
    }
   ],
   "source": [
    "# plot other clusters\n",
    "array1 = [6, 6.0, 8.0, 9.0, 9.0, 9.0, 9.0, 9.0, 9.0, 9.0, 9.0]\n",
    "array2 = [6, 6.0, 8.0, 7.0, 8.0, 6.0, 7.0, 6.0, 5.0, 4.0, 5.0]\n",
    "\n",
    "array1 =[7, 5.0, 7.0, 6.0, 5.0, 3.0, 4.0, 3.0, 3.0]\n",
    "array2 =[7, 5.0, 7.0, 6.0, 7.0, 4.0, 5.0, 3.0, 3.0, 2.0, 3.0]\n",
    "\n",
    "array1= [2, 3.0, 4.0, 3.0, 3.0, 1.0, 2.0, 1.0, 1.0, 1.0, 1.0]\n",
    "array2= [2]\n",
    "\n",
    "result = array1\n",
    "alen = len(result)\n",
    "\n",
    "acounter=0\n",
    "# counter for array el\n",
    "\n",
    "for i in range(initialframe, endframe):\n",
    "    name = \"file_out\"\n",
    "    name = name+str(i)\n",
    "    name = name+\".csv\"\n",
    "    \n",
    "    \n",
    "    a = result[acounter]\n",
    "    xarray = []\n",
    "    yarray = []\n",
    "    with open(name) as csv_file:\n",
    "        csv_reader = csv.reader(csv_file, delimiter=\",\")\n",
    "        for row in csv_reader:\n",
    "            clusterid = float(row[0])\n",
    "            xpoint = float(row[1])\n",
    "            ypoint = float(row[2])\n",
    "            \n",
    "            if clusterid == a:\n",
    "                xarray.append(xpoint)\n",
    "                yarray.append(ypoint)\n",
    "                \n",
    "                \n",
    "        # plot\n",
    "        plt.scatter(xarray,yarray)\n",
    "    \n",
    "    acounter =acounter +1\n",
    "    if acounter > alen:\n",
    "        break\n",
    "\n",
    "plt.show()\n",
    "    "
   ]
  },
  {
   "cell_type": "code",
   "execution_count": null,
   "metadata": {},
   "outputs": [],
   "source": [
    "# simulate Markov Chain\n"
   ]
  },
  {
   "cell_type": "code",
   "execution_count": 12,
   "metadata": {},
   "outputs": [],
   "source": [
    "# rename\n",
    "\n",
    "def findnextclusterapp(iframe, initialcluster): # frame and cluster\n",
    "    datastorename = 'newdatastoreMay17.csv'\n",
    "    outputmatched =0\n",
    "    with open(datastorename) as datastore_csv_file:\n",
    "        datastore_csv_reader = csv.reader(datastore_csv_file, delimiter=\",\")\n",
    "\n",
    "        for row in datastore_csv_reader:\n",
    "            \n",
    "            # 1 - frame \n",
    "            framenum = float(row[0])\n",
    "\n",
    "            # 2 - cluster id\n",
    "            clusterid = float(row[1])\n",
    "\n",
    "            matched = float(row[18])  #return this matched\n",
    "\n",
    "            if framenum < iframe:\n",
    "                continue\n",
    "\n",
    "            if clusterid == initialcluster:\n",
    "                outputmatched = matched\n",
    "                return outputmatched\n",
    "            \n",
    "    return outputmatched"
   ]
  },
  {
   "cell_type": "code",
   "execution_count": 39,
   "metadata": {},
   "outputs": [
    {
     "data": {
      "text/plain": [
       "{6: [[4, 5]],\n",
       " 7: [[5, 6]],\n",
       " 14: [[5, 7]],\n",
       " 15: [[2, 3]],\n",
       " 16: [[3, 4, 5]],\n",
       " 17: [[2, 3, 4]],\n",
       " 18: [[2, 3]],\n",
       " 20: [[2, 3]],\n",
       " 22: [[3, 4]],\n",
       " 23: [[2, 3, 4]],\n",
       " 24: [[2, 4, 3]],\n",
       " 25: [[2, 3, 5]],\n",
       " 26: [[2, 4, 5]],\n",
       " 27: [[4, 5]],\n",
       " 28: [[2, 4]],\n",
       " 29: [[2, 3]],\n",
       " 30: [[2, 3], [7, 9]],\n",
       " 34: [[4, 5]],\n",
       " 35: [[5, 6], [3, 10, 11]],\n",
       " 36: [[5, 6]],\n",
       " 38: [[5, 6, 7], [8, 9, 10]],\n",
       " 39: [[6, 7], [10, 11]],\n",
       " 41: [[5, 6], [1, 2], [8, 11, 12]],\n",
       " 43: [[8, 11]],\n",
       " 44: [[1, 7], [10, 11]],\n",
       " 45: [[8, 7], [11, 12]],\n",
       " 46: [[5, 6]],\n",
       " 47: [[2, 3]],\n",
       " 48: [[5, 6]],\n",
       " 51: [[1, 2]],\n",
       " 52: [[1, 2]],\n",
       " 54: [[1, 2]],\n",
       " 56: [[1, 2]],\n",
       " 57: [[1, 2]],\n",
       " 58: [[1, 2]],\n",
       " 59: [[1, 2]],\n",
       " 60: [[1, 2]],\n",
       " 61: [[1, 2]],\n",
       " 62: [[1, 2]],\n",
       " 63: [[1, 2]],\n",
       " 66: [[1, 2], [5, 6]],\n",
       " 70: [[4, 5]],\n",
       " 71: [[1, 3]],\n",
       " 74: [[2, 3]],\n",
       " 78: [[1, 6], [10, 11], [7, 8]],\n",
       " 79: [[1, 2], [6, 7]],\n",
       " 91: [[8, 10]],\n",
       " 97: [[2, 3]],\n",
       " 99: [[3, 5]],\n",
       " 100: [[1, 4]],\n",
       " 102: [[7, 8, 9]],\n",
       " 103: [[2, 3]],\n",
       " 114: [[4, 5]],\n",
       " 115: [[1, 2]],\n",
       " 118: [[1, 2]],\n",
       " 119: [[1, 2]],\n",
       " 123: [[1, 3]],\n",
       " 127: [[2, 3]],\n",
       " 130: [[2, 4]],\n",
       " 131: [[2, 3]],\n",
       " 132: [[4, 5]],\n",
       " 145: [[1, 2]],\n",
       " 151: [[4, 5]],\n",
       " 155: [[1, 2]],\n",
       " 156: [[2, 3]],\n",
       " 158: [[5, 6]],\n",
       " 161: [[1, 2]],\n",
       " 172: [[1, 2]],\n",
       " 178: [[7, 8]],\n",
       " 179: [[5, 6]],\n",
       " 180: [[6, 7]],\n",
       " 186: [[5, 6]],\n",
       " 188: [[1, 2]],\n",
       " 190: [[4, 8]]}"
      ]
     },
     "execution_count": 39,
     "metadata": {},
     "output_type": "execute_result"
    }
   ],
   "source": [
    "errorclusters"
   ]
  },
  {
   "cell_type": "code",
   "execution_count": 11,
   "metadata": {},
   "outputs": [],
   "source": [
    "def appfindnextcluster(iframe, initialcluster): # frame and cluster\n",
    "    datastorename = 'newdatastoreMay17.csv'\n",
    "    outputmatched =0\n",
    "    with open(datastorename) as datastore_csv_file:\n",
    "        datastore_csv_reader = csv.reader(datastore_csv_file, delimiter=\",\")\n",
    "\n",
    "        for row in datastore_csv_reader:\n",
    "            \n",
    "            # 1 - frame \n",
    "            framenum = float(row[0])\n",
    "\n",
    "            # 2 - cluster id\n",
    "            clusterid = float(row[1])\n",
    "\n",
    "            matched = float(row[18])  #return this matched\n",
    "\n",
    "            if framenum < iframe:\n",
    "                continue\n",
    "\n",
    "            if clusterid == initialcluster:\n",
    "                outputmatched = matched\n",
    "                return outputmatched\n",
    "            \n",
    "    return outputmatched"
   ]
  },
  {
   "cell_type": "code",
   "execution_count": null,
   "metadata": {},
   "outputs": [],
   "source": []
  },
  {
   "cell_type": "code",
   "execution_count": 34,
   "metadata": {},
   "outputs": [
    {
     "ename": "NameError",
     "evalue": "name 'missedmatching' is not defined",
     "output_type": "error",
     "traceback": [
      "\u001b[1;31m---------------------------------------------------------------------------\u001b[0m",
      "\u001b[1;31mNameError\u001b[0m                                 Traceback (most recent call last)",
      "\u001b[1;32m<ipython-input-34-7d740c7f65f3>\u001b[0m in \u001b[0;36m<module>\u001b[1;34m\u001b[0m\n\u001b[1;32m----> 1\u001b[1;33m \u001b[0mmissedmatching\u001b[0m\u001b[1;33m\u001b[0m\u001b[1;33m\u001b[0m\u001b[0m\n\u001b[0m",
      "\u001b[1;31mNameError\u001b[0m: name 'missedmatching' is not defined"
     ]
    }
   ],
   "source": [
    "missedmatching"
   ]
  },
  {
   "cell_type": "code",
   "execution_count": 33,
   "metadata": {
    "scrolled": true
   },
   "outputs": [
    {
     "data": {
      "text/plain": [
       "2"
      ]
     },
     "execution_count": 33,
     "metadata": {},
     "output_type": "execute_result"
    }
   ],
   "source": [
    "continuedmatching"
   ]
  },
  {
   "cell_type": "code",
   "execution_count": 34,
   "metadata": {},
   "outputs": [
    {
     "data": {
      "text/plain": [
       "2"
      ]
     },
     "execution_count": 34,
     "metadata": {},
     "output_type": "execute_result"
    }
   ],
   "source": [
    "wrongmatching"
   ]
  },
  {
   "cell_type": "code",
   "execution_count": 43,
   "metadata": {},
   "outputs": [
    {
     "data": {
      "text/plain": [
       "38"
      ]
     },
     "execution_count": 43,
     "metadata": {},
     "output_type": "execute_result"
    }
   ],
   "source": [
    "totalcomparisons"
   ]
  },
  {
   "cell_type": "code",
   "execution_count": 50,
   "metadata": {},
   "outputs": [],
   "source": [
    "a = [5,3,8,2]\n",
    "b= list(a).sort()"
   ]
  },
  {
   "cell_type": "code",
   "execution_count": 53,
   "metadata": {},
   "outputs": [],
   "source": [
    "b= np.sort(a)"
   ]
  },
  {
   "cell_type": "code",
   "execution_count": 54,
   "metadata": {},
   "outputs": [
    {
     "data": {
      "text/plain": [
       "2"
      ]
     },
     "execution_count": 54,
     "metadata": {},
     "output_type": "execute_result"
    }
   ],
   "source": [
    "b[0]"
   ]
  },
  {
   "cell_type": "code",
   "execution_count": 33,
   "metadata": {
    "scrolled": true
   },
   "outputs": [
    {
     "name": "stdout",
     "output_type": "stream",
     "text": [
      "4.0 is the next cluster\n",
      "5.0 is the next cluster\n"
     ]
    }
   ],
   "source": [
    "ca = [3,4]\n",
    "\n",
    "iframe = 2\n",
    "\n",
    "res = []\n",
    "\n",
    "# must repeat this function for each element in cluster array\n",
    "for el in ca:\n",
    "    nc = findnextcluster(iframe, el)\n",
    "    res.append(nc)\n"
   ]
  },
  {
   "cell_type": "code",
   "execution_count": 96,
   "metadata": {},
   "outputs": [],
   "source": [
    "# find the next cluster from our algorithm\n",
    "\n",
    "# iterate over all the clusters in frame len1+1 to see \n",
    "# iframe is frame number \n",
    "\n",
    "def findnextcluster(iframe, elementclusterarray):  # iframe is the current cluster, clusterarray holds ids of similar clusters \n",
    "\n",
    "    ky =0 # if no next cluster\n",
    "    # sort by increasing order\n",
    "    #sortedarray = np.sort(clusterarray)\n",
    "    \n",
    "    name = \"file_out\"\n",
    "    name = name+str(iframe)\n",
    "    name1 = name+\".csv\"\n",
    "    name2 = \"file_out\"+str(iframe+1)+\".csv\"\n",
    "\n",
    "# clear matchfreq\n",
    "    for j in range(0, mx):\n",
    "        matchfreq[j] =0\n",
    "\n",
    "    with open(name1) as csv_file:\n",
    "        f =0 \n",
    "        # reset hxvalues , hyvalues\n",
    "        hxvalues = []\n",
    "        hyvalues=[]\n",
    "\n",
    "        countmap= {}\n",
    "\n",
    "        csv_reader = csv.reader(csv_file, delimiter=\",\")\n",
    "\n",
    "        for row in csv_reader:\n",
    "            cid= float(row[0]) \n",
    "            # determine which cluster id is the highest \n",
    "            xr = round(float(row[1]))\n",
    "            yr = round(float(row[2]))\n",
    "            fromi = dinvlookupdict[(xr,yr)]\n",
    "            # function to find highest freq \n",
    "            h1, i1 = dhighestfreq(fromi)\n",
    "\n",
    "            if cid ==  elementclusterarray:\n",
    "                countmap[i1] = 1\n",
    "\n",
    "    obnum = 1 \n",
    "\n",
    "    f = 0                   \n",
    "    with open(name2) as csv_file:\n",
    "        csv_reader = csv.reader(csv_file, delimiter=\",\")\n",
    "        for row in csv_reader:\n",
    "            cid = float(row[0])\n",
    "            xr =round(float(row[1]))\n",
    "            yr = round(float(row[2]))\n",
    "            fromi = dinvlookupdict[(xr,yr)]\n",
    "            # next cluster \n",
    "            if cid != obnum:\n",
    "                numo1 = float(obnum)\n",
    "                if matchfreq[numo1] > f:\n",
    "                    f = matchfreq[numo1]\n",
    "                    ky = numo1\n",
    "                obnum = cid\n",
    "\n",
    "            val = countmap.get(fromi)\n",
    "            if val != None:\n",
    "                matchfreq[cid] =matchfreq[cid]+1\n",
    "\n",
    "\n",
    "    #print(ky, \"is the next cluster\")     \n",
    "    return ky"
   ]
  },
  {
   "cell_type": "code",
   "execution_count": null,
   "metadata": {},
   "outputs": [],
   "source": [
    "# test this missed matching\n",
    "\n",
    "errorclusters[12] = [4, 5] # say 5 leads to 3 => correct \n",
    "\n",
    "listclusterids = [4, 3.0, 4.0, 3.0, 3.0, 1.0, 2.0, 1.0, 1.0, 1.0]\n",
    "result =         [4, 3.0, 4.0, 3.0, 3.0, 1.0, 2.0, 1.0, 1.0, 1.0, 1.0]\n",
    "\n",
    "listclusterids = [4,3,4] # frame 10 , 11,12 : len1 is 2\n",
    "result = [4,3,4,3]       # frame 10, 11, 12, 13"
   ]
  },
  {
   "cell_type": "code",
   "execution_count": null,
   "metadata": {
    "collapsed": true
   },
   "outputs": [],
   "source": [
    "# subfunction: check error clusters\n",
    "# continued matching\n",
    "currentframeid = initialframe+len1\n",
    "length1 = len1 # the shorter length \n",
    "v = errorclusters.get(currentframeid)\n",
    "if v != None:\n",
    "    errorarray = errorclusters[currentframeid]\n",
    "    # look for listclusterids[initialframe+len1+1] value \n",
    "    for e in errorarray:\n",
    "        if e == listclusterids[length1+1]:\n",
    "            # it is correct\n",
    "\n",
    "# missed matching\n",
    "length1 = 9\n",
    "v = errorclusters.get(currentframeid)\n",
    "nextmatched = result[length1+1]\n",
    "if v!= None:\n",
    "    errorarray = errorclusters[currentframeid]\n",
    "    if listclusterids[length1] in errorarray:\n",
    "        # check if the next matched from other\n",
    "        for e in errorarray:\n",
    "            # check next matched at frame currentframeid to currentframeid+1\n",
    "            enext = \n",
    "            if enext == nextmatched:\n",
    "                # remove the error\n",
    "                print(\"remove missed matching\")\n",
    "                \n"
   ]
  },
  {
   "cell_type": "code",
   "execution_count": 27,
   "metadata": {},
   "outputs": [],
   "source": [
    "# pre processing step: load lidar_similarlabeledclusters.csv\n",
    "import csv\n",
    "# dictionary mapping framenumber to array of clusterids\n",
    "errorclusters = {}\n",
    "\n",
    "firstrow =0\n",
    "\n",
    "\n",
    "lidarsim = 'lidar_similarlabeledclusters.csv'\n",
    "with open(lidarsim) as lidarsim_csv_file:\n",
    "    sim_csv_reader = csv.reader(lidarsim_csv_file, delimiter=\",\")\n",
    "    for row in sim_csv_reader:\n",
    "        # skip header row\n",
    "        if firstrow==0:\n",
    "            firstrow=1\n",
    "            continue\n",
    "        framenumber = int(row[0])\n",
    "        arr = []\n",
    "        cluster1 = row[1]\n",
    "        cluster2 = row[2]\n",
    "        cluster3 = row[3]\n",
    "        arr.append(int(cluster1))\n",
    "        if len(cluster2) > 0:\n",
    "            arr.append(int(cluster2))\n",
    "        if len(cluster3) >0:\n",
    "            arr.append(int(cluster3))\n",
    "        \n",
    "        errorcode = int(row[4])\n",
    "        if errorcode == 1:\n",
    "            # add to dictionary\n",
    "            #print(\"add\")\n",
    "            errorclusters[framenumber] = arr        "
   ]
  },
  {
   "cell_type": "code",
   "execution_count": 290,
   "metadata": {},
   "outputs": [],
   "source": [
    "#THIS ONE \n",
    "# error clusters \n",
    "\n",
    "\n",
    "# pre processing step: load lidar_similarlabeledclusters.csv\n",
    "import csv\n",
    "# dictionary mapping framenumber to array of clusterids\n",
    "errorclusters = {}\n",
    "\n",
    "firstrow =0\n",
    "\n",
    "\n",
    "#lidarsim = 'lidar_similarlabeledclusters.csv'\n",
    "lidarsim = 'lidar_similarlabeledclusters_v2.csv'\n",
    "with open(lidarsim) as lidarsim_csv_file:\n",
    "    sim_csv_reader = csv.reader(lidarsim_csv_file, delimiter=\",\")\n",
    "    for row in sim_csv_reader:\n",
    "        # skip header row\n",
    "        if firstrow==0:\n",
    "            firstrow=1\n",
    "            continue\n",
    "        framenumber = int(row[0])\n",
    "        arr = []\n",
    "        cluster1 = row[1]\n",
    "        cluster2 = row[2]\n",
    "        cluster3 = row[3]\n",
    "        arr.append(int(cluster1))\n",
    "        if len(cluster2) > 0:\n",
    "            arr.append(int(cluster2))\n",
    "        if len(cluster3) >0:\n",
    "            arr.append(int(cluster3))\n",
    "        #print(row)\n",
    "        errorcode = int(row[4])\n",
    "        if errorcode == 1:\n",
    "            # add to dictionary\n",
    "            #print(\"add\")\n",
    "            v = errorclusters.get(framenumber)\n",
    "            if v==None:\n",
    "                errorclusters[framenumber] = [arr]\n",
    "            else:\n",
    "            # append additional array\n",
    "                a = errorclusters[framenumber]\n",
    "                alen = len(a)\n",
    "                em = []\n",
    "                for i in range(0, alen):\n",
    "                    em.append(a[i])\n",
    "                em.append(arr)\n",
    "                \n",
    "                errorclusters[framenumber] = em\n",
    "            "
   ]
  },
  {
   "cell_type": "code",
   "execution_count": 291,
   "metadata": {},
   "outputs": [
    {
     "data": {
      "text/plain": [
       "{6: [[4, 5]],\n",
       " 7: [[5, 6]],\n",
       " 14: [[5, 7]],\n",
       " 15: [[2, 3]],\n",
       " 16: [[3, 4, 5]],\n",
       " 17: [[2, 3, 4]],\n",
       " 18: [[2, 3]],\n",
       " 20: [[2, 3]],\n",
       " 22: [[3, 4]],\n",
       " 23: [[2, 3, 4]],\n",
       " 24: [[2, 4, 3]],\n",
       " 25: [[2, 3, 5]],\n",
       " 26: [[2, 4, 5]],\n",
       " 27: [[4, 5]],\n",
       " 28: [[2, 4]],\n",
       " 29: [[2, 3]],\n",
       " 30: [[2, 3], [7, 9]],\n",
       " 34: [[4, 5]],\n",
       " 35: [[5, 6], [3, 10, 11]],\n",
       " 36: [[5, 6]],\n",
       " 38: [[5, 6, 7], [8, 9, 10]],\n",
       " 39: [[6, 7], [10, 11]],\n",
       " 41: [[5, 6], [1, 2], [8, 11, 12]],\n",
       " 43: [[8, 11]],\n",
       " 44: [[1, 7], [10, 11]],\n",
       " 45: [[8, 7], [11, 12]],\n",
       " 46: [[5, 6]],\n",
       " 47: [[2, 3]],\n",
       " 48: [[5, 6]],\n",
       " 51: [[1, 2]],\n",
       " 52: [[1, 2]],\n",
       " 54: [[1, 2]],\n",
       " 56: [[1, 2]],\n",
       " 57: [[1, 2]],\n",
       " 58: [[1, 2]],\n",
       " 59: [[1, 2]],\n",
       " 60: [[1, 2]],\n",
       " 61: [[1, 2]],\n",
       " 62: [[1, 2]],\n",
       " 63: [[1, 2]],\n",
       " 66: [[1, 2], [5, 6]],\n",
       " 70: [[4, 5]],\n",
       " 71: [[1, 3]],\n",
       " 74: [[2, 3]],\n",
       " 78: [[1, 6], [10, 11], [7, 8]],\n",
       " 79: [[1, 2], [6, 7]],\n",
       " 91: [[8, 10]],\n",
       " 97: [[2, 3]],\n",
       " 99: [[3, 5]],\n",
       " 100: [[1, 4]],\n",
       " 102: [[7, 8, 9]],\n",
       " 103: [[2, 3]],\n",
       " 114: [[4, 5]],\n",
       " 115: [[1, 2]],\n",
       " 118: [[1, 2]],\n",
       " 119: [[1, 2]],\n",
       " 123: [[1, 3]],\n",
       " 127: [[2, 3]],\n",
       " 130: [[2, 4]],\n",
       " 131: [[2, 3]],\n",
       " 132: [[4, 5]],\n",
       " 145: [[1, 2]],\n",
       " 151: [[4, 5]],\n",
       " 155: [[1, 2]],\n",
       " 156: [[2, 3]],\n",
       " 158: [[5, 6]],\n",
       " 161: [[1, 2]],\n",
       " 172: [[1, 2]],\n",
       " 178: [[7, 8]],\n",
       " 179: [[5, 6]],\n",
       " 180: [[6, 7]],\n",
       " 186: [[5, 6]],\n",
       " 188: [[1, 2]],\n",
       " 190: [[4, 8]],\n",
       " 196: [[2, 3]],\n",
       " 198: [[4, 5, 8], [11, 12]],\n",
       " 203: [[2, 3]],\n",
       " 205: [[2, 3]],\n",
       " 215: [[3, 4]],\n",
       " 222: [[5, 6]],\n",
       " 226: [[2, 3]],\n",
       " 231: [[4, 5]],\n",
       " 232: [[3, 4]],\n",
       " 233: [[3, 4]],\n",
       " 235: [[1, 2]],\n",
       " 237: [[1, 2]],\n",
       " 239: [[2, 3]],\n",
       " 243: [[1, 2]],\n",
       " 246: [[1, 2], [4, 5]],\n",
       " 250: [[2, 4]],\n",
       " 251: [[1, 3]],\n",
       " 252: [[1, 2]],\n",
       " 255: [[1, 2]],\n",
       " 260: [[1, 2]],\n",
       " 264: [[1, 2]],\n",
       " 265: [[1, 2]],\n",
       " 267: [[6, 7]],\n",
       " 270: [[2, 3]],\n",
       " 280: [[1, 2]],\n",
       " 281: [[1, 2]],\n",
       " 299: [[3, 4]]}"
      ]
     },
     "execution_count": 291,
     "metadata": {},
     "output_type": "execute_result"
    }
   ],
   "source": [
    "errorclusters"
   ]
  },
  {
   "cell_type": "code",
   "execution_count": 41,
   "metadata": {},
   "outputs": [
    {
     "data": {
      "text/plain": [
       "False"
      ]
     },
     "execution_count": 41,
     "metadata": {},
     "output_type": "execute_result"
    }
   ],
   "source": [
    "v == None"
   ]
  },
  {
   "cell_type": "code",
   "execution_count": 374,
   "metadata": {},
   "outputs": [
    {
     "data": {
      "text/plain": [
       "45"
      ]
     },
     "execution_count": 374,
     "metadata": {},
     "output_type": "execute_result"
    }
   ],
   "source": [
    "totalcomparisons # divide by this number"
   ]
  },
  {
   "cell_type": "code",
   "execution_count": 281,
   "metadata": {},
   "outputs": [
    {
     "data": {
      "text/plain": [
       "2"
      ]
     },
     "execution_count": 281,
     "metadata": {},
     "output_type": "execute_result"
    }
   ],
   "source": [
    "continuedmatching"
   ]
  },
  {
   "cell_type": "code",
   "execution_count": 280,
   "metadata": {},
   "outputs": [
    {
     "data": {
      "text/plain": [
       "3"
      ]
     },
     "execution_count": 280,
     "metadata": {},
     "output_type": "execute_result"
    }
   ],
   "source": [
    "missedmatching"
   ]
  },
  {
   "cell_type": "code",
   "execution_count": 149,
   "metadata": {},
   "outputs": [
    {
     "data": {
      "text/plain": [
       "0"
      ]
     },
     "execution_count": 149,
     "metadata": {},
     "output_type": "execute_result"
    }
   ],
   "source": [
    "totalcomparisons"
   ]
  },
  {
   "cell_type": "code",
   "execution_count": 150,
   "metadata": {},
   "outputs": [
    {
     "data": {
      "text/plain": [
       "[[1, 1.0, 1.0, 1.0, 1.0, 1.0, 1.0, 1.0, 1.0],\n",
       " [2, 3.0, 4.0, 3.0, 4.0, 3.0, 3.0, 3.0, 3.0],\n",
       " [3, 4.0, 5.0, 4.0, 5.0, 4.0, 5.0, 4.0, 4.0],\n",
       " [4, 5.0, 6.0, 5.0, 6.0, 4.0, 5.0, 4.0, 4.0],\n",
       " [5, 6.0, 7.0, 6.0, 7.0, 4.0, 5.0, 4.0, 4.0]]"
      ]
     },
     "execution_count": 150,
     "metadata": {},
     "output_type": "execute_result"
    }
   ],
   "source": [
    "totclusterids"
   ]
  },
  {
   "cell_type": "code",
   "execution_count": 18,
   "metadata": {},
   "outputs": [],
   "source": [
    "import matplotlib.pyplot as plt\n",
    "\n",
    "search2 =1"
   ]
  },
  {
   "cell_type": "code",
   "execution_count": 27,
   "metadata": {
    "scrolled": false
   },
   "outputs": [
    {
     "name": "stdout",
     "output_type": "stream",
     "text": [
      "f is 59\n",
      "f is 15\n",
      "f is 16\n",
      "f is 48\n",
      "f is 77\n",
      "f is 69\n",
      "f is 123\n",
      "f is 126\n",
      "f is 18\n",
      "f is 195\n"
     ]
    },
    {
     "data": {
      "image/png": "[encoded data removed]",
      "text/plain": [
       "<Figure size 432x288 with 1 Axes>"
      ]
     },
     "metadata": {
      "needs_background": "light"
     },
     "output_type": "display_data"
    }
   ],
   "source": [
    "# may 23 2020\n",
    "\n",
    "arrayx = []\n",
    "arrayy=[]\n",
    "\n",
    "from collections import defaultdict\n",
    "import csv\n",
    "import matplotlib.pyplot as plt\n",
    "\n",
    "# keep count of total number of comparisons + number of incorrect matches\n",
    "totalcomparisons = 0\n",
    "incorrect = 0 \n",
    "\n",
    "\n",
    "initialcluster=3\n",
    "\n",
    "# data structure to keep track of the list of cluster ids \n",
    "listclusterids = []\n",
    "\n",
    "listclusterids.append(initialcluster)\n",
    "\n",
    "obnum = 0\n",
    "\n",
    "\n",
    "\n",
    "# evaluate results for a few frames \n",
    "initialframe = 1\n",
    "endframe = 10\n",
    "\n",
    "totalmap={}\n",
    "\n",
    "previndices=[]\n",
    "currentindices=[]\n",
    "totalmap = {}\n",
    "\n",
    "finalarray=[]\n",
    "\n",
    "xvalues = []\n",
    "yvalues = []\n",
    "\n",
    "hxvalues =[]\n",
    "hyvalues= []\n",
    "\n",
    "prevmap={}\n",
    "\n",
    "mf = defaultdict(list)\n",
    "# maximum object/cluster id in any frame\n",
    "mx = 20\n",
    "\n",
    "for j in range(0, mx):\n",
    "    mf[j]=0 \n",
    "    \n",
    "matchfreq= mf\n",
    "\n",
    "for i in range(initialframe, endframe):\n",
    "    name = \"file_out\"\n",
    "    name = name+str(i)\n",
    "    name = name+\".csv\"\n",
    "    firstrow=0\n",
    "    # clear matchfreq\n",
    "    for j in range(0, mx):\n",
    "        matchfreq[j] =0\n",
    "    with open(name) as csv_file:\n",
    "        f =0 \n",
    "        # reset hxvalues , hyvalues\n",
    "        hxvalues = []\n",
    "        hyvalues=[]\n",
    "        \n",
    "        currentmap= {}\n",
    "        \n",
    "        csv_reader = csv.reader(csv_file, delimiter=\",\")\n",
    "        \n",
    "        if i==initialframe:\n",
    "            for row in csv_reader:\n",
    "                # no need for first row skip \n",
    "                clusterid = float(row[0])\n",
    "                if clusterid==initialcluster:\n",
    "                    xpoint = float(row[1])\n",
    "                    ypoint = float(row[2])\n",
    "                    #print(\"xpt\", xpoint)\n",
    "                    #print(\"ypt\", ypoint)\n",
    "                    arrayx.append(xpoint)\n",
    "                    arrayy.append(ypoint)\n",
    "                    xr = round(xpoint)\n",
    "                    yr = round(ypoint)\n",
    "                    fromi = dinvlookupdict[(xr,yr)]\n",
    "                    h1, i1 = dhighestfreq(fromi)\n",
    "                    prevmap[i1] = 1\n",
    "            plt.scatter(arrayx, arrayy)\n",
    "            # reset ky \n",
    "            ky = initialcluster\n",
    "            continue\n",
    "            \n",
    "        for row in csv_reader:\n",
    "            clusterid = float(row[0])\n",
    "            \n",
    "            if clusterid != obnum:\n",
    "                numo1 = float(obnum)\n",
    "                # append into dictionary of maps\n",
    "                totalmap[numo1] = currentmap\n",
    "                if matchfreq[numo1] > f:\n",
    "                    f = matchfreq[numo1]\n",
    "                    print(\"f is\", f)\n",
    "                    ky = numo1\n",
    "                    \n",
    "                    hxvalues = xvalues\n",
    "                    hyvalues = yvalues\n",
    "                obnum = clusterid\n",
    "                \n",
    "                currentindices=[]\n",
    "                currentmap= {}\n",
    "                \n",
    "                xvalues =[]\n",
    "                yvalues =[]\n",
    "                # append first values\n",
    "                #xvalues.append(float(row[1]))\n",
    "                #yvalues.append(float(row[2]))\n",
    "                \n",
    "                continue\n",
    "            \n",
    "            xpoint = float(row[1])\n",
    "            ypoint = float(row[2])\n",
    "            xr = round(xpoint)\n",
    "            yr = round(ypoint)\n",
    "            xvalues.append(xpoint) # save to array \n",
    "            yvalues.append(ypoint)\n",
    "            fromi = dinvlookupdict[(xr,yr)]\n",
    "            # function to find highest freq \n",
    "            h1, i1 = dhighestfreq(fromi)\n",
    "            # check outlier\n",
    "            freqo =0 \n",
    "            if [xr, yr] in listoutliers:\n",
    "                # determine highest outlier count + coordinates\n",
    "                listofoutliers = listoutliers2[fromi]\n",
    "                for outlierpt in listofoutliers:\n",
    "                    indexo = dinvlookupdict[(outlierpt[0], outlierpt[1])]\n",
    "                    ocount = doutlier[fromi, indexo]\n",
    "                    if ocount > freqo:\n",
    "                        freqo = ocount\n",
    "                        highindo = indexo\n",
    "            # compare with dhighestfreq\n",
    "            if freqo > h1:\n",
    "                i1 = highindo\n",
    "            # save to indices\n",
    "            currentindices.append(i1) \n",
    "            # save to map\n",
    "            currentmap[i1] = 1\n",
    "            # check prev map\n",
    "            val = prevmap.get(fromi)\n",
    "            if val ==None:\n",
    "                # do nothing\n",
    "                if search2==0:\n",
    "                    print(\"hi\")\n",
    "            else:\n",
    "                numo = float(obnum)\n",
    "                matchfreq[numo]= matchfreq[numo]+1\n",
    "        # check f values at end of file\n",
    "        numo2 = float(obnum)\n",
    "        if matchfreq[numo2] > f:\n",
    "            ky = numo2\n",
    "            hxvalues = xvalues\n",
    "            hyvalues = yvalues\n",
    "            totalmap[ky]= currentmap\n",
    "        finalarray.append(ky)\n",
    "        # ky is the cluster id with the highest frequency\n",
    "        \n",
    "        plt.scatter(hxvalues, hyvalues)\n",
    "        \n",
    "        if len(hxvalues) ==0:\n",
    "            print(\"0 h vals\")\n",
    "        if len(hxvalues) !=0:\n",
    "            # set prevmap to the one \n",
    "            listclusterids.append(ky) # only append if there is next match\n",
    "            prevmap = totalmap[ky]\n",
    "        # obnum\n",
    "        \n",
    "plt.show()"
   ]
  },
  {
   "cell_type": "code",
   "execution_count": 28,
   "metadata": {},
   "outputs": [
    {
     "data": {
      "text/plain": [
       "[3, 4.0, 5.0, 4.0, 5.0, 4.0, 5.0, 4.0, 4.0]"
      ]
     },
     "execution_count": 28,
     "metadata": {},
     "output_type": "execute_result"
    }
   ],
   "source": [
    "listclusterids"
   ]
  },
  {
   "cell_type": "code",
   "execution_count": null,
   "metadata": {},
   "outputs": [],
   "source": []
  },
  {
   "cell_type": "code",
   "execution_count": 177,
   "metadata": {},
   "outputs": [],
   "source": [
    "result =[1,1, 3.0, 4.0, 3.0, 4.0, 3.0, 3.0]"
   ]
  },
  {
   "cell_type": "code",
   "execution_count": 184,
   "metadata": {},
   "outputs": [],
   "source": [
    "result = [1,1,3,2,2,2,1]"
   ]
  },
  {
   "cell_type": "code",
   "execution_count": 367,
   "metadata": {},
   "outputs": [],
   "source": [
    "result = [3,2,3,1,1]"
   ]
  },
  {
   "cell_type": "code",
   "execution_count": 9,
   "metadata": {},
   "outputs": [],
   "source": [
    "# kalman filter code\n",
    "\n",
    "from numpy.linalg import inv\n",
    "\n",
    "# from kalman filter\n",
    "\n",
    "# prediction\n",
    "\n",
    "def kf_predict(X, P, A, Q, B, U):\n",
    "    X = np.dot(A, X) + np.dot(B, U)\n",
    "    P = np.dot(A, np.dot(P, A.transpose())) + Q\n",
    "    return (X, P)\n",
    "\n",
    "def kf_update(X,P,Y,H,R):\n",
    "    IM= np.dot(H,X)\n",
    "    IS = R+ np.dot(H, np.dot(P, H.transpose()))\n",
    "    K = np.dot(P, np.dot(H.transpose(), inv(IS)))\n",
    "    X = X+ np.dot(K, (Y-IM))\n",
    "    P= P - np.dot(K, np.dot(IS, K.transpose()))\n",
    "    LH = gauss_pdf(Y, IM, IS)\n",
    "    return (X, P, K, IM, IS, LH)\n",
    "\n",
    "\n",
    "def gauss_pdf(X, M, S):\n",
    "    if size(M)== 1:\n",
    "        DX = X - np.tile(M, size(X))\n",
    "        E = 0.5 * sum(DX * (dot(inv(S), DX)), axis=0)\n",
    "        E = E + 0.5 * np.zeros(size(M)) * log(2 * pi) + 0.5 * log(det(S))\n",
    "        P = exp(-E)\n",
    "    elif size(X) == 1:\n",
    "        DX = tile(X, size(M))- M\n",
    "        E = 0.5 * sum(DX * (dot(inv(S), DX)), axis=0)\n",
    "        E = E + 0.5 * np.zeros(size(M))* log(2 * pi) + 0.5 * log(det(S))\n",
    "        P = exp(-E)\n",
    "    else:\n",
    "        DX = X-M\n",
    "        E = 0.5 * np.dot(DX.transpose(), np.dot(inv(S), DX))\n",
    "        E = E + 0.5 * np.zeros((size(M, 1), size(M,1))) * log(2 * pi) + 0.5 * log(np.linalg.det(S))\n",
    "        P = np.exp(-E)\n",
    "    return (P[0],E[0]) "
   ]
  },
  {
   "cell_type": "code",
   "execution_count": 10,
   "metadata": {},
   "outputs": [],
   "source": [
    "import numpy as np\n",
    "from numpy import *\n",
    "from numpy.linalg import inv\n",
    "\n",
    "import matplotlib.pyplot as plt"
   ]
  },
  {
   "cell_type": "code",
   "execution_count": null,
   "metadata": {},
   "outputs": [],
   "source": [
    "\n",
    "# PART B STEP 3\n",
    "\n",
    "# KF setup \n",
    "\n",
    "dt = 1\n",
    "# p_x, p_y, v_x, v_y\n",
    "x1 = array(([[px0], [py0], [avx1], [avy1]])) \n",
    "\n",
    "# extra change p_x, extra change p_y, change v_x, change v_y \n",
    "u = array(([[4.0], [12.0], [0], [0]]))\n",
    "\n",
    "P = array([[10, 0, 0 , 0], [0, 10, 0, 0], [0, 0, 100, 0], [0, 0, 0, 100]])\n",
    "\n",
    "F = array([[1, 0, dt , 0], [0, 1, 0, dt], [0, 0, 1, 0], [0, 0, 0, 1]])\n",
    "\n",
    "#H = array([[1,0,0,0], [0,1,0,0], [0,0,0,0], [0,0,0,0]])\n",
    "H = array([[1,0,0,0], [0,1,0,0]])\n",
    "           \n",
    "# meas noise\n",
    "R = array([[0.1,0], [0,0.1]])\n",
    "\n",
    "B = np.eye(4)\n",
    "\n",
    "Q = np.eye(4)\n",
    "\n",
    "\n",
    "from collections import defaultdict\n",
    "\n",
    "import matplotlib.pyplot as plt\n",
    "import csv\n",
    "\n",
    "\n",
    "# array to be plotted\n",
    "arrayx = []\n",
    "\n",
    "arrayy = []\n",
    "# set tarray values as the frame number to track the evolution\n",
    "tarray = []\n",
    "\n",
    "\n",
    "# parameters of step 5\n",
    "\n",
    "firstrow=0\n",
    "\n",
    "firstrowfirstfile= 0\n",
    "\n",
    "obnum =0\n",
    "\n",
    "previndices=[]\n",
    "\n",
    "currentindices=[]\n",
    "\n",
    "totalmap = {}\n",
    "\n",
    "arrayofarrays = []\n",
    "\n",
    "# rename current dict to totaldict?\n",
    "currentdict = {}\n",
    "\n",
    "arrayofdicts=[]\n",
    "\n",
    "finalarray=[]\n",
    "\n",
    "xvalues = []\n",
    "yvalues = []\n",
    "\n",
    "hxvalues =[]\n",
    "hyvalues= []\n",
    "\n",
    "prevmap={}\n",
    "\n",
    "# initial cluster to track \n",
    "initialcluster = 3\n",
    "\n",
    "\n",
    "# must intialize matchfreq\n",
    "mf = defaultdict(list)\n",
    "\n",
    "mx = 11\n",
    "\n",
    "for j in range(0, mx):\n",
    "    mf[j]=0 \n",
    "\n",
    "matchfreq= mf\n",
    "\n",
    "initialframe = 1\n",
    "n = 20 # ending frame \n",
    "\n",
    "\n",
    "# initialize distances map \n",
    "mapdistances = defaultdict(list)\n",
    "\n",
    "totxvalues = defaultdict(list)\n",
    "totyvalues = defaultdict(list)\n",
    "\n",
    "f = 1000 # default value\n",
    "\n",
    "for j in range(0, mx):\n",
    "    mapdistances[j]=[]\n",
    "    totxvalues[j] = []\n",
    "    totyvalues[j] = []\n",
    "\n",
    "currentdistances = []\n",
    "\n"
   ]
  },
  {
   "cell_type": "code",
   "execution_count": null,
   "metadata": {},
   "outputs": [],
   "source": [
    "# do not need to process initial frame     \n",
    "for i in range(initialframe+1, n):\n",
    "    #print(\"i is \",i)\n",
    "    name = \"Cluster_Frame\"\n",
    "    name = name+str(i)\n",
    "    name = name+\".csv\"\n",
    "    #print(name)\n",
    "    pathname = path+\"/\"+name\n",
    "    \n",
    "    firstrow=0\n",
    "    \n",
    "    row1 = 0\n",
    "    \n",
    "    # clear map\n",
    "    for j in range(0, mx):\n",
    "        mapdistances[j] =[]\n",
    "        totxvalues[j] =[]\n",
    "        totyvalues[j]=[]\n",
    "    # PREDICT STEP \n",
    "    x1, P = predict1(x1, P)\n",
    "    with open(pathname) as csv_file:\n",
    "        \n",
    "            \n",
    "        m = f\n",
    "        currentmap= {}\n",
    "        csv_reader = csv.reader(csv_file, delimiter=\",\")\n",
    "        \n",
    "    "
   ]
  },
  {
   "cell_type": "code",
   "execution_count": 368,
   "metadata": {},
   "outputs": [
    {
     "name": "stdout",
     "output_type": "stream",
     "text": [
      "acounter 0\n",
      "acounter 1\n",
      "acounter 2\n",
      "acounter 3\n",
      "acounter 4\n"
     ]
    },
    {
     "data": {
      "image/png": "[encoded data removed]",
      "text/plain": [
       "<Figure size 432x288 with 1 Axes>"
      ]
     },
     "metadata": {
      "needs_background": "light"
     },
     "output_type": "display_data"
    }
   ],
   "source": [
    "# plot the other clusters \n",
    "\n",
    "alen = len(result)\n",
    "\n",
    "# counter for array el\n",
    "acounter = 0\n",
    "\n",
    "for i in range(initialframe, endframe):\n",
    "    name = \"file_out\"\n",
    "    name = name+str(i)\n",
    "    name = name+\".csv\"\n",
    "    print(\"acounter\", acounter)\n",
    "    a = result[acounter]\n",
    "    xarray = []\n",
    "    yarray = []\n",
    "    with open(name) as csv_file:\n",
    "        csv_reader = csv.reader(csv_file, delimiter=\",\")\n",
    "        for row in csv_reader:\n",
    "            clusterid = float(row[0])\n",
    "            xpoint = float(row[1])\n",
    "            ypoint = float(row[2])\n",
    "            \n",
    "            if clusterid == a:\n",
    "                xarray.append(xpoint)\n",
    "                yarray.append(ypoint)\n",
    "                \n",
    "                \n",
    "        # plot\n",
    "        plt.scatter(xarray,yarray)\n",
    "    \n",
    "    acounter =acounter +1\n",
    "    if acounter >= alen:\n",
    "        break\n",
    "\n",
    "plt.show()\n",
    "    \n",
    "            "
   ]
  },
  {
   "cell_type": "code",
   "execution_count": 92,
   "metadata": {},
   "outputs": [],
   "source": [
    "#plt.clf()"
   ]
  },
  {
   "cell_type": "code",
   "execution_count": 142,
   "metadata": {},
   "outputs": [
    {
     "data": {
      "text/plain": [
       "[6, 6.0, 7.0, 6.0, 7.0, 5.0, 6.0]"
      ]
     },
     "execution_count": 142,
     "metadata": {},
     "output_type": "execute_result"
    }
   ],
   "source": [
    "result"
   ]
  },
  {
   "cell_type": "code",
   "execution_count": 137,
   "metadata": {},
   "outputs": [
    {
     "data": {
      "text/plain": [
       "[6, 6.0, 7.0, 6.0, 7.0, 4.0, 5.0]"
      ]
     },
     "execution_count": 137,
     "metadata": {},
     "output_type": "execute_result"
    }
   ],
   "source": [
    "listclusterids"
   ]
  },
  {
   "cell_type": "code",
   "execution_count": null,
   "metadata": {},
   "outputs": [],
   "source": [
    "[6, 6.0, 7.0, 6.0, 7.0]"
   ]
  },
  {
   "cell_type": "code",
   "execution_count": 180,
   "metadata": {},
   "outputs": [],
   "source": []
  },
  {
   "cell_type": "code",
   "execution_count": 282,
   "metadata": {},
   "outputs": [
    {
     "data": {
      "text/plain": [
       "'newdatastoreMay17.csv'"
      ]
     },
     "execution_count": 282,
     "metadata": {},
     "output_type": "execute_result"
    }
   ],
   "source": [
    "datastorename"
   ]
  },
  {
   "cell_type": "code",
   "execution_count": null,
   "metadata": {},
   "outputs": [],
   "source": []
  },
  {
   "cell_type": "code",
   "execution_count": 243,
   "metadata": {},
   "outputs": [
    {
     "data": {
      "text/plain": [
       "[1, 1.0, 3.0, 2.0, 2.0, 2.0, 1.0, 3.0, 3.0, 6.0]"
      ]
     },
     "execution_count": 243,
     "metadata": {},
     "output_type": "execute_result"
    }
   ],
   "source": [
    "result"
   ]
  },
  {
   "cell_type": "code",
   "execution_count": 193,
   "metadata": {},
   "outputs": [
    {
     "data": {
      "text/plain": [
       "8.0"
      ]
     },
     "execution_count": 193,
     "metadata": {},
     "output_type": "execute_result"
    }
   ],
   "source": [
    "framenum"
   ]
  },
  {
   "cell_type": "code",
   "execution_count": 268,
   "metadata": {},
   "outputs": [
    {
     "name": "stdout",
     "output_type": "stream",
     "text": [
      "row num, 602\n",
      "row num, 971\n",
      "row num, 1529\n",
      "row num, 2360\n",
      "row num, 3288\n",
      "row num, 3829\n",
      "row num, 4232\n",
      "row num, 5111\n",
      "row num, 5820\n"
     ]
    }
   ],
   "source": [
    "# fix above code to take care of 1\n",
    "\n",
    "# check accuracy with datastore.mat\n",
    "\n",
    "initialcluster=1\n",
    "\n",
    "#curr_cluster = 0 \n",
    "\n",
    "initialframe = 1\n",
    "endframe = 10\n",
    "\n",
    "currentframe = initialframe\n",
    "\n",
    "#initialcluster \n",
    "\n",
    "result = []\n",
    "result.append(initialcluster)\n",
    "\n",
    "prevmatched = initialcluster\n",
    "\n",
    "boolean = 1 # if there is still a next match \n",
    "\n",
    "rownum = 0\n",
    "\n",
    "# append from first frame\n",
    "\n",
    "with open(datastorename) as datastore_csv_file:\n",
    "    datastore_csv_reader = csv.reader(datastore_csv_file, delimiter=\",\")\n",
    "    \n",
    "    for row in datastore_csv_reader:\n",
    "        rownum =rownum+1\n",
    "        \n",
    "        # 1 - frame \n",
    "        framenum = float(row[0])\n",
    "        \n",
    "        # 2 - cluster id\n",
    "        clusterid = float(row[1])\n",
    "        matched = float(row[18]) \n",
    "        \n",
    "        # if past end frame\n",
    "        if framenum > endframe:\n",
    "            break\n",
    "        \n",
    "        if framenum < initialframe:\n",
    "            continue\n",
    "            \n",
    "            \n",
    "        if framenum != currentframe:\n",
    "            if boolean == 0:\n",
    "                print(\"bool break\")\n",
    "                print(\"row,\", rownum)\n",
    "                \n",
    "                break # no more next match\n",
    "                \n",
    "            # append to matched\n",
    "            print(\"row num,\", rownum)\n",
    "            \n",
    "            # if nextmatched is nan, ignore\n",
    "            if str(nextmatched) == 'nan':\n",
    "                break\n",
    "                \n",
    "            result.append(nextmatched)\n",
    "            \n",
    "            prevmatched = nextmatched\n",
    "            \n",
    "            boolean = 0\n",
    "            \n",
    "            currentframe = framenum\n",
    "            \n",
    "        #print(\"frame num\", framenum)\n",
    "                \n",
    "        \n",
    "        \n",
    "\n",
    "        \n",
    "        if clusterid == prevmatched:\n",
    "            nextmatched = matched\n",
    "            boolean = 1 # found the next match\n",
    "            \n",
    "        \n",
    "            \n",
    "        \n",
    "    \n",
    "        # keep matching until there is no more next cluster\n",
    "        \n",
    "        "
   ]
  },
  {
   "cell_type": "code",
   "execution_count": 363,
   "metadata": {},
   "outputs": [
    {
     "data": {
      "text/plain": [
       "False"
      ]
     },
     "execution_count": 363,
     "metadata": {},
     "output_type": "execute_result"
    }
   ],
   "source": [
    "str(result[8]) == 'nan'"
   ]
  },
  {
   "cell_type": "code",
   "execution_count": 356,
   "metadata": {},
   "outputs": [
    {
     "data": {
      "text/plain": [
       "[7, 5.0, 7.0, 6.0, 7.0, 4.0, 5.0, 3.0, 3.0, 2.0]"
      ]
     },
     "execution_count": 356,
     "metadata": {},
     "output_type": "execute_result"
    }
   ],
   "source": [
    "listclusterids"
   ]
  },
  {
   "cell_type": "code",
   "execution_count": 269,
   "metadata": {},
   "outputs": [],
   "source": [
    "# update (June 6) check for nan \n",
    "\n",
    "# compare the two arrays: result must end first (count the mismatches if result is longer) \n",
    "numincorrect = 0\n",
    "\n",
    "# lengths \n",
    "len1 = len(result)\n",
    "len2 = len(listclusterids)\n",
    "\n",
    "setlen = len1\n",
    "\n",
    "if len1 < len2:\n",
    "    setlen = len1\n",
    "if len2 < len1:\n",
    "    setlen = len2\n",
    "\n",
    "for i in range(0, setlen):\n",
    "    if result[i] != listclusterids[i]:\n",
    "        numincorrect = numincorrect+1\n"
   ]
  },
  {
   "cell_type": "code",
   "execution_count": 270,
   "metadata": {},
   "outputs": [
    {
     "data": {
      "text/plain": [
       "0"
      ]
     },
     "execution_count": 270,
     "metadata": {},
     "output_type": "execute_result"
    }
   ],
   "source": [
    "numincorrect"
   ]
  },
  {
   "cell_type": "code",
   "execution_count": null,
   "metadata": {},
   "outputs": [],
   "source": [
    "# now make a loop to check for all clusters \n"
   ]
  },
  {
   "cell_type": "code",
   "execution_count": 5,
   "metadata": {},
   "outputs": [
    {
     "name": "stdout",
     "output_type": "stream",
     "text": [
      "high outlier\n"
     ]
    },
    {
     "data": {
      "image/png": "[encoded data removed]",
      "text/plain": [
       "<matplotlib.figure.Figure at 0x196332090>"
      ]
     },
     "metadata": {},
     "output_type": "display_data"
    }
   ],
   "source": [
    "# dec step 5: only 1 trajectory\n",
    "\n",
    "import matplotlib.pyplot as plt\n",
    "from collections import defaultdict\n",
    "\n",
    "# inputs \n",
    "dpath = \"dec2019/Ramp/2019-9-9-15-0-0-BF1-CL1(0-18000frames)-Cluster_csv\"\n",
    "\n",
    "initialframe =1200\n",
    "endframe = 1300\n",
    "\n",
    "\n",
    "# initialization of data arrays\n",
    "firstrow= 0\n",
    "firstrowfirstfile =0\n",
    "obnum =0\n",
    "\n",
    "arrayx = []\n",
    "arrayy = []\n",
    "tarray = []\n",
    "totalmap = {}\n",
    "currentdict = {}\n",
    "xvalues = []\n",
    "yvalues = []\n",
    "\n",
    "hxvalues =[]\n",
    "hyvalues= []\n",
    "\n",
    "arrhxvalues=[]\n",
    "arrhyvalues=[]\n",
    "\n",
    "prevmap={}\n",
    "# must intialize matchfreq\n",
    "mf = defaultdict(list)\n",
    "mx =20 \n",
    "for j in range(0, mx):\n",
    "    mf[j]=0 \n",
    "matchfreq = mf\n",
    "\n",
    "initialcluster = 1\n",
    "\n",
    "for i in range(initialframe, endframe):\n",
    "    #name = \"Cluster_Frame\"\n",
    "    #name = name+str(i)\n",
    "    #name = name+\".csv\"\n",
    "    # dec path\n",
    "    #pathname = dpath+\"/\"+name\n",
    "    name = \"file_out\"\n",
    "    name = name+str(i)\n",
    "    name = name+\".csv\"\n",
    "    pathname= name\n",
    "    firstrow=0\n",
    "    # clear matchfreq\n",
    "    for k in range(0, mx):\n",
    "        matchfreq[k] = 0\n",
    "    with open(pathname) as csv_file:\n",
    "        f=0 # max match freq compare\n",
    "        #reset \n",
    "        hxvalues= []\n",
    "        hyvalues = []\n",
    "        currentmap = {}\n",
    "        csv_reader = csv.reader(csv_file, delimiter =\",\")\n",
    "        if i == initialframe:\n",
    "            for row in csv_reader:\n",
    "                #if firstrowfirstfile==0:\n",
    "                 #   firstrowfirstfile=1\n",
    "                  #  continue\n",
    "                clusterid =float(row[0])\n",
    "                #vehped = float(row[1])\n",
    "                if clusterid == initialcluster: \n",
    "                    xpoint = float(row[1])\n",
    "                    ypoint = float(row[2])\n",
    "                    arrayx.append(xpoint)\n",
    "                    arrayy.append(ypoint)\n",
    "                    arrhxvalues.append(xpoint)\n",
    "                    arrhyvalues.append(ypoint)\n",
    "                    xfloor = round(xpoint)\n",
    "                    yfloor = round(ypoint)\n",
    "                    # dec \n",
    "                    fromi = dinvlookupdict[(xfloor, yfloor)]\n",
    "                    h1, i1 = dhighestfreq(fromi)\n",
    "                    prevmap[i1] = 1\n",
    "                    prevmap3 = prevmap\n",
    "            plt.scatter(arrayx, arrayy)\n",
    "            #add to arrhxvalues\n",
    "\n",
    "            #arrhxvalues = arrayx\n",
    "            #arrhyvalues = arrayy\n",
    "            # test with break statement\n",
    "            # check prevmap here \n",
    "\n",
    "            ky = initialcluster\n",
    "            continue\n",
    "        for row in csv_reader:\n",
    "            if firstrow==0:\n",
    "                firstrow=1\n",
    "                continue\n",
    "            vehped = float(row[1])\n",
    "            if vehped == 2:\n",
    "                continue # only track vehicles\n",
    "            clusterid = float(row[0])\n",
    "            if clusterid != obnum:\n",
    "                numo1 = float(obnum)\n",
    "                totalmap[numo1] = currentmap\n",
    "                if matchfreq[numo1] > f:\n",
    "                    f= matchfreq[numo1]\n",
    "                    ky = numo1\n",
    "                    hxvalues = xvalues\n",
    "                    hyvalues = yvalues\n",
    "                obnum = clusterid\n",
    "                currentmap = {}\n",
    "\n",
    "                xvalues = []\n",
    "                yvalues = []\n",
    "                # append first vals\n",
    "                xvalues.append(float(row[2]))\n",
    "                yvalues.append(float(row[3]))\n",
    "                continue\n",
    "            xpoint = float(row[2])\n",
    "            ypoint = float(row[3])\n",
    "            xr = round(xpoint)\n",
    "            yr = round(ypoint)\n",
    "            xvalues.append(xpoint)\n",
    "            yvalues.append(ypoint)\n",
    "            # dec dictionary, highest frequency\n",
    "            fromi = dinvlookupdict[(xr,yr)]\n",
    "            h1, i1 = dhighestfreq(fromi)\n",
    "            # check if in \"outliers from\" list\n",
    "            freqo = 0\n",
    "            if [xr, yr] in listoutliers:\n",
    "            # determine highest outlier count + coordinates\n",
    "                listofoutliers = listoutliers2[fromi]\n",
    "                for outlierpt in listofoutliers:\n",
    "                    indexo = dinvlookupdict[(outlierpt[0], outlierpt[1])]\n",
    "                    ocount = doutlier[fromi, indexo]\n",
    "                    if ocount > freqo:\n",
    "                        freqo = ocount\n",
    "                        highindo = indexo\n",
    "            # compare with dhighestfreq\n",
    "            if freqo > h1:\n",
    "                i1 = highindo\n",
    "                print(\"high outlier\")\n",
    "            currentmap[i1] = 1\n",
    "            # check prev map\n",
    "            val = prevmap.get(fromi)\n",
    "            if val != None:\n",
    "                numo = float(obnum)\n",
    "                matchfreq[numo] = matchfreq[numo]+1 \n",
    "        # check f vals at end of file\n",
    "        numo2 = float(obnum)\n",
    "        if matchfreq[numo2] > f:\n",
    "            ky = numo2\n",
    "            hxvalues = xvalues\n",
    "            hyvalues = yvalues\n",
    "            totalmap[ky] = currentmap\n",
    "\n",
    "        # finalarray.append(ky)\n",
    "        arrhxvalues.extend(hxvalues)\n",
    "        arrhyvalues.extend(hyvalues)\n",
    "\n",
    "        # set prevmap\n",
    "        if len(hxvalues) != 0:\n",
    "            prevmap = totalmap[ky]\n",
    "            \n",
    "plt.scatter(arrhxvalues, arrhyvalues)\n",
    "plt.show()"
   ]
  },
  {
   "cell_type": "code",
   "execution_count": null,
   "metadata": {
    "collapsed": true
   },
   "outputs": [],
   "source": []
  },
  {
   "cell_type": "code",
   "execution_count": 84,
   "metadata": {},
   "outputs": [
    {
     "data": {
      "image/png": "[encoded data removed]",
      "text/plain": [
       "<matplotlib.figure.Figure at 0x113aa5510>"
      ]
     },
     "metadata": {},
     "output_type": "display_data"
    }
   ],
   "source": [
    "# dec step 5 G\n",
    "\n",
    "import matplotlib.pyplot as plt\n",
    "from collections import defaultdict\n",
    "\n",
    "# inputs \n",
    "dpath = \"dec2019/Ramp/2019-9-9-15-0-0-BF1-CL1(0-18000frames)-Cluster_csv\"\n",
    "\n",
    "initialframe =1261\n",
    "endframe = 1294\n",
    "\n",
    "\n",
    "# initialization of data arrays\n",
    "firstrow= 0\n",
    "firstrowfirstfile =0\n",
    "obnum =0\n",
    "\n",
    "arrayx = []\n",
    "arrayy = []\n",
    "tarray = []\n",
    "totalmap = {}\n",
    "currentdict = {}\n",
    "xvalues = []\n",
    "yvalues = []\n",
    "\n",
    "hxvalues =[]\n",
    "hyvalues= []\n",
    "\n",
    "arrhxvalues=[]\n",
    "arrhyvalues=[]\n",
    "\n",
    "prevmap={}\n",
    "# must intialize matchfreq\n",
    "mf = defaultdict(list)\n",
    "mx =20 \n",
    "for j in range(0, mx):\n",
    "    mf[j]=0 \n",
    "matchfreq = mf\n",
    "\n",
    "# first determine how many diff cars there are \n",
    "name1 = \"Cluster_Frame\"\n",
    "name1 = name1+str(initialframe)\n",
    "name1 = name1+\".csv\"\n",
    "# dec path\n",
    "pathname1 = dpath+\"/\"+name1\n",
    "\n",
    "maxinitclusterid= 0 # number of vehicles to track\n",
    "\n",
    "firstrowfirstfile1=0\n",
    "\n",
    "with open(pathname1) as csv_file1:\n",
    "    csv_reader1 = csv.reader(csv_file1, delimiter=\",\")\n",
    "    for row1 in csv_reader1:\n",
    "        if firstrowfirstfile1==0:\n",
    "            firstrowfirstfile1=1\n",
    "            continue\n",
    "        vehped1 = float(row1[1])\n",
    "        clusterid1 = float(row1[0])\n",
    "        if vehped1 ==2:\n",
    "            continue\n",
    "        if clusterid1 > maxinitclusterid:\n",
    "            maxinitclusterid = clusterid1\n",
    "\n",
    "# loop over the clusters \n",
    "maxinitclusterid = int(maxinitclusterid)\n",
    "for j in range(0, maxinitclusterid):\n",
    "    initialcluster = j \n",
    "    firstrowfirstfile = 0 \n",
    "    prevmap= {}\n",
    "    for i in range(initialframe, endframe):\n",
    "        name = \"Cluster_Frame\"\n",
    "        name = name+str(i)\n",
    "        name = name+\".csv\"\n",
    "        # dec path\n",
    "        pathname = dpath+\"/\"+name\n",
    "        firstrow=0\n",
    "        # clear matchfreq\n",
    "        for k in range(0, mx):\n",
    "            matchfreq[k] = 0\n",
    "        with open(pathname) as csv_file:\n",
    "            f=0 # max match freq compare\n",
    "            #reset \n",
    "            hxvalues= []\n",
    "            hyvalues = []\n",
    "            currentmap = {}\n",
    "            csv_reader = csv.reader(csv_file, delimiter =\",\")\n",
    "            if i == initialframe:\n",
    "                for row in csv_reader:\n",
    "                    if firstrowfirstfile==0:\n",
    "                        firstrowfirstfile=1\n",
    "                        continue\n",
    "                    clusterid =float(row[0])\n",
    "                    vehped = float(row[1])\n",
    "                    if clusterid == initialcluster and vehped ==1: \n",
    "                        xpoint = float(row[2])\n",
    "                        ypoint = float(row[3])\n",
    "                        arrayx.append(xpoint)\n",
    "                        arrayy.append(ypoint)\n",
    "                        arrhxvalues.append(xpoint)\n",
    "                        arrhyvalues.append(ypoint)\n",
    "                        xfloor = round(xpoint)\n",
    "                        yfloor = round(ypoint)\n",
    "                        # dec \n",
    "                        fromi = dinvlookupdict[(xfloor, yfloor)]\n",
    "                        h1, i1 = dhighestfreq(fromi)\n",
    "                        prevmap[i1] = 1\n",
    "                        prevmap3 = prevmap\n",
    "                # plt.scatter(arrayx, arrayy)\n",
    "                #add to arrhxvalues\n",
    "                \n",
    "                #arrhxvalues = arrayx\n",
    "                #arrhyvalues = arrayy\n",
    "                # test with break statement\n",
    "                # check prevmap here \n",
    "                \n",
    "                ky = initialcluster\n",
    "                continue\n",
    "            for row in csv_reader:\n",
    "                if firstrow==0:\n",
    "                    firstrow=1\n",
    "                    continue\n",
    "                vehped = float(row[1])\n",
    "                if vehped == 2:\n",
    "                    continue # only track vehicles\n",
    "                clusterid = float(row[0])\n",
    "                if clusterid != obnum:\n",
    "                    numo1 = float(obnum)\n",
    "                    totalmap[numo1] = currentmap\n",
    "                    if matchfreq[numo1] > f:\n",
    "                        f= matchfreq[numo1]\n",
    "                        ky = numo1\n",
    "                        hxvalues = xvalues\n",
    "                        hyvalues = yvalues\n",
    "                    obnum = clusterid\n",
    "                    currentmap = {}\n",
    "                    \n",
    "                    xvalues = []\n",
    "                    yvalues = []\n",
    "                    # append first vals\n",
    "                    xvalues.append(float(row[2]))\n",
    "                    yvalues.append(float(row[3]))\n",
    "                    continue\n",
    "                xpoint = float(row[2])\n",
    "                ypoint = float(row[3])\n",
    "                xr = round(xpoint)\n",
    "                yr = round(ypoint)\n",
    "                xvalues.append(xpoint)\n",
    "                yvalues.append(ypoint)\n",
    "                # dec dictionary, highest frequency\n",
    "                fromi = dinvlookupdict[(xr,yr)]\n",
    "                h1, i1 = dhighestfreq(fromi)\n",
    "                # check if in \"outliers from\" list\n",
    "                freqo = 0\n",
    "                if [xr, yr] in listoutliers:\n",
    "                # determine highest outlier count + coordinates\n",
    "                    listofoutliers = listoutliers2[fromi]\n",
    "                    for outlierpt in listofoutliers:\n",
    "                        indexo = dinvlookupdict[(outlierpt[0], outlierpt[1])]\n",
    "                        ocount = doutlier[fromi, indexo]\n",
    "                        if ocount > freqo:\n",
    "                            freqo = ocount\n",
    "                            highindo = indexo\n",
    "                # compare with dhighestfreq\n",
    "                if freqo > h1:\n",
    "                    i1 = highindo\n",
    "                    print(\"high outlier\")\n",
    "                currentmap[i1] = 1\n",
    "                # check prev map\n",
    "                val = prevmap.get(fromi)\n",
    "                if val != None:\n",
    "                    numo = float(obnum)\n",
    "                    matchfreq[numo] = matchfreq[numo]+1 \n",
    "            # check f vals at end of file\n",
    "            numo2 = float(obnum)\n",
    "            if matchfreq[numo2] > f:\n",
    "                ky = numo2\n",
    "                hxvalues = xvalues\n",
    "                hyvalues = yvalues\n",
    "                totalmap[ky] = currentmap\n",
    "                \n",
    "            # finalarray.append(ky)\n",
    "            arrhxvalues.extend(hxvalues)\n",
    "            arrhyvalues.extend(hyvalues)\n",
    "            \n",
    "            # set prevmap\n",
    "            if len(hxvalues) != 0:\n",
    "                prevmap = totalmap[ky]\n",
    "                \n",
    "    # at end of this j \n",
    "    plt.scatter(arrhxvalues, arrhyvalues)\n",
    "    \n",
    "    arrhxvalues = []\n",
    "    arrhyvalues= []\n",
    "    \n",
    "#plt.savefig(\"orig_method_1166to1171\", format='png')\n",
    "plt.show()"
   ]
  },
  {
   "cell_type": "code",
   "execution_count": 81,
   "metadata": {},
   "outputs": [
    {
     "name": "stdout",
     "output_type": "stream",
     "text": [
      "7.0\n"
     ]
    }
   ],
   "source": [
    "# determine the number of ids in initial frame\n",
    "\n",
    "dpath = \"dec2019/Ramp/2019-9-9-15-0-0-BF1-CL1(0-18000frames)-Cluster_csv\"\n",
    "\n",
    "\n",
    "initialframe =1400\n",
    "endframe = 1500\n",
    "\n",
    "name1 = \"Cluster_Frame\"\n",
    "name1 = name1+str(initialframe)\n",
    "name1 = name1+\".csv\"\n",
    "# dec path\n",
    "pathname1 = dpath+\"/\"+name1\n",
    "\n",
    "maxinitclusterid= 0 # number of vehicles to track\n",
    "\n",
    "firstrowfirstfile1=0\n",
    "\n",
    "\n",
    "with open(pathname1) as csv_file1:\n",
    "    csv_reader1 = csv.reader(csv_file1, delimiter=\",\")\n",
    "    for row1 in csv_reader1:\n",
    "        if firstrowfirstfile1==0:\n",
    "            firstrowfirstfile1=1\n",
    "            continue\n",
    "        vehped1 = float(row1[1])\n",
    "        clusterid1 = float(row1[0])\n",
    "        if vehped1 ==2:\n",
    "            continue\n",
    "        if clusterid1 > maxinitclusterid:\n",
    "            maxinitclusterid = clusterid1\n",
    "            \n",
    "print(maxinitclusterid)"
   ]
  },
  {
   "cell_type": "code",
   "execution_count": 7,
   "metadata": {
    "collapsed": true
   },
   "outputs": [],
   "source": [
    "# average length of trajectory to be saved\n",
    "trajectory_lengths = []"
   ]
  },
  {
   "cell_type": "code",
   "execution_count": 90,
   "metadata": {
    "collapsed": true
   },
   "outputs": [],
   "source": [
    "trajectory_lengths.append(tlength)"
   ]
  },
  {
   "cell_type": "code",
   "execution_count": 8,
   "metadata": {},
   "outputs": [
    {
     "name": "stdout",
     "output_type": "stream",
     "text": [
      "('tlength', 1)\n",
      "('frame num', 1427)\n",
      "('tlength', 2)\n",
      "('frame num', 1437)\n",
      "('tlength', 3)\n",
      "('frame num', 1438)\n",
      "('tlength', 4)\n",
      "('frame num', 1439)\n",
      "('tlength', 5)\n",
      "('frame num', 1440)\n",
      "high outlier\n",
      "high outlier\n",
      "high outlier\n",
      "high outlier\n",
      "high outlier\n",
      "high outlier\n",
      "high outlier\n",
      "high outlier\n",
      "high outlier\n",
      "high outlier\n",
      "high outlier\n",
      "high outlier\n",
      "high outlier\n",
      "high outlier\n",
      "high outlier\n",
      "high outlier\n",
      "('tlength', 6)\n",
      "('frame num', 1441)\n",
      "('tlength', 7)\n",
      "('frame num', 1453)\n",
      "('tlength', 8)\n",
      "('frame num', 1454)\n",
      "('tlength', 9)\n",
      "('frame num', 1486)\n",
      "('tlength', 10)\n",
      "('frame num', 1487)\n",
      "('tlength', 11)\n",
      "('frame num', 1488)\n",
      "('tlength', 12)\n",
      "('frame num', 1489)\n",
      "('tlength', 13)\n",
      "('frame num', 1490)\n"
     ]
    },
    {
     "data": {
      "image/png": "[encoded data removed]",
      "text/plain": [
       "<matplotlib.figure.Figure at 0x1990b8b10>"
      ]
     },
     "metadata": {},
     "output_type": "display_data"
    }
   ],
   "source": [
    "# save average x, y values of each frame to an array\n",
    "import numpy as np\n",
    "\n",
    "xv = []\n",
    "yv = []\n",
    "\n",
    "\n",
    "xmedian=[]\n",
    "ymedian=[]\n",
    "\n",
    "x_largest = []\n",
    "y_largest = []\n",
    "\n",
    "x_smallest = []\n",
    "y_smallest = []\n",
    "\n",
    "xlargest_x = []\n",
    "xlargest_y = []\n",
    "xsmallest_x = []\n",
    "xsmallest_y = []\n",
    "\n",
    "ylargest_x = []\n",
    "ylargest_y = []\n",
    "ysmallest_x = []\n",
    "ysmallest_y = []\n",
    "\n",
    "import matplotlib.pyplot as plt\n",
    "from collections import defaultdict\n",
    "\n",
    "# inputs \n",
    "dpath = \"dec2019/Ramp/2019-9-9-15-0-0-BF1-CL1(0-18000frames)-Cluster_csv\"\n",
    "\n",
    "initialframe =1400\n",
    "endframe = 1500\n",
    "\n",
    "\n",
    "# initialization of data arrays\n",
    "firstrow= 0\n",
    "firstrowfirstfile =0\n",
    "obnum =0\n",
    "\n",
    "arrayx = []\n",
    "arrayy = []\n",
    "tarray = []\n",
    "totalmap = {}\n",
    "currentdict = {}\n",
    "xvalues = []\n",
    "yvalues = []\n",
    "\n",
    "hxvalues =[]\n",
    "hyvalues= []\n",
    "\n",
    "arrhxvalues=[]\n",
    "arrhyvalues=[]\n",
    "\n",
    "prevmap={}\n",
    "# must intialize matchfreq\n",
    "mf = defaultdict(list)\n",
    "mx =20 \n",
    "for j in range(0, mx):\n",
    "    mf[j]=0 \n",
    "matchfreq = mf\n",
    "\n",
    "\n",
    "initialcluster = 6\n",
    "\n",
    "tlength = 0\n",
    "\n",
    "for i in range(initialframe, endframe):\n",
    "    name = \"Cluster_Frame\"\n",
    "    name = name+str(i)\n",
    "    name = name+\".csv\"\n",
    "    # dec path\n",
    "    pathname = dpath+\"/\"+name\n",
    "    firstrow=0\n",
    "    # clear matchfreq\n",
    "    for k in range(0, mx):\n",
    "        matchfreq[k] = 0\n",
    "    with open(pathname) as csv_file:\n",
    "        f=0 # max match freq compare\n",
    "        #reset \n",
    "        hxvalues= []\n",
    "        hyvalues = []\n",
    "        currentmap = {}\n",
    "        csv_reader = csv.reader(csv_file, delimiter =\",\")\n",
    "        if i == initialframe:\n",
    "            for row in csv_reader:\n",
    "                if firstrowfirstfile==0:\n",
    "                    firstrowfirstfile=1\n",
    "                    continue\n",
    "                clusterid =float(row[0])\n",
    "                vehped = float(row[1])\n",
    "                if clusterid == initialcluster and vehped ==1: \n",
    "                    xpoint = float(row[2])\n",
    "                    ypoint = float(row[3])\n",
    "                    arrayx.append(xpoint)\n",
    "                    arrayy.append(ypoint)\n",
    "                    arrhxvalues.append(xpoint)\n",
    "                    arrhyvalues.append(ypoint)\n",
    "                    xfloor = round(xpoint)\n",
    "                    yfloor = round(ypoint)\n",
    "                    # dec \n",
    "                    fromi = dinvlookupdict[(xfloor, yfloor)]\n",
    "                    h1, i1 = dhighestfreq(fromi)\n",
    "                    prevmap[i1] = 1\n",
    "                    prevmap3 = prevmap\n",
    "            # plt.scatter(arrayx, arrayy)\n",
    "            #add to arrhxvalues\n",
    "\n",
    "            #arrhxvalues = arrayx\n",
    "            #arrhyvalues = arrayy\n",
    "            # test with break statement\n",
    "            # check prevmap here \n",
    "\n",
    "            ky = initialcluster\n",
    "            continue\n",
    "        for row in csv_reader:\n",
    "            if firstrow==0:\n",
    "                firstrow=1\n",
    "                continue\n",
    "            vehped = float(row[1])\n",
    "            if vehped == 2:\n",
    "                continue # only track vehicles\n",
    "            clusterid = float(row[0])\n",
    "            if clusterid != obnum:\n",
    "                numo1 = float(obnum)\n",
    "                totalmap[numo1] = currentmap\n",
    "                if matchfreq[numo1] > f:\n",
    "                    f= matchfreq[numo1]\n",
    "                    ky = numo1\n",
    "                    hxvalues = xvalues\n",
    "                    hyvalues = yvalues\n",
    "                obnum = clusterid\n",
    "                currentmap = {}\n",
    "\n",
    "                xvalues = []\n",
    "                yvalues = []\n",
    "                # append first vals\n",
    "                xvalues.append(float(row[2]))\n",
    "                yvalues.append(float(row[3]))\n",
    "                continue\n",
    "            xpoint = float(row[2])\n",
    "            ypoint = float(row[3])\n",
    "            xr = round(xpoint)\n",
    "            yr = round(ypoint)\n",
    "            xvalues.append(xpoint)\n",
    "            yvalues.append(ypoint)\n",
    "            # dec dictionary, highest frequency\n",
    "            fromi = dinvlookupdict[(xr,yr)]\n",
    "            h1, i1 = dhighestfreq(fromi)\n",
    "            # check if in \"outliers from\" list\n",
    "            freqo = 0\n",
    "            if [xr, yr] in listoutliers:\n",
    "            # determine highest outlier count + coordinates\n",
    "                listofoutliers = listoutliers2[fromi]\n",
    "                for outlierpt in listofoutliers:\n",
    "                    indexo = dinvlookupdict[(outlierpt[0], outlierpt[1])]\n",
    "                    ocount = doutlier[fromi, indexo]\n",
    "                    if ocount > freqo:\n",
    "                        freqo = ocount\n",
    "                        highindo = indexo\n",
    "            # compare with dhighestfreq\n",
    "            if freqo > h1:\n",
    "                i1 = highindo\n",
    "                print(\"high outlier\")\n",
    "            currentmap[i1] = 1\n",
    "            # check prev map\n",
    "            val = prevmap.get(fromi)\n",
    "            if val != None:\n",
    "                numo = float(obnum)\n",
    "                matchfreq[numo] = matchfreq[numo]+1 \n",
    "        # check f vals at end of file\n",
    "        numo2 = float(obnum)\n",
    "        if matchfreq[numo2] > f:\n",
    "            ky = numo2\n",
    "            hxvalues = xvalues\n",
    "            hyvalues = yvalues\n",
    "            totalmap[ky] = currentmap\n",
    "\n",
    "        # finalarray.append(ky)\n",
    "        arrhxvalues.extend(hxvalues)\n",
    "        arrhyvalues.extend(hyvalues)\n",
    "        \n",
    "        if len(hxvalues) != 0:\n",
    "        # calc average \n",
    "            mean_x = np.mean(hxvalues)\n",
    "            mean_y = np.mean(hyvalues)\n",
    "            # try median \n",
    "            xv.append(mean_x)\n",
    "            yv.append(mean_y)\n",
    "            \n",
    "            xmedian.append(np.median(hxvalues))\n",
    "            ymedian.append(np.median(hyvalues))\n",
    "            \n",
    "            # np. argmax  in x \n",
    "            amx = np.argmax(hxvalues)        \n",
    "            xlargest_x.append(np.max(hxvalues))\n",
    "            xlargest_y.append(hyvalues[amx])\n",
    "            \n",
    "            x_largest.append(np.max(hxvalues))\n",
    "            y_largest.append(hyvalues[amx])\n",
    "            \n",
    "            # in y            \n",
    "            amy =np.argmax(hyvalues)\n",
    "            \n",
    "            ylargest_x.append(hxvalues[amy])\n",
    "            ylargest_y.append(hyvalues[amy])\n",
    "            \n",
    "            y_largest.append(np.max(hyvalues))\n",
    "            x_largest.append(hxvalues[amy])\n",
    "\n",
    "            # smallest\n",
    "            amin_x =  np.argmin(hxvalues)\n",
    "            \n",
    "            xsmallest_x.append(hxvalues[amin_x])\n",
    "            xsmallest_y.append(hyvalues[amin_x])\n",
    "            \n",
    "            x_smallest.append(np.min(hxvalues))\n",
    "            y_smallest.append(hyvalues[amin_x])\n",
    "            \n",
    "            amin_y = np.argmin(hyvalues)\n",
    "            \n",
    "            ysmallest_x.append(hxvalues[amin_y])\n",
    "            ysmallest_y.append(hyvalues[amin_y])\n",
    "            \n",
    "            y_smallest.append(np.min(hyvalues))\n",
    "            x_smallest.append(hxvalues[amin_y])\n",
    "            \n",
    "            \n",
    "\n",
    "        # set prevmap\n",
    "        if len(hxvalues) != 0:\n",
    "            prevmap = totalmap[ky]\n",
    "            tlength = tlength+1 \n",
    "            print(\"tlength\",tlength)\n",
    "            print(\"frame num\", i)\n",
    "\n",
    "# at end of this j \n",
    "plt.scatter(arrhxvalues, arrhyvalues)\n",
    "plt.scatter(xv, yv)\n",
    "plt.scatter(xmedian, ymedian)\n",
    "\n",
    "plt.scatter(xlargest_x, xlargest_y)\n",
    "plt.scatter(xsmallest_x, xsmallest_y)\n",
    "\n",
    "plt.show()\n",
    "\n",
    "trajectory_lengths.append(tlength)"
   ]
  },
  {
   "cell_type": "markdown",
   "metadata": {},
   "source": [
    "After testing,\n",
    "Note: how to count if the clusters follow the same trajectory ?"
   ]
  },
  {
   "cell_type": "code",
   "execution_count": 86,
   "metadata": {},
   "outputs": [
    {
     "data": {
      "text/plain": [
       "[0.021684879889048877,\n",
       " 0.076151156265576683,\n",
       " 0.013961762363116954,\n",
       " 0.0065239452047027198,\n",
       " 0.018658465988971713,\n",
       " 0.00098054744306483245,\n",
       " 0.024899128106995266,\n",
       " 0.036557757587727627,\n",
       " 0.055932813136325005,\n",
       " 0.5932104034038056,\n",
       " 0.0030959145021742327,\n",
       " 0.0059090497701142731,\n",
       " 0.25779508226758802,\n",
       " 0.096107933858943367,\n",
       " 0.032986603139749715,\n",
       " 0.010732473667155195,\n",
       " 0.0029310587554217549,\n",
       " 0.18904179577861724,\n",
       " 0.098532783989797701,\n",
       " 0.0034549153124649708,\n",
       " 0.16913198850406974,\n",
       " 0.042999621691602388,\n",
       " 0.0042275997138289893,\n",
       " 0.0001613500189089996,\n",
       " 0.048683189380953201,\n",
       " 0.013471558365975626,\n",
       " 0.013691783117217292,\n",
       " 0.0016024349082737529]"
      ]
     },
     "execution_count": 86,
     "metadata": {},
     "output_type": "execute_result"
    }
   ],
   "source": [
    "mse_accurate"
   ]
  },
  {
   "cell_type": "code",
   "execution_count": 63,
   "metadata": {
    "collapsed": true
   },
   "outputs": [],
   "source": [
    "# start saving the values of errors to a dictionary \n",
    "# frames as key \n",
    "# errors as values\n",
    "\n",
    "# accurate dictionary \n",
    "r2_accurate = []\n",
    "mse_accurate = []\n",
    "# not accurate dictionary \n",
    "\n",
    "r2_inaccurate = []\n",
    "mse_inaccurate = []"
   ]
  },
  {
   "cell_type": "code",
   "execution_count": 9,
   "metadata": {},
   "outputs": [
    {
     "data": {
      "image/png": "[encoded data removed]",
      "text/plain": [
       "<matplotlib.figure.Figure at 0x199034450>"
      ]
     },
     "metadata": {},
     "output_type": "display_data"
    }
   ],
   "source": [
    "plt.scatter(xlargest_x, xlargest_y)\n",
    "plt.scatter(xsmallest_x, xsmallest_y)\n",
    "\n",
    "plt.scatter(ylargest_x, ylargest_y)\n",
    "plt.scatter(ysmallest_x, ysmallest_y)\n",
    "\n",
    "plt.show()"
   ]
  },
  {
   "cell_type": "code",
   "execution_count": 46,
   "metadata": {},
   "outputs": [
    {
     "data": {
      "text/plain": [
       "(29,)"
      ]
     },
     "execution_count": 46,
     "metadata": {},
     "output_type": "execute_result"
    }
   ],
   "source": [
    "array(xlargest_x).shape"
   ]
  },
  {
   "cell_type": "code",
   "execution_count": null,
   "metadata": {
    "collapsed": true
   },
   "outputs": [],
   "source": [
    "# accuracy from supervised labeling. "
   ]
  },
  {
   "cell_type": "code",
   "execution_count": 17,
   "metadata": {
    "collapsed": true
   },
   "outputs": [],
   "source": [
    "from numpy import *\n",
    "from sklearn.datasets import make_regression\n",
    "from matplotlib import pyplot as plt\n",
    "import numpy as np\n",
    "from sklearn.linear_model import LinearRegression\n",
    "\n",
    "from sklearn.metrics import mean_squared_error, r2_score"
   ]
  },
  {
   "cell_type": "code",
   "execution_count": 1,
   "metadata": {},
   "outputs": [
    {
     "ename": "NameError",
     "evalue": "name 'r2_accurate' is not defined",
     "output_type": "error",
     "traceback": [
      "\u001b[0;31m---------------------------------------------------------------------------\u001b[0m",
      "\u001b[0;31mNameError\u001b[0m                                 Traceback (most recent call last)",
      "\u001b[0;32m<ipython-input-1-bc819cbb4375>\u001b[0m in \u001b[0;36m<module>\u001b[0;34m()\u001b[0m\n\u001b[0;32m----> 1\u001b[0;31m \u001b[0mr2_accurate\u001b[0m\u001b[0;34m\u001b[0m\u001b[0m\n\u001b[0m",
      "\u001b[0;31mNameError\u001b[0m: name 'r2_accurate' is not defined"
     ]
    }
   ],
   "source": [
    "r2_accurate"
   ]
  },
  {
   "cell_type": "code",
   "execution_count": 62,
   "metadata": {
    "collapsed": true
   },
   "outputs": [],
   "source": [
    "# indicate accuracy \n",
    "a_ind = 1 # 1 is accurate\n",
    "\n",
    "# starting frame\n",
    "s_frame = 1300 "
   ]
  },
  {
   "cell_type": "code",
   "execution_count": 95,
   "metadata": {},
   "outputs": [
    {
     "name": "stdout",
     "output_type": "stream",
     "text": [
      "('xlargest MSE:', 0.26824632556211075)\n",
      "('xlargest r2:', 0.98396463005614132)\n"
     ]
    }
   ],
   "source": [
    "\n",
    "axsmallest_x = array(xsmallest_x)\n",
    "axsmallest_y = array(xsmallest_y)\n",
    "a_xsmallestx = axsmallest_x.reshape(axsmallest_x.shape[0], 1)\n",
    "\n",
    "lr2 = LinearRegression()\n",
    "lr2.fit(a_xsmallestx, axsmallest_y)\n",
    "\n",
    "pred2 = lr2.predict(a_xsmallestx)\n",
    "\n",
    "if a_ind == 1:\n",
    "    mse_accurate.append(mean_squared_error(axsmallest_y, pred2))\n",
    "    r2_accurate.append(r2_score(axsmallest_y, pred2))\n",
    "else:\n",
    "    mse_inaccurate.append(mean_squared_error(axsmallest_y, pred2))\n",
    "    r2_inaccurate.append(r2_score(axsmallest_y, pred2))\n",
    "\n",
    "\n",
    "xlargest_x = array(xlargest_x)\n",
    "xlargest_y = array(xlargest_y)\n",
    "\n",
    "a_xlargestx =xlargest_x.reshape(xlargest_x.shape[0],1)\n",
    "\n",
    "lr = LinearRegression()\n",
    "lr.fit(a_xlargestx, xlargest_y)\n",
    "\n",
    "#print(lr.score(a_xlargestx, xlargest_y))\n",
    "ay_pred = lr.predict(a_xlargestx)\n",
    "\n",
    "print(\"xlargest MSE:\",mean_squared_error(xlargest_y, ay_pred))\n",
    "\n",
    "print(\"xlargest r2:\",r2_score(xlargest_y, ay_pred))\n",
    "\n",
    "if a_ind == 1:\n",
    "    mse_accurate.append(mean_squared_error(xlargest_y, ay_pred))\n",
    "    r2_accurate.append(r2_score(xlargest_y, ay_pred))\n",
    "else:\n",
    "    mse_inaccurate.append(mean_squared_error(xlargest_y, ay_pred))\n",
    "    r2_inaccurate.append(r2_score(xlargest_y, ay_pred))\n",
    "    \n",
    "aylargest_x = array(ylargest_x)\n",
    "aylargest_y = array(ylargest_y)\n",
    "\n",
    "a_ylargestx = aylargest_x.reshape(aylargest_x.shape[0], 1)\n",
    "\n",
    "lr3 = LinearRegression()\n",
    "lr3.fit(a_ylargestx, aylargest_y)\n",
    "\n",
    "pred3 = lr3.predict(a_ylargestx)\n",
    "\n",
    "if a_ind == 1:\n",
    "    mse_accurate.append(mean_squared_error(aylargest_y, pred3))\n",
    "    r2_accurate.append(r2_score(aylargest_y, pred3))\n",
    "else:\n",
    "    mse_inaccurate.append(mean_squared_error(aylargest_y, pred3))\n",
    "    r2_inaccurate.append(r2_score(aylargest_y, pred3))\n",
    "\n",
    "aysmallest_x = array(ysmallest_x)\n",
    "aysmallest_y = array(ysmallest_y)\n",
    "\n",
    "a_ysmallestx = aysmallest_x.reshape(aysmallest_x.shape[0], 1)\n",
    "lr4 = LinearRegression()\n",
    "\n",
    "lr4.fit(a_ysmallestx, aysmallest_y)\n",
    "\n",
    "pred4 = lr4.predict(a_ysmallestx)\n",
    "\n",
    "if a_ind == 1:\n",
    "    mse_accurate.append(mean_squared_error(aysmallest_y, pred4))\n",
    "    r2_accurate.append(r2_score(aysmallest_y, pred4))\n",
    "else:\n",
    "    mse_inaccurate.append(mean_squared_error(aysmallest_y, pred4))\n",
    "    r2_inaccurate.append(r2_score(aysmallest_y, pred4))\n",
    "    \n"
   ]
  },
  {
   "cell_type": "code",
   "execution_count": null,
   "metadata": {
    "collapsed": true
   },
   "outputs": [],
   "source": [
    "# plot  where the MSE / r2 close to threshold"
   ]
  },
  {
   "cell_type": "code",
   "execution_count": 79,
   "metadata": {
    "scrolled": true
   },
   "outputs": [
    {
     "name": "stdout",
     "output_type": "stream",
     "text": [
      "('xlargest MSE:', 0.042999621691602388)\n",
      "('xlargest r2:', 0.0096018405075938285)\n",
      "('xsmallest MSE:', 0.16913198850406974)\n",
      "('xsmallest r2:', 0.66062639858031713)\n",
      "('ylargest MSE:', 0.0042275997138289893)\n",
      "('ylargest r2:', 0.94628123427844868)\n",
      "('ysmallest MSE:', 0.0001613500189089996)\n",
      "('ysmallest r2:', 0.99640122351897742)\n"
     ]
    },
    {
     "data": {
      "image/png": "[encoded data removed]",
      "text/plain": [
       "<matplotlib.figure.Figure at 0x114b75dd0>"
      ]
     },
     "metadata": {},
     "output_type": "display_data"
    }
   ],
   "source": [
    "# step 6\n",
    "\n",
    "# regression on xlargest, xsmallest, ylargest, ysmallest\n",
    "\n",
    "# check if the vehicle stays in place\n",
    " \n",
    "xlargest_x = array(xlargest_x)\n",
    "xlargest_y = array(xlargest_y)\n",
    "\n",
    "a_xlargestx =xlargest_x.reshape(xlargest_x.shape[0],1)\n",
    "\n",
    "lr = LinearRegression()\n",
    "lr.fit(a_xlargestx, xlargest_y)\n",
    "\n",
    "#print(lr.score(a_xlargestx, xlargest_y))\n",
    "\n",
    "\n",
    "ay_pred = lr.predict(a_xlargestx)\n",
    "\n",
    "print(\"xlargest MSE:\",mean_squared_error(xlargest_y, ay_pred))\n",
    "\n",
    "print(\"xlargest r2:\",r2_score(xlargest_y, ay_pred))\n",
    "\n",
    "\n",
    "plt.scatter(xlargest_x, xlargest_y)\n",
    "plt.plot(xlargest_x, ay_pred, color='blue', linewidth=3)\n",
    "\n",
    "# xsmallest \n",
    "axsmallest_x = array(xsmallest_x)\n",
    "axsmallest_y = array(xsmallest_y)\n",
    "a_xsmallestx = axsmallest_x.reshape(axsmallest_x.shape[0], 1)\n",
    "\n",
    "lr2 = LinearRegression()\n",
    "lr2.fit(a_xsmallestx, axsmallest_y)\n",
    "\n",
    "pred2 = lr2.predict(a_xsmallestx)\n",
    "\n",
    "print(\"xsmallest MSE:\",mean_squared_error(axsmallest_y, pred2))\n",
    "\n",
    "print(\"xsmallest r2:\",r2_score(axsmallest_y, pred2))\n",
    "\n",
    "\n",
    "plt.scatter(xsmallest_x, xsmallest_y)\n",
    "plt.plot(xsmallest_x, pred2, color='red', linewidth=3)\n",
    "\n",
    "# ylargest\n",
    "\n",
    "aylargest_x = array(ylargest_x)\n",
    "aylargest_y = array(ylargest_y)\n",
    "\n",
    "a_ylargestx = aylargest_x.reshape(aylargest_x.shape[0], 1)\n",
    "\n",
    "lr3 = LinearRegression()\n",
    "lr3.fit(a_ylargestx, aylargest_y)\n",
    "\n",
    "pred3 = lr3.predict(a_ylargestx)\n",
    "\n",
    "print(\"ylargest MSE:\",mean_squared_error(aylargest_y, pred3))\n",
    "\n",
    "print(\"ylargest r2:\",r2_score(aylargest_y, pred3))\n",
    "\n",
    "plt.scatter(ylargest_x, ylargest_y)\n",
    "plt.plot(ylargest_x, pred3, color='green', linewidth=3)\n",
    "\n",
    "\n",
    "# ysmallest \n",
    "aysmallest_x = array(ysmallest_x)\n",
    "aysmallest_y = array(ysmallest_y)\n",
    "\n",
    "a_ysmallestx = aysmallest_x.reshape(aysmallest_x.shape[0], 1)\n",
    "lr4 = LinearRegression()\n",
    "\n",
    "lr4.fit(a_ysmallestx, aysmallest_y)\n",
    "\n",
    "pred4 = lr4.predict(a_ysmallestx)\n",
    "\n",
    "print(\"ysmallest MSE:\",mean_squared_error(aysmallest_y, pred4))\n",
    "\n",
    "print(\"ysmallest r2:\",r2_score(aysmallest_y, pred4))\n",
    "\n",
    "plt.scatter(ysmallest_x, ysmallest_y)\n",
    "plt.plot(ysmallest_x, pred4, color='purple', linewidth=3)\n",
    "\n",
    "plt.show()"
   ]
  },
  {
   "cell_type": "code",
   "execution_count": null,
   "metadata": {
    "collapsed": true
   },
   "outputs": [],
   "source": [
    "2"
   ]
  },
  {
   "cell_type": "code",
   "execution_count": 139,
   "metadata": {},
   "outputs": [
    {
     "name": "stdout",
     "output_type": "stream",
     "text": [
      "0.924838075711\n",
      "0.00288227189167\n",
      "0.924838075711\n"
     ]
    },
    {
     "data": {
      "image/png": "[encoded data removed]",
      "text/plain": [
       "<matplotlib.figure.Figure at 0x113c4f210>"
      ]
     },
     "metadata": {},
     "output_type": "display_data"
    }
   ],
   "source": [
    "# regression on xlargest, xsmallest, ylargest, ysmallest\n",
    "\n",
    "\n",
    "xlargest_x = array(xlargest_x)\n",
    "xlargest_y = array(xlargest_y)\n",
    "\n",
    "a_xlargestx =xlargest_x.reshape(xlargest_x.shape[0],1)\n",
    "\n",
    "lr = LinearRegression()\n",
    "lr.fit(a_xlargestx, xlargest_y)\n",
    "\n",
    "print(lr.score(a_xlargestx, xlargest_y))\n",
    "\n",
    "\n",
    "ay_pred = lr.predict(a_xlargestx)\n",
    "\n",
    "print(mean_squared_error(xlargest_y, ay_pred))\n",
    "\n",
    "print(r2_score(xlargest_y, ay_pred))\n",
    "\n",
    "\n",
    "plt.scatter(xlargest_x, xlargest_y)\n",
    "plt.plot(xlargest_x, ay_pred, color='blue', linewidth=3)\n",
    "plt.show()\n"
   ]
  },
  {
   "cell_type": "code",
   "execution_count": 125,
   "metadata": {},
   "outputs": [
    {
     "data": {
      "text/plain": [
       "0"
      ]
     },
     "execution_count": 125,
     "metadata": {},
     "output_type": "execute_result"
    }
   ],
   "source": [
    "a = [2,3,4,5,6,7]\n",
    "np.argmin(a)"
   ]
  },
  {
   "cell_type": "code",
   "execution_count": 138,
   "metadata": {
    "collapsed": true
   },
   "outputs": [],
   "source": [
    "# analyze the difference in scores \n",
    "# make a plot \n",
    "\n",
    "from sklearn.metrics import mean_squared_error, r2_score\n"
   ]
  },
  {
   "cell_type": "code",
   "execution_count": 123,
   "metadata": {},
   "outputs": [
    {
     "name": "stdout",
     "output_type": "stream",
     "text": [
      "69.217\n",
      "89.215\n"
     ]
    }
   ],
   "source": [
    "# find the limits of x \n",
    "slim_x = np.min(arrhxvalues)\n",
    "blim_x = np.max(arrhxvalues) \n",
    "print(slim_x)\n",
    "print(blim_x)\n",
    "\n",
    "# interval \n",
    "x_interval = 0.1(lim_x - slim_x)\n",
    "print(x_interval)\n",
    "\n",
    "# for 1 to 10 \n",
    "for i in range(1,10):\n",
    "    "
   ]
  },
  {
   "cell_type": "code",
   "execution_count": 127,
   "metadata": {},
   "outputs": [
    {
     "data": {
      "image/png": "[encoded data removed]",
      "text/plain": [
       "<matplotlib.figure.Figure at 0x11425fb10>"
      ]
     },
     "metadata": {},
     "output_type": "display_data"
    }
   ],
   "source": [
    "plt.scatter(x_largest, y_largest)\n",
    "plt.scatter(x_smallest, y_smallest)\n",
    "plt.show()"
   ]
  },
  {
   "cell_type": "code",
   "execution_count": 119,
   "metadata": {},
   "outputs": [
    {
     "data": {
      "text/plain": [
       "1"
      ]
     },
     "execution_count": 119,
     "metadata": {},
     "output_type": "execute_result"
    }
   ],
   "source": [
    "np.max([1,2,3])\n",
    "np.min([1,2,3])"
   ]
  },
  {
   "cell_type": "code",
   "execution_count": null,
   "metadata": {
    "collapsed": true
   },
   "outputs": [],
   "source": [
    "# draw a line through the highest y values + a line through lowest y values\n",
    "\n",
    "\n"
   ]
  },
  {
   "cell_type": "code",
   "execution_count": 86,
   "metadata": {
    "collapsed": true
   },
   "outputs": [],
   "source": [
    "ar =[]\n",
    "ar.append(np.mean([]))"
   ]
  },
  {
   "cell_type": "code",
   "execution_count": 87,
   "metadata": {},
   "outputs": [
    {
     "data": {
      "text/plain": [
       "[nan]"
      ]
     },
     "execution_count": 87,
     "metadata": {},
     "output_type": "execute_result"
    }
   ],
   "source": [
    "ar"
   ]
  },
  {
   "cell_type": "code",
   "execution_count": 80,
   "metadata": {},
   "outputs": [
    {
     "data": {
      "image/png": "[encoded data removed]",
      "text/plain": [
       "<matplotlib.figure.Figure at 0x11395e790>"
      ]
     },
     "metadata": {},
     "output_type": "display_data"
    }
   ],
   "source": [
    "plt.show()"
   ]
  },
  {
   "cell_type": "code",
   "execution_count": null,
   "metadata": {
    "collapsed": true
   },
   "outputs": [],
   "source": []
  }
 ],
 "metadata": {
  "kernelspec": {
   "display_name": "Python 3",
   "language": "python",
   "name": "python3"
  },
  "language_info": {
   "codemirror_mode": {
    "name": "ipython",
    "version": 3
   },
   "file_extension": ".py",
   "mimetype": "text/x-python",
   "name": "python",
   "nbconvert_exporter": "python",
   "pygments_lexer": "ipython3",
   "version": "3.8.5"
  }
 },
 "nbformat": 4,
 "nbformat_minor": 2
}
