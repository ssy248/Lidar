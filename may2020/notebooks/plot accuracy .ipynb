{
 "cells": [
  {
   "cell_type": "code",
   "execution_count": 2,
   "id": "subsequent-enclosure",
   "metadata": {},
   "outputs": [],
   "source": [
    "import csv"
   ]
  },
  {
   "cell_type": "code",
   "execution_count": 3,
   "id": "celtic-morocco",
   "metadata": {},
   "outputs": [],
   "source": [
    "import numpy as np\n"
   ]
  },
  {
   "cell_type": "code",
   "execution_count": 4,
   "id": "remarkable-conditioning",
   "metadata": {},
   "outputs": [],
   "source": [
    "percent_missed = []\n",
    "\n",
    "percent_cont = []\n",
    "percent_wrong=[]\n",
    "percent_correct = []\n"
   ]
  },
  {
   "cell_type": "code",
   "execution_count": 5,
   "id": "cutting-grove",
   "metadata": {},
   "outputs": [],
   "source": [
    "lidaracc1 = 'accuracy_hybrid_august_21_dist.csv' # 2,3,4,6\n",
    "\n",
    "lidaracc2 ='accur_dist_reeval_July2021.csv' # 2,3,4,6\n",
    "\n",
    "lidaracc3 = 'accur_KF_0.1velocity.csv' # 2,3,4,6\n",
    "\n",
    "lidaracc4 = 'accuracy_hybrid_july_28_ang.csv' # 2,3,4,6\n",
    "\n",
    "lidaracc5 = 'accuracy_only_0.1_freq_map.csv' # change 6 to 5 in t : 2,3,4,5\n",
    "\n",
    "lidaracc6 = 'adaptive_grid_accuracy.csv' # change to 1,2,3,4"
   ]
  },
  {
   "cell_type": "code",
   "execution_count": null,
   "id": "changed-litigation",
   "metadata": {},
   "outputs": [],
   "source": [
    "# hybrid distance, distance based, KF based, hybrid angle, hybrid only 0.1 map, adaptive grid "
   ]
  },
  {
   "cell_type": "code",
   "execution_count": 44,
   "id": "awful-sunday",
   "metadata": {},
   "outputs": [
    {
     "data": {
      "text/plain": [
       "2"
      ]
     },
     "execution_count": 44,
     "metadata": {},
     "output_type": "execute_result"
    }
   ],
   "source": [
    "irow"
   ]
  },
  {
   "cell_type": "code",
   "execution_count": 32,
   "id": "fifteen-difference",
   "metadata": {},
   "outputs": [],
   "source": [
    "lidaracc= lidaracc6\n",
    "\n",
    "irow=0\n",
    "firstrow=0\n",
    "pmissed_current =[]\n",
    "pcont_current =[]\n",
    "pwrong_current =[]\n",
    "pright_current =[]\n",
    "\n",
    "missed_total = []\n",
    "cont_total =[]\n",
    "wrong_total =[]\n",
    "right_total =[]\n",
    "tot_total =[]\n",
    "\n",
    "with open(lidaracc) as lidar_csv_file:\n",
    "    csv_reader = csv.reader(lidar_csv_file, delimiter=\",\")\n",
    "    for row in csv_reader:\n",
    "        irow = irow+1\n",
    "        if firstrow==0:\n",
    "            firstrow=1\n",
    "            continue\n",
    "        m = float(row[1]) # 2, 1\n",
    "        c = float(row[2]) # 3, 2\n",
    "        w = float(row[3]) # 4, 3\n",
    "        t = float(row[4]) # 6, 4\n",
    "        #print(\" m is \", m)\n",
    "        #print(\"c is \", c)\n",
    "        #print(\"w is \", w)\n",
    "        #print(\"t is \", t)\n",
    "        missed_total.append(m)\n",
    "        cont_total.append(c)\n",
    "        wrong_total.append(w)\n",
    "        tot_total.append(t)\n",
    "        right_total.append(t-m-c-w)\n",
    "        #ce = float(row[6])\n",
    "        \"\"\"pm = m/t\n",
    "        pc = c/t\n",
    "        pw = w/t\n",
    "        pr = (t-m -c-w)/t\n",
    "        #pce = ce/t\n",
    "        pmissed_current.append(pm)\n",
    "        pcont_current.append(pc)\n",
    "        pwrong_current.append(pw)\n",
    "        pright_current.append(pr)\n",
    "        \n",
    "        if irow==10:\n",
    "            break\"\"\"\n",
    "        "
   ]
  },
  {
   "cell_type": "code",
   "execution_count": 33,
   "id": "comic-grove",
   "metadata": {},
   "outputs": [],
   "source": [
    "curr_total = np.sum(tot_total)"
   ]
  },
  {
   "cell_type": "code",
   "execution_count": 34,
   "id": "hollywood-dating",
   "metadata": {},
   "outputs": [
    {
     "data": {
      "text/plain": [
       "3801.0"
      ]
     },
     "execution_count": 34,
     "metadata": {},
     "output_type": "execute_result"
    }
   ],
   "source": [
    "curr_total"
   ]
  },
  {
   "cell_type": "code",
   "execution_count": 20,
   "id": "political-hardwood",
   "metadata": {},
   "outputs": [],
   "source": [
    "#totals = []"
   ]
  },
  {
   "cell_type": "code",
   "execution_count": 37,
   "id": "literary-review",
   "metadata": {},
   "outputs": [
    {
     "data": {
      "text/plain": [
       "[3187.0, 3249.0, 2994.0, 3071.0, 2830.0, 3801.0]"
      ]
     },
     "execution_count": 37,
     "metadata": {},
     "output_type": "execute_result"
    }
   ],
   "source": [
    "totals"
   ]
  },
  {
   "cell_type": "code",
   "execution_count": 42,
   "id": "preliminary-reach",
   "metadata": {},
   "outputs": [
    {
     "data": {
      "text/plain": [
       "0.8384635622204683"
      ]
     },
     "execution_count": 42,
     "metadata": {},
     "output_type": "execute_result"
    }
   ],
   "source": [
    "3187/3801"
   ]
  },
  {
   "cell_type": "code",
   "execution_count": null,
   "id": "touched-pregnancy",
   "metadata": {},
   "outputs": [],
   "source": []
  },
  {
   "cell_type": "code",
   "execution_count": 36,
   "id": "technological-immunology",
   "metadata": {},
   "outputs": [],
   "source": [
    "totals.append(curr_total)"
   ]
  },
  {
   "cell_type": "code",
   "execution_count": 54,
   "id": "molecular-overhead",
   "metadata": {},
   "outputs": [],
   "source": [
    "pm = np.sum(missed_total)/curr_total\n",
    "pw = np.sum(wrong_total)/curr_total\n",
    "pc = np.sum(cont_total)/curr_total\n",
    "\n",
    "pr = 1 - pm - pw - pc\n",
    "\n",
    "# add to \n",
    "\n",
    "percent_missed.append(pm)\n",
    "percent_cont.append(pc)\n",
    "percent_wrong.append(pw)\n",
    "percent_correct.append(pr)\n"
   ]
  },
  {
   "cell_type": "code",
   "execution_count": 55,
   "id": "accurate-internship",
   "metadata": {},
   "outputs": [
    {
     "data": {
      "text/plain": [
       "[0.013806087229369313,\n",
       " 0.06371191135734072,\n",
       " 0.06613226452905811,\n",
       " 0.006186909801367633,\n",
       " 0.00035335689045936394,\n",
       " 0.007103393843725336]"
      ]
     },
     "execution_count": 55,
     "metadata": {},
     "output_type": "execute_result"
    }
   ],
   "source": [
    "percent_cont"
   ]
  },
  {
   "cell_type": "code",
   "execution_count": 78,
   "id": "satisfactory-asian",
   "metadata": {},
   "outputs": [
    {
     "data": {
      "text/plain": [
       "[0.9463445246313147,\n",
       " 0.8944290550938749,\n",
       " 0.8774215096860387,\n",
       " 0.9498534679257571,\n",
       " 0.9402826855123675,\n",
       " 0.9828992370428834]"
      ]
     },
     "execution_count": 78,
     "metadata": {},
     "output_type": "execute_result"
    }
   ],
   "source": [
    "percent_correct"
   ]
  },
  {
   "cell_type": "code",
   "execution_count": 87,
   "id": "fluid-mineral",
   "metadata": {},
   "outputs": [
    {
     "data": {
      "text/plain": [
       "[0.05365547536868531,\n",
       " 0.10557094490612506,\n",
       " 0.12257849031396129,\n",
       " 0.05014653207424291,\n",
       " 0.05971731448763251,\n",
       " 0.0171007629571166]"
      ]
     },
     "execution_count": 87,
     "metadata": {},
     "output_type": "execute_result"
    }
   ],
   "source": [
    "percent_wrong"
   ]
  },
  {
   "cell_type": "code",
   "execution_count": 79,
   "id": "ready-capture",
   "metadata": {},
   "outputs": [],
   "source": [
    "percent_wrong=[]"
   ]
  },
  {
   "cell_type": "code",
   "execution_count": 80,
   "id": "global-department",
   "metadata": {},
   "outputs": [],
   "source": [
    "for val in percent_correct:\n",
    "    w_val = 1 -val\n",
    "    percent_wrong.append(w_val)"
   ]
  },
  {
   "cell_type": "code",
   "execution_count": null,
   "id": "qualified-ceramic",
   "metadata": {},
   "outputs": [],
   "source": [
    "# nov 26 total # comparisons <-> traj len\n",
    "\n"
   ]
  },
  {
   "cell_type": "code",
   "execution_count": 61,
   "id": "confirmed-bankruptcy",
   "metadata": {},
   "outputs": [],
   "source": [
    "# simple bar plot \n",
    "\n",
    "bar0 = [100*percent_missed[0], 100*percent_cont[0], 100*percent_wrong[0]]\n",
    "\n",
    "bar1 = [100*percent_missed[1], 100*percent_cont[1], 100*percent_wrong[1] ]\n",
    "\n",
    "bar2 = [100*percent_missed[2], 100*percent_cont[2], 100*percent_wrong[2] ]\n",
    "\n",
    "bar3 = [100*percent_missed[3], 100*percent_cont[3], 100*percent_wrong[3] ]\n",
    "\n",
    "bar4 = [100*percent_missed[4], 100*percent_cont[4], 100*percent_wrong[4] ]\n",
    "\n",
    "bar5 = [100*percent_missed[5], 100*percent_cont[5], 100*percent_wrong[5] ]\n",
    "\n"
   ]
  },
  {
   "cell_type": "code",
   "execution_count": 58,
   "id": "italic-delhi",
   "metadata": {},
   "outputs": [],
   "source": [
    "import matplotlib.pyplot as plt"
   ]
  },
  {
   "cell_type": "code",
   "execution_count": 66,
   "id": "above-credits",
   "metadata": {},
   "outputs": [
    {
     "data": {
      "text/plain": [
       "([<matplotlib.axis.XTick at 0x141fcaa45e0>,\n",
       "  <matplotlib.axis.XTick at 0x141fcaa45b0>,\n",
       "  <matplotlib.axis.XTick at 0x141fcaa10a0>,\n",
       "  <matplotlib.axis.XTick at 0x141fcadef10>],\n",
       " [Text(0, 0, 'a'), Text(1, 0, 'b'), Text(2, 0, 'c'), Text(3, 0, 'd')])"
      ]
     },
     "execution_count": 66,
     "metadata": {},
     "output_type": "execute_result"
    },
    {
     "data": {
      "image/png": "[encoded data removed]",
      "text/plain": [
       "<Figure size 432x288 with 1 Axes>"
      ]
     },
     "metadata": {
      "needs_background": "light"
     },
     "output_type": "display_data"
    }
   ],
   "source": [
    "import numpy as np\n",
    "import matplotlib.pyplot as plt\n",
    "data = [[1, 2, 2, 3],\n",
    "[20, 23, 21, 17],\n",
    "[35, 40, 45, 39]]\n",
    "X = np.arange(4)\n",
    "fig = plt.figure()\n",
    "ax = fig.add_axes([0,0,1,1])\n",
    "ax.bar(X + 0.00, data[0], color = 'b', width = 0.25)\n",
    "ax.bar(X + 0.25, data[1], color = 'g', width = 0.25)\n",
    "ax.bar(X + 0.50, data[2], color = 'r', width = 0.25)\n",
    "\n",
    "plt.xticks( X, ['a', 'b', 'c', 'd'])"
   ]
  },
  {
   "cell_type": "code",
   "execution_count": 70,
   "id": "loved-innocent",
   "metadata": {},
   "outputs": [],
   "source": [
    "from matplotlib.pyplot import figure"
   ]
  },
  {
   "cell_type": "code",
   "execution_count": 74,
   "id": "analyzed-beatles",
   "metadata": {},
   "outputs": [
    {
     "data": {
      "text/plain": [
       "3"
      ]
     },
     "execution_count": 74,
     "metadata": {},
     "output_type": "execute_result"
    }
   ],
   "source": [
    "len(bar1)"
   ]
  },
  {
   "cell_type": "code",
   "execution_count": 82,
   "id": "sharing-valuation",
   "metadata": {},
   "outputs": [
    {
     "data": {
      "text/plain": [
       "[0.06155740227762388, 6.3711911357340725, 4.124345952600801]"
      ]
     },
     "execution_count": 82,
     "metadata": {},
     "output_type": "execute_result"
    }
   ],
   "source": [
    "bar1"
   ]
  },
  {
   "cell_type": "code",
   "execution_count": 88,
   "id": "involved-group",
   "metadata": {},
   "outputs": [
    {
     "data": {
      "image/png": "[encoded data removed]",
      "text/plain": [
       "<Figure size 720x360 with 1 Axes>"
      ]
     },
     "metadata": {
      "needs_background": "light"
     },
     "output_type": "display_data"
    }
   ],
   "source": [
    "import numpy as np\n",
    "import matplotlib.pyplot as plt\n",
    " \n",
    "\n",
    "data = {'C':20, 'C++':15, 'Java':30,\n",
    "        'Python':35}\n",
    "\n",
    "#methods = ['distance based', 'KF-based', '0.1 map with angle check', '0.1 map', 'adaptive map', '0.1 map with distance cap']\n",
    "methods = ['0.1 map with distance cap', 'distance based', 'KF-based', '0.1 map with angle check', '0.1 map', 'adaptive map']\n",
    "\n",
    "courses = list(methods)\n",
    "\n",
    "values = list(percent_wrong)\n",
    "  \n",
    "fig = plt.figure(figsize = (10, 5))\n",
    " \n",
    "# creating the bar plot\n",
    "plt.bar(courses, values, width = 0.4)\n",
    " \n",
    "plt.xlabel(\" Methods\")\n",
    "plt.ylabel(\" Percent wrong\")\n",
    "plt.title(\"Tracking Percent Incorrect\")\n",
    "plt.show()"
   ]
  },
  {
   "cell_type": "code",
   "execution_count": 86,
   "id": "dimensional-journalism",
   "metadata": {},
   "outputs": [
    {
     "data": {
      "image/png": "[encoded data removed]",
      "text/plain": [
       "<Figure size 720x432 with 1 Axes>"
      ]
     },
     "metadata": {
      "needs_background": "light"
     },
     "output_type": "display_data"
    }
   ],
   "source": [
    "# Create blue bars\n",
    "\n",
    "barWidth = 0.16667\n",
    "\n",
    "r1 = np.arange(len(bar1))\n",
    "r2 = [x + barWidth for x in r1]\n",
    "r3 = [x+ 2*barWidth for x in r1]\n",
    "\n",
    "r4 = [x+ 3*barWidth for x in r1]\n",
    "r5 = [x+ 4*barWidth for x in r1]\n",
    "r6 = [x+ 5*barWidth for x in r1]\n",
    "\n",
    "\n",
    "#plt.figure(figsize)\n",
    "\n",
    "plt.figure(figsize = (10, 6))\n",
    "\n",
    "plt.bar(r1, bar1, width = barWidth, color = 'blue', edgecolor = 'black', capsize=7, label='distance based')\n",
    " \n",
    "# Create cyan bars\n",
    "plt.bar(r2, bar2, width = barWidth, color = 'cyan', edgecolor = 'black', capsize=7, label='KF-based')\n",
    " \n",
    "plt.bar(r3, bar3, width= barWidth, color = 'orange', edgecolor='black', capsize=7, label='0.1 map with angle check')\n",
    "\n",
    "plt.bar(r4, bar4, width=barWidth, color='r', edgecolor='black', label='0.1 map')\n",
    "\n",
    "plt.bar(r5, bar5, width=barWidth, color='g', edgecolor='black', label='adaptive map')\n",
    "\n",
    "plt.bar(r6, bar0, width=barWidth, color='y', edgecolor='black', label='0.1 map with distance cap')\n",
    "\n",
    "\n",
    "\n",
    "# general layout\n",
    "#plt.xticks([r + barWidth for r in range(len(bar1))], ['wrong', 'continued', 'missed', 'clustering error'])\n",
    "\n",
    "plt.xticks( r1, ['missed', 'continued', 'wrong'])\n",
    "plt.ylabel('percent')\n",
    "plt.legend(loc='center left', bbox_to_anchor=(1, 0.5) )\n",
    "\n",
    "# Put a legend to the right of the current axis\n",
    "\n",
    "#ax.legend(loc='center left', bbox_to_anchor=(1, 0.5))\n",
    "\n",
    "plt.show()"
   ]
  },
  {
   "cell_type": "code",
   "execution_count": 77,
   "id": "expressed-disabled",
   "metadata": {},
   "outputs": [
    {
     "data": {
      "image/png": "[encoded data removed]",
      "text/plain": [
       "<Figure size 720x432 with 1 Axes>"
      ]
     },
     "metadata": {
      "needs_background": "light"
     },
     "output_type": "display_data"
    }
   ],
   "source": [
    "# Create blue bars\n",
    "\n",
    "barWidth = .15 # multiply by 6\n",
    "\n",
    "r1 = np.arange(3)\n",
    "\n",
    "r2 = [x + barWidth for x in r1]\n",
    "r3 = [x+ 2*barWidth for x in r1]\n",
    "\n",
    "r4 = [x+ 3*barWidth for x in r1]\n",
    "r5 = [x+ 4*barWidth for x in r1]\n",
    "r6 = [x+ 5*barWidth for x in r1]\n",
    "\n",
    "\n",
    "#plt.figure(figsize)\n",
    "\n",
    "plt.figure(figsize = (10, 6))\n",
    "\n",
    "plt.bar(r1, bar1, width = barWidth, color = 'blue', edgecolor = 'black', capsize=7, label='distance based')\n",
    " \n",
    "# Create cyan bars\n",
    "plt.bar(r2, bar2, width = barWidth, color = 'cyan', edgecolor = 'black', capsize=7, label='KF-based')\n",
    " \n",
    "plt.bar(r3, bar3, width= barWidth, color = 'orange', edgecolor='black', capsize=7, label='0.1 map with angle check')\n",
    "\n",
    "plt.bar(r4, bar4, width=barWidth, color='r', label='0.1 map')\n",
    "\n",
    "plt.bar(r5, bar5, width=barWidth, color='g', label='adaptive map')\n",
    "\n",
    "plt.bar(r6, bar0, width=barWidth, color='y', label='0.1 map with distance cap')\n",
    "\n",
    "\n",
    "\n",
    "# general layout\n",
    "#plt.xticks([r + barWidth for r in range(len(bar1))], ['wrong', 'continued', 'missed', 'clustering error'])\n",
    "\n",
    "plt.xticks( r1, ['missed', 'continued', 'wrong'])\n",
    "plt.ylabel('percent')\n",
    "plt.legend()\n",
    "\n",
    "plt.show()"
   ]
  },
  {
   "cell_type": "code",
   "execution_count": null,
   "id": "structured-british",
   "metadata": {},
   "outputs": [],
   "source": [
    "#create another column or another bar plot for total errors\n",
    "\n",
    "# 3  bars for each error type \n"
   ]
  },
  {
   "cell_type": "code",
   "execution_count": null,
   "id": "common-final",
   "metadata": {},
   "outputs": [],
   "source": [
    "# https://python-graph-gallery.com/8-add-confidence-interval-on-barplot/\n",
    "\n",
    "import numpy as np\n",
    "import matplotlib.pyplot as plt\n",
    " \n",
    "# width of the bars\n",
    "barWidth = 0.3\n",
    "barWidth2 =0.6\n",
    " \n",
    "# Choose the height of the blue bars\n",
    "bars1 = [100*pwrongmean, 100*pcontmean, 100*pmissedmean, 100*pcerrormean]\n",
    " \n",
    "# Choose the height of the cyan bars\n",
    "bars2 = [100*pwrongmean_dist, 100*pcontmean_dist, 100*pmissedmean_dist, 100*pcerrormean_dist]\n",
    "\n",
    "bars3 = [100*pwrongmean_kf, 100*pcontmean_kf, 100*pmissedmean_kf, 100*pcerrormean_kf]\n",
    "\n",
    "# Choose the height of the error bars (bars1)\n",
    "yer1 = [50*statistics.stdev(pwrong), 50*statistics.stdev(pcont), 50*statistics.stdev(pmissed), 50*statistics.stdev(pcerror)]  \n",
    " \n",
    "# Choose the height of the error bars (bars2)\n",
    "yer2 = [50*statistics.stdev(pwrong_dist), 50*statistics.stdev(pcont_dist), 50*statistics.stdev(pmissed_dist), 50*statistics.stdev(pcerror_dist)]  \n",
    "\n",
    "yer3 = [50*statistics.stdev(pwrong_kf), 50*statistics.stdev(pcont_kf), 50*statistics.stdev(pmissed_kf), 50*statistics.stdev(pcerror_kf)]  \n",
    "\n",
    "\n",
    "r1 = np.arange(len(bars1))\n",
    "r2 = [x + barWidth for x in r1]\n",
    "r3 = [x+ barWidth2 for x in r1]\n",
    "\n",
    "# Create blue bars\n",
    "plt.bar(r1, bars1, width = barWidth, color = 'blue', edgecolor = 'black', yerr=yer1, capsize=7, label='frequency grid based')\n",
    " \n",
    "# Create cyan bars\n",
    "plt.bar(r2, bars2, width = barWidth, color = 'cyan', edgecolor = 'black', yerr=yer2, capsize=7, label='distance-based')\n",
    " \n",
    "plt.bar(r3, bars3, width= barWidth, color = 'orange', edgecolor='black', yerr=yer3, capsize=7, label='KF-based')\n",
    "\n",
    "\n",
    "# general layout\n",
    "plt.xticks([r + barWidth for r in range(len(bars1))], ['wrong', 'continued', 'missed', 'clustering error'])\n",
    "plt.ylabel('percent')\n",
    "plt.legend()\n",
    "\n",
    "plt.show()\n"
   ]
  },
  {
   "cell_type": "markdown",
   "id": "mysterious-basic",
   "metadata": {},
   "source": [
    "MOTA (Multiple Object Tracking Accuracy) \n",
    "\n",
    "MOTA = 1 - ( sum_t (FN_t + FP_t + IDS_t ) )/(sum_t GT_t )\n",
    "\n",
    "FN: false negative (missed) , FP: false positive (cont), IDS: ID mismatch (wrong) \n",
    "GT: ground truth object count"
   ]
  },
  {
   "cell_type": "code",
   "execution_count": null,
   "id": "humanitarian-hurricane",
   "metadata": {},
   "outputs": [],
   "source": [
    "# for the cont , stop \n",
    "\n",
    "# for the missed, continue checking until end of correct trajectory\n",
    "\n",
    "# for wrong, continue checking until end of correct trajectory\n"
   ]
  },
  {
   "cell_type": "code",
   "execution_count": null,
   "id": "about-venice",
   "metadata": {},
   "outputs": [],
   "source": [
    "# MOTA scores calculation\n",
    "\n",
    "# consider the rest of them as correct <=> take the total ground truth as max ground truth count\n",
    "\n"
   ]
  },
  {
   "cell_type": "code",
   "execution_count": null,
   "id": "patient-onion",
   "metadata": {},
   "outputs": [],
   "source": [
    "# measure the total lengths of trajectories found based on the total ground truth # \n",
    "\n"
   ]
  }
 ],
 "metadata": {
  "kernelspec": {
   "display_name": "Python 3",
   "language": "python",
   "name": "python3"
  },
  "language_info": {
   "codemirror_mode": {
    "name": "ipython",
    "version": 3
   },
   "file_extension": ".py",
   "mimetype": "text/x-python",
   "name": "python",
   "nbconvert_exporter": "python",
   "pygments_lexer": "ipython3",
   "version": "3.9.1"
  }
 },
 "nbformat": 4,
 "nbformat_minor": 5
}
