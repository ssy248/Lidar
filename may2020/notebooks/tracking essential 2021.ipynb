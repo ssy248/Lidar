{
 "cells": [
  {
   "cell_type": "code",
   "execution_count": 2,
   "metadata": {},
   "outputs": [],
   "source": [
    "# reset x, y min and max\n",
    "xmin = -200\n",
    "xmax = 200\n",
    "ymin = -200\n",
    "ymax = 200"
   ]
  },
  {
   "cell_type": "code",
   "execution_count": 3,
   "metadata": {},
   "outputs": [],
   "source": [
    "\n",
    "# december step 1\n",
    "\n",
    "dcmap1 = {}\n",
    "ind= 0\n",
    "\n",
    "for ix in range(int(xmin), int(xmax)):\n",
    "    for iy in range(int(ymin), int(ymax)):\n",
    "        myvec=[]\n",
    "        myvec.append(ix)\n",
    "        myvec.append(iy)\n",
    "        dcmap1[ind]=myvec\n",
    "        ind=ind+1\n"
   ]
  },
  {
   "cell_type": "code",
   "execution_count": 4,
   "metadata": {},
   "outputs": [
    {
     "name": "stdout",
     "output_type": "stream",
     "text": [
      "100000\n"
     ]
    },
    {
     "ename": "MemoryError",
     "evalue": "",
     "output_type": "error",
     "traceback": [
      "\u001b[1;31m---------------------------------------------------------------------------\u001b[0m",
      "\u001b[1;31mMemoryError\u001b[0m                               Traceback (most recent call last)",
      "\u001b[1;32m<ipython-input-4-9f6eb980a5d5>\u001b[0m in \u001b[0;36m<module>\u001b[1;34m\u001b[0m\n\u001b[0;32m     41\u001b[0m             \u001b[0mp2\u001b[0m \u001b[1;33m=\u001b[0m \u001b[0mdinvlookupdict\u001b[0m\u001b[1;33m[\u001b[0m\u001b[1;33m(\u001b[0m\u001b[0mjx\u001b[0m\u001b[1;33m,\u001b[0m \u001b[0mjy\u001b[0m\u001b[1;33m)\u001b[0m\u001b[1;33m]\u001b[0m\u001b[1;33m\u001b[0m\u001b[1;33m\u001b[0m\u001b[0m\n\u001b[0;32m     42\u001b[0m             \u001b[1;31m# save trajcount1[(i, p2)]\u001b[0m\u001b[1;33m\u001b[0m\u001b[1;33m\u001b[0m\u001b[1;33m\u001b[0m\u001b[0m\n\u001b[1;32m---> 43\u001b[1;33m             \u001b[0mdtrajcount\u001b[0m\u001b[1;33m[\u001b[0m\u001b[1;33m(\u001b[0m\u001b[0mi\u001b[0m\u001b[1;33m,\u001b[0m \u001b[0mp2\u001b[0m\u001b[1;33m)\u001b[0m\u001b[1;33m]\u001b[0m\u001b[1;33m=\u001b[0m\u001b[1;36m0\u001b[0m\u001b[1;33m\u001b[0m\u001b[1;33m\u001b[0m\u001b[0m\n\u001b[0m",
      "\u001b[1;31mMemoryError\u001b[0m: "
     ]
    }
   ],
   "source": [
    "# initialize \n",
    "\n",
    "# combine steps \n",
    "\n",
    "# december step 2 \n",
    "dlookupdict={}\n",
    "dinvlookupdict={}\n",
    "\n",
    "for i in range(160000):\n",
    "    dlookupdict[i] = dcmap1[i]\n",
    "    p1 = dcmap1[i][0]\n",
    "    p2 = dcmap1[i][1]\n",
    "    dinvlookupdict[(p1,p2)]=i\n",
    "\n",
    "# december step 3\n",
    "\n",
    "dtrajcount={}\n",
    "# xmin, xmax, ymin, ymax\n",
    "\n",
    "# change range to -10, 10\n",
    "range1 = 10 \n",
    "\n",
    "for i in range(160000):\n",
    "    p = dlookupdict[i]\n",
    "    px = p[0]\n",
    "    py = p[1]\n",
    "    if i==100000:\n",
    "        print(100000)\n",
    "    # calculate x between i.x - 5, i.x+5\n",
    "    for j in range(-range1, range1+ 1):\n",
    "        jx = px+j\n",
    "        if jx>xmax-1 or jx<xmin: # check if pts in range\n",
    "            continue\n",
    "        # calculate y between i.y-5, i.y+5 \n",
    "        for k in range(-range1, range1+1):\n",
    "            jy = py+k\n",
    "            # check if pts are in range\n",
    "            if jy>ymax-1 or jy<ymin:\n",
    "                continue\n",
    "            # inv dict lookup\n",
    "            p2 = dinvlookupdict[(jx, jy)]\n",
    "            # save trajcount1[(i, p2)]\n",
    "            dtrajcount[(i, p2)]=0\n"
   ]
  },
  {
   "cell_type": "code",
   "execution_count": 4,
   "metadata": {},
   "outputs": [
    {
     "data": {
      "text/plain": [
       "[-200, -197]"
      ]
     },
     "execution_count": 4,
     "metadata": {},
     "output_type": "execute_result"
    }
   ],
   "source": [
    "dcmap1[3]"
   ]
  },
  {
   "cell_type": "code",
   "execution_count": 25,
   "metadata": {},
   "outputs": [
    {
     "name": "stdout",
     "output_type": "stream",
     "text": [
      "56.0933\n",
      "27.3101\n"
     ]
    }
   ],
   "source": [
    "# updated version of training based on altertrajcount\n",
    "\n",
    "# train with trajectory\n",
    "\n",
    "# dec step 3.b\n",
    "#listoutliers = []\n",
    "#rangeoutliers = {}\n",
    "#doutlier = {}\n",
    "#listoutliers2 = {}\n",
    "\n",
    "# step 4 \n",
    "\n",
    "#tfile = \"dec2019/Ramp/2019-9-9-15-0-0-BF1-CL1-Traj(0-18000frames)Ramp.csv\"\n",
    "tfile =  \"2019-9-10-12-0-0-BF1-CL1-Traj(0-18000frames).csv\"\n",
    "\n",
    "import math\n",
    "import csv\n",
    "\n",
    "trajnum = 0 \n",
    "obnum = 1\n",
    "\n",
    "irow =0\n",
    "\n",
    "outlier =0\n",
    "\n",
    "with open(tfile) as csv_file:\n",
    "    csv_reader = csv.reader(csv_file, delimiter=',')\n",
    "    line_count = 0\n",
    "    for row in csv_reader:\n",
    "        irow=irow+1\n",
    "        trajnum = row[0]\n",
    "        frameindex = row[17]\n",
    "        #print(\"frame:\",frameindex)\n",
    "        if line_count==0:\n",
    "            line_count=line_count+1\n",
    "            continue\n",
    "        if line_count==1:\n",
    "            line_count=line_count+1\n",
    "            prevrow = row\n",
    "            prevx = float(prevrow[6])\n",
    "            prevy = float(prevrow[7])\n",
    "            print(prevx)\n",
    "            print(prevy)\n",
    "            # use round instead of floor\n",
    "            pfx = round(prevx)\n",
    "            pfy = round(prevy)\n",
    "            continue\n",
    "        currentx = float(row[6])\n",
    "        currenty = float(row[7])\n",
    "        fx = round(currentx)\n",
    "        fy = round(currenty)\n",
    "        if pfx ==fx and pfy==fy:\n",
    "            #i = dinvlookupdict[(pfx, pfy)]\n",
    "            #altertrajcount[i] = altertrajcount[i]+1 # altertraj holds counts of one cell to same cell \n",
    "            prevframe= frameindex\n",
    "            line_count = line_count+1\n",
    "        if obnum != trajnum:\n",
    "            pfx = fx\n",
    "            pfy = fy\n",
    "            obnum = trajnum\n",
    "            prevframe = frameindex\n",
    "            line_count = line_count+1\n",
    "            continue\n",
    "        # save to map\n",
    "        fromi = dinvlookupdict[(pfx,pfy)]\n",
    "        toi = dinvlookupdict[(fx,fy)]\n",
    "        # check if it is in range : exclude outliers dictionary\n",
    "        if abs(pfx - fx)>10 or abs(pfy - fy)>10:\n",
    "            line_count= line_count+1\n",
    "            continue\n",
    "        mcount = dtrajcount[(fromi, toi)]\n",
    "        if mcount>5000:\n",
    "            print(\"fromi:\", fromi, \" toi:\", toi)\n",
    "        dtrajcount[(fromi, toi)]= mcount+1\n",
    "        pfx = fx\n",
    "        pfy = fy\n",
    "        prevframe= frameindex\n",
    "        line_count = line_count+1\n",
    "\n"
   ]
  },
  {
   "cell_type": "code",
   "execution_count": 4,
   "metadata": {},
   "outputs": [
    {
     "name": "stdout",
     "output_type": "stream",
     "text": [
      "2019-8-27-0-0-0-BF1-CL1-Traj(0-18000frames).csv\n",
      "-6.16064\n",
      "7.21828\n",
      "2019-8-27-0-30-0-BF1-CL1-Traj(0-18000frames).csv\n",
      "94.8488\n",
      "24.8301\n",
      "2019-8-27-1-0-0-BF1-CL1-Traj(0-18000frames).csv\n",
      "-79.207\n",
      "15.7409\n",
      "2019-8-27-1-30-0-BF1-CL1-Traj(0-18000frames).csv\n",
      "-68.1242\n",
      "13.8972\n",
      "2019-8-27-10-0-0-BF1-CL1-Traj(0-18000frames).csv\n",
      "-36.0177\n",
      "8.06411\n",
      "2019-8-27-10-30-0-BF1-CL1-Traj(0-18000frames).csv\n",
      "-20.8098\n",
      "9.06996\n",
      "2019-8-27-11-0-0-BF1-CL1-Traj(0-18000frames).csv\n",
      "12.7673\n",
      "8.01511\n",
      "2019-8-27-11-30-0-BF1-CL1-Traj(0-18000frames).csv\n",
      "33.3678\n",
      "28.9857\n",
      "2019-8-27-12-0-0-BF1-CL1-Traj(0-18000frames).csv\n",
      "33.3341\n",
      "28.2393\n",
      "2019-8-27-12-30-0-BF1-CL1-Traj(0-18000frames).csv\n",
      "-32.6858\n",
      "12.0325\n",
      "2019-8-27-13-0-0-BF1-CL1-Traj(0-18000frames).csv\n",
      "-7.91949\n",
      "12.3122\n",
      "2019-8-27-13-30-0-BF1-CL1-Traj(0-18000frames).csv\n",
      "-24.7955\n",
      "8.72216\n",
      "2019-8-27-14-0-0-BF1-CL1-Traj(0-18000frames).csv\n",
      "-33.5303\n",
      "15.3514\n",
      "2019-8-27-14-30-0-BF1-CL1-Traj(0-18000frames).csv\n",
      "-21.0828\n",
      "8.26651\n",
      "2019-8-27-15-0-0-BF1-CL1-Traj(0-18000frames).csv\n",
      "17.1306\n",
      "8.11225\n",
      "2019-8-27-15-30-0-BF1-CL1-Traj(0-18000frames).csv\n",
      "37.8198\n",
      "21.7737\n",
      "2019-8-27-16-0-0-BF1-CL1-Traj(0-18000frames).csv\n",
      "-16.1592\n",
      "24.6657\n",
      "2019-8-27-16-30-0-BF1-CL1-Traj(0-18000frames).csv\n",
      "-32.0707\n",
      "7.89512\n",
      "2019-8-27-17-0-0-BF1-CL1-Traj(0-18000frames).csv\n",
      "-21.2539\n",
      "37.5661\n",
      "2019-8-27-17-30-0-BF1-CL1-Traj(0-18000frames).csv\n",
      "2.13598\n",
      "30.9338\n",
      "2019-8-27-18-0-0-BF1-CL1-Traj(0-18000frames).csv\n",
      "-26.3029\n",
      "10.9273\n",
      "2019-8-27-18-30-0-BF1-CL1-Traj(0-18000frames).csv\n",
      "21.0456\n",
      "25.8781\n",
      "2019-8-27-19-0-0-BF1-CL1-Traj(0-18000frames).csv\n",
      "-28.7745\n",
      "17.8548\n",
      "2019-8-27-19-30-0-BF1-CL1-Traj(0-18000frames).csv\n",
      "-57.1335\n",
      "17.2605\n",
      "2019-8-27-2-0-0-BF1-CL1-Traj(0-18000frames).csv\n",
      "-74.2802\n",
      "21.7633\n",
      "2019-8-27-2-30-0-BF1-CL1-Traj(0-18000frames).csv\n",
      "56.3039\n",
      "23.5986\n",
      "2019-8-27-20-0-0-BF1-CL1-Traj(0-18000frames).csv\n",
      "-7.83594\n",
      "11.9291\n",
      "2019-8-27-20-30-0-BF1-CL1-Traj(0-18000frames).csv\n",
      "-24.7852\n",
      "10.6947\n",
      "2019-8-27-21-0-0-BF1-CL1-Traj(0-18000frames).csv\n",
      "-3.8273\n",
      "11.6066\n",
      "2019-8-27-21-30-0-BF1-CL1-Traj(0-18000frames).csv\n",
      "-50.0419\n",
      "13.5117\n",
      "2019-8-27-22-0-0-BF1-CL1-Traj(0-18000frames).csv\n",
      "37.6943\n",
      "21.3091\n",
      "2019-8-27-22-30-0-BF1-CL1-Traj(0-18000frames).csv\n",
      "-45.0686\n",
      "13.6671\n",
      "2019-8-27-23-0-0-BF1-CL1-Traj(0-18000frames).csv\n",
      "-7.65694\n",
      "10.4122\n",
      "2019-8-27-23-30-0-BF1-CL1-Traj(0-18000frames).csv\n",
      "-26.3432\n",
      "36.4989\n",
      "2019-8-27-3-0-0R-BF1-CL1-Traj(0-18000frames).csv\n",
      "6.29297\n",
      "8.86162\n",
      "2019-8-27-3-30-0-BF1-CL1-Traj(0-18000frames).csv\n",
      "-49.904\n",
      "15.7155\n",
      "2019-8-27-4-0-0-BF1-CL1-Traj(0-18000frames).csv\n",
      "-62.4841\n",
      "16.6724\n",
      "2019-8-27-4-30-0-BF1-CL1-Traj(0-18000frames).csv\n",
      "-40.7273\n",
      "12.6696\n",
      "2019-8-27-5-0-0-BF1-CL1-Traj(0-18000frames).csv\n",
      "-40.0688\n",
      "16.2865\n",
      "2019-8-27-5-30-0-BF1-CL1-Traj(0-18000frames).csv\n",
      "52.524\n",
      "23.9919\n",
      "2019-8-27-6-0-0-BF1-CL1-Traj(0-18000frames).csv\n",
      "-34.1504\n",
      "13.1707\n",
      "2019-8-27-6-30-0-BF1-CL1-Traj(0-18000frames).csv\n",
      "39.038\n",
      "30.2919\n",
      "2019-8-27-7-0-0-BF1-CL1-Traj(0-18000frames).csv\n",
      "-56.6136\n",
      "12.9662\n",
      "2019-8-27-7-30-0-BF1-CL1-Traj(0-18000frames).csv\n",
      "-54.59\n",
      "9.03732\n",
      "2019-8-27-8-0-0-BF1-CL1-Traj(0-18000frames).csv\n",
      "8.0521\n",
      "7.08142\n",
      "2019-8-27-8-30-0-BF1-CL1-Traj(0-18000frames).csv\n",
      "-33.4196\n",
      "8.25813\n",
      "2019-8-27-9-0-0-BF1-CL1-Traj(0-18000frames).csv\n",
      "-25.0171\n",
      "14.8541\n",
      "2019-8-27-9-30-0-BF1-CL1-Traj(0-18000frames).csv\n",
      "21.9119\n",
      "15.2632\n"
     ]
    }
   ],
   "source": [
    "import csv\n",
    "\n",
    "# train with multiple trajectory files \n",
    "fileind = 1\n",
    "import os\n",
    "for filename in os.listdir('24hrdata'):\n",
    "    #entries = os.listdir()\n",
    "    print(filename)\n",
    "    fileind = fileind+1\n",
    "    #if fileind > 3:\n",
    "    #    break\n",
    "    fname = '24hrdata/'+filename\n",
    "    irow=0\n",
    "    obnum=1\n",
    "    with open(fname) as csv_file:\n",
    "        csv_reader = csv.reader(csv_file, delimiter=',')\n",
    "        line_count = 0\n",
    "        for row in csv_reader:\n",
    "            irow=irow+1\n",
    "            trajnum = row[0]\n",
    "            frameindex = row[17]\n",
    "            #print(\"frame:\",frameindex)\n",
    "            if line_count==0:\n",
    "                line_count=line_count+1\n",
    "                continue\n",
    "            if line_count==1:\n",
    "                line_count=line_count+1\n",
    "                prevrow = row\n",
    "                prevx = float(prevrow[6])\n",
    "                prevy = float(prevrow[7])\n",
    "                print(prevx)\n",
    "                print(prevy)\n",
    "                # use round instead of floor\n",
    "                pfx = round(prevx)\n",
    "                pfy = round(prevy)\n",
    "                continue\n",
    "            currentx = float(row[6])\n",
    "            currenty = float(row[7])\n",
    "            fx = round(currentx)\n",
    "            fy = round(currenty)\n",
    "            if pfx ==fx and pfy==fy:\n",
    "                #i = dinvlookupdict[(pfx, pfy)]\n",
    "                #altertrajcount[i] = altertrajcount[i]+1 # altertraj holds counts of one cell to same cell \n",
    "                prevframe= frameindex\n",
    "                line_count = line_count+1\n",
    "            if obnum != trajnum:\n",
    "                pfx = fx\n",
    "                pfy = fy\n",
    "                obnum = trajnum\n",
    "                prevframe = frameindex\n",
    "                line_count = line_count+1\n",
    "                continue\n",
    "            # save to map\n",
    "            fromi = dinvlookupdict[(pfx,pfy)]\n",
    "            toi = dinvlookupdict[(fx,fy)]\n",
    "            # check if it is in range : exclude outliers dictionary\n",
    "            if abs(pfx - fx)>10 or abs(pfy - fy)>10:\n",
    "                line_count= line_count+1\n",
    "                continue\n",
    "            mcount = dtrajcount[(fromi, toi)]\n",
    "            if mcount>5000:\n",
    "                print(\"fromi:\", fromi, \" toi:\", toi)\n",
    "            dtrajcount[(fromi, toi)]= mcount+1\n",
    "            pfx = fx\n",
    "            pfy = fy\n",
    "            prevframe= frameindex\n",
    "            line_count = line_count+1\n"
   ]
  },
  {
   "cell_type": "code",
   "execution_count": null,
   "metadata": {},
   "outputs": [],
   "source": [
    "# code to find the initial general direction\n",
    "\n",
    "# from the training\n",
    "\n",
    "# divide the space into cells: tree?\n"
   ]
  },
  {
   "cell_type": "code",
   "execution_count": 1,
   "metadata": {},
   "outputs": [
    {
     "ename": "NameError",
     "evalue": "name 'dtrajcount' is not defined",
     "output_type": "error",
     "traceback": [
      "\u001b[1;31m---------------------------------------------------------------------------\u001b[0m",
      "\u001b[1;31mNameError\u001b[0m                                 Traceback (most recent call last)",
      "\u001b[1;32m<ipython-input-1-67c1500bcf38>\u001b[0m in \u001b[0;36m<module>\u001b[1;34m\u001b[0m\n\u001b[1;32m----> 1\u001b[1;33m \u001b[0mdtrajcount\u001b[0m\u001b[1;33m[\u001b[0m\u001b[1;33m(\u001b[0m\u001b[1;36m1\u001b[0m\u001b[1;33m,\u001b[0m\u001b[1;36m1\u001b[0m\u001b[1;33m)\u001b[0m\u001b[1;33m]\u001b[0m\u001b[1;33m\u001b[0m\u001b[1;33m\u001b[0m\u001b[0m\n\u001b[0m",
      "\u001b[1;31mNameError\u001b[0m: name 'dtrajcount' is not defined"
     ]
    }
   ],
   "source": [
    "dtrajcount[(1,1)]"
   ]
  },
  {
   "cell_type": "code",
   "execution_count": 9,
   "metadata": {},
   "outputs": [],
   "source": [
    "# load errorclusters\n",
    "#THIS ONE \n",
    "# error clusters \n",
    "\n",
    "\n",
    "# pre processing step: load lidar_similarlabeledclusters.csv\n",
    "import csv\n",
    "# dictionary mapping framenumber to array of clusterids\n",
    "errorclusters = {}\n",
    "\n",
    "firstrow =0\n",
    "\n",
    "\n",
    "#lidarsim = 'lidar_similarlabeledclusters.csv'\n",
    "#lidarsim = 'lidar_similarlabeledclusters_v2.csv'\n",
    "\n",
    "\n",
    "lidarsim='lidar_similar301-600.csv'\n",
    "with open(lidarsim) as lidarsim_csv_file:\n",
    "    sim_csv_reader = csv.reader(lidarsim_csv_file, delimiter=\",\")\n",
    "    for row in sim_csv_reader:\n",
    "        # skip header row\n",
    "        if firstrow==0:\n",
    "            firstrow=1\n",
    "            continue\n",
    "        framenumber = int(row[0])\n",
    "        arr = []\n",
    "        cluster1 = row[1]\n",
    "        cluster2 = row[2]\n",
    "        cluster3 = row[3]\n",
    "        arr.append(int(cluster1))\n",
    "        if len(cluster2) > 0:\n",
    "            arr.append(int(cluster2))\n",
    "        if len(cluster3) >0:\n",
    "            arr.append(int(cluster3))\n",
    "        #print(row)\n",
    "        errorcode = int(row[4])\n",
    "        if errorcode == 1:\n",
    "            # add to dictionary\n",
    "            #print(\"add\")\n",
    "            v = errorclusters.get(framenumber)\n",
    "            if v==None:\n",
    "                errorclusters[framenumber] = [arr]\n",
    "            else:\n",
    "            # append additional array\n",
    "                a = errorclusters[framenumber]\n",
    "                alen = len(a)\n",
    "                em = []\n",
    "                for i in range(0, alen):\n",
    "                    em.append(a[i])\n",
    "                em.append(arr)\n",
    "                \n",
    "                errorclusters[framenumber] = em\n",
    "            "
   ]
  },
  {
   "cell_type": "code",
   "execution_count": 6,
   "metadata": {},
   "outputs": [],
   "source": [
    "# december highest \n",
    "# step 4 b \n",
    "\n",
    "def dhighestfreq(fromi):\n",
    "    highest = 0\n",
    "    indexhighest = fromi\n",
    "    (px, py) = dlookupdict[fromi]\n",
    "    for j in range(-10, 11):\n",
    "        jx = px+j\n",
    "        if jx>xmax-1 or jx<xmin: # check if pts in range\n",
    "            continue\n",
    "        for k in range(-10, 11):\n",
    "            jy = py+k\n",
    "            # check if pts are in range\n",
    "            if jy>ymax-1 or jy<ymin:\n",
    "                continue\n",
    "            toi = dinvlookupdict[(jx, jy)]\n",
    "            t = dtrajcount[(fromi, toi)]\n",
    "            #if t>0:\n",
    "                #print(t)\n",
    "            if t > highest:\n",
    "                highest=t\n",
    "                indexhighest=toi\n",
    "    return highest, indexhighest"
   ]
  },
  {
   "cell_type": "code",
   "execution_count": 7,
   "metadata": {},
   "outputs": [],
   "source": [
    "\n",
    "def unique(list1): \n",
    "      \n",
    "    # insert the list to the set \n",
    "    list_set = set(list1) \n",
    "    # convert the set to the list \n",
    "    unique_list = (list(list_set)) \n",
    "    return unique_list"
   ]
  },
  {
   "cell_type": "code",
   "execution_count": null,
   "metadata": {},
   "outputs": [],
   "source": []
  },
  {
   "cell_type": "code",
   "execution_count": 8,
   "metadata": {},
   "outputs": [],
   "source": [
    "# rename\n",
    "\n",
    "#datastorename = 'datastoreAug16.csv'\n",
    "\n",
    "\n",
    "def findnextclusterapp(iframe, initialcluster): # frame and cluster\n",
    "    datastorename='datastoreAug16.csv'\n",
    "    #datastorename = 'newdatastoreMay17.csv'\n",
    "    outputmatched =0\n",
    "    rowid = 0\n",
    "    #datastorename = 'datastoreAug16.csv'\n",
    "    if iframe>550:\n",
    "        datastorename='datastoreAug25.csv'\n",
    "    #if iframe > 300:\n",
    "    #    datastorename='datastoreAug16.csv'\n",
    "    \n",
    "    with open(datastorename) as datastore_csv_file:\n",
    "        datastore_csv_reader = csv.reader(datastore_csv_file, delimiter=\",\")\n",
    "\n",
    "        for row in datastore_csv_reader:\n",
    "            rowid = rowid+1\n",
    "            # 1 - frame \n",
    "            framenum = float(row[0])\n",
    "\n",
    "            # 2 - cluster id\n",
    "            clusterid = float(row[1])\n",
    "\n",
    "            matched = float(row[18])  #return this matched\n",
    "\n",
    "            if framenum < iframe:\n",
    "                continue\n",
    "                \n",
    "            if framenum > iframe:\n",
    "                break\n",
    "\n",
    "            if clusterid == initialcluster:\n",
    "                #print(\"row\", rowid)\n",
    "                #print(\"frame num\", framenum)\n",
    "                #print(\"init cluster\", initialcluster)\n",
    "                #print(\"matched is \", matched)\n",
    "                outputmatched = matched\n",
    "                return outputmatched\n",
    "            \n",
    "    return outputmatched\n",
    "\n",
    "# find the next cluster from our algorithm\n",
    "\n",
    "# iterate over all the clusters in frame len1+1 to see \n",
    "# iframe is frame number \n",
    "\n",
    "def findnextcluster(iframe, elementclusterarray):  # iframe is the current cluster, clusterarray holds ids of similar clusters \n",
    "\n",
    "    ky =0 # if no next cluster\n",
    "    # sort by increasing order\n",
    "    #sortedarray = np.sort(clusterarray)\n",
    "    \n",
    "    name = \"file_out\"\n",
    "    name = name+str(iframe)\n",
    "    name1 = name+\".csv\"\n",
    "    name2 = \"file_out\"+str(iframe+1)+\".csv\"\n",
    "\n",
    "# clear matchfreq\n",
    "    for j in range(0, mx):\n",
    "        matchfreq[j] =0\n",
    "\n",
    "    with open(name1) as csv_file:\n",
    "        f =0 \n",
    "        # reset hxvalues , hyvalues\n",
    "        hxvalues = []\n",
    "        hyvalues=[]\n",
    "\n",
    "        countmap= {}\n",
    "\n",
    "        csv_reader = csv.reader(csv_file, delimiter=\",\")\n",
    "\n",
    "        for row in csv_reader:\n",
    "            cid= float(row[0]) \n",
    "            # determine which cluster id is the highest \n",
    "            xr = round(float(row[1]))\n",
    "            yr = round(float(row[2]))\n",
    "            fromi = dinvlookupdict[(xr,yr)]\n",
    "            # function to find highest freq \n",
    "            h1, i1 = dhighestfreq(fromi)\n",
    "\n",
    "            if cid ==  elementclusterarray:\n",
    "                countmap[i1] = 1\n",
    "\n",
    "    obnum = 1 \n",
    "\n",
    "    f = 0                   \n",
    "    with open(name2) as csv_file:\n",
    "        csv_reader = csv.reader(csv_file, delimiter=\",\")\n",
    "        for row in csv_reader:\n",
    "            cid = float(row[0])\n",
    "            xr =round(float(row[1]))\n",
    "            yr = round(float(row[2]))\n",
    "            fromi = dinvlookupdict[(xr,yr)]\n",
    "            # next cluster \n",
    "            if cid != obnum:\n",
    "                numo1 = float(obnum)\n",
    "                if matchfreq[numo1] > f:\n",
    "                    f = matchfreq[numo1]\n",
    "                    ky = numo1\n",
    "                obnum = cid\n",
    "\n",
    "            val = countmap.get(fromi)\n",
    "            if val != None:\n",
    "                matchfreq[cid] =matchfreq[cid]+1\n",
    "\n",
    "\n",
    "    #print(ky, \"is the next cluster\")     \n",
    "    return ky"
   ]
  },
  {
   "cell_type": "code",
   "execution_count": 6,
   "metadata": {},
   "outputs": [],
   "source": [
    "from collections import defaultdict\n",
    "import matplotlib.pyplot as plt\n",
    "import numpy as np"
   ]
  },
  {
   "cell_type": "code",
   "execution_count": 15,
   "metadata": {},
   "outputs": [],
   "source": [
    "# initialize \n",
    "#sfs =[390, 400, 410, 420, 430, 440, 450, 460, 470, 480, 490, 500]\n",
    "\n",
    "sfs = [10, 20, 30, 40, 50, 60,70, 80,90,100]\n",
    "for s in sfs:\n",
    "    map10[s] = []\n",
    "    "
   ]
  },
  {
   "cell_type": "code",
   "execution_count": 41,
   "metadata": {},
   "outputs": [],
   "source": [
    "#sfs = [110, 120, 130, 140,150, 160,170,180,190,200]\n",
    "#map10 = {}\n",
    "sfs = [310, 320, 330, 340,350,360,370,380,390,400,410,420,430,440,450]\n",
    "for s in sfs:\n",
    "    map10[s] = []"
   ]
  },
  {
   "cell_type": "code",
   "execution_count": 11,
   "metadata": {},
   "outputs": [
    {
     "ename": "NameError",
     "evalue": "name 'map10' is not defined",
     "output_type": "error",
     "traceback": [
      "\u001b[1;31m---------------------------------------------------------------------------\u001b[0m",
      "\u001b[1;31mNameError\u001b[0m                                 Traceback (most recent call last)",
      "\u001b[1;32m<ipython-input-11-434beded80b2>\u001b[0m in \u001b[0;36m<module>\u001b[1;34m\u001b[0m\n\u001b[1;32m----> 1\u001b[1;33m \u001b[0mmap10\u001b[0m\u001b[1;33m\u001b[0m\u001b[1;33m\u001b[0m\u001b[0m\n\u001b[0m",
      "\u001b[1;31mNameError\u001b[0m: name 'map10' is not defined"
     ]
    }
   ],
   "source": [
    "map10"
   ]
  },
  {
   "cell_type": "code",
   "execution_count": 68,
   "metadata": {},
   "outputs": [
    {
     "data": {
      "text/plain": [
       "{390: [],\n",
       " 400: [],\n",
       " 410: [1.0, 2.0],\n",
       " 420: [],\n",
       " 430: [],\n",
       " 440: [],\n",
       " 450: [],\n",
       " 460: [],\n",
       " 470: [],\n",
       " 480: [],\n",
       " 490: [],\n",
       " 500: [],\n",
       " 10: [],\n",
       " 20: [1.0, 3.0, 3.0],\n",
       " 30: [2.0, 2.0, 2.0, 2.0],\n",
       " 40: [8.0, 8.0, 8.0, 8.0],\n",
       " 50: [6.0, 6.0],\n",
       " 60: [1.0, 1.0, 1.0],\n",
       " 70: [1.0, 1.0, 1.0],\n",
       " 80: [4.0, 4.0, 4.0, 6.0, 4.0],\n",
       " 90: [5.0, 5.0, 5.0, 1.0, 5.0, 2.0],\n",
       " 100: [7.0, 7.0, 7.0, 7.0],\n",
       " 110: [1.0, 1.0],\n",
       " 120: [2.0, 2.0],\n",
       " 130: [2.0, 2.0, 2.0, 2.0],\n",
       " 140: [],\n",
       " 150: [2.0],\n",
       " 160: [],\n",
       " 170: [],\n",
       " 180: [],\n",
       " 190: [],\n",
       " 200: []}"
      ]
     },
     "execution_count": 68,
     "metadata": {},
     "output_type": "execute_result"
    }
   ],
   "source": [
    "map10"
   ]
  },
  {
   "cell_type": "code",
   "execution_count": 56,
   "metadata": {},
   "outputs": [
    {
     "data": {
      "text/plain": [
       "[]"
      ]
     },
     "execution_count": 56,
     "metadata": {},
     "output_type": "execute_result"
    }
   ],
   "source": [
    "map10[380]"
   ]
  },
  {
   "cell_type": "code",
   "execution_count": 57,
   "metadata": {
    "scrolled": false
   },
   "outputs": [
    {
     "name": "stdout",
     "output_type": "stream",
     "text": [
      "f is 99\n",
      "f is 114\n",
      "f is 95\n",
      "f is 65\n",
      "initial cluster 1\n",
      "initial frame 380\n",
      "final array is [1, 1.0, 1.0, 1.0, 1.0]\n",
      "listclusterids is [1, 1.0, 1.0, 1.0, 1.0]\n",
      "length of array  5\n"
     ]
    },
    {
     "data": {
      "image/png": "[encoded data removed]",
      "text/plain": [
       "<Figure size 432x288 with 1 Axes>"
      ]
     },
     "metadata": {
      "needs_background": "light"
     },
     "output_type": "display_data"
    },
    {
     "name": "stdout",
     "output_type": "stream",
     "text": [
      "f is 52\n",
      "f is 35\n",
      "f is 29\n",
      "f is 59\n",
      "f is 22\n",
      "initial cluster 2\n",
      "initial frame 380\n",
      "final array is [2, 2.0, 2.0, 2.0, 3.0, 1.0]\n",
      "listclusterids is [2, 2.0, 2.0, 2.0, 3.0, 1.0]\n",
      "length of array  6\n"
     ]
    },
    {
     "data": {
      "image/png": "[encoded data removed]",
      "text/plain": [
       "<Figure size 432x288 with 1 Axes>"
      ]
     },
     "metadata": {
      "needs_background": "light"
     },
     "output_type": "display_data"
    },
    {
     "name": "stdout",
     "output_type": "stream",
     "text": [
      "f is 3\n",
      "f is 35\n",
      "f is 29\n",
      "f is 59\n",
      "f is 22\n",
      "initial cluster 3\n",
      "initial frame 380\n",
      "final array is [3, 2.0, 2.0, 2.0, 3.0, 1.0]\n",
      "listclusterids is [3, 2.0, 2.0, 2.0, 3.0, 1.0]\n",
      "length of array  6\n"
     ]
    },
    {
     "data": {
      "image/png": "[encoded data removed]",
      "text/plain": [
       "<Figure size 432x288 with 1 Axes>"
      ]
     },
     "metadata": {
      "needs_background": "light"
     },
     "output_type": "display_data"
    },
    {
     "name": "stdout",
     "output_type": "stream",
     "text": [
      "f is 2\n",
      "f is 5\n",
      "f is 10\n",
      "f is 18\n",
      "f is 8\n",
      "initial cluster 4\n",
      "initial frame 380\n",
      "final array is [4, 3.0, 4.0, 4.0, 5.0]\n",
      "listclusterids is [4, 3.0, 4.0, 4.0, 5.0]\n",
      "length of array  5\n"
     ]
    },
    {
     "data": {
      "image/png": "[encoded data removed]",
      "text/plain": [
       "<Figure size 432x288 with 1 Axes>"
      ]
     },
     "metadata": {
      "needs_background": "light"
     },
     "output_type": "display_data"
    },
    {
     "name": "stdout",
     "output_type": "stream",
     "text": [
      "f is 14\n",
      "f is 1\n",
      "f is 18\n",
      "f is 8\n",
      "initial cluster 5\n",
      "initial frame 380\n",
      "final array is [5, 4.0, 4.0, 4.0, 5.0]\n",
      "listclusterids is [5, 4.0, 4.0, 4.0, 5.0]\n",
      "length of array  5\n"
     ]
    },
    {
     "data": {
      "image/png": "[encoded data removed]",
      "text/plain": [
       "<Figure size 432x288 with 1 Axes>"
      ]
     },
     "metadata": {
      "needs_background": "light"
     },
     "output_type": "display_data"
    },
    {
     "name": "stdout",
     "output_type": "stream",
     "text": [
      "f is 18\n",
      "f is 19\n",
      "f is 24\n",
      "f is 15\n",
      "initial cluster 6\n",
      "initial frame 380\n",
      "final array is [6, 6.0, 6.0, 7.0, 8.0]\n",
      "listclusterids is [6, 6.0, 6.0, 7.0, 8.0]\n",
      "length of array  5\n"
     ]
    },
    {
     "data": {
      "image/png": "[encoded data removed]",
      "text/plain": [
       "<Figure size 432x288 with 1 Axes>"
      ]
     },
     "metadata": {
      "needs_background": "light"
     },
     "output_type": "display_data"
    },
    {
     "name": "stdout",
     "output_type": "stream",
     "text": [
      "initial cluster 7\n",
      "initial frame 380\n",
      "final array is [7]\n",
      "listclusterids is [7]\n",
      "length of array  1\n"
     ]
    },
    {
     "data": {
      "image/png": "[encoded data removed]",
      "text/plain": [
       "<Figure size 432x288 with 1 Axes>"
      ]
     },
     "metadata": {
      "needs_background": "light"
     },
     "output_type": "display_data"
    },
    {
     "name": "stdout",
     "output_type": "stream",
     "text": [
      "initial cluster 8\n",
      "initial frame 380\n",
      "final array is [8]\n",
      "listclusterids is [8]\n",
      "length of array  1\n"
     ]
    },
    {
     "data": {
      "image/png": "[encoded data removed]",
      "text/plain": [
       "<Figure size 432x288 with 1 Axes>"
      ]
     },
     "metadata": {
      "needs_background": "light"
     },
     "output_type": "display_data"
    },
    {
     "name": "stdout",
     "output_type": "stream",
     "text": [
      "initial cluster 9\n",
      "initial frame 380\n",
      "final array is [9]\n",
      "listclusterids is [9]\n",
      "length of array  1\n"
     ]
    },
    {
     "data": {
      "image/png": "[encoded data removed]",
      "text/plain": [
       "<Figure size 432x288 with 1 Axes>"
      ]
     },
     "metadata": {
      "needs_background": "light"
     },
     "output_type": "display_data"
    },
    {
     "name": "stdout",
     "output_type": "stream",
     "text": [
      "initial cluster 10\n",
      "initial frame 380\n",
      "final array is [10]\n",
      "listclusterids is [10]\n",
      "length of array  1\n"
     ]
    },
    {
     "data": {
      "image/png": "[encoded data removed]",
      "text/plain": [
       "<Figure size 432x288 with 1 Axes>"
      ]
     },
     "metadata": {
      "needs_background": "light"
     },
     "output_type": "display_data"
    },
    {
     "name": "stdout",
     "output_type": "stream",
     "text": [
      "initial cluster 11\n",
      "initial frame 380\n",
      "final array is [11]\n",
      "listclusterids is [11]\n",
      "length of array  1\n"
     ]
    },
    {
     "data": {
      "image/png": "[encoded data removed]",
      "text/plain": [
       "<Figure size 432x288 with 1 Axes>"
      ]
     },
     "metadata": {
      "needs_background": "light"
     },
     "output_type": "display_data"
    },
    {
     "name": "stdout",
     "output_type": "stream",
     "text": [
      "initial cluster 12\n",
      "initial frame 380\n",
      "final array is [12]\n",
      "listclusterids is [12]\n",
      "length of array  1\n"
     ]
    },
    {
     "data": {
      "image/png": "[encoded data removed]",
      "text/plain": [
       "<Figure size 432x288 with 1 Axes>"
      ]
     },
     "metadata": {
      "needs_background": "light"
     },
     "output_type": "display_data"
    }
   ],
   "source": [
    "# version where finding max trajectories\n",
    "\n",
    "# original frequency grid method\n",
    "\n",
    "c1 = 1\n",
    "c2 = 12 # 6\n",
    "\n",
    "ca = list(range(c1, c2+1))\n",
    "\n",
    "\n",
    "\n",
    "\n",
    "# new params\n",
    "totresults = []\n",
    "totclusterids=[]\n",
    "\n",
    "#diff. category of accuracy index\n",
    "missedmatching = 0\n",
    "wrongmatching =0 # matched to a different cluster\n",
    "continuedmatching = 0 # continues erroneously \n",
    "\n",
    "clustering_error = 0 \n",
    "\n",
    "#####\n",
    "initialframe = 380\n",
    "endframe = 480\n",
    "\n",
    "# unew = map10[initialframe]\n",
    "\n",
    "unew = []\n",
    "carray = np.setdiff1d(ca, unew)\n",
    "\n",
    "\n",
    "for initialcluster in carray:#range(c1, c2+1):\n",
    "    \n",
    "    \n",
    "    arrayx = []\n",
    "    arrayy = []\n",
    "    pavex = []\n",
    "    pavey = []\n",
    "\n",
    "    phx = [] # previous high x values\n",
    "    phy =[] \n",
    "\n",
    "\n",
    "    obnum = 1\n",
    "\n",
    "    totalmap ={}\n",
    "\n",
    "    prevmap = {}\n",
    "\n",
    "    mf = defaultdict(list)\n",
    "    # maximum object/cluster id in any frame\n",
    "    mx = 20\n",
    "\n",
    "    for j in range(0, mx):\n",
    "        mf[j]=0 \n",
    "\n",
    "    matchfreq= mf\n",
    "\n",
    "\n",
    "    thres= 10\n",
    "\n",
    "    finalarray=[]\n",
    "\n",
    "    finalarray.append(initialcluster)\n",
    "\n",
    "    finalx =[]\n",
    "    finaly =[]\n",
    "\n",
    "    avex =[]\n",
    "    avey =[]\n",
    "\n",
    "    xvalues =[]\n",
    "    yvalues =[]\n",
    "\n",
    "    # edited method\n",
    "    angles = []\n",
    "\n",
    "\n",
    "    for i in range(initialframe, endframe+1):\n",
    "        name = \"file_out\"\n",
    "        name = name+str(i)\n",
    "        name = name+\".csv\"\n",
    "        firstrow=0\n",
    "        # clear matchfreq\n",
    "        for j in range(0, mx):\n",
    "            matchfreq[j] =0\n",
    "\n",
    "        currentmap3 = {} # average coordinates\n",
    "\n",
    "        #print(\"curr frame is:\", i)\n",
    "\n",
    "\n",
    "        with open(name) as csv_file:\n",
    "            f =0 \n",
    "            # reset hxvalues , hyvalues\n",
    "            hxvalues = []\n",
    "            hyvalues=[]\n",
    "\n",
    "            obnum=1 \n",
    "\n",
    "            currentmap= {}\n",
    "\n",
    "            csv_reader = csv.reader(csv_file, delimiter=\",\")\n",
    "\n",
    "            if i==initialframe:\n",
    "                for row in csv_reader:\n",
    "                    # no need for first row skip \n",
    "                    clusterid = float(row[0])\n",
    "                    if clusterid==initialcluster:\n",
    "                        xpoint = float(row[1])\n",
    "                        ypoint = float(row[2])\n",
    "                        #print(\"xpt\", xpoint)\n",
    "                        #print(\"ypt\", ypoint)\n",
    "                        arrayx.append(xpoint)\n",
    "                        arrayy.append(ypoint)\n",
    "                        xr = round(xpoint)\n",
    "                        yr = round(ypoint)\n",
    "                        fromi = dinvlookupdict[(xr,yr)]\n",
    "                        h1, i1 = dhighestfreq(fromi)\n",
    "                        #i1 = newhighestfreq(fromi)\n",
    "                        prevmap[i1] = 1\n",
    "\n",
    "                plt.scatter(arrayx, arrayy)\n",
    "\n",
    "                avx = np.mean(arrayx)\n",
    "                avy = np.mean(arrayy)\n",
    "\n",
    "                finalx.append(avx)\n",
    "                finaly.append(avy)\n",
    "\n",
    "                plt.annotate(i, (avx, avy), textcoords=\"offset points\", xytext=(0,10), ha='center')\n",
    "\n",
    "                #append avx and avy\n",
    "                avex.append(avx)\n",
    "                avey.append(avy)\n",
    "\n",
    "                # reset ky \n",
    "                ky = initialcluster\n",
    "                continue\n",
    "            for row in csv_reader:\n",
    "                clusterid = float(row[0])\n",
    "\n",
    "                if clusterid != obnum:\n",
    "                    numo1 = float(obnum)\n",
    "                    # append into dictionary of maps\n",
    "                    totalmap[numo1] = currentmap\n",
    "                    if matchfreq[numo1] > f:\n",
    "                        f = matchfreq[numo1]\n",
    "                        print(\"f is\", f)\n",
    "                        ky = numo1\n",
    "\n",
    "                        hxvalues = xvalues\n",
    "                        hyvalues = yvalues\n",
    "                    obnum= clusterid\n",
    "                    currentmap={}\n",
    "                    # take the average\n",
    "                    avecurrentx = np.mean(xvalues)\n",
    "                    avecurrenty = np.mean(yvalues)\n",
    "                    currentmap3[numo1] = [avecurrentx, avecurrenty]\n",
    "\n",
    "                    xvalues =[]\n",
    "                    yvalues =[]\n",
    "\n",
    "                    continue\n",
    "\n",
    "                xpoint = float(row[1])\n",
    "                ypoint = float(row[2])\n",
    "                xr = round(xpoint)\n",
    "                yr = round(ypoint)\n",
    "                xvalues.append(xpoint) # save to array \n",
    "                yvalues.append(ypoint)\n",
    "                fromi = dinvlookupdict[(xr,yr)]\n",
    "                # function to find highest freq \n",
    "                h1, i1 = dhighestfreq(fromi)\n",
    "                # save to map\n",
    "                currentmap[i1] = 1\n",
    "                # check prev map\n",
    "                val = prevmap.get(fromi)\n",
    "                if val == None:\n",
    "                    pass\n",
    "                else:\n",
    "                    numo = float(obnum)\n",
    "                    matchfreq[numo] = matchfreq[numo]+1\n",
    "            numo2 = float(clusterid)\n",
    "            avecurrentx = np.mean(xvalues) ##USE AS CURRENT X\n",
    "            avecurrenty = np.mean(yvalues)\n",
    "            currentmap3[numo2] = [avecurrentx, avecurrenty]\n",
    "            totalmap[numo2] = currentmap\n",
    "            xvalues=[] ##RESET\n",
    "            yvalues=[]\n",
    "            if matchfreq[numo2] > f:\n",
    "                ky = numo2\n",
    "                hxvalues = xvalues\n",
    "                hyvalues = yvalues\n",
    "                totalmap[ky]= currentmap\n",
    "\n",
    "            if len(hxvalues) ==0:\n",
    "                break \n",
    "                \n",
    "            if len(hxvalues) !=0:\n",
    "                finalarray.append(ky)\n",
    "                prevmap = totalmap[ky]\n",
    "\n",
    "                avx = np.mean(hxvalues)\n",
    "                avy = np.mean(hyvalues)\n",
    "\n",
    "                finalx.append(avx)\n",
    "                finaly.append(avy)\n",
    "\n",
    "            #print(\"final x\", finalx)\n",
    "            #print(\"final y\", finaly)\n",
    "            \n",
    "            # add final key to map10\n",
    "            if i % 10==0:\n",
    "                print(\"(map10) i is\", i)\n",
    "                print(\"(map10) key is\", ky)\n",
    "                m10 = map10[i]\n",
    "                m10.append(ky)\n",
    "                # check sim clusts\n",
    "                v1 = errorclusters.get(i)\n",
    "                if v1!=None:\n",
    "                    errorarray= errorclusters[i]\n",
    "                    for el in errorarray:\n",
    "                        for e in el:\n",
    "                            if e == ky:\n",
    "                                m10.extend(el)\n",
    "                map10[i] = m10\n",
    "\n",
    "    print(\"initial cluster\", initialcluster)\n",
    "    print(\"initial frame\", initialframe)\n",
    "\n",
    "    print(\"final array is\", finalarray)\n",
    "    \n",
    "    listclusterids= finalarray\n",
    "    \n",
    "    print(\"listclusterids is\", listclusterids)\n",
    "    \n",
    "    # plot\n",
    "    \n",
    "    \n",
    "    alen = len(finalarray)\n",
    "    print(\"length of array \", alen)\n",
    "    \n",
    "    xv1=[]\n",
    "    yv1=[]\n",
    "\n",
    "    ax =[]\n",
    "    ay =[]\n",
    "\n",
    "    acounter=0\n",
    "    for i in range(initialframe, initialframe+alen):\n",
    "        name = \"file_out\"\n",
    "        name = name+str(i)\n",
    "        name = name+\".csv\"\n",
    "\n",
    "\n",
    "        a = finalarray[acounter]\n",
    "        xarray = []\n",
    "        yarray = []\n",
    "        with open(name) as csv_file:\n",
    "            csv_reader = csv.reader(csv_file, delimiter=\",\")\n",
    "            for row in csv_reader:\n",
    "                clusterid = float(row[0])\n",
    "                xpoint = float(row[1])\n",
    "                ypoint = float(row[2])\n",
    "\n",
    "                if clusterid == a:\n",
    "                    xarray.append(xpoint)\n",
    "                    yarray.append(ypoint)\n",
    "\n",
    "\n",
    "            # plot\n",
    "            plt.scatter(xarray,yarray)\n",
    "            avx = np.mean(xarray)\n",
    "            avy = np.mean(yarray)\n",
    "            plt.annotate(i, (avx, avy), textcoords=\"offset points\", xytext=(0,10), ha='center')\n",
    "\n",
    "            ax.append(avx)\n",
    "            ay.append(avy)\n",
    "\n",
    "        acounter =acounter +1\n",
    "        if acounter > alen:\n",
    "            break\n",
    "\n",
    "    plt.show()"
   ]
  },
  {
   "cell_type": "code",
   "execution_count": 13,
   "metadata": {},
   "outputs": [],
   "source": [
    "import math\n",
    "# make map for every 10 \n",
    "map10 = {}\n",
    "\n",
    "# initialize \n",
    "sfs =[390, 400, 410, 420, 430, 440, 450, 460, 470, 480, 490, 500]\n",
    "\n",
    "for s in sfs:\n",
    "    map10[s] = []"
   ]
  },
  {
   "cell_type": "code",
   "execution_count": 51,
   "metadata": {},
   "outputs": [
    {
     "name": "stdout",
     "output_type": "stream",
     "text": [
      "curr frame is: 120\n",
      "curr frame is: 121\n",
      "f is 13\n",
      "curr frame is: 122\n",
      "f is 219\n",
      "curr frame is: 123\n",
      "f is 221\n",
      "curr frame is: 124\n",
      "f is 538\n",
      "curr frame is: 125\n",
      "f is 460\n",
      "curr frame is: 126\n",
      "f is 197\n",
      "curr frame is: 127\n",
      "f is 173\n",
      "curr frame is: 128\n",
      "f is 157\n",
      "curr frame is: 129\n",
      "f is 154\n",
      "curr frame is: 130\n",
      "f is 163\n",
      "curr frame is: 131\n",
      "f is 116\n",
      "curr frame is: 132\n",
      "f is 135\n",
      "curr frame is: 133\n",
      "f is 98\n",
      "curr frame is: 134\n",
      "f is 92\n",
      "curr frame is: 135\n"
     ]
    },
    {
     "data": {
      "image/png": "[encoded data removed]",
      "text/plain": [
       "<Figure size 432x288 with 1 Axes>"
      ]
     },
     "metadata": {
      "needs_background": "light"
     },
     "output_type": "display_data"
    }
   ],
   "source": [
    "# original method single cluster\n",
    "\n",
    "\n",
    "arrayx = []\n",
    "arrayy = []\n",
    "pavex = []\n",
    "pavey = []\n",
    "\n",
    "phx = [] # previous high x values\n",
    "phy =[] \n",
    "\n",
    "initialframe = 120\n",
    "endframe= 150\n",
    "\n",
    "initialcluster=3\n",
    "\n",
    "obnum = 1\n",
    "\n",
    "totalmap ={}\n",
    "\n",
    "prevmap = {}\n",
    "\n",
    "mf = defaultdict(list)\n",
    "# maximum object/cluster id in any frame\n",
    "mx = 20\n",
    "\n",
    "for j in range(0, mx):\n",
    "    mf[j]=0 \n",
    "\n",
    "matchfreq= mf\n",
    "\n",
    "\n",
    "thres= 10\n",
    "\n",
    "finalarray=[]\n",
    "\n",
    "finalarray.append(initialcluster)\n",
    "\n",
    "finalx =[]\n",
    "finaly =[]\n",
    "\n",
    "avex =[]\n",
    "avey =[]\n",
    "\n",
    "xvalues =[]\n",
    "yvalues =[]\n",
    "\n",
    "for i in range(initialframe, endframe+1):\n",
    "    name = \"file_out\"\n",
    "    name = name+str(i)\n",
    "    name = name+\".csv\"\n",
    "    firstrow=0\n",
    "    # clear matchfreq\n",
    "    for j in range(0, mx):\n",
    "        matchfreq[j] =0\n",
    "\n",
    "    currentmap3 = {} # average coordinates\n",
    "\n",
    "    print(\"curr frame is:\", i)\n",
    "\n",
    "    \n",
    "    with open(name) as csv_file:\n",
    "        f =0 \n",
    "        # reset hxvalues , hyvalues\n",
    "        hxvalues = []\n",
    "        hyvalues=[]\n",
    "\n",
    "        obnum=1 \n",
    "\n",
    "        currentmap= {}\n",
    "\n",
    "        csv_reader = csv.reader(csv_file, delimiter=\",\")\n",
    "        \n",
    "        if i==initialframe:\n",
    "            for row in csv_reader:\n",
    "                # no need for first row skip \n",
    "                clusterid = float(row[0])\n",
    "                if clusterid==initialcluster:\n",
    "                    xpoint = float(row[1])\n",
    "                    ypoint = float(row[2])\n",
    "                    #print(\"xpt\", xpoint)\n",
    "                    #print(\"ypt\", ypoint)\n",
    "                    arrayx.append(xpoint)\n",
    "                    arrayy.append(ypoint)\n",
    "                    xr = round(xpoint)\n",
    "                    yr = round(ypoint)\n",
    "                    fromi = dinvlookupdict[(xr,yr)]\n",
    "                    h1, i1 = dhighestfreq(fromi)\n",
    "                    #i1 = newhighestfreq(fromi)\n",
    "                    prevmap[i1] = 1\n",
    "\n",
    "            plt.scatter(arrayx, arrayy)\n",
    "            \n",
    "            avx = np.mean(arrayx)\n",
    "            avy = np.mean(arrayy)\n",
    "            \n",
    "            finalx.append(avx)\n",
    "            finaly.append(avy)\n",
    "            \n",
    "            # save angle\n",
    "            \n",
    "            plt.annotate(i, (avx, avy), textcoords=\"offset points\", xytext=(0,10), ha='center')\n",
    "            \n",
    "            #append avx and avy\n",
    "            avex.append(avx)\n",
    "            avey.append(avy)\n",
    "\n",
    "            # reset ky \n",
    "            ky = initialcluster\n",
    "            continue\n",
    "        for row in csv_reader:\n",
    "            clusterid = float(row[0])\n",
    "\n",
    "            if clusterid != obnum:\n",
    "                numo1 = float(obnum)\n",
    "                # append into dictionary of maps\n",
    "                totalmap[numo1] = currentmap\n",
    "                if matchfreq[numo1] > f:\n",
    "                    f = matchfreq[numo1]\n",
    "                    print(\"f is\", f)\n",
    "                    ky = numo1\n",
    "\n",
    "                    hxvalues = xvalues\n",
    "                    hyvalues = yvalues\n",
    "                obnum= clusterid\n",
    "                currentmap={}\n",
    "                # take the average\n",
    "                avecurrentx = np.mean(xvalues)\n",
    "                avecurrenty = np.mean(yvalues)\n",
    "                currentmap3[numo1] = [avecurrentx, avecurrenty]\n",
    "\n",
    "                xvalues =[]\n",
    "                yvalues =[]\n",
    "\n",
    "                continue\n",
    "            \n",
    "            xpoint = float(row[1])\n",
    "            ypoint = float(row[2])\n",
    "            xr = round(xpoint)\n",
    "            yr = round(ypoint)\n",
    "            xvalues.append(xpoint) # save to array \n",
    "            yvalues.append(ypoint)\n",
    "            fromi = dinvlookupdict[(xr,yr)]\n",
    "            # function to find highest freq \n",
    "            h1, i1 = dhighestfreq(fromi)\n",
    "            # save to map\n",
    "            currentmap[i1] = 1\n",
    "            # check prev map\n",
    "            val = prevmap.get(fromi)\n",
    "            if val == None:\n",
    "                pass\n",
    "            else:\n",
    "                numo = float(obnum)\n",
    "                matchfreq[numo] = matchfreq[numo]+1\n",
    "        numo2 = float(clusterid)\n",
    "        avecurrentx = np.mean(xvalues) ##USE AS CURRENT X\n",
    "        avecurrenty = np.mean(yvalues)\n",
    "        currentmap3[numo2] = [avecurrentx, avecurrenty]\n",
    "        totalmap[numo2] = currentmap\n",
    "        xvalues=[] ##RESET\n",
    "        yvalues=[]\n",
    "        if matchfreq[numo2] > f:\n",
    "            ky = numo2\n",
    "            hxvalues = xvalues\n",
    "            hyvalues = yvalues\n",
    "            totalmap[ky]= currentmap\n",
    "        \n",
    "        if len(hxvalues) ==0:\n",
    "            break\n",
    "            \n",
    "        if len(hxvalues) !=0:\n",
    "            finalarray.append(ky)\n",
    "            prevmap = totalmap[ky]\n",
    "            \n",
    "            avx = np.mean(hxvalues)\n",
    "            avy = np.mean(hyvalues)\n",
    "            \n",
    "            \n",
    "            finalx.append(avx)\n",
    "            finaly.append(avy)"
   ]
  },
  {
   "cell_type": "code",
   "execution_count": 59,
   "metadata": {},
   "outputs": [
    {
     "data": {
      "text/plain": [
       "[3]"
      ]
     },
     "execution_count": 59,
     "metadata": {},
     "output_type": "execute_result"
    }
   ],
   "source": [
    "\n"
   ]
  },
  {
   "cell_type": "code",
   "execution_count": 62,
   "metadata": {},
   "outputs": [
    {
     "name": "stdout",
     "output_type": "stream",
     "text": [
      "i is 120\n",
      "av coord are 22.594378947368426 9.874587368421054\n",
      "i is 121\n",
      "av coord are 29.289787292817675 9.41208314917127\n",
      "i is 122\n",
      "av coord are 29.907035885167467 9.358354784688995\n",
      "i is 123\n",
      "av coord are 28.11909336609337 10.051342260442262\n",
      "i is 124\n",
      "av coord are 30.09939436619718 10.053264319248827\n"
     ]
    },
    {
     "data": {
      "image/png": "[encoded data removed]",
      "text/plain": [
       "<Figure size 432x288 with 1 Axes>"
      ]
     },
     "metadata": {
      "needs_background": "light"
     },
     "output_type": "display_data"
    }
   ],
   "source": [
    "\n",
    "# plot other clusters\n",
    "array1 = finalarray[0:5]\n",
    "\n",
    "alen = len(array1)\n",
    "xv1=[]\n",
    "yv1=[]\n",
    "\n",
    "ax =[]\n",
    "ay =[]\n",
    "\n",
    "acounter=0\n",
    "for i in range(initialframe, initialframe+alen):\n",
    "    name = \"file_out\"\n",
    "    name = name+str(i)\n",
    "    name = name+\".csv\"\n",
    "    \n",
    "    \n",
    "    a = array1[acounter]\n",
    "    xarray = []\n",
    "    yarray = []\n",
    "    with open(name) as csv_file:\n",
    "        csv_reader = csv.reader(csv_file, delimiter=\",\")\n",
    "        for row in csv_reader:\n",
    "            clusterid = float(row[0])\n",
    "            xpoint = float(row[1])\n",
    "            ypoint = float(row[2])\n",
    "            \n",
    "            if clusterid == a:\n",
    "                xarray.append(xpoint)\n",
    "                yarray.append(ypoint)\n",
    "                #xmissed.append(xpoint)\n",
    "                #ymissed.append(ypoint)\n",
    "                \n",
    "                \n",
    "        # plot\n",
    "        #xv1.extend(xarray)\n",
    "        #yv1.extend(yarray)\n",
    "        \n",
    "        \n",
    "        plt.scatter(xarray,yarray)\n",
    "        avx = np.mean(xarray)\n",
    "        avy = np.mean(yarray)\n",
    "        \n",
    "        print(\"i is\", i)\n",
    "        print(\"av coord are\", avx, avy)\n",
    "        \n",
    "        plt.annotate(i, (avx, avy), textcoords=\"offset points\", xytext=(0,10), ha='center')\n",
    "        \n",
    "        ax.append(avx)\n",
    "        ay.append(avy)\n",
    "    \n",
    "    acounter =acounter +1\n",
    "    if acounter > alen:\n",
    "        break\n",
    "\n",
    "#plt.scatter(xv1, yv1)\n",
    "#plt.scatter(xv2, yv2)\n",
    "plt.show()\n"
   ]
  },
  {
   "cell_type": "code",
   "execution_count": null,
   "metadata": {},
   "outputs": [],
   "source": []
  },
  {
   "cell_type": "code",
   "execution_count": 57,
   "metadata": {},
   "outputs": [
    {
     "name": "stdout",
     "output_type": "stream",
     "text": [
      "f is 13\n",
      "f is 219\n",
      "f is 221\n",
      "f is 538\n",
      "f is 460\n",
      "f is 197\n",
      "f is 173\n",
      "f is 157\n",
      "f is 154\n",
      "f is 163\n",
      "f is 116\n",
      "f is 135\n",
      "f is 98\n",
      "f is 92\n",
      "f is 29\n",
      "f is 19\n",
      "f is 14\n",
      "f is 29\n"
     ]
    },
    {
     "data": {
      "image/png": "[encoded data removed]",
      "text/plain": [
       "<Figure size 432x288 with 1 Axes>"
      ]
     },
     "metadata": {
      "needs_background": "light"
     },
     "output_type": "display_data"
    }
   ],
   "source": [
    "\n",
    "\n",
    "\n",
    "arrayx = []\n",
    "arrayy = []\n",
    "pavex = []\n",
    "pavey = []\n",
    "\n",
    "phx = [] # previous high x values\n",
    "phy =[] \n",
    "\n",
    "initialframe = 120\n",
    "endframe= 150\n",
    "\n",
    "initialcluster=3\n",
    "\n",
    "obnum = 1\n",
    "\n",
    "totalmap ={}\n",
    "\n",
    "prevmap = {}\n",
    "\n",
    "mf = defaultdict(list)\n",
    "# maximum object/cluster id in any frame\n",
    "mx = 20\n",
    "\n",
    "for j in range(0, mx):\n",
    "    mf[j]=0 \n",
    "\n",
    "matchfreq= mf\n",
    "\n",
    "\n",
    "thres= 10\n",
    "\n",
    "finalarray=[]\n",
    "\n",
    "finalarray.append(initialcluster)\n",
    "\n",
    "finalx =[]\n",
    "finaly =[]\n",
    "\n",
    "avex =[]\n",
    "avey =[]\n",
    "\n",
    "xvalues =[]\n",
    "yvalues =[]\n",
    "\n",
    "for i in range(initialframe, endframe):\n",
    "    name = \"file_out\"\n",
    "    name = name+str(i)\n",
    "    name = name+\".csv\"\n",
    "    firstrow=0\n",
    "    # clear matchfreq\n",
    "    for j in range(0, mx):\n",
    "        matchfreq[j] =0\n",
    "    with open(name) as csv_file:\n",
    "        f =0 \n",
    "        # reset hxvalues , hyvalues\n",
    "        hxvalues = []\n",
    "        hyvalues=[]\n",
    "        \n",
    "        currentmap= {}\n",
    "        \n",
    "        csv_reader = csv.reader(csv_file, delimiter=\",\")\n",
    "        \n",
    "        if i==initialframe:\n",
    "            for row in csv_reader:\n",
    "                # no need for first row skip \n",
    "                clusterid = float(row[0])\n",
    "                if clusterid==initialcluster:\n",
    "                    xpoint = float(row[1])\n",
    "                    ypoint = float(row[2])\n",
    "                    #print(\"xpt\", xpoint)\n",
    "                    #print(\"ypt\", ypoint)\n",
    "                    arrayx.append(xpoint)\n",
    "                    arrayy.append(ypoint)\n",
    "                    xr = round(xpoint)\n",
    "                    yr = round(ypoint)\n",
    "                    fromi = dinvlookupdict[(xr,yr)]\n",
    "                    h1, i1 = dhighestfreq(fromi)\n",
    "                    prevmap[i1] = 1\n",
    "            plt.scatter(arrayx, arrayy)\n",
    "            # reset ky \n",
    "            ky = initialcluster\n",
    "            continue\n",
    "            \n",
    "        for row in csv_reader:\n",
    "            clusterid = float(row[0])\n",
    "            \n",
    "            if clusterid != obnum:\n",
    "                numo1 = float(obnum)\n",
    "                # append into dictionary of maps\n",
    "                totalmap[numo1] = currentmap\n",
    "                if matchfreq[numo1] > f:\n",
    "                    f = matchfreq[numo1]\n",
    "                    print(\"f is\", f)\n",
    "                    ky = numo1\n",
    "                    \n",
    "                    hxvalues = xvalues\n",
    "                    hyvalues = yvalues\n",
    "                obnum = clusterid\n",
    "                \n",
    "                currentindices=[]\n",
    "                currentmap= {}\n",
    "                \n",
    "                xvalues =[]\n",
    "                yvalues =[]\n",
    "                # append first values\n",
    "                #xvalues.append(float(row[1]))\n",
    "                #yvalues.append(float(row[2]))\n",
    "                \n",
    "                continue\n",
    "            \n",
    "            xpoint = float(row[1])\n",
    "            ypoint = float(row[2])\n",
    "            xr = round(xpoint)\n",
    "            yr = round(ypoint)\n",
    "            xvalues.append(xpoint) # save to array \n",
    "            yvalues.append(ypoint)\n",
    "            fromi = dinvlookupdict[(xr,yr)]\n",
    "            # function to find highest freq \n",
    "            h1, i1 = dhighestfreq(fromi)\n",
    "            # save to map\n",
    "            currentmap[i1] = 1\n",
    "            # check prev map\n",
    "            val = prevmap.get(fromi)\n",
    "            if val ==None:\n",
    "                pass\n",
    "            else:\n",
    "                numo = float(obnum)\n",
    "                matchfreq[numo]= matchfreq[numo]+1\n",
    "        # check f values at end of file\n",
    "        numo2 = float(obnum)\n",
    "        if matchfreq[numo2] > f:\n",
    "            ky = numo2\n",
    "            hxvalues = xvalues\n",
    "            hyvalues = yvalues\n",
    "            totalmap[ky]= currentmap\n",
    "        finalarray.append(ky)\n",
    "        # ky is the cluster id with the highest frequency\n",
    "        listclusterids.append(ky)\n",
    "        plt.scatter(hxvalues, hyvalues)\n",
    "        \n",
    "        if len(hxvalues) ==0:\n",
    "            print(\"0 h vals\")\n",
    "        if len(hxvalues) !=0:\n",
    "            # set prevmap to the one \n",
    "            \n",
    "            prevmap = totalmap[ky]\n",
    "        # obnum\n",
    "        \n",
    "plt.show()"
   ]
  },
  {
   "cell_type": "code",
   "execution_count": 59,
   "metadata": {},
   "outputs": [],
   "source": [
    "# test the freq grid\n",
    "\n",
    "import os\n",
    "from collections import defaultdict\n",
    "import matplotlib.pyplot as plt\n",
    "import numpy as np\n",
    "\n",
    "\n",
    "# december highest \n",
    "# step 4 b \n",
    "\n",
    "\n",
    "class frequency_grid(object):\n",
    "    \n",
    "    def __init__(self, numpoints=3):\n",
    "        self.numpoints = numpoints\n",
    "        self.time_elapsed= 0 # 0\n",
    "        self.numcells = 160000\n",
    "        \n",
    "        self.xmin =-200\n",
    "        self.xmax = 200\n",
    "        self.ymin =-200\n",
    "        self.ymax =200\n",
    "        \n",
    "        self.forwardmap = {}  # dcmap1\n",
    "        self.backmap = {}\n",
    "        self.countmap = {}\n",
    "        \n",
    "        self.current_position = []\n",
    "        self.prevmap = {} # set to current map at end of frame \n",
    "        self.currentmap = {}\n",
    "        \n",
    "        self.tracking_list = {} # list of objects that are tracked \n",
    "        \n",
    "        # step 1\n",
    "        ind_temp = 0\n",
    "        for ix in range(int(self.xmin), int(self.xmax)):\n",
    "            for iy in range(int(self.ymin), int(self.ymax)):\n",
    "                myvec = []\n",
    "                myvec.append(ix)\n",
    "                myvec.append(iy)\n",
    "                self.forwardmap[ind_temp] = myvec\n",
    "                self.backmap[(ix, iy)]= ind_temp\n",
    "                ind_temp=ind_temp+1\n",
    "        \n",
    "        self.range = 10\n",
    "        # initialize grid count map\n",
    "        for i in range(self.numcells):\n",
    "            p = self.forwardmap[i]\n",
    "            px = p[0]\n",
    "            py = p[1]\n",
    "            for j in range(-self.range, self.range+1):\n",
    "                jx = px+j\n",
    "                if jx > self.xmax-1 or jx < self.xmin:\n",
    "                    continue\n",
    "                for k in range(-self.range, self.range+1):\n",
    "                    jy = py +k\n",
    "                    if jy > self.ymax-1 or jy<self.ymin:\n",
    "                        continue\n",
    "                    p2 = self.backmap[(jx, jy)]\n",
    "                    self.countmap[(i, p2)] = 0 # dtrajcount\n",
    "    \n",
    "        \n",
    "    # set up based on trajectories file : training method \n",
    "    def setup_grid(): \n",
    "        \n",
    "        fileind = 1\n",
    "        for filename in os.listdir('24hrdata'):\n",
    "            fname = '24hrdata/'+filename\n",
    "            fileind =fileind+1\n",
    "            #irow=0\n",
    "            obnum=1\n",
    "            with open(fname) as csv_file:\n",
    "                csv_reader = csv.reader(csv_file, delimiter=',')\n",
    "                line_count = 0\n",
    "                for row in csv_reader:\n",
    "                    trajectory_num = row[0]\n",
    "                    if line_count==0:\n",
    "                        line_count = line_count+1 # skip header\n",
    "                    if line_count==1:\n",
    "                        prevrow = row\n",
    "                        prevx = float(prevrow[6])\n",
    "                        prevy = float(prevrow[7])\n",
    "                        pfx = round(prevx)\n",
    "                        pfy = round(prevy)\n",
    "                        continue\n",
    "                    currentx = float(row[6])\n",
    "                    currenty = float(row[7])\n",
    "                    fx = round(currentx)\n",
    "                    fy = round(currenty)\n",
    "                    if pfx == fx and pfy ==fy:\n",
    "                        #prevframe = frameindex\n",
    "                        continue\n",
    "                    if obnum != trajectory_num:\n",
    "                        pfx = fx\n",
    "                        pfy = fy\n",
    "                        obnum = trajectory_num\n",
    "                        continue\n",
    "                    #save\n",
    "                    fromi = self.backmap[(pfx, pfy)]\n",
    "                    toi = self.backmap[(fx, fy)]\n",
    "                    if abs(pfx - fx)>10 or abs(pfy - fy)>10:\n",
    "                        continue\n",
    "                    mcount = self.countmap[(fromi, toi)]\n",
    "                    self.countmap[(fromi, toi)] = mcount+1\n",
    "                    pfx=fx\n",
    "                    pfy=fy\n",
    "    \n",
    "    def highestfreq(fromi):\n",
    "        highest = 0\n",
    "        indexhighest = fromi\n",
    "        (px, py) = self.forwardmap[fromi]\n",
    "        for j in range(-10, 11):\n",
    "            jx = px+j\n",
    "            if jx>xmax-1 or jx<xmin: # check if pts in range\n",
    "                continue\n",
    "            for k in range(-10, 11):\n",
    "                jy = py+k\n",
    "                # check if pts are in range\n",
    "                if jy>ymax-1 or jy<ymin:\n",
    "                    continue\n",
    "                toi = self.backmap[(jx, jy)]\n",
    "                t = self.countmap[(fromi, toi)]\n",
    "                #if t>0:\n",
    "                    #print(t)\n",
    "                if t > highest:\n",
    "                    highest=t\n",
    "                    indexhighest=toi\n",
    "        return highest, indexhighest"
   ]
  },
  {
   "cell_type": "code",
   "execution_count": null,
   "metadata": {},
   "outputs": [],
   "source": [
    "fg = frequency_grid()"
   ]
  },
  {
   "cell_type": "code",
   "execution_count": 104,
   "metadata": {},
   "outputs": [
    {
     "name": "stdout",
     "output_type": "stream",
     "text": [
      "frame by 10 is 560  with cluster  8\n",
      "frame by 10 is 570  with cluster  2\n",
      "frame by 10 is 580  with cluster  1\n"
     ]
    },
    {
     "data": {
      "image/png": "[encoded data removed]",
      "text/plain": [
       "<Figure size 432x288 with 1 Axes>"
      ]
     },
     "metadata": {
      "needs_background": "light"
     },
     "output_type": "display_data"
    }
   ],
   "source": [
    "# distance\n",
    "initialframe = 550\n",
    "endframe= 590\n",
    "\n",
    "initialcluster = 5\n",
    "\n",
    "import matplotlib.pyplot as plt\n",
    "\n",
    "\n",
    "# array to be plotted\n",
    "arrayx = []\n",
    "\n",
    "arrayy = []\n",
    "\n",
    "xvalues = []\n",
    "yvalues = []\n",
    "\n",
    "finalarray=[]\n",
    "\n",
    "totxvalues = defaultdict(list)\n",
    "totyvalues = defaultdict(list)\n",
    "# initialize distances map \n",
    "mapdistances = defaultdict(list)\n",
    "\n",
    "obnum =0\n",
    "\n",
    "currentdistances = []\n",
    "\n",
    "mx=15\n",
    "\n",
    "for j in range(0, mx):\n",
    "    mapdistances[j]=[]\n",
    "    totxvalues[j] = []\n",
    "    totyvalues[j] = []\n",
    "    \n",
    "\n",
    "\n",
    "for i in range(initialframe, endframe):\n",
    "    name = \"file_out\"\n",
    "    name = name+str(i)\n",
    "    name = name+\".csv\"\n",
    "    firstrow=0\n",
    "    # clear map\n",
    "    for j in range(0, mx):\n",
    "        mapdistances[j] =[]\n",
    "        totxvalues[j] =[]\n",
    "        totyvalues[j]=[]\n",
    "        \n",
    "    with open(name) as csv_file:\n",
    "        m = 1000\n",
    "        \n",
    "        f =0 \n",
    "        # reset hxvalues , hyvalues\n",
    "        hxvalues = []\n",
    "        hyvalues=[]\n",
    "\n",
    "        currentmap= {}\n",
    "\n",
    "        csv_reader = csv.reader(csv_file, delimiter=\",\")\n",
    "        \n",
    "        if i==initialframe:\n",
    "            #print(\"i\",i)\n",
    "            for row in csv_reader:\n",
    "                \n",
    "                clusterid = float(row[0])\n",
    "                \n",
    "                #print(\"clusterid\", clusterid)\n",
    "                if clusterid==initialcluster:\n",
    "                    xpoint = float(row[1])\n",
    "                    ypoint = float(row[2])\n",
    "                    arrayx.append(xpoint)\n",
    "                    arrayy.append(ypoint)\n",
    "                    \n",
    "            # find average \n",
    "            avx = np.mean(arrayx)\n",
    "            avy = np.mean(arrayy)\n",
    "            avprev = [avx, avy ]\n",
    "            #plt.plot(arrayx, arrayy)\n",
    "            plt.scatter(arrayx, arrayy)\n",
    "            plt.annotate(i, (avx, avy), textcoords=\"offset points\", xytext=(0,10), ha='center')\n",
    "        \n",
    "            continue\n",
    "            \n",
    "        for row in csv_reader:\n",
    "            clusterid = float(row[0]) # current cluster id \n",
    "            \n",
    "            if clusterid != obnum:\n",
    "                numo1 = float(obnum)\n",
    "                mapdistances[numo1] = currentdistances\n",
    "                totxvalues[numo1] = xvalues\n",
    "                totyvalues[numo1] = yvalues\n",
    "                # new comparisons \n",
    "                obnum = clusterid\n",
    "                \n",
    "                currentdistances=[]\n",
    "                #currentmap= {}\n",
    "                \n",
    "                xvalues =[]\n",
    "                yvalues =[]\n",
    "                \n",
    "                continue\n",
    "            xpoint = float(row[1])\n",
    "            ypoint = float(row[2])\n",
    "            xvalues.append(xpoint) # save to array \n",
    "            yvalues.append(ypoint)\n",
    "            # calc distance\n",
    "            dx1 = avx - xpoint\n",
    "            dy1 = avy - ypoint\n",
    "            d1 = pow(dx1, 2) + pow(dy1, 2)\n",
    "            dist = pow(d1, 0.5)\n",
    "            currentdistances.append(dist) \n",
    "            \n",
    "        for j in range(0, mx):\n",
    "            meandistances = np.mean(mapdistances[j])\n",
    "            if meandistances < m:\n",
    "                m = meandistances\n",
    "                ky = j \n",
    "        finalarray.append(ky)\n",
    "        hxvalues = totxvalues[ky]\n",
    "        hyvalues = totyvalues[ky]\n",
    "        \n",
    "        avx = np.mean(hxvalues)\n",
    "        avy = np.mean(hyvalues)\n",
    "        \n",
    "        #plt.plot(hxvalues, hyvalues)\n",
    "        plt.scatter(hxvalues, hyvalues)\n",
    "        \n",
    "        plt.annotate(i, (avx, avy), textcoords=\"offset points\", xytext=(0,10), ha='center')\n",
    "        \n",
    "        # print 10th cluster\n",
    "        if i % 10 ==0:\n",
    "            print(\"frame by 10 is\",i, \" with cluster \", ky)\n",
    "        # print mean\n",
    "        #print(\"mean x,\",np.mean(hxvalues))\n",
    "        #print(\"mean y,\",np.mean(hyvalues))\n",
    "        \n",
    "        # reset hxvalues and hyvalues (don't need )\n",
    "        hxvalues =[]\n",
    "        hyvalues =[]\n",
    "        \n",
    "plt.show()"
   ]
  },
  {
   "cell_type": "code",
   "execution_count": 105,
   "metadata": {},
   "outputs": [
    {
     "data": {
      "text/plain": [
       "27"
      ]
     },
     "execution_count": 105,
     "metadata": {},
     "output_type": "execute_result"
    }
   ],
   "source": [
    "577- 550"
   ]
  },
  {
   "cell_type": "code",
   "execution_count": 98,
   "metadata": {},
   "outputs": [
    {
     "name": "stdout",
     "output_type": "stream",
     "text": [
      "10\n"
     ]
    }
   ],
   "source": [
    "# code to find out the num of clusters in the current frame\n",
    "\n",
    "i = 550# start frame \n",
    "name = \"file_out\"\n",
    "name = name+str(i)\n",
    "name = name+\".csv\"\n",
    "firstrow=0\n",
    "\n",
    "with open(name) as csv_file:\n",
    "    csv_reader = csv.reader(csv_file, delimiter=\",\")\n",
    "\n",
    "    for row in csv_reader:\n",
    "        clusteridfinal = row[0]\n",
    "\n",
    "print(clusteridfinal)"
   ]
  },
  {
   "cell_type": "code",
   "execution_count": 15,
   "metadata": {},
   "outputs": [],
   "source": [
    "import math\n",
    "# make map for every 10 \n",
    "map10 = {}\n",
    "\n",
    "# initialize \n",
    "#sfs =[390, 400, 410, 420, 430, 440, 450, 460, 470, 480, 490, 500]\n",
    "sfs = [10, 20 , 30, 40, 50, 60, 70, 80, 90, 100 ]\n",
    "\n",
    "for s in sfs:\n",
    "    map10[s] = []"
   ]
  },
  {
   "cell_type": "code",
   "execution_count": 25,
   "metadata": {},
   "outputs": [],
   "source": [
    "map10[10] = [6,5]"
   ]
  },
  {
   "cell_type": "code",
   "execution_count": 27,
   "metadata": {},
   "outputs": [],
   "source": [
    "#map10[20]= [3]\n",
    "#map10[30]= [3]\n",
    "#map10[40] = [8]\n",
    "map10[50] = [6]\n",
    "map10[60] = [1]\n",
    "map10[70] = [1]\n",
    "map10[80] = [4]\n",
    "map10[90] = [5]\n",
    "map10[100] = [7]\n",
    "\n",
    "map10[500] = [2]\n",
    "map10[510] = [6]"
   ]
  },
  {
   "cell_type": "code",
   "execution_count": 49,
   "metadata": {},
   "outputs": [
    {
     "name": "stdout",
     "output_type": "stream",
     "text": [
      "1\n",
      "2\n",
      "3\n",
      "4\n",
      "5\n",
      "6\n",
      "7\n",
      "8\n",
      "9\n",
      "10\n"
     ]
    }
   ],
   "source": [
    "a = np.array(range(1,11))\n",
    "for el in a:\n",
    "    print(el)"
   ]
  },
  {
   "cell_type": "code",
   "execution_count": 101,
   "metadata": {},
   "outputs": [
    {
     "name": "stdout",
     "output_type": "stream",
     "text": [
      "initial cluster is, 1\n",
      "frame by 10 is 560  with cluster  2\n"
     ]
    },
    {
     "data": {
      "image/png": "[encoded data removed]",
      "text/plain": [
       "<Figure size 432x288 with 1 Axes>"
      ]
     },
     "metadata": {
      "needs_background": "light"
     },
     "output_type": "display_data"
    },
    {
     "name": "stdout",
     "output_type": "stream",
     "text": [
      "initial cluster is, 2\n",
      "frame by 10 is 560  with cluster  2\n"
     ]
    },
    {
     "data": {
      "image/png": "[encoded data removed]",
      "text/plain": [
       "<Figure size 432x288 with 1 Axes>"
      ]
     },
     "metadata": {
      "needs_background": "light"
     },
     "output_type": "display_data"
    },
    {
     "name": "stdout",
     "output_type": "stream",
     "text": [
      "initial cluster is, 3\n",
      "frame by 10 is 560  with cluster  2\n"
     ]
    },
    {
     "data": {
      "image/png": "[encoded data removed]",
      "text/plain": [
       "<Figure size 432x288 with 1 Axes>"
      ]
     },
     "metadata": {
      "needs_background": "light"
     },
     "output_type": "display_data"
    },
    {
     "name": "stdout",
     "output_type": "stream",
     "text": [
      "initial cluster is, 4\n",
      "frame by 10 is 560  with cluster  2\n"
     ]
    },
    {
     "data": {
      "image/png": "[encoded data removed]",
      "text/plain": [
       "<Figure size 432x288 with 1 Axes>"
      ]
     },
     "metadata": {
      "needs_background": "light"
     },
     "output_type": "display_data"
    },
    {
     "name": "stdout",
     "output_type": "stream",
     "text": [
      "initial cluster is, 5\n",
      "frame by 10 is 560  with cluster  8\n"
     ]
    },
    {
     "data": {
      "image/png": "[encoded data removed]",
      "text/plain": [
       "<Figure size 432x288 with 1 Axes>"
      ]
     },
     "metadata": {
      "needs_background": "light"
     },
     "output_type": "display_data"
    },
    {
     "name": "stdout",
     "output_type": "stream",
     "text": [
      "initial cluster is, 6\n",
      "frame by 10 is 560  with cluster  8\n"
     ]
    },
    {
     "data": {
      "image/png": "[encoded data removed]",
      "text/plain": [
       "<Figure size 432x288 with 1 Axes>"
      ]
     },
     "metadata": {
      "needs_background": "light"
     },
     "output_type": "display_data"
    },
    {
     "name": "stdout",
     "output_type": "stream",
     "text": [
      "initial cluster is, 7\n",
      "frame by 10 is 560  with cluster  10\n"
     ]
    },
    {
     "data": {
      "image/png": "[encoded data removed]",
      "text/plain": [
       "<Figure size 432x288 with 1 Axes>"
      ]
     },
     "metadata": {
      "needs_background": "light"
     },
     "output_type": "display_data"
    },
    {
     "name": "stdout",
     "output_type": "stream",
     "text": [
      "initial cluster is, 8\n",
      "frame by 10 is 560  with cluster  10\n"
     ]
    },
    {
     "data": {
      "image/png": "[encoded data removed]",
      "text/plain": [
       "<Figure size 432x288 with 1 Axes>"
      ]
     },
     "metadata": {
      "needs_background": "light"
     },
     "output_type": "display_data"
    },
    {
     "name": "stdout",
     "output_type": "stream",
     "text": [
      "initial cluster is, 9\n",
      "frame by 10 is 560  with cluster  8\n"
     ]
    },
    {
     "data": {
      "image/png": "[encoded data removed]",
      "text/plain": [
       "<Figure size 432x288 with 1 Axes>"
      ]
     },
     "metadata": {
      "needs_background": "light"
     },
     "output_type": "display_data"
    },
    {
     "name": "stdout",
     "output_type": "stream",
     "text": [
      "initial cluster is, 10\n",
      "frame by 10 is 560  with cluster  2\n"
     ]
    },
    {
     "data": {
      "image/png": "[encoded data removed]",
      "text/plain": [
       "<Figure size 432x288 with 1 Axes>"
      ]
     },
     "metadata": {
      "needs_background": "light"
     },
     "output_type": "display_data"
    }
   ],
   "source": [
    "# looped distance version\n",
    "\n",
    "import matplotlib.pyplot as plt\n",
    "\n",
    "# distance\n",
    "initialframe = 550\n",
    "endframe= 570\n",
    "\n",
    "imax = 10 # 2, 10\n",
    "ic = np.array(range(1, imax+1))\n",
    "\n",
    "unew = []\n",
    "carray = np.setdiff1d(ic, unew)\n",
    "\n",
    "for initialcluster in carray:\n",
    "\n",
    "    print(\"initial cluster is,\", initialcluster)\n",
    "\n",
    "    # array to be plotted\n",
    "    arrayx = []\n",
    "\n",
    "    arrayy = []\n",
    "\n",
    "    xvalues = []\n",
    "    yvalues = []\n",
    "\n",
    "    finalarray=[]\n",
    "\n",
    "    totxvalues = defaultdict(list)\n",
    "    totyvalues = defaultdict(list)\n",
    "    # initialize distances map \n",
    "    mapdistances = defaultdict(list)\n",
    "\n",
    "    obnum =0\n",
    "\n",
    "    currentdistances = []\n",
    "\n",
    "    mx=15\n",
    "\n",
    "    for j in range(0, mx):\n",
    "        mapdistances[j]=[]\n",
    "        totxvalues[j] = []\n",
    "        totyvalues[j] = []\n",
    "\n",
    "\n",
    "\n",
    "    for i in range(initialframe, endframe):\n",
    "        name = \"file_out\"\n",
    "        name = name+str(i)\n",
    "        name = name+\".csv\"\n",
    "        firstrow=0\n",
    "        # clear map\n",
    "        for j in range(0, mx):\n",
    "            mapdistances[j] =[]\n",
    "            totxvalues[j] =[]\n",
    "            totyvalues[j]=[]\n",
    "\n",
    "        with open(name) as csv_file:\n",
    "            m = 1000\n",
    "\n",
    "            f =0 \n",
    "            # reset hxvalues , hyvalues\n",
    "            hxvalues = []\n",
    "            hyvalues=[]\n",
    "\n",
    "            currentmap= {}\n",
    "\n",
    "            csv_reader = csv.reader(csv_file, delimiter=\",\")\n",
    "\n",
    "            if i==initialframe:\n",
    "                #print(\"i\",i)\n",
    "                for row in csv_reader:\n",
    "\n",
    "                    clusterid = float(row[0])\n",
    "\n",
    "                    #print(\"clusterid\", clusterid)\n",
    "                    if clusterid==initialcluster:\n",
    "                        xpoint = float(row[1])\n",
    "                        ypoint = float(row[2])\n",
    "                        arrayx.append(xpoint)\n",
    "                        arrayy.append(ypoint)\n",
    "\n",
    "                # find average \n",
    "                avx = np.mean(arrayx)\n",
    "                avy = np.mean(arrayy)\n",
    "                avprev = [avx, avy ]\n",
    "                #plt.plot(arrayx, arrayy)\n",
    "                plt.scatter(arrayx, arrayy)\n",
    "                plt.annotate(i, (avx, avy), textcoords=\"offset points\", xytext=(0,10), ha='center')\n",
    "\n",
    "                continue\n",
    "\n",
    "            for row in csv_reader:\n",
    "                clusterid = float(row[0]) # current cluster id \n",
    "\n",
    "                if clusterid != obnum:\n",
    "                    numo1 = float(obnum)\n",
    "                    mapdistances[numo1] = currentdistances\n",
    "                    totxvalues[numo1] = xvalues\n",
    "                    totyvalues[numo1] = yvalues\n",
    "                    # new comparisons \n",
    "                    obnum = clusterid\n",
    "\n",
    "                    currentdistances=[]\n",
    "                    #currentmap= {}\n",
    "\n",
    "                    xvalues =[]\n",
    "                    yvalues =[]\n",
    "\n",
    "                    continue\n",
    "                xpoint = float(row[1])\n",
    "                ypoint = float(row[2])\n",
    "                xvalues.append(xpoint) # save to array \n",
    "                yvalues.append(ypoint)\n",
    "                # calc distance\n",
    "                dx1 = avx - xpoint\n",
    "                dy1 = avy - ypoint\n",
    "                d1 = pow(dx1, 2) + pow(dy1, 2)\n",
    "                dist = pow(d1, 0.5)\n",
    "                currentdistances.append(dist) \n",
    "\n",
    "            for j in range(0, mx):\n",
    "                meandistances = np.mean(mapdistances[j])\n",
    "                if meandistances < m:\n",
    "                    m = meandistances\n",
    "                    ky = j \n",
    "            finalarray.append(ky)\n",
    "            hxvalues = totxvalues[ky]\n",
    "            hyvalues = totyvalues[ky]\n",
    "\n",
    "            avx = np.mean(hxvalues)\n",
    "            avy = np.mean(hyvalues)\n",
    "\n",
    "            #plt.plot(hxvalues, hyvalues)\n",
    "            plt.scatter(hxvalues, hyvalues)\n",
    "\n",
    "            plt.annotate(i, (avx, avy), textcoords=\"offset points\", xytext=(0,10), ha='center')\n",
    "\n",
    "            # print 10th cluster\n",
    "            if i % 10 ==0:\n",
    "                print(\"frame by 10 is\",i, \" with cluster \", ky)\n",
    "            # print mean\n",
    "            #print(\"mean x,\",np.mean(hxvalues))\n",
    "            #print(\"mean y,\",np.mean(hyvalues))\n",
    "\n",
    "            # reset hxvalues and hyvalues (don't need )\n",
    "            hxvalues =[]\n",
    "            hyvalues =[]\n",
    "\n",
    "    plt.show()"
   ]
  },
  {
   "cell_type": "code",
   "execution_count": 102,
   "metadata": {},
   "outputs": [
    {
     "data": {
      "text/plain": [
       "17"
      ]
     },
     "execution_count": 102,
     "metadata": {},
     "output_type": "execute_result"
    }
   ],
   "source": [
    "567 - 550"
   ]
  },
  {
   "cell_type": "code",
   "execution_count": null,
   "metadata": {},
   "outputs": [],
   "source": []
  }
 ],
 "metadata": {
  "kernelspec": {
   "display_name": "Python 3",
   "language": "python",
   "name": "python3"
  },
  "language_info": {
   "codemirror_mode": {
    "name": "ipython",
    "version": 3
   },
   "file_extension": ".py",
   "mimetype": "text/x-python",
   "name": "python",
   "nbconvert_exporter": "python",
   "pygments_lexer": "ipython3",
   "version": "3.9.1"
  }
 },
 "nbformat": 4,
 "nbformat_minor": 4
}
