{
 "cells": [
  {
   "cell_type": "code",
   "execution_count": 3,
   "metadata": {},
   "outputs": [
    {
     "ename": "ModuleNotFoundError",
     "evalue": "No module named 'open3d'",
     "output_type": "error",
     "traceback": [
      "\u001b[1;31m---------------------------------------------------------------------------\u001b[0m",
      "\u001b[1;31mModuleNotFoundError\u001b[0m                       Traceback (most recent call last)",
      "\u001b[1;32m<ipython-input-3-55512778b321>\u001b[0m in \u001b[0;36m<module>\u001b[1;34m\u001b[0m\n\u001b[0;32m      5\u001b[0m \u001b[1;32mimport\u001b[0m \u001b[0mpandas\u001b[0m \u001b[1;32mas\u001b[0m \u001b[0mpd\u001b[0m\u001b[1;33m\u001b[0m\u001b[1;33m\u001b[0m\u001b[0m\n\u001b[0;32m      6\u001b[0m \u001b[1;32mfrom\u001b[0m \u001b[0msklearn\u001b[0m\u001b[1;33m.\u001b[0m\u001b[0mcluster\u001b[0m \u001b[1;32mimport\u001b[0m \u001b[0mDBSCAN\u001b[0m\u001b[1;33m\u001b[0m\u001b[1;33m\u001b[0m\u001b[0m\n\u001b[1;32m----> 7\u001b[1;33m \u001b[1;32mfrom\u001b[0m \u001b[0mDataReader\u001b[0m \u001b[1;32mimport\u001b[0m \u001b[0mLidarLoader\u001b[0m\u001b[1;33m\u001b[0m\u001b[1;33m\u001b[0m\u001b[0m\n\u001b[0m\u001b[0;32m      8\u001b[0m \u001b[1;32mfrom\u001b[0m \u001b[0mDetectedObject\u001b[0m \u001b[1;32mimport\u001b[0m \u001b[0mDetectedObject\u001b[0m\u001b[1;33m\u001b[0m\u001b[1;33m\u001b[0m\u001b[0m\n\u001b[0;32m      9\u001b[0m \u001b[1;32mfrom\u001b[0m \u001b[0mLidarDBSCAN\u001b[0m \u001b[1;32mimport\u001b[0m \u001b[0mAdaptiveDBSCAN\u001b[0m\u001b[1;33m\u001b[0m\u001b[1;33m\u001b[0m\u001b[0m\n",
      "\u001b[1;32m~\\OneDrive\\Documents\\BF_April24_2020\\DataReader.py\u001b[0m in \u001b[0;36m<module>\u001b[1;34m\u001b[0m\n\u001b[0;32m      5\u001b[0m \u001b[1;32mimport\u001b[0m \u001b[0mmatplotlib\u001b[0m\u001b[1;33m.\u001b[0m\u001b[0mpyplot\u001b[0m \u001b[1;32mas\u001b[0m \u001b[0mplt\u001b[0m\u001b[1;33m\u001b[0m\u001b[1;33m\u001b[0m\u001b[0m\n\u001b[0;32m      6\u001b[0m \u001b[1;32mimport\u001b[0m \u001b[0mos\u001b[0m\u001b[1;33m\u001b[0m\u001b[1;33m\u001b[0m\u001b[0m\n\u001b[1;32m----> 7\u001b[1;33m \u001b[1;32mimport\u001b[0m \u001b[0mopen3d\u001b[0m \u001b[1;32mas\u001b[0m \u001b[0mop3\u001b[0m\u001b[1;33m\u001b[0m\u001b[1;33m\u001b[0m\u001b[0m\n\u001b[0m\u001b[0;32m      8\u001b[0m \u001b[1;33m\u001b[0m\u001b[0m\n\u001b[0;32m      9\u001b[0m \u001b[1;33m\u001b[0m\u001b[0m\n",
      "\u001b[1;31mModuleNotFoundError\u001b[0m: No module named 'open3d'"
     ]
    }
   ],
   "source": [
    "import os\n",
    "import dpkt\n",
    "#import cv2\n",
    "import numpy as np\n",
    "import pandas as pd\n",
    "from sklearn.cluster import DBSCAN\n",
    "from DataReader import LidarLoader\n",
    "from DetectedObject import DetectedObject\n",
    "from LidarDBSCAN import AdaptiveDBSCAN\n"
   ]
  },
  {
   "cell_type": "code",
   "execution_count": 12,
   "metadata": {},
   "outputs": [
    {
     "ename": "ModuleNotFoundError",
     "evalue": "No module named 'sklearn.utils'",
     "output_type": "error",
     "traceback": [
      "\u001b[1;31m---------------------------------------------------------------------------\u001b[0m",
      "\u001b[1;31mModuleNotFoundError\u001b[0m                       Traceback (most recent call last)",
      "\u001b[1;32m<ipython-input-12-b7c74cbf5af0>\u001b[0m in \u001b[0;36m<module>\u001b[1;34m\u001b[0m\n\u001b[1;32m----> 1\u001b[1;33m \u001b[1;32mimport\u001b[0m \u001b[0msklearn\u001b[0m\u001b[1;33m\u001b[0m\u001b[1;33m\u001b[0m\u001b[0m\n\u001b[0m",
      "\u001b[1;32m~\\AppData\\Local\\Packages\\PythonSoftwareFoundation.Python.3.8_qbz5n2kfra8p0\\LocalCache\\local-packages\\Python38\\site-packages\\sklearn\\__init__.py\u001b[0m in \u001b[0;36m<module>\u001b[1;34m\u001b[0m\n\u001b[0;32m     80\u001b[0m     \u001b[1;32mfrom\u001b[0m \u001b[1;33m.\u001b[0m \u001b[1;32mimport\u001b[0m \u001b[0m_distributor_init\u001b[0m  \u001b[1;31m# noqa: F401\u001b[0m\u001b[1;33m\u001b[0m\u001b[1;33m\u001b[0m\u001b[0m\n\u001b[0;32m     81\u001b[0m     \u001b[1;32mfrom\u001b[0m \u001b[1;33m.\u001b[0m \u001b[1;32mimport\u001b[0m \u001b[0m__check_build\u001b[0m  \u001b[1;31m# noqa: F401\u001b[0m\u001b[1;33m\u001b[0m\u001b[1;33m\u001b[0m\u001b[0m\n\u001b[1;32m---> 82\u001b[1;33m     \u001b[1;32mfrom\u001b[0m \u001b[1;33m.\u001b[0m\u001b[0mbase\u001b[0m \u001b[1;32mimport\u001b[0m \u001b[0mclone\u001b[0m\u001b[1;33m\u001b[0m\u001b[1;33m\u001b[0m\u001b[0m\n\u001b[0m\u001b[0;32m     83\u001b[0m     \u001b[1;32mfrom\u001b[0m \u001b[1;33m.\u001b[0m\u001b[0mutils\u001b[0m\u001b[1;33m.\u001b[0m\u001b[0m_show_versions\u001b[0m \u001b[1;32mimport\u001b[0m \u001b[0mshow_versions\u001b[0m\u001b[1;33m\u001b[0m\u001b[1;33m\u001b[0m\u001b[0m\n\u001b[0;32m     84\u001b[0m \u001b[1;33m\u001b[0m\u001b[0m\n",
      "\u001b[1;32m~\\AppData\\Local\\Packages\\PythonSoftwareFoundation.Python.3.8_qbz5n2kfra8p0\\LocalCache\\local-packages\\Python38\\site-packages\\sklearn\\base.py\u001b[0m in \u001b[0;36m<module>\u001b[1;34m\u001b[0m\n\u001b[0;32m     15\u001b[0m \u001b[1;32mfrom\u001b[0m \u001b[1;33m.\u001b[0m \u001b[1;32mimport\u001b[0m \u001b[0m__version__\u001b[0m\u001b[1;33m\u001b[0m\u001b[1;33m\u001b[0m\u001b[0m\n\u001b[0;32m     16\u001b[0m \u001b[1;32mfrom\u001b[0m \u001b[1;33m.\u001b[0m\u001b[0m_config\u001b[0m \u001b[1;32mimport\u001b[0m \u001b[0mget_config\u001b[0m\u001b[1;33m\u001b[0m\u001b[1;33m\u001b[0m\u001b[0m\n\u001b[1;32m---> 17\u001b[1;33m \u001b[1;32mfrom\u001b[0m \u001b[1;33m.\u001b[0m\u001b[0mutils\u001b[0m \u001b[1;32mimport\u001b[0m \u001b[0m_IS_32BIT\u001b[0m\u001b[1;33m\u001b[0m\u001b[1;33m\u001b[0m\u001b[0m\n\u001b[0m\u001b[0;32m     18\u001b[0m from .utils._tags import (\n\u001b[0;32m     19\u001b[0m     \u001b[0m_DEFAULT_TAGS\u001b[0m\u001b[1;33m,\u001b[0m\u001b[1;33m\u001b[0m\u001b[1;33m\u001b[0m\u001b[0m\n",
      "\u001b[1;31mModuleNotFoundError\u001b[0m: No module named 'sklearn.utils'"
     ]
    }
   ],
   "source": [
    "import sklearn"
   ]
  },
  {
   "cell_type": "code",
   "execution_count": 1,
   "metadata": {},
   "outputs": [],
   "source": [
    "import numpy as np \n",
    "  \n",
    "# creating a numpy array \n",
    "array = np.array([['1', '2', '3','4','5'], \n",
    "                  ['6', '7', '8','9','10'], \n",
    "                  ['11', '12', '13','14','15']]) "
   ]
  },
  {
   "cell_type": "code",
   "execution_count": null,
   "metadata": {},
   "outputs": [],
   "source": []
  },
  {
   "cell_type": "code",
   "execution_count": 12,
   "metadata": {},
   "outputs": [
    {
     "data": {
      "text/plain": [
       "<enumerate at 0x198f1ac1a00>"
      ]
     },
     "execution_count": 12,
     "metadata": {},
     "output_type": "execute_result"
    }
   ],
   "source": [
    "enumerate(array.flatten(),1)"
   ]
  },
  {
   "cell_type": "code",
   "execution_count": 13,
   "metadata": {},
   "outputs": [
    {
     "data": {
      "text/plain": [
       "{0: [1, 2], 1: [2, 3], 2: [3, 4]}"
      ]
     },
     "execution_count": 13,
     "metadata": {},
     "output_type": "execute_result"
    }
   ],
   "source": [
    "dict(enumerate(keys1))"
   ]
  },
  {
   "cell_type": "code",
   "execution_count": 18,
   "metadata": {},
   "outputs": [],
   "source": [
    "d2 = {(1,2):1, (2,3):2}"
   ]
  },
  {
   "cell_type": "code",
   "execution_count": 19,
   "metadata": {},
   "outputs": [],
   "source": [
    "#keys1 = [[1,2],[2,3],[3,4]]\n",
    "keys1 = np.array([['(1,2)', '(2,3)', '(3,4)']])\n",
    "keys = [1,2,3]\n",
    "vals = [0,0,0]\n",
    "d1 = dict(enumerate(keys1))"
   ]
  },
  {
   "cell_type": "code",
   "execution_count": 20,
   "metadata": {},
   "outputs": [
    {
     "data": {
      "text/plain": [
       "{0: array(['(1,2)', '(2,3)', '(3,4)'], dtype='<U5')}"
      ]
     },
     "execution_count": 20,
     "metadata": {},
     "output_type": "execute_result"
    }
   ],
   "source": [
    "d1"
   ]
  },
  {
   "cell_type": "code",
   "execution_count": 30,
   "metadata": {},
   "outputs": [],
   "source": [
    "st = \"{(1,2): 1, (2,3):2, (3,4):3}\"\n",
    "#d2 = {st}"
   ]
  },
  {
   "cell_type": "code",
   "execution_count": 24,
   "metadata": {},
   "outputs": [
    {
     "data": {
      "text/plain": [
       "{'(1,2): 1, (2,3):2, (3,4):3'}"
      ]
     },
     "execution_count": 24,
     "metadata": {},
     "output_type": "execute_result"
    }
   ],
   "source": []
  },
  {
   "cell_type": "code",
   "execution_count": 25,
   "metadata": {},
   "outputs": [],
   "source": [
    "# https://www.geeksforgeeks.org/python-program-to-create-a-dictionary-from-a-string/\n"
   ]
  },
  {
   "cell_type": "code",
   "execution_count": 31,
   "metadata": {},
   "outputs": [],
   "source": [
    "d3 = eval(st)"
   ]
  },
  {
   "cell_type": "code",
   "execution_count": 32,
   "metadata": {},
   "outputs": [
    {
     "data": {
      "text/plain": [
       "{(1, 2): 1, (2, 3): 2, (3, 4): 3}"
      ]
     },
     "execution_count": 32,
     "metadata": {},
     "output_type": "execute_result"
    }
   ],
   "source": [
    "d3"
   ]
  },
  {
   "cell_type": "code",
   "execution_count": null,
   "metadata": {},
   "outputs": [],
   "source": [
    "# generate the string and save it (into text file) and load \n"
   ]
  },
  {
   "cell_type": "code",
   "execution_count": 33,
   "metadata": {},
   "outputs": [],
   "source": [
    "s = \"(5,6):4\"\n",
    "st =st+s"
   ]
  },
  {
   "cell_type": "code",
   "execution_count": 34,
   "metadata": {},
   "outputs": [
    {
     "data": {
      "text/plain": [
       "'{(1,2): 1, (2,3):2, (3,4):3}(5,6):4'"
      ]
     },
     "execution_count": 34,
     "metadata": {},
     "output_type": "execute_result"
    }
   ],
   "source": [
    "st"
   ]
  },
  {
   "cell_type": "code",
   "execution_count": 35,
   "metadata": {},
   "outputs": [],
   "source": [
    "xmin = -200\n",
    "xmax = 200\n",
    "ymin = -200\n",
    "ymax = 200\n",
    "\n",
    "dcmap1 = {}\n",
    "ind= 0\n",
    "\n",
    "for ix in range(int(xmin), int(xmax)):\n",
    "    for iy in range(int(ymin), int(ymax)):\n",
    "        myvec=[]\n",
    "        myvec.append(ix)\n",
    "        myvec.append(iy)\n",
    "        dcmap1[ind]=myvec\n",
    "        ind=ind+1\n"
   ]
  },
  {
   "cell_type": "code",
   "execution_count": 36,
   "metadata": {},
   "outputs": [],
   "source": [
    "# december step 2 \n",
    "dlookupdict={}\n",
    "dinvlookupdict={}\n",
    "\n",
    "for i in range(160000):\n",
    "    dlookupdict[i] = dcmap1[i]\n",
    "    p1 = dcmap1[i][0]\n",
    "    p2 = dcmap1[i][1]\n",
    "    dinvlookupdict[(p1,p2)]=i"
   ]
  },
  {
   "cell_type": "code",
   "execution_count": 55,
   "metadata": {},
   "outputs": [],
   "source": [
    "st = '{'\n",
    "# test on smaller range of numbers\n",
    "for i in range(20000):\n",
    "    p = dlookupdict[i]\n",
    "    px = p[0]\n",
    "    py = p[1]\n",
    "    for j in range(-5, 5):\n",
    "        jx = px+j\n",
    "        if jx>xmax-1 or jx<xmin: # check if pts in range\n",
    "            continue\n",
    "        for k in range(-5, 5):\n",
    "            jy = py+k\n",
    "            if jy>ymax-1 or jy<ymin:\n",
    "                continue\n",
    "            p2 = dinvlookupdict[(jx, jy)]\n",
    "            s = '('+str(i)+','+str(p2)+'): 0,'\n",
    "            st = st+s"
   ]
  },
  {
   "cell_type": "code",
   "execution_count": 42,
   "metadata": {},
   "outputs": [],
   "source": [
    "st1 = 'abcdefg abceedfg agd r,'"
   ]
  },
  {
   "cell_type": "code",
   "execution_count": 43,
   "metadata": {},
   "outputs": [],
   "source": [
    "st2 = st1[:-1]"
   ]
  },
  {
   "cell_type": "code",
   "execution_count": 44,
   "metadata": {},
   "outputs": [
    {
     "data": {
      "text/plain": [
       "'abcdefg abceedfg agd r'"
      ]
     },
     "execution_count": 44,
     "metadata": {},
     "output_type": "execute_result"
    }
   ],
   "source": [
    "st2"
   ]
  },
  {
   "cell_type": "code",
   "execution_count": 46,
   "metadata": {},
   "outputs": [
    {
     "data": {
      "text/plain": [
       "'{(0,0): 0,(0,1): 0,(0,2): 0,(0,3): 0,(0,4): 0,(0,400): 0,(0,401): 0,(0,402): 0,(0,403): 0,(0,404): 0,(0,800): 0,(0,801): 0,(0,802): 0,(0,803): 0,(0,804): 0,(0,1200): 0,(0,1201): 0,(0,1202): 0,(0,1203): 0,(0,1204): 0,(0,1600): 0,(0,1601): 0,(0,1602): 0,(0,1603): 0,(0,1604): 0,(1,0): 0,(1,1): 0,(1,2): 0,(1,3): 0,(1,4): 0,(1,5): 0,(1,400): 0,(1,401): 0,(1,402): 0,(1,403): 0,(1,404): 0,(1,405): 0,(1,800): 0,(1,801): 0,(1,802): 0,(1,803): 0,(1,804): 0,(1,805): 0,(1,1200): 0,(1,1201): 0,(1,1202): 0,(1,1203): 0,(1,1204): 0,(1,1205): 0,(1,1600): 0,(1,1601): 0,(1,1602): 0,(1,1603): 0,(1,1604): 0,(1,1605): 0,(2,0): 0,(2,1): 0,(2,2): 0,(2,3): 0,(2,4): 0,(2,5): 0,(2,6): 0,(2,400): 0,(2,401): 0,(2,402): 0,(2,403): 0,(2,404): 0,(2,405): 0,(2,406): 0,(2,800): 0,(2,801): 0,(2,802): 0,(2,803): 0,(2,804): 0,(2,805): 0,(2,806): 0,(2,1200): 0,(2,1201): 0,(2,1202): 0,(2,1203): 0,(2,1204): 0,(2,1205): 0,(2,1206): 0,(2,1600): 0,(2,1601): 0,(2,1602): 0,(2,1603): 0,(2,1604): 0,(2,1605): 0,(2,1606): 0,(3,0): 0,(3,1): 0,(3,2): 0,(3,3): 0,(3,4): 0,(3,5): 0,(3,6): 0,(3,7): 0,(3,400): 0,(3,401): 0,(3,402): 0,(3,403): 0,(3,404): 0,(3,405): 0,(3,406): 0,(3,407): 0,(3,800): 0,(3,801): 0,(3,802): 0,(3,803): 0,(3,804): 0,(3,805): 0,(3,806): 0,(3,807): 0,(3,1200): 0,(3,1201): 0,(3,1202): 0,(3,1203): 0,(3,1204): 0,(3,1205): 0,(3,1206): 0,(3,1207): 0,(3,1600): 0,(3,1601): 0,(3,1602): 0,(3,1603): 0,(3,1604): 0,(3,1605): 0,(3,1606): 0,(3,1607): 0,(4,0): 0,(4,1): 0,(4,2): 0,(4,3): 0,(4,4): 0,(4,5): 0,(4,6): 0,(4,7): 0,(4,8): 0,(4,400): 0,(4,401): 0,(4,402): 0,(4,403): 0,(4,404): 0,(4,405): 0,(4,406): 0,(4,407): 0,(4,408): 0,(4,800): 0,(4,801): 0,(4,802): 0,(4,803): 0,(4,804): 0,(4,805): 0,(4,806): 0,(4,807): 0,(4,808): 0,(4,1200): 0,(4,1201): 0,(4,1202): 0,(4,1203): 0,(4,1204): 0,(4,1205): 0,(4,1206): 0,(4,1207): 0,(4,1208): 0,(4,1600): 0,(4,1601): 0,(4,1602): 0,(4,1603): 0,(4,1604): 0,(4,1605): 0,(4,1606): 0,(4,1607): 0,(4,1608): 0}'"
      ]
     },
     "execution_count": 46,
     "metadata": {},
     "output_type": "execute_result"
    }
   ],
   "source": [
    "st\n",
    "st1 = st[:-1]\n",
    "st1 = st1+\"}\"\n",
    "st1"
   ]
  },
  {
   "cell_type": "code",
   "execution_count": 47,
   "metadata": {},
   "outputs": [],
   "source": [
    "d4 = eval(st1)"
   ]
  },
  {
   "cell_type": "code",
   "execution_count": 49,
   "metadata": {},
   "outputs": [],
   "source": [
    "#"
   ]
  },
  {
   "cell_type": "code",
   "execution_count": 56,
   "metadata": {},
   "outputs": [
    {
     "name": "stdout",
     "output_type": "stream",
     "text": [
      "10000\n"
     ]
    },
    {
     "ename": "KeyboardInterrupt",
     "evalue": "",
     "output_type": "error",
     "traceback": [
      "\u001b[1;31m---------------------------------------------------------------------------\u001b[0m",
      "\u001b[1;31mKeyboardInterrupt\u001b[0m                         Traceback (most recent call last)",
      "\u001b[1;32m<ipython-input-56-77a14bebefe9>\u001b[0m in \u001b[0;36m<module>\u001b[1;34m\u001b[0m\n\u001b[0;32m     25\u001b[0m             \u001b[1;31m#dtrajcount[(i, p2)]=0\u001b[0m\u001b[1;33m\u001b[0m\u001b[1;33m\u001b[0m\u001b[1;33m\u001b[0m\u001b[0m\n\u001b[0;32m     26\u001b[0m             \u001b[0ms\u001b[0m \u001b[1;33m=\u001b[0m \u001b[1;34m'('\u001b[0m\u001b[1;33m+\u001b[0m\u001b[0mstr\u001b[0m\u001b[1;33m(\u001b[0m\u001b[0mi\u001b[0m\u001b[1;33m)\u001b[0m\u001b[1;33m+\u001b[0m\u001b[1;34m','\u001b[0m\u001b[1;33m+\u001b[0m\u001b[0mstr\u001b[0m\u001b[1;33m(\u001b[0m\u001b[0mp2\u001b[0m\u001b[1;33m)\u001b[0m\u001b[1;33m+\u001b[0m\u001b[1;34m'): 0,'\u001b[0m\u001b[1;33m\u001b[0m\u001b[1;33m\u001b[0m\u001b[0m\n\u001b[1;32m---> 27\u001b[1;33m             \u001b[0mst\u001b[0m \u001b[1;33m=\u001b[0m \u001b[0mst\u001b[0m\u001b[1;33m+\u001b[0m\u001b[0ms\u001b[0m\u001b[1;33m\u001b[0m\u001b[1;33m\u001b[0m\u001b[0m\n\u001b[0m\u001b[0;32m     28\u001b[0m \u001b[1;33m\u001b[0m\u001b[0m\n\u001b[0;32m     29\u001b[0m \u001b[0mst1\u001b[0m \u001b[1;33m=\u001b[0m \u001b[0mst\u001b[0m\u001b[1;33m[\u001b[0m\u001b[1;33m:\u001b[0m\u001b[1;33m-\u001b[0m\u001b[1;36m1\u001b[0m\u001b[1;33m]\u001b[0m\u001b[1;33m\u001b[0m\u001b[1;33m\u001b[0m\u001b[0m\n",
      "\u001b[1;31mKeyboardInterrupt\u001b[0m: "
     ]
    }
   ],
   "source": [
    "range1 = 10 \n",
    "\n",
    "st = '{'\n",
    "for i in range(160000):\n",
    "    p = dlookupdict[i]\n",
    "    px = p[0]\n",
    "    py = p[1]\n",
    "    if i==10000:\n",
    "        print(\"10000\")\n",
    "    # calculate x between i.x - 5, i.x+5\n",
    "    for j in range(-range1, range1+ 1):\n",
    "        jx = px+j\n",
    "        if jx>xmax-1 or jx<xmin: # check if pts in range\n",
    "            continue\n",
    "        # calculate y between i.y-5, i.y+5 \n",
    "        for k in range(-range1, range1+1):\n",
    "            jy = py+k\n",
    "            # check if pts are in range\n",
    "            if jy>ymax-1 or jy<ymin:\n",
    "                continue\n",
    "                \n",
    "            # inv dict lookup\n",
    "            p2 = dinvlookupdict[(jx, jy)]\n",
    "            # save trajcount1[(i, p2)]\n",
    "            #dtrajcount[(i, p2)]=0\n",
    "            s = '('+str(i)+','+str(p2)+'): 0,'\n",
    "            st = st+s\n",
    "\n",
    "st1 = st[:-1]\n",
    "st1 = st1+\"}\"\n",
    "\n"
   ]
  },
  {
   "cell_type": "code",
   "execution_count": null,
   "metadata": {},
   "outputs": [],
   "source": [
    "text_file = open(\"sample.txt\", \"w\")\n",
    "n = text_file.write('Welcome to pythonexamples.org')\n",
    "text_file.close()"
   ]
  },
  {
   "cell_type": "code",
   "execution_count": null,
   "metadata": {},
   "outputs": [],
   "source": [
    "# save texts separately \n"
   ]
  },
  {
   "cell_type": "code",
   "execution_count": 61,
   "metadata": {},
   "outputs": [],
   "source": [
    "s1 = '{'\n",
    "dtrajcount={}\n",
    "\n",
    "# 1 to 10,000\n",
    "for i in range(1, 10000):\n",
    "    p = dlookupdict[i]\n",
    "    px = p[0]\n",
    "    py = p[1]\n",
    "    if i==100000:\n",
    "        print(100000)\n",
    "    # calculate x between i.x - 5, i.x+5\n",
    "    for j in range(-range1, range1+ 1):\n",
    "        jx = px+j\n",
    "        if jx>xmax-1 or jx<xmin: # check if pts in range\n",
    "            continue\n",
    "        # calculate y between i.y-5, i.y+5 \n",
    "        for k in range(-range1, range1+1):\n",
    "            jy = py+k\n",
    "            # check if pts are in range\n",
    "            if jy>ymax-1 or jy<ymin:\n",
    "                continue\n",
    "            # inv dict lookup\n",
    "            p2 = dinvlookupdict[(jx, jy)]\n",
    "            # save trajcount1[(i, p2)]\n",
    "            dtrajcount[(i, p2)]=0\n",
    "            s = '('+str(i)+','+str(p2)+'): 0,'\n",
    "            s1 = s1 + s\n",
    "            "
   ]
  },
  {
   "cell_type": "code",
   "execution_count": 66,
   "metadata": {},
   "outputs": [
    {
     "data": {
      "text/plain": [
       "'13999): 0'"
      ]
     },
     "execution_count": 66,
     "metadata": {},
     "output_type": "execute_result"
    }
   ],
   "source": [
    "s1[-10:-1]"
   ]
  },
  {
   "cell_type": "code",
   "execution_count": 70,
   "metadata": {},
   "outputs": [
    {
     "data": {
      "text/plain": [
       "','"
      ]
     },
     "execution_count": 70,
     "metadata": {},
     "output_type": "execute_result"
    }
   ],
   "source": [
    "s1[-1]"
   ]
  },
  {
   "cell_type": "code",
   "execution_count": 71,
   "metadata": {},
   "outputs": [],
   "source": [
    "s1 =s1[:-1]"
   ]
  },
  {
   "cell_type": "code",
   "execution_count": 73,
   "metadata": {},
   "outputs": [],
   "source": [
    "s1 = s1+\"}\""
   ]
  },
  {
   "cell_type": "code",
   "execution_count": 74,
   "metadata": {},
   "outputs": [
    {
     "ename": "MemoryError",
     "evalue": "",
     "output_type": "error",
     "traceback": [
      "\u001b[1;31m---------------------------------------------------------------------------\u001b[0m",
      "\u001b[1;31mMemoryError\u001b[0m                               Traceback (most recent call last)",
      "\u001b[1;32m<ipython-input-74-76388429c082>\u001b[0m in \u001b[0;36m<module>\u001b[1;34m\u001b[0m\n\u001b[1;32m----> 1\u001b[1;33m \u001b[0md5\u001b[0m \u001b[1;33m=\u001b[0m \u001b[0meval\u001b[0m\u001b[1;33m(\u001b[0m\u001b[0ms1\u001b[0m\u001b[1;33m)\u001b[0m\u001b[1;33m\u001b[0m\u001b[1;33m\u001b[0m\u001b[0m\n\u001b[0m",
      "\u001b[1;31mMemoryError\u001b[0m: "
     ]
    }
   ],
   "source": [
    "d5 = eval(s1)"
   ]
  },
  {
   "cell_type": "code",
   "execution_count": null,
   "metadata": {},
   "outputs": [],
   "source": [
    "# save and load a dictionary: https://stackoverflow.com/questions/19201290/how-to-save-a-dictionary-to-a-file/32216025\n",
    "\n",
    "def save_obj(obj, name ):\n",
    "    with open('obj/'+ name + '.pkl', 'wb') as f:\n",
    "        pickle.dump(obj, f, pickle.HIGHEST_PROTOCOL)\n",
    "\n",
    "def load_obj(name ):\n",
    "    with open('obj/' + name + '.pkl', 'rb') as f:\n",
    "        return pickle.load(f)\n"
   ]
  },
  {
   "cell_type": "code",
   "execution_count": 75,
   "metadata": {},
   "outputs": [],
   "source": [
    "import numpy as np\n",
    "\n",
    "# Save\n",
    "dictionary = {'hello':'world'}\n",
    "np.save('my_file.npy', dictionary) \n",
    "\n",
    "# Load\n",
    "#read_dictionary = np.load('my_file.npy',allow_pickle='TRUE').item()\n"
   ]
  },
  {
   "cell_type": "code",
   "execution_count": 76,
   "metadata": {},
   "outputs": [],
   "source": [
    "# Load\n",
    "read_dictionary = np.load('my_file.npy',allow_pickle='TRUE').item()"
   ]
  },
  {
   "cell_type": "code",
   "execution_count": 77,
   "metadata": {},
   "outputs": [
    {
     "data": {
      "text/plain": [
       "{'hello': 'world'}"
      ]
     },
     "execution_count": 77,
     "metadata": {},
     "output_type": "execute_result"
    }
   ],
   "source": [
    "read_dictionary"
   ]
  },
  {
   "cell_type": "code",
   "execution_count": 79,
   "metadata": {},
   "outputs": [
    {
     "name": "stdout",
     "output_type": "stream",
     "text": [
      "6\n"
     ]
    }
   ],
   "source": [
    "import csv\n",
    "# code to find out the num of clusters in the current frame\n",
    "\n",
    "i = 1 # start frame \n",
    "name = \"file_out\"\n",
    "name = name+str(i)\n",
    "name = name+\".csv\"\n",
    "firstrow=0\n",
    "\n",
    "with open(name) as csv_file:\n",
    "    csv_reader = csv.reader(csv_file, delimiter=\",\")\n",
    "\n",
    "    for row in csv_reader:\n",
    "        clusteridfinal = row[0]\n",
    "\n",
    "print(clusteridfinal)"
   ]
  },
  {
   "cell_type": "code",
   "execution_count": null,
   "metadata": {},
   "outputs": [],
   "source": []
  }
 ],
 "metadata": {
  "kernelspec": {
   "display_name": "Python 3",
   "language": "python",
   "name": "python3"
  },
  "language_info": {
   "codemirror_mode": {
    "name": "ipython",
    "version": 3
   },
   "file_extension": ".py",
   "mimetype": "text/x-python",
   "name": "python",
   "nbconvert_exporter": "python",
   "pygments_lexer": "ipython3",
   "version": "3.9.1"
  }
 },
 "nbformat": 4,
 "nbformat_minor": 4
}
