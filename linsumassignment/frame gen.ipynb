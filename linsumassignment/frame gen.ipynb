{
 "cells": [
  {
   "cell_type": "code",
   "execution_count": 2,
   "id": "static-constant",
   "metadata": {},
   "outputs": [],
   "source": [
    "import os\n",
    "import dpkt\n",
    "import cv2\n",
    "import numpy as np\n",
    "import pandas as pd\n",
    "import math"
   ]
  },
  {
   "cell_type": "code",
   "execution_count": 3,
   "id": "accurate-spring",
   "metadata": {},
   "outputs": [],
   "source": [
    "from sklearn.cluster import DBSCAN\n",
    "from DataReader import LidarLoader"
   ]
  },
  {
   "cell_type": "code",
   "execution_count": 4,
   "id": "alpha-morgan",
   "metadata": {},
   "outputs": [],
   "source": [
    "\n",
    "from DetectedObject import DetectedObject\n",
    "from LidarDBSCAN import AdaptiveDBSCAN"
   ]
  },
  {
   "cell_type": "code",
   "execution_count": 5,
   "id": "tamil-lucas",
   "metadata": {},
   "outputs": [],
   "source": [
    "\n",
    "class FrameGen():\n",
    "    def __init__(self,frame_path,detecting_range,bck_voxel_path,with_bf = True):\n",
    "        self.frame_path = frame_path\n",
    "        self.bck_voxel_path = bck_voxel_path\n",
    "        self.with_bf = with_bf\n",
    "        self.detecting_range = detecting_range\n",
    "        \n",
    "    def extract_frame_dic(self,point_cloud,Adb):\n",
    "        if len(point_cloud) == 0:\n",
    "            return {}\n",
    "        label = Adb.fit_predict(point_cloud)# cluster part point_cloud: 2D array [[2.1,2.3],[2.2,3.4],[x,y],[100,121]] label:[0,0,1,-1]\n",
    "        uniq_label = np.unique(label)\n",
    "        if -1 in uniq_label:\n",
    "            uniq_label = uniq_label[uniq_label!=-1]\n",
    "        frame_dic = {}\n",
    "        for ind in range(len(uniq_label)):\n",
    "            include_point = point_cloud[label == uniq_label[ind]].astype(np.float32)[:,[0,1]]\n",
    "            rect = cv2.minAreaRect(include_point)\n",
    "            center = rect[0]\n",
    "            box_corner = cv2.boxPoints(rect)\n",
    "            elevation_intensity = point_cloud[label == uniq_label[ind]].astype(np.float32)[:,[3,4]]\n",
    "            detected_obj = DetectedObject(np.array(center),include_point,box_corner,elevation_intensity)\n",
    "            frame_dic[ind] = detected_obj\n",
    "\n",
    "        return frame_dic #next_frame\n",
    "\n",
    "    def DBSCAN_pcap_frame_generator(self,eps,min_samples):\n",
    "        db = DBSCAN(eps=eps,min_samples=min_samples)\n",
    "        lidar_reader = LidarLoader(self.frame_path,self.bck_voxel_path,self.detecting_range,self.with_bf)\n",
    "        frame_gen = lidar_reader.frame_gen()\n",
    "        while True:\n",
    "            while True:\n",
    "                point_cloud = next(frame_gen)[:,[1,2,4,3,5]] # X,Y,D,Z,I\n",
    "                frame_dic = self.extract_frame_dic(point_cloud,db)\n",
    "                yield frame_dic\n",
    "\n",
    "    def ADBSCAN_pcap_frame_generator(self,beta,min_sample_1,min_sample_2,min_sample_3):\n",
    "        Adb = AdaptiveDBSCAN(beta,min_sample_1,min_sample_2,min_sample_3)\n",
    "        lidar_reader = LidarLoader(self.frame_path,self.bck_voxel_path,self.detecting_range,self.with_bf)\n",
    "        frame_gen = lidar_reader.frame_gen()\n",
    "        while True:\n",
    "            while True:\n",
    "                point_cloud = next(frame_gen)[:,[1,2,4,3,5]] # X,Y,D,Z,I\n",
    "                frame_dic = self.extract_frame_dic(point_cloud,Adb)\n",
    "                yield frame_dic"
   ]
  },
  {
   "cell_type": "code",
   "execution_count": 8,
   "id": "premium-tours",
   "metadata": {},
   "outputs": [
    {
     "ename": "NameError",
     "evalue": "name 'detecting_range' is not defined",
     "output_type": "error",
     "traceback": [
      "\u001b[1;31m---------------------------------------------------------------------------\u001b[0m",
      "\u001b[1;31mNameError\u001b[0m                                 Traceback (most recent call last)",
      "\u001b[1;32m<ipython-input-8-3e4c18f4628b>\u001b[0m in \u001b[0;36m<module>\u001b[1;34m\u001b[0m\n\u001b[0;32m      1\u001b[0m \u001b[1;31m# reset frame gen\u001b[0m\u001b[1;33m\u001b[0m\u001b[1;33m\u001b[0m\u001b[1;33m\u001b[0m\u001b[0m\n\u001b[1;32m----> 2\u001b[1;33m \u001b[0mframe_gen\u001b[0m \u001b[1;33m=\u001b[0m \u001b[0mFrameGen\u001b[0m\u001b[1;33m(\u001b[0m\u001b[0mpcap_file_path\u001b[0m\u001b[1;33m,\u001b[0m\u001b[0mdetecting_range\u001b[0m\u001b[1;33m,\u001b[0m\u001b[0mbck_voxel_path\u001b[0m\u001b[1;33m,\u001b[0m\u001b[0mwith_bf\u001b[0m\u001b[1;33m=\u001b[0m\u001b[1;32mFalse\u001b[0m\u001b[1;33m)\u001b[0m\u001b[1;33m.\u001b[0m\u001b[0mDBSCAN_pcap_frame_generator\u001b[0m\u001b[1;33m(\u001b[0m\u001b[0meps\u001b[0m\u001b[1;33m,\u001b[0m\u001b[0mmin_samples\u001b[0m\u001b[1;33m)\u001b[0m\u001b[1;33m\u001b[0m\u001b[1;33m\u001b[0m\u001b[0m\n\u001b[0m\u001b[0;32m      3\u001b[0m \u001b[0mframe_ind\u001b[0m \u001b[1;33m=\u001b[0m \u001b[1;36m1\u001b[0m \u001b[1;31m# keep track of the frame number\u001b[0m\u001b[1;33m\u001b[0m\u001b[1;33m\u001b[0m\u001b[0m\n",
      "\u001b[1;31mNameError\u001b[0m: name 'detecting_range' is not defined"
     ]
    }
   ],
   "source": [
    "# reset frame gen\n",
    "frame_gen = FrameGen(pcap_file_path,detecting_range,bck_voxel_path,with_bf=False).DBSCAN_pcap_frame_generator(eps,min_samples)\n",
    "frame_ind = 1 # keep track of the frame number "
   ]
  },
  {
   "cell_type": "code",
   "execution_count": 47,
   "id": "general-washer",
   "metadata": {},
   "outputs": [
    {
     "name": "stdout",
     "output_type": "stream",
     "text": [
      "pc of 0 [ 6.173654 12.940429]\n",
      "pc of 0 [ 6.173654 12.940429]\n"
     ]
    }
   ],
   "source": [
    "# compare the future iterations of frame gen\n",
    "\n",
    "future= 10 \n",
    "\n",
    "frame_gen = FrameGen(pcap_file_path,detecting_range,bck_voxel_path,with_bf=False).DBSCAN_pcap_frame_generator(eps,min_samples)\n",
    "\n",
    "#nframe_gen = frame_gen\n",
    "for i in range(0, future):\n",
    "    nframe_gen = next(frame_gen)\n",
    "    \n",
    "pc = nframe_gen[0].point_cloud\n",
    "#print(\"point cloud is\", pc)\n",
    "print(\"pc of 0\", pc[0])\n",
    "\n",
    "\n",
    "frame_gen = FrameGen(pcap_file_path,detecting_range,bck_voxel_path,with_bf=False).DBSCAN_pcap_frame_generator(eps,min_samples)\n",
    "#nframe_gen1 = frame_gen\n",
    "for i in range(0, future):\n",
    "    nframe_gen1 = next(frame_gen)\n",
    "\n",
    "pc1 = nframe_gen1[0].point_cloud\n",
    "#print(\"point cloud is\", pc1)\n",
    "print(\"pc of 0\", pc1[0])\n"
   ]
  },
  {
   "cell_type": "code",
   "execution_count": 20,
   "id": "concerned-prince",
   "metadata": {},
   "outputs": [
    {
     "name": "stdout",
     "output_type": "stream",
     "text": [
      "len of next frame 41\n"
     ]
    }
   ],
   "source": [
    "# print length\n",
    "next_frame = next(frame_gen)\n",
    "print(\"len of next frame\", len(next_frame))"
   ]
  },
  {
   "cell_type": "code",
   "execution_count": null,
   "id": "collectible-oxygen",
   "metadata": {},
   "outputs": [],
   "source": []
  },
  {
   "cell_type": "code",
   "execution_count": 7,
   "id": "dying-welding",
   "metadata": {},
   "outputs": [],
   "source": [
    "pcap_file_path = 'C:/Users/super/OneDrive/Documents/2021/Lidar/bf1VER2.pcap'"
   ]
  },
  {
   "cell_type": "code",
   "execution_count": 10,
   "id": "civil-pastor",
   "metadata": {},
   "outputs": [
    {
     "name": "stdout",
     "output_type": "stream",
     "text": [
      "i is 0\n",
      "pc of 0 [15.936194 15.274921]\n",
      "p0 15.936194\n",
      "p1 15.274921\n",
      "pc of 1 [15.763097 14.929889]\n",
      "i is 1\n",
      "pc of 0 [19.23621  15.826119]\n",
      "p0 19.23621\n",
      "p1 15.826119\n",
      "pc of 1 [19.207716 15.487606]\n",
      "i is 2\n",
      "pc of 0 [22.742737 15.458849]\n",
      "p0 22.742737\n",
      "p1 15.458849\n",
      "pc of 1 [22.723654 15.330183]\n",
      "i is 3\n",
      "pc of 0 [25.961637 14.907508]\n",
      "p0 25.961637\n",
      "p1 14.907508\n",
      "pc of 1 [25.940649  14.7752905]\n",
      "i is 4\n",
      "pc of 0 [29.432106 14.612625]\n",
      "p0 29.432106\n",
      "p1 14.612625\n",
      "pc of 1 [29.421644  14.4804325]\n",
      "i is 5\n",
      "pc of 0 [32.80093  14.586769]\n",
      "p0 32.80093\n",
      "p1 14.586769\n",
      "pc of 1 [32.785797 14.443175]\n",
      "i is 6\n",
      "pc of 0 [-0.9845777 11.938175 ]\n",
      "p0 -0.9845777\n",
      "p1 11.938175\n",
      "pc of 1 [-0.98876965 12.049977  ]\n",
      "i is 7\n",
      "pc of 0 [ 0.19613509 11.890681  ]\n",
      "p0 0.19613509\n",
      "p1 11.890681\n",
      "pc of 1 [ 0.23756053 11.8859415 ]\n",
      "i is 8\n",
      "pc of 0 [ 3.1797786 13.178848 ]\n",
      "p0 3.1797786\n",
      "p1 13.178848\n",
      "pc of 1 [ 2.9939077 12.109148 ]\n",
      "i is 9\n",
      "pc of 0 [ 6.173654 12.940429]\n",
      "p0 6.173654\n",
      "p1 12.940429\n",
      "pc of 1 [ 6.1453986 12.768483 ]\n",
      "i is 10\n",
      "pc of 0 [ 9.278899 12.624763]\n",
      "p0 9.278899\n",
      "p1 12.624763\n",
      "pc of 1 [ 9.273965 12.52447 ]\n",
      "i is 11\n",
      "pc of 0 [-2.0280654 10.89338  ]\n",
      "p0 -2.0280654\n",
      "p1 10.89338\n",
      "pc of 1 [-2.6004786 10.976461 ]\n",
      "i is 12\n",
      "pc of 0 [-4.278312 16.45044 ]\n",
      "p0 -4.278312\n",
      "p1 16.45044\n",
      "pc of 1 [-4.2206826 16.453003 ]\n",
      "i is 13\n",
      "pc of 0 [-4.039722 16.446802]\n",
      "p0 -4.039722\n",
      "p1 16.446802\n",
      "pc of 1 [-3.9771023 16.44565  ]\n",
      "i is 14\n",
      "pc of 0 [-0.8344992 16.674843 ]\n",
      "p0 -0.8344992\n",
      "p1 16.674843\n",
      "pc of 1 [-0.42356658 16.338818  ]\n",
      "i is 15\n",
      "pc of 0 [ 2.628183 16.92817 ]\n",
      "p0 2.628183\n",
      "p1 16.92817\n",
      "pc of 1 [ 2.5553863 16.239536 ]\n",
      "i is 16\n",
      "pc of 0 [ 6.1601934 16.969904 ]\n",
      "p0 6.1601934\n",
      "p1 16.969904\n",
      "pc of 1 [ 6.1209917 16.682402 ]\n",
      "i is 17\n",
      "pc of 0 [13.851225 30.914124]\n",
      "p0 13.851225\n",
      "p1 30.914124\n",
      "pc of 1 [14.081647 30.8494  ]\n",
      "i is 18\n",
      "pc of 0 [11.493279 31.078705]\n",
      "p0 11.493279\n",
      "p1 31.078705\n",
      "pc of 1 [11.612035 31.051601]\n",
      "i is 19\n",
      "pc of 0 [ 8.981568 31.27609 ]\n",
      "p0 8.981568\n",
      "p1 31.27609\n",
      "pc of 1 [ 9.194678 31.230772]\n"
     ]
    }
   ],
   "source": [
    "#pcap_file_path = r'/Users/czhui960/Documents/Lidar/to ZHIHUI/USA pkwy/2019-12-18-10-0-0-BF1(0-18000frames).pcap'\n",
    "\n",
    "#pcap_file_path = 'C:/Users/super/OneDrive/Documents/2021/Lidar/2019-9-10-12-0-0-BF1(0-18000frames).pcap'\n",
    "pcap_file_path = 'C:/Users/super/OneDrive/Documents/2021/Lidar/bf1VER2.pcap'\n",
    "detecting_range = 40 #meter\n",
    "bck_voxel_path = 0\n",
    "eps = 1\n",
    "min_samples = 7\n",
    "frame_gen = FrameGen(pcap_file_path,detecting_range,bck_voxel_path,with_bf=False).DBSCAN_pcap_frame_generator(eps,min_samples)\n",
    "\n",
    "\n",
    "for i in range(20):\n",
    "    print(\"i is\", i)\n",
    "    #print(\"len of next frame\", len(next_frame))\n",
    "    next_frame = next(frame_gen)\n",
    "    pc = next_frame[0].point_cloud\n",
    "    #print(\"point cloud is\", pc)\n",
    "    print(\"pc of 0\", pc[0])\n",
    "    p0 = pc[0]\n",
    "    print(\"p0\", p0[0])\n",
    "    print(\"p1\", p0[1])\n",
    "    print(\"pc of 1\", pc[1])\n",
    "    "
   ]
  },
  {
   "cell_type": "code",
   "execution_count": 11,
   "id": "annual-heritage",
   "metadata": {},
   "outputs": [],
   "source": [
    "# step 1\n",
    "ind_temp = 0\n",
    "xmin=-200\n",
    "ymin=-200\n",
    "xmax= 200\n",
    "ymax=200\n",
    "forwardmap={}\n",
    "backmap={}\n",
    "for ix in range(int(xmin), int(xmax)):\n",
    "    for iy in range(int(ymin), int(ymax)):\n",
    "        myvec = []\n",
    "        myvec.append(ix)\n",
    "        myvec.append(iy)\n",
    "        forwardmap[ind_temp] = myvec\n",
    "        backmap[(ix, iy)]= ind_temp\n",
    "        ind_temp=ind_temp+1"
   ]
  },
  {
   "cell_type": "code",
   "execution_count": 9,
   "id": "tough-combination",
   "metadata": {},
   "outputs": [
    {
     "data": {
      "text/plain": [
       "[-200, -190]"
      ]
     },
     "execution_count": 9,
     "metadata": {},
     "output_type": "execute_result"
    }
   ],
   "source": [
    "forwardmap[10]"
   ]
  },
  {
   "cell_type": "code",
   "execution_count": 62,
   "id": "hindu-setup",
   "metadata": {},
   "outputs": [],
   "source": [
    "# run algorithm on input\n",
    "\n",
    "# test initializing\n",
    "\n",
    "import csv\n",
    "import os\n",
    "from collections import defaultdict\n",
    "import matplotlib.pyplot as plt\n",
    "import numpy as np\n",
    "\n",
    "\n",
    "# december highest \n",
    "# step 4 b \n",
    "\n",
    "\n",
    "class frequency_grid(object):\n",
    "    \n",
    "    def __init__(self): # initialize forward and back map outside of init\n",
    "        #self.numpoints = numpoints\n",
    "        self.time_elapsed= 0 # same as index\n",
    "        self.numcells = 160000\n",
    "        \n",
    "        self.thres = 10 # for hybrid 2 method\n",
    "        self.angles = [] \n",
    "        \n",
    "        self.xmin =-200\n",
    "        self.xmax = 200\n",
    "        self.ymin =-200\n",
    "        self.ymax =200\n",
    "        \n",
    "        self.continueboolean = True # boolean\n",
    "        \n",
    "        self.forwardmap = {}  # dcmap1\n",
    "        self.backmap = {}\n",
    "        \n",
    "        ind_temp = 0\n",
    "        for ix in range(int(self.xmin), int(self.xmax)):\n",
    "            for iy in range(int(self.ymin), int(self.ymax)):\n",
    "                myvec = []\n",
    "                myvec.append(ix)\n",
    "                myvec.append(iy)\n",
    "                self.forwardmap[ind_temp] = myvec\n",
    "                self.backmap[(ix, iy)]= ind_temp\n",
    "                ind_temp=ind_temp+1\n",
    "                \n",
    "        self.countmap = {}\n",
    "        \n",
    "        self.current_xposition=[]\n",
    "        self.current_yposition=[]\n",
    "        self.current_position = []\n",
    "        self.prevmap = {} # set to current map at end of frame \n",
    "        self.currentmap = {}\n",
    "        \n",
    "        self.tracking_list = {} # list of objects that are tracked \n",
    "        \n",
    "        self.range = 10\n",
    "        \n",
    "        # initialize grid count map\n",
    "        self.countmap = {}\n",
    "        \n",
    "        # tracked array?\n",
    "        self.trackinglist = {}\n",
    "        # self positions in (x,y)\n",
    "        self.xposition = []\n",
    "        self.yposition = []\n",
    "        self.position = [] \n",
    "        \n",
    "        self.ax = [] # average x position\n",
    "        self.ay = [] # average y position\n",
    "        self.angles = []\n",
    "    \n",
    "        \n",
    "    # set up based on trajectories file : training method \n",
    "    def setup_grid(self): \n",
    "        \n",
    "        fileind = 1\n",
    "        for filename in os.listdir('24hrdata'):\n",
    "            print(\"file\", filename)\n",
    "            fname = '24hrdata/'+filename\n",
    "            fileind =fileind+1\n",
    "            #irow=0\n",
    "            obnum=1\n",
    "            with open(fname) as csv_file:\n",
    "                csv_reader = csv.reader(csv_file, delimiter=',')\n",
    "                line_count = 0\n",
    "                for row in csv_reader:\n",
    "                    trajectory_num = row[0]\n",
    "                    if line_count==0:\n",
    "                        line_count = line_count+1 # skip header\n",
    "                        continue\n",
    "                    if line_count==1:\n",
    "                        prevrow = row\n",
    "                        prevx = float(prevrow[6])\n",
    "                        prevy = float(prevrow[7])\n",
    "                        pfx = round(prevx)\n",
    "                        pfy = round(prevy)\n",
    "                        line_count = line_count+1\n",
    "                        continue\n",
    "                    currentx = float(row[6])\n",
    "                    currenty = float(row[7])\n",
    "                    fx = round(currentx)\n",
    "                    fy = round(currenty)\n",
    "                    if pfx == fx and pfy ==fy:\n",
    "                        #prevframe = frameindex\n",
    "                        continue\n",
    "                    if obnum != trajectory_num:\n",
    "                        pfx = fx\n",
    "                        pfy = fy\n",
    "                        obnum = trajectory_num\n",
    "                        continue\n",
    "                    #save\n",
    "                    fromi = self.backmap[(pfx, pfy)]\n",
    "                    toi = self.backmap[(fx, fy)]\n",
    "                    #print(\"fromi is\", fromi)\n",
    "                    #print(\"toi is\", toi)\n",
    "                    if abs(pfx - fx)>10 or abs(pfy - fy)>10:\n",
    "                        continue\n",
    "                    # check if it is none \n",
    "                    val = self.countmap.get((fromi, toi))\n",
    "                    if val == None:\n",
    "                        #print(\"none val for fromi\", fromi,\"to toi \", toi)\n",
    "                        self.countmap[(fromi, toi)] = 1\n",
    "                    else:\n",
    "                        \n",
    "                        mcount = self.countmap[(fromi, toi)]\n",
    "                        self.countmap[(fromi, toi)] = mcount+1\n",
    "                        # check by printing\n",
    "                        if mcount >600:\n",
    "                            print(\"countmap from i: \", fromi, \" toi:\", toi)\n",
    "                    pfx=fx\n",
    "                    pfy=fy\n",
    "    \n",
    "    def highestfreq(self, fromi):\n",
    "        highest = 0\n",
    "        indexhighest = fromi\n",
    "        (px, py) = self.forwardmap[fromi]\n",
    "        for j in range(-10, 11):\n",
    "            jx = px+j\n",
    "            if jx>self.xmax-1 or jx<self.xmin: # check if pts in range\n",
    "                continue\n",
    "            for k in range(-10, 11):\n",
    "                jy = py+k\n",
    "                # check if pts are in range\n",
    "                if jy>self.ymax-1 or jy<self.ymin:\n",
    "                    continue\n",
    "                toi = self.backmap[(jx, jy)]\n",
    "                # check if value is none \n",
    "                val = self.countmap.get((fromi, toi))\n",
    "                if val == None:\n",
    "                    t = 0\n",
    "                else:\n",
    "                    t = self.countmap[(fromi, toi)]\n",
    "                #if t>0:\n",
    "                    #print(t)\n",
    "                if t > highest:\n",
    "                    highest=t\n",
    "                    indexhighest=toi\n",
    "        return highest, indexhighest\n",
    "\n",
    "    def set_first_coordinates(self, frame_gen, init_cluster):\n",
    "        # update the first position\n",
    "        first_frame = frame_gen #next(frame_gen) change it to not have next, to be consistent\n",
    "        #lenframe = len(first_frame)\n",
    "        ptcloud = first_frame[init_cluster].point_cloud\n",
    "        xvals = []\n",
    "        yvals = []\n",
    "        currentmap={}\n",
    "        for p in ptcloud:\n",
    "            px =p[0]\n",
    "            py =p[1]\n",
    "            xvals.append(px)\n",
    "            yvals.append(py)\n",
    "            # set prevmap \n",
    "            xr = round(px)\n",
    "            yr = round(py)\n",
    "            fromi = self.backmap[(xr, yr)]\n",
    "            h1, i1 = self.highestfreq(fromi)\n",
    "            currentmap[i1] = 1\n",
    "            \n",
    "        self.prevmap = currentmap\n",
    "        #change to set equal to \n",
    "        self.xposition= [xvals]\n",
    "        self.yposition= [yvals]\n",
    "        self.current_xposition = xvals\n",
    "        self.current_yposition = yvals\n",
    "        \n",
    "        \n",
    "        self.ax = [np.mean(xvals)]\n",
    "        self.ay = [np.mean(yvals)]\n",
    "        print(\" self ax set \", self.ax)\n",
    "        \n",
    "        self.trackinglist[0] = init_cluster\n",
    "        self.continueboolean = True\n",
    "        \n",
    "        \n",
    "    \n",
    "    def predict(self, frame_gen): # ind: current index\n",
    "        \n",
    "        \n",
    "        # frame gen is \n",
    "        next_frame = frame_gen #next(frame_gen)\n",
    "        #print(\"len of next frame\", len(next_frame))\n",
    "        lenframe = len(next_frame)\n",
    "        mf = defaultdict(list)\n",
    "        \n",
    "        mx = lenframe\n",
    "        for j in range(0, mx):\n",
    "            mf[j] = 0\n",
    "            \n",
    "        matchfreq = mf\n",
    "        \n",
    "        f= 0\n",
    "        currentmap = {} # temporary currentmap\n",
    "        currentmap_freq = {} # holds freq scores\n",
    "        totalmap = {}\n",
    "        \n",
    "        xvalues=[]\n",
    "        yvalues=[]\n",
    "        hxvalues = []\n",
    "        hyvalues = []\n",
    "        \n",
    "        \n",
    "        for i in range(0, lenframe):\n",
    "            xvalues= []\n",
    "            yvalues=[]\n",
    "            # reset current map\n",
    "            currentmap={}\n",
    "            #if i>1:\n",
    "            #    break # test out \n",
    "            ptcloud = next_frame[i].point_cloud\n",
    "            for p in ptcloud:\n",
    "                # extract x and y values\n",
    "                px =p[0]\n",
    "                py =p[1]\n",
    "                xvalues.append(px)\n",
    "                yvalues.append(py)\n",
    "                #print(\"pc of x\", px)\n",
    "                #print(\"pc of y\", py)\n",
    "                xr = round(px)\n",
    "                yr = round(py)\n",
    "                fromi = self.backmap[(xr, yr)]\n",
    "                h1, i1 = self.highestfreq(fromi)\n",
    "                # save to map\n",
    "                currentmap[i1] = 1\n",
    "                currentmap_freq[i1] = h1 \n",
    "                val = self.prevmap.get(fromi)\n",
    "                #print(\"prevmap value is\", val)\n",
    "                if val ==None:\n",
    "                    pass\n",
    "                else:\n",
    "                    matchfreq[i] = matchfreq[i] +1\n",
    "            if matchfreq[i] > f:\n",
    "                ky = i\n",
    "                hxvalues = xvalues\n",
    "                hyvalues = yvalues\n",
    "                totalmap[ky]= currentmap\n",
    "                \n",
    "                \n",
    "        if len(hxvalues)==0:\n",
    "            print(\"did not find next\")\n",
    "            self.continueboolean = False\n",
    "            \n",
    "        else:\n",
    "            print(\"found next: key as :\", ky)\n",
    "            # return ky\n",
    "            self.trackinglist[self.time_elapsed] = ky \n",
    "            self.prevmap = totalmap[ky] #currentmap\n",
    "            print(\"cluster found is :\", ky)\n",
    "            self.xposition.append(hxvalues)\n",
    "            self.yposition.append(hyvalues)\n",
    "            #plt.scatter(hxvalues, hyvalues)\n",
    "            #plt.show()\n",
    "                #return ky\n",
    "        self.time_elapsed = self.time_elapsed+1\n",
    "\n",
    "        # distance predict method\n",
    "    def dist_predict(self, frame_gen): # ind: current index\n",
    "        # frame gen is \n",
    "        next_frame = next(frame_gen)\n",
    "        lenframe = len(next_frame)\n",
    "        \n",
    "        m=1000\n",
    "        t = self.time_elapsed\n",
    "        avx = np.mean(self.xposition[t-1])\n",
    "        avy = np.mean(self.yposition[t-1])\n",
    "        \n",
    "        for i in range(0, lenframe):\n",
    "            #if i>1:\n",
    "            #    break # test out \n",
    "            ptcloud = next_frame[i].point_cloud\n",
    "            xvalues=[]\n",
    "            yvalues =[]\n",
    "            currentdistances=[]\n",
    "            for p in ptcloud:\n",
    "                # extract x and y values\n",
    "                xpoint =p[0]\n",
    "                ypoint =p[1]\n",
    "                xvalues.append(xpoint) # save to array \n",
    "                yvalues.append(ypoint)\n",
    "                # calc distance\n",
    "                dx1 = avx - xpoint\n",
    "                dy1 = avy - ypoint\n",
    "                d1 = pow(dx1, 2) + pow(dy1, 2)\n",
    "                dist = pow(d1, 0.5)\n",
    "                currentdistances.append(dist)\n",
    "            # at the end of current cluster \n",
    "            meandistances = np.mean(currentdistances)\n",
    "            if meandistances < m:\n",
    "                m = meandistances\n",
    "                ky = i\n",
    "                hxvalues = xvalues\n",
    "                hyvalues = yvalues\n",
    "                \n",
    "        self.xposition.append(hxvalues)\n",
    "        self.yposition.append(hyvalues)\n",
    "        self.trackinglist[self.time_elapsed] = ky \n",
    "        self.time_elapsed= self.time_elapsed+1\n",
    "    # hybrid predict method\n",
    "    def hybrid_predict(self, frame_gen):\n",
    "        \n",
    "        # frame gen is \n",
    "        next_frame = frame_gen #next(frame_gen)\n",
    "        #print(\"len of next frame\", len(next_frame))\n",
    "        lenframe = len(next_frame)\n",
    "        mf = defaultdict(list)\n",
    "        \n",
    "        mx = lenframe\n",
    "        for j in range(0, mx):\n",
    "            mf[j] = 0\n",
    "            \n",
    "        matchfreq = mf\n",
    "        \n",
    "        f= 0\n",
    "        currentmap = {} # temporary currentmap\n",
    "        currentmap_freq = {} # holds freq scores\n",
    "        totalmap = {}\n",
    "        \n",
    "        xvalues=[]\n",
    "        yvalues=[]\n",
    "        hxvalues = []\n",
    "        hyvalues = []\n",
    "        \n",
    "        currentmap3 = {} # average coordinates\n",
    "        \n",
    "        for i in range(0, lenframe):\n",
    "            xvalues= []\n",
    "            yvalues=[]\n",
    "            # reset current map\n",
    "            currentmap={}\n",
    "            #if i>1:\n",
    "            #    break # test out \n",
    "            ptcloud = next_frame[i].point_cloud\n",
    "            for p in ptcloud:\n",
    "                # extract x and y values\n",
    "                px =p[0]\n",
    "                py =p[1]\n",
    "                xvalues.append(px)\n",
    "                yvalues.append(py)\n",
    "                #print(\"pc of x\", px)\n",
    "                #print(\"pc of y\", py)\n",
    "                xr = round(px)\n",
    "                yr = round(py)\n",
    "                fromi = self.backmap[(xr, yr)]\n",
    "                h1, i1 = self.highestfreq(fromi)\n",
    "                # save to map\n",
    "                currentmap[i1] = 1\n",
    "                currentmap_freq[i1] = h1 \n",
    "                val = self.prevmap.get(fromi)\n",
    "                #print(\"prevmap value is\", val)\n",
    "                if val ==None:\n",
    "                    pass\n",
    "                else:\n",
    "                    matchfreq[i] = matchfreq[i] +1\n",
    "            if matchfreq[i] > f:\n",
    "                ky = i\n",
    "                hxvalues = xvalues\n",
    "                hyvalues = yvalues\n",
    "                totalmap[ky]= currentmap\n",
    "                \n",
    "        numo2 = float(i) # clusterid \n",
    "        avecurrentx = np.mean(xvalues) ##USE AS CURRENT X\n",
    "        avecurrenty = np.mean(yvalues)\n",
    "        currentmap3[numo2] = [avecurrentx, avecurrenty]   \n",
    "        thres = 10 # distance threshold\n",
    "        if len(hxvalues)==0:\n",
    "            print(\"did not find next\")\n",
    "            foundmin=0\n",
    "            mindist = thres\n",
    "            c_first=0\n",
    "            for c in currentmap3:\n",
    "                cvalue = currentmap3[c]\n",
    "                cx = cvalue[0]\n",
    "                cy = cvalue[1]\n",
    "                print(\"self ax is \", self.ax)\n",
    "                ax = self.ax[-1]#finalx[-1]\n",
    "                ay = self.ay[-1] #finaly[-1]\n",
    "                dist1 = pow(cx - ax,2) + pow(cy - ay,2)\n",
    "                dist = math.sqrt(dist1)\n",
    "                if dist < thres:\n",
    "                    if c_first==0:\n",
    "                        c_first=1\n",
    "                        minclust=c\n",
    "                        mcx = cx\n",
    "                        mcy= cy\n",
    "                        mindist = dist\n",
    "                    foundmin=1\n",
    "                    if dist< mindist:\n",
    "                        mindist = dist\n",
    "                        minclust=c\n",
    "                        mcx = cx\n",
    "                        mcy = cy\n",
    "            if foundmin==1:\n",
    "                print(\"found min\")\n",
    "                print(\"dist found is\", mindist)\n",
    "                if len(self.angles)==0:\n",
    "                    # prevmap = totalmap[minclust]\n",
    "                    avx = mcx\n",
    "                    avy = mcy\n",
    "                    #add to angles\n",
    "                    xdiff = avx - self.ax[-1] #np.mean(self.xposition[-1]) #finalx[-1]\n",
    "                    ydiff= avy - self.ay[-1] #np.mean(self.yposition[-1]) #finaly[-1]\n",
    "                    # check initial direction\n",
    "                    if avy > 20: # +y, -x\n",
    "                        if xdiff>0 and ydiff<0:\n",
    "                            print(\"wrong initial direction \")\n",
    "                            return\n",
    "                    if avy < 20:\n",
    "                        if xdiff<0 and ydiff>0:\n",
    "                            print(\"wrong initial direction\")\n",
    "                            return # break\n",
    "                    rad = math.atan2(ydiff,xdiff)\n",
    "                    ang = math.degrees(rad)\n",
    "                    self.trackinglist[self.time_elapsed] = minclust\n",
    "                    if ang<0:\n",
    "                        ang= 360+ang\n",
    "                    self.angles.append(ang)\n",
    "                    self.ax.append(mcx)\n",
    "                    self.ay.append(mcy)\n",
    "                    \n",
    "                    return #continue\n",
    "                prev_avex = self.ax[-1]\n",
    "                prev_avey = self.ay[-1]\n",
    "                xdiff_curr = mcx - prev_avex\n",
    "                ydiff_curr = mcy - prev_avey\n",
    "                \n",
    "                if mcy > 20:\n",
    "                    if xdiff_curr>0 and ydiff_curr<0:\n",
    "                        return #break\n",
    "                if mcy <20:\n",
    "                    if xdiff_curr<0 and ydiff_curr>0:\n",
    "                        return #break\n",
    "                # angle \n",
    "                rad = math.atan2(ydiff_curr, xdiff_curr)\n",
    "                ang= math.degrees(rad)\n",
    "                if ang<0:\n",
    "                    ang = 360+ang\n",
    "                prev_ang = self.angles[-1]\n",
    "                ang_diff = abs(ang - prev_ang)\n",
    "                print(\"angle diff is\", ang_diff)\n",
    "                if ang_diff <= 30: \n",
    "                    print(\"angle holds\")\n",
    "                    self.trackinglist[self.time_elapsed]=minclust\n",
    "                    self.prevmap = totalmap[minclust]\n",
    "                    self.ax.append(mcx)#avx = mcx\n",
    "                    self.ay.append(mcy)#avy = mcy\n",
    "                    self.angles.append(ang)\n",
    "                else:\n",
    "                    print(\"angles too large, stop\")\n",
    "                    return #break\n",
    "            else:\n",
    "                print(\" min not found \")\n",
    "                return #break\n",
    "        if len(hxvalues) != 0:\n",
    "            self.trackinglist[self.time_elasped] = ky\n",
    "            self.prevmap = totalmap[ky]\n",
    "            avx = np.mean(hxvalues)\n",
    "            avy = np.mean(hyvalues)\n",
    "            # angles update\n",
    "            xdiff = avx - self.ax[-1]\n",
    "            ydiff = avy - self.ay[-1]\n",
    "            rad = math.atan2(ydiff, xdiff)\n",
    "            ang = math.degrees(rad)\n",
    "            if ang<0:\n",
    "                ang = 360+ang\n",
    "            self.angles.append(ang)\n",
    "            self.ax.append(avx)\n",
    "            self.ay.append(avy)\n",
    "        self.time_elapsed = self.time_elapsed+1\n",
    "        "
   ]
  },
  {
   "cell_type": "code",
   "execution_count": 63,
   "id": "multiple-cologne",
   "metadata": {},
   "outputs": [],
   "source": [
    "fg2 = frequency_grid()"
   ]
  },
  {
   "cell_type": "code",
   "execution_count": 39,
   "id": "infectious-russian",
   "metadata": {},
   "outputs": [],
   "source": [
    "# reset frame gen\n",
    "frame_gen = FrameGen(pcap_file_path,detecting_range,bck_voxel_path,with_bf=False).DBSCAN_pcap_frame_generator(eps,min_samples)"
   ]
  },
  {
   "cell_type": "code",
   "execution_count": 64,
   "id": "sized-elimination",
   "metadata": {},
   "outputs": [
    {
     "name": "stdout",
     "output_type": "stream",
     "text": [
      "file 2019-8-27-0-0-0-BF1-CL1-Traj(0-18000frames).csv\n",
      "file 2019-8-27-0-30-0-BF1-CL1-Traj(0-18000frames).csv\n",
      "file 2019-8-27-1-0-0-BF1-CL1-Traj(0-18000frames).csv\n",
      "file 2019-8-27-1-30-0-BF1-CL1-Traj(0-18000frames).csv\n",
      "file 2019-8-27-2-0-0-BF1-CL1-Traj(0-18000frames).csv\n"
     ]
    }
   ],
   "source": [
    "fg2.setup_grid()"
   ]
  },
  {
   "cell_type": "code",
   "execution_count": 65,
   "id": "ready-illness",
   "metadata": {},
   "outputs": [
    {
     "name": "stdout",
     "output_type": "stream",
     "text": [
      " self ax set  [-36.9495]\n"
     ]
    }
   ],
   "source": [
    "fg2.set_first_coordinates(next(frame_gen),10)"
   ]
  },
  {
   "cell_type": "code",
   "execution_count": 68,
   "id": "fatty-integral",
   "metadata": {},
   "outputs": [
    {
     "name": "stdout",
     "output_type": "stream",
     "text": [
      "did not find next\n",
      "self ax is  [-36.9495]\n",
      "found min\n",
      "dist found is 8.074215301777038\n"
     ]
    }
   ],
   "source": [
    "fg2.hybrid_predict(next(frame_gen))"
   ]
  },
  {
   "cell_type": "code",
   "execution_count": 50,
   "id": "cubic-analyst",
   "metadata": {},
   "outputs": [],
   "source": [
    "fg2.dist_predict(frame_gen)"
   ]
  },
  {
   "cell_type": "code",
   "execution_count": 25,
   "id": "floating-parcel",
   "metadata": {},
   "outputs": [
    {
     "name": "stdout",
     "output_type": "stream",
     "text": [
      "Wall time: 560 ms\n"
     ]
    }
   ],
   "source": [
    "%%time\n",
    "#fg = frequency_grid()\n",
    "fg = frequency_grid()"
   ]
  },
  {
   "cell_type": "code",
   "execution_count": 37,
   "id": "defined-citizenship",
   "metadata": {},
   "outputs": [],
   "source": [
    "#fg.countmap"
   ]
  },
  {
   "cell_type": "code",
   "execution_count": 26,
   "id": "confused-sleeping",
   "metadata": {},
   "outputs": [
    {
     "name": "stdout",
     "output_type": "stream",
     "text": [
      "file 2019-8-27-0-0-0-BF1-CL1-Traj(0-18000frames).csv\n",
      "file 2019-8-27-0-30-0-BF1-CL1-Traj(0-18000frames).csv\n",
      "file 2019-8-27-1-0-0-BF1-CL1-Traj(0-18000frames).csv\n",
      "file 2019-8-27-1-30-0-BF1-CL1-Traj(0-18000frames).csv\n",
      "file 2019-8-27-2-0-0-BF1-CL1-Traj(0-18000frames).csv\n",
      "Wall time: 1.99 s\n"
     ]
    }
   ],
   "source": [
    "%%time\n",
    "fg.setup_grid()"
   ]
  },
  {
   "cell_type": "code",
   "execution_count": 37,
   "id": "revised-johnston",
   "metadata": {},
   "outputs": [],
   "source": [
    "nframe_gen = next(frame_gen)\n",
    "fg.set_first_coordinates(nframe_gen, 20) # framegen, 10 "
   ]
  },
  {
   "cell_type": "code",
   "execution_count": 92,
   "id": "pleased-utilization",
   "metadata": {},
   "outputs": [
    {
     "data": {
      "text/plain": [
       "[17, 14]"
      ]
     },
     "execution_count": 92,
     "metadata": {},
     "output_type": "execute_result"
    }
   ],
   "source": [
    "fg.forwardmap[87014]"
   ]
  },
  {
   "cell_type": "code",
   "execution_count": 113,
   "id": "spiritual-combat",
   "metadata": {},
   "outputs": [
    {
     "data": {
      "text/plain": [
       "{90615: 1, 90614: 1, 91014: 1}"
      ]
     },
     "execution_count": 113,
     "metadata": {},
     "output_type": "execute_result"
    }
   ],
   "source": [
    "fg.prevmap"
   ]
  },
  {
   "cell_type": "code",
   "execution_count": 27,
   "id": "mysterious-scientist",
   "metadata": {},
   "outputs": [
    {
     "data": {
      "text/plain": [
       "6"
      ]
     },
     "execution_count": 27,
     "metadata": {},
     "output_type": "execute_result"
    }
   ],
   "source": [
    "fg.time_elapsed"
   ]
  },
  {
   "cell_type": "code",
   "execution_count": 29,
   "id": "weekly-tactics",
   "metadata": {},
   "outputs": [
    {
     "data": {
      "text/plain": [
       "22"
      ]
     },
     "execution_count": 29,
     "metadata": {},
     "output_type": "execute_result"
    }
   ],
   "source": [
    "fg.trackinglist[5]"
   ]
  },
  {
   "cell_type": "code",
   "execution_count": 29,
   "id": "outside-artwork",
   "metadata": {},
   "outputs": [
    {
     "ename": "TypeError",
     "evalue": "object of type 'generator' has no len()",
     "output_type": "error",
     "traceback": [
      "\u001b[1;31m---------------------------------------------------------------------------\u001b[0m",
      "\u001b[1;31mTypeError\u001b[0m                                 Traceback (most recent call last)",
      "\u001b[1;32m<timed eval>\u001b[0m in \u001b[0;36m<module>\u001b[1;34m\u001b[0m\n",
      "\u001b[1;32m<ipython-input-24-1e88290f81ca>\u001b[0m in \u001b[0;36mpredict\u001b[1;34m(self, frame_gen)\u001b[0m\n\u001b[0;32m    189\u001b[0m         \u001b[0mnext_frame\u001b[0m \u001b[1;33m=\u001b[0m \u001b[0mframe_gen\u001b[0m \u001b[1;31m#next(frame_gen)\u001b[0m\u001b[1;33m\u001b[0m\u001b[1;33m\u001b[0m\u001b[0m\n\u001b[0;32m    190\u001b[0m         \u001b[1;31m#print(\"len of next frame\", len(next_frame))\u001b[0m\u001b[1;33m\u001b[0m\u001b[1;33m\u001b[0m\u001b[1;33m\u001b[0m\u001b[0m\n\u001b[1;32m--> 191\u001b[1;33m         \u001b[0mlenframe\u001b[0m \u001b[1;33m=\u001b[0m \u001b[0mlen\u001b[0m\u001b[1;33m(\u001b[0m\u001b[0mnext_frame\u001b[0m\u001b[1;33m)\u001b[0m\u001b[1;33m\u001b[0m\u001b[1;33m\u001b[0m\u001b[0m\n\u001b[0m\u001b[0;32m    192\u001b[0m         \u001b[0mmf\u001b[0m \u001b[1;33m=\u001b[0m \u001b[0mdefaultdict\u001b[0m\u001b[1;33m(\u001b[0m\u001b[0mlist\u001b[0m\u001b[1;33m)\u001b[0m\u001b[1;33m\u001b[0m\u001b[1;33m\u001b[0m\u001b[0m\n\u001b[0;32m    193\u001b[0m \u001b[1;33m\u001b[0m\u001b[0m\n",
      "\u001b[1;31mTypeError\u001b[0m: object of type 'generator' has no len()"
     ]
    }
   ],
   "source": [
    "%%time\n",
    "fg.predict(frame_gen)"
   ]
  },
  {
   "cell_type": "code",
   "execution_count": 38,
   "id": "funded-zealand",
   "metadata": {},
   "outputs": [
    {
     "name": "stdout",
     "output_type": "stream",
     "text": [
      "found next: key as : 19\n",
      "cluster found is : 19\n"
     ]
    },
    {
     "data": {
      "image/png": "[encoded data removed]",
      "text/plain": [
       "<Figure size 432x288 with 1 Axes>"
      ]
     },
     "metadata": {
      "needs_background": "light"
     },
     "output_type": "display_data"
    }
   ],
   "source": [
    "t= True\n",
    "while t:\n",
    "    t = fg.continueboolean\n",
    "    nframe_gen = next(frame_gen)\n",
    "    fg.predict(nframe_gen) # frame_gen"
   ]
  },
  {
   "cell_type": "code",
   "execution_count": 48,
   "id": "noticed-dinner",
   "metadata": {},
   "outputs": [
    {
     "name": "stdout",
     "output_type": "stream",
     "text": [
      "length is 84\n"
     ]
    }
   ],
   "source": []
  },
  {
   "cell_type": "code",
   "execution_count": 94,
   "id": "comic-birth",
   "metadata": {},
   "outputs": [
    {
     "data": {
      "text/plain": [
       "'C:/Users/super/OneDrive/Documents/2021/Lidar/bf1VER2.pcap'"
      ]
     },
     "execution_count": 94,
     "metadata": {},
     "output_type": "execute_result"
    }
   ],
   "source": [
    "pcap_file_path"
   ]
  },
  {
   "cell_type": "code",
   "execution_count": 95,
   "id": "activated-edgar",
   "metadata": {},
   "outputs": [
    {
     "ename": "KeyboardInterrupt",
     "evalue": "",
     "output_type": "error",
     "traceback": [
      "\u001b[1;31m---------------------------------------------------------------------------\u001b[0m",
      "\u001b[1;31mKeyboardInterrupt\u001b[0m                         Traceback (most recent call last)",
      "\u001b[1;32m<ipython-input-95-609c80321a52>\u001b[0m in \u001b[0;36m<module>\u001b[1;34m\u001b[0m\n\u001b[0;32m     15\u001b[0m \u001b[1;33m\u001b[0m\u001b[0m\n\u001b[0;32m     16\u001b[0m \u001b[1;32mfor\u001b[0m \u001b[0mi\u001b[0m \u001b[1;32min\u001b[0m \u001b[0mrange\u001b[0m\u001b[1;33m(\u001b[0m\u001b[1;36m0\u001b[0m\u001b[1;33m,\u001b[0m \u001b[0mfuture\u001b[0m\u001b[1;33m)\u001b[0m\u001b[1;33m:\u001b[0m\u001b[1;33m\u001b[0m\u001b[1;33m\u001b[0m\u001b[0m\n\u001b[1;32m---> 17\u001b[1;33m     \u001b[0mnframe_gen\u001b[0m \u001b[1;33m=\u001b[0m \u001b[0mnext\u001b[0m\u001b[1;33m(\u001b[0m\u001b[0mframe_gen\u001b[0m\u001b[1;33m)\u001b[0m\u001b[1;33m\u001b[0m\u001b[1;33m\u001b[0m\u001b[0m\n\u001b[0m\u001b[0;32m     18\u001b[0m \u001b[1;33m\u001b[0m\u001b[0m\n\u001b[0;32m     19\u001b[0m \u001b[0mprint\u001b[0m\u001b[1;33m(\u001b[0m\u001b[1;34m\"length of starting frame is\"\u001b[0m\u001b[1;33m,\u001b[0m \u001b[0mlen\u001b[0m\u001b[1;33m(\u001b[0m\u001b[0mnframe_gen\u001b[0m\u001b[1;33m)\u001b[0m\u001b[1;33m)\u001b[0m\u001b[1;33m\u001b[0m\u001b[1;33m\u001b[0m\u001b[0m\n",
      "\u001b[1;32m<ipython-input-11-42d5b05a46a0>\u001b[0m in \u001b[0;36mDBSCAN_pcap_frame_generator\u001b[1;34m(self, eps, min_samples)\u001b[0m\n\u001b[0;32m     26\u001b[0m \u001b[1;33m\u001b[0m\u001b[0m\n\u001b[0;32m     27\u001b[0m     \u001b[1;32mdef\u001b[0m \u001b[0mDBSCAN_pcap_frame_generator\u001b[0m\u001b[1;33m(\u001b[0m\u001b[0mself\u001b[0m\u001b[1;33m,\u001b[0m\u001b[0meps\u001b[0m\u001b[1;33m,\u001b[0m\u001b[0mmin_samples\u001b[0m\u001b[1;33m)\u001b[0m\u001b[1;33m:\u001b[0m\u001b[1;33m\u001b[0m\u001b[1;33m\u001b[0m\u001b[0m\n\u001b[1;32m---> 28\u001b[1;33m         \u001b[0mdb\u001b[0m \u001b[1;33m=\u001b[0m \u001b[0mDBSCAN\u001b[0m\u001b[1;33m(\u001b[0m\u001b[0meps\u001b[0m\u001b[1;33m=\u001b[0m\u001b[0meps\u001b[0m\u001b[1;33m,\u001b[0m\u001b[0mmin_samples\u001b[0m\u001b[1;33m=\u001b[0m\u001b[0mmin_samples\u001b[0m\u001b[1;33m)\u001b[0m\u001b[1;33m\u001b[0m\u001b[1;33m\u001b[0m\u001b[0m\n\u001b[0m\u001b[0;32m     29\u001b[0m         \u001b[0mlidar_reader\u001b[0m \u001b[1;33m=\u001b[0m \u001b[0mLidarLoader\u001b[0m\u001b[1;33m(\u001b[0m\u001b[0mself\u001b[0m\u001b[1;33m.\u001b[0m\u001b[0mframe_path\u001b[0m\u001b[1;33m,\u001b[0m\u001b[0mself\u001b[0m\u001b[1;33m.\u001b[0m\u001b[0mbck_voxel_path\u001b[0m\u001b[1;33m,\u001b[0m\u001b[0mself\u001b[0m\u001b[1;33m.\u001b[0m\u001b[0mdetecting_range\u001b[0m\u001b[1;33m,\u001b[0m\u001b[0mself\u001b[0m\u001b[1;33m.\u001b[0m\u001b[0mwith_bf\u001b[0m\u001b[1;33m)\u001b[0m\u001b[1;33m\u001b[0m\u001b[1;33m\u001b[0m\u001b[0m\n\u001b[0;32m     30\u001b[0m         \u001b[0mframe_gen\u001b[0m \u001b[1;33m=\u001b[0m \u001b[0mlidar_reader\u001b[0m\u001b[1;33m.\u001b[0m\u001b[0mframe_gen\u001b[0m\u001b[1;33m(\u001b[0m\u001b[1;33m)\u001b[0m\u001b[1;33m\u001b[0m\u001b[1;33m\u001b[0m\u001b[0m\n",
      "\u001b[1;32mc:\\users\\super\\appdata\\local\\programs\\python\\python37\\lib\\site-packages\\sklearn\\utils\\validation.py\u001b[0m in \u001b[0;36minner_f\u001b[1;34m(*args, **kwargs)\u001b[0m\n\u001b[0;32m     61\u001b[0m             \u001b[0mextra_args\u001b[0m \u001b[1;33m=\u001b[0m \u001b[0mlen\u001b[0m\u001b[1;33m(\u001b[0m\u001b[0margs\u001b[0m\u001b[1;33m)\u001b[0m \u001b[1;33m-\u001b[0m \u001b[0mlen\u001b[0m\u001b[1;33m(\u001b[0m\u001b[0mall_args\u001b[0m\u001b[1;33m)\u001b[0m\u001b[1;33m\u001b[0m\u001b[1;33m\u001b[0m\u001b[0m\n\u001b[0;32m     62\u001b[0m             \u001b[1;32mif\u001b[0m \u001b[0mextra_args\u001b[0m \u001b[1;33m<=\u001b[0m \u001b[1;36m0\u001b[0m\u001b[1;33m:\u001b[0m\u001b[1;33m\u001b[0m\u001b[1;33m\u001b[0m\u001b[0m\n\u001b[1;32m---> 63\u001b[1;33m                 \u001b[1;32mreturn\u001b[0m \u001b[0mf\u001b[0m\u001b[1;33m(\u001b[0m\u001b[1;33m*\u001b[0m\u001b[0margs\u001b[0m\u001b[1;33m,\u001b[0m \u001b[1;33m**\u001b[0m\u001b[0mkwargs\u001b[0m\u001b[1;33m)\u001b[0m\u001b[1;33m\u001b[0m\u001b[1;33m\u001b[0m\u001b[0m\n\u001b[0m\u001b[0;32m     64\u001b[0m \u001b[1;33m\u001b[0m\u001b[0m\n\u001b[0;32m     65\u001b[0m             \u001b[1;31m# extra_args > 0\u001b[0m\u001b[1;33m\u001b[0m\u001b[1;33m\u001b[0m\u001b[1;33m\u001b[0m\u001b[0m\n",
      "\u001b[1;32mc:\\users\\super\\appdata\\local\\programs\\python\\python37\\lib\\site-packages\\sklearn\\cluster\\_dbscan.py\u001b[0m in \u001b[0;36m__init__\u001b[1;34m(self, eps, min_samples, metric, metric_params, algorithm, leaf_size, p, n_jobs)\u001b[0m\n\u001b[0;32m    277\u001b[0m         \u001b[0mself\u001b[0m\u001b[1;33m.\u001b[0m\u001b[0mmin_samples\u001b[0m \u001b[1;33m=\u001b[0m \u001b[0mmin_samples\u001b[0m\u001b[1;33m\u001b[0m\u001b[1;33m\u001b[0m\u001b[0m\n\u001b[0;32m    278\u001b[0m         \u001b[0mself\u001b[0m\u001b[1;33m.\u001b[0m\u001b[0mmetric\u001b[0m \u001b[1;33m=\u001b[0m \u001b[0mmetric\u001b[0m\u001b[1;33m\u001b[0m\u001b[1;33m\u001b[0m\u001b[0m\n\u001b[1;32m--> 279\u001b[1;33m         \u001b[0mself\u001b[0m\u001b[1;33m.\u001b[0m\u001b[0mmetric_params\u001b[0m \u001b[1;33m=\u001b[0m \u001b[0mmetric_params\u001b[0m\u001b[1;33m\u001b[0m\u001b[1;33m\u001b[0m\u001b[0m\n\u001b[0m\u001b[0;32m    280\u001b[0m         \u001b[0mself\u001b[0m\u001b[1;33m.\u001b[0m\u001b[0malgorithm\u001b[0m \u001b[1;33m=\u001b[0m \u001b[0malgorithm\u001b[0m\u001b[1;33m\u001b[0m\u001b[1;33m\u001b[0m\u001b[0m\n\u001b[0;32m    281\u001b[0m         \u001b[0mself\u001b[0m\u001b[1;33m.\u001b[0m\u001b[0mleaf_size\u001b[0m \u001b[1;33m=\u001b[0m \u001b[0mleaf_size\u001b[0m\u001b[1;33m\u001b[0m\u001b[1;33m\u001b[0m\u001b[0m\n",
      "\u001b[1;31mKeyboardInterrupt\u001b[0m: "
     ]
    }
   ],
   "source": [
    "# reset frame gen\n",
    "frame_gen = FrameGen(pcap_file_path,detecting_range,bck_voxel_path,with_bf=False).DBSCAN_pcap_frame_generator(eps,min_samples)\n",
    "\n",
    "# find a way to find longest trajectory ?\n",
    "#fg1 = frequency_grid()\n",
    "#fg2 = frequency_grid()\n",
    "#fg3 = frequency_grid()\n",
    "\n",
    "fgs = []\n",
    "\n",
    "totlen = 20\n",
    "\n",
    "# start from future frame\n",
    "future= 20 \n",
    "\n",
    "for i in range(0, future):\n",
    "    nframe_gen = next(frame_gen)\n",
    "\n",
    "print(\"length of starting frame is\", len(nframe_gen))\n",
    "    \n",
    "for i in range(0, totlen):\n",
    "    fgi = frequency_grid()\n",
    "    fgi.setup_grid()\n",
    "    fgi.set_first_coordinates(nframe_gen, i)\n",
    "    fgs.append(fgi)\n",
    "\n",
    "    \n",
    "counternums = []\n",
    "\n",
    "for i in range(0, totlen):\n",
    "    c = 1\n",
    "    # reset frame gen \n",
    "    # reset frame gen\n",
    "    frame_gen = FrameGen(pcap_file_path,detecting_range,bck_voxel_path,with_bf=False).DBSCAN_pcap_frame_generator(eps,min_samples)\n",
    "    \n",
    "    for j in range(0, future):\n",
    "        nframe_gen =next(frame_gen)\n",
    "        \n",
    "    t = True\n",
    "    fg1 = fgs[i]\n",
    "    while t:\n",
    "        t= fg1.continueboolean\n",
    "        nframe_gen = next(frame_gen)\n",
    "        fg1.predict(nframe_gen)\n",
    "        c=c+1\n",
    "    counternums.append(c)\n",
    "\n",
    "# total length of frame gen? "
   ]
  },
  {
   "cell_type": "code",
   "execution_count": 93,
   "id": "funny-cheat",
   "metadata": {},
   "outputs": [
    {
     "data": {
      "text/plain": [
       "[21,\n",
       " 21,\n",
       " 21,\n",
       " 21,\n",
       " 21,\n",
       " 21,\n",
       " 21,\n",
       " 21,\n",
       " 21,\n",
       " 21,\n",
       " 21,\n",
       " 21,\n",
       " 21,\n",
       " 21,\n",
       " 21,\n",
       " 21,\n",
       " 21,\n",
       " 21,\n",
       " 21,\n",
       " 21]"
      ]
     },
     "execution_count": 93,
     "metadata": {},
     "output_type": "execute_result"
    }
   ],
   "source": [
    "counternums"
   ]
  },
  {
   "cell_type": "code",
   "execution_count": 99,
   "id": "informational-adams",
   "metadata": {},
   "outputs": [
    {
     "name": "stdout",
     "output_type": "stream",
     "text": [
      "file 2019-8-27-0-0-0-BF1-CL1-Traj(0-18000frames).csv\n",
      "file 2019-8-27-0-30-0-BF1-CL1-Traj(0-18000frames).csv\n",
      "file 2019-8-27-1-0-0-BF1-CL1-Traj(0-18000frames).csv\n",
      "file 2019-8-27-1-30-0-BF1-CL1-Traj(0-18000frames).csv\n",
      "file 2019-8-27-2-0-0-BF1-CL1-Traj(0-18000frames).csv\n",
      "found next: key as : 12\n",
      "cluster found is : 12\n",
      "found next: key as : 5\n",
      "cluster found is : 5\n",
      "found next: key as : 10\n",
      "cluster found is : 10\n",
      "found next: key as : 28\n",
      "cluster found is : 28\n",
      "found next: key as : 24\n",
      "cluster found is : 24\n",
      "found next: key as : 26\n",
      "cluster found is : 26\n",
      "found next: key as : 29\n",
      "cluster found is : 29\n",
      "found next: key as : 27\n",
      "cluster found is : 27\n",
      "found next: key as : 40\n",
      "cluster found is : 40\n",
      "found next: key as : 51\n",
      "cluster found is : 51\n",
      "did not find next\n",
      "did not find next\n"
     ]
    }
   ],
   "source": [
    "future=10\n",
    "iclust = 1\n",
    "# run for 1 starting cluster\n",
    "c = 1\n",
    "# reset frame gen\n",
    "frame_gen = FrameGen(pcap_file_path,detecting_range,bck_voxel_path,with_bf=False).DBSCAN_pcap_frame_generator(eps,min_samples)\n",
    "\n",
    "for i in range(0, future):\n",
    "    nframe_gen = next(frame_gen)\n",
    "\n",
    "t = True\n",
    "\n",
    "# initialize\n",
    "fg = frequency_grid()\n",
    "fg.setup_grid()\n",
    "#print(\"length of starting frame is\", len(nframe_gen))\n",
    "fg.set_first_coordinates(nframe_gen, iclust)\n",
    "\n",
    "while t:\n",
    "    t= fg.continueboolean\n",
    "    nframe_gen = next(frame_gen)\n",
    "    fg.predict(nframe_gen)\n",
    "    c=c+1\n",
    "counternums.append(c)"
   ]
  },
  {
   "cell_type": "code",
   "execution_count": 100,
   "id": "circular-rating",
   "metadata": {},
   "outputs": [
    {
     "data": {
      "text/plain": [
       "13"
      ]
     },
     "execution_count": 100,
     "metadata": {},
     "output_type": "execute_result"
    }
   ],
   "source": [
    "c"
   ]
  },
  {
   "cell_type": "code",
   "execution_count": 21,
   "id": "vulnerable-jefferson",
   "metadata": {},
   "outputs": [
    {
     "data": {
      "text/plain": [
       "6"
      ]
     },
     "execution_count": 21,
     "metadata": {},
     "output_type": "execute_result"
    }
   ],
   "source": [
    "len(fg.xposition)"
   ]
  },
  {
   "cell_type": "code",
   "execution_count": null,
   "id": "logical-picking",
   "metadata": {},
   "outputs": [],
   "source": []
  },
  {
   "cell_type": "code",
   "execution_count": 25,
   "id": "laughing-antique",
   "metadata": {},
   "outputs": [
    {
     "data": {
      "image/png": "[encoded data removed]",
      "text/plain": [
       "<Figure size 432x288 with 1 Axes>"
      ]
     },
     "metadata": {
      "needs_background": "light"
     },
     "output_type": "display_data"
    }
   ],
   "source": [
    "plt.scatter(fg.xposition[0], fg.yposition[0])\n",
    "plt.show()"
   ]
  },
  {
   "cell_type": "code",
   "execution_count": 101,
   "id": "satellite-eight",
   "metadata": {},
   "outputs": [
    {
     "data": {
      "image/png": "[encoded data removed]",
      "text/plain": [
       "<Figure size 432x288 with 1 Axes>"
      ]
     },
     "metadata": {
      "needs_background": "light"
     },
     "output_type": "display_data"
    }
   ],
   "source": [
    "# check by plotting\n",
    "for i in range(0,len(fg.xposition)):\n",
    "    plt.scatter(fg.xposition[i],fg.yposition[i])\n",
    "    avx = np.mean(fg.xposition[i])\n",
    "    avy = np.mean(fg.yposition[i])\n",
    "    plt.annotate(i, (avx, avy), textcoords=\"offset points\", xytext=(0,10), ha='center')\n",
    "\n",
    "plt.show()"
   ]
  },
  {
   "cell_type": "code",
   "execution_count": 73,
   "id": "lonely-elimination",
   "metadata": {},
   "outputs": [
    {
     "data": {
      "image/png": "[encoded data removed]",
      "text/plain": [
       "<Figure size 432x288 with 1 Axes>"
      ]
     },
     "metadata": {
      "needs_background": "light"
     },
     "output_type": "display_data"
    }
   ],
   "source": [
    "# check by plotting\n",
    "for i in range(0,len(fg2.xposition)):\n",
    "    plt.scatter(fg2.xposition[i],fg2.yposition[i])\n",
    "    avx = np.mean(fg2.xposition[i])\n",
    "    avy = np.mean(fg2.yposition[i])\n",
    "    plt.annotate(i, (avx, avy), textcoords=\"offset points\", xytext=(0,10), ha='center')\n",
    "\n",
    "plt.show()"
   ]
  },
  {
   "cell_type": "code",
   "execution_count": 106,
   "id": "extraordinary-sleep",
   "metadata": {},
   "outputs": [
    {
     "data": {
      "text/plain": [
       "{89015: 1,\n",
       " 89413: 1,\n",
       " 89814: 1,\n",
       " 87814: 1,\n",
       " 89415: 1,\n",
       " 89815: 1,\n",
       " 90214: 1,\n",
       " 90614: 1,\n",
       " 91014: 1,\n",
       " 71014: 1,\n",
       " 70614: 1,\n",
       " 70615: 1,\n",
       " 70213: 1,\n",
       " 75413: 1,\n",
       " 75014: 1,\n",
       " 75813: 1,\n",
       " 75814: 1,\n",
       " 75414: 1,\n",
       " 76213: 1,\n",
       " 76214: 1,\n",
       " 76613: 1,\n",
       " 76614: 1,\n",
       " 77013: 1,\n",
       " 77014: 1,\n",
       " 76212: 1,\n",
       " 75032: 1,\n",
       " 75432: 1,\n",
       " 75832: 1,\n",
       " 76232: 1,\n",
       " 76631: 1,\n",
       " 76632: 1,\n",
       " 76234: 1}"
      ]
     },
     "execution_count": 106,
     "metadata": {},
     "output_type": "execute_result"
    }
   ],
   "source": [
    "fg.prevmap"
   ]
  },
  {
   "cell_type": "code",
   "execution_count": 1,
   "id": "considerable-plate",
   "metadata": {},
   "outputs": [],
   "source": [
    "# plot res\n",
    "\n",
    "tlen = len(fg.tracking_list)\n"
   ]
  },
  {
   "cell_type": "code",
   "execution_count": null,
   "id": "hazardous-camcorder",
   "metadata": {},
   "outputs": [],
   "source": []
  },
  {
   "cell_type": "code",
   "execution_count": 38,
   "id": "green-thickness",
   "metadata": {
    "scrolled": true
   },
   "outputs": [],
   "source": [
    "#import numpy as np\n",
    "#np.save('my_dtrajcount.npy', dtrajcount)\n"
   ]
  },
  {
   "cell_type": "code",
   "execution_count": null,
   "id": "considerable-cleaners",
   "metadata": {},
   "outputs": [],
   "source": [
    "# train the dictionary without initialization\n",
    "\n",
    "# val = prevmap.get(fromi)\n",
    "# if val ==None:\n"
   ]
  },
  {
   "cell_type": "code",
   "execution_count": null,
   "id": "considered-undergraduate",
   "metadata": {},
   "outputs": [],
   "source": [
    "# write predict method for hybrid2, hybrid3 \n",
    "\n",
    "\n",
    "def predict(self, frame_gen, ind): # ind: current index\n",
    "    # frame gen is \n",
    "    next_frame = next(frame_gen)\n",
    "    #print(\"len of next frame\", len(next_frame))\n",
    "    lenframe = len(next_frame)\n",
    "    mf = defaultdict(list)\n",
    "\n",
    "    mx = lenframe\n",
    "    for j in range(0, mx):\n",
    "        mf[j] = 0\n",
    "\n",
    "    matchfreq = mf\n",
    "    currentmap3 = {}\n",
    "\n",
    "    thres = self.thres \n",
    "    \n",
    "    f= 0\n",
    "    currentmap = {} # temporary currentmap\n",
    "    currentmap_freq = {} # holds freq scores\n",
    "    for i in range(0, lenframe):\n",
    "        ptcloud = next_frame[i].point_cloud\n",
    "        for p in ptcloud:\n",
    "            # extract x and y values\n",
    "            px =p[0]\n",
    "            py =p[1]\n",
    "            xvalues.append(px)\n",
    "            yvalues.append(py)\n",
    "            print(\"pc of 0\", px)\n",
    "            xr = round(xpoint)\n",
    "            yr = round(ypoint)\n",
    "            fromi = self.backmap[(xr, yr)]\n",
    "            h1, i1 = self.highestfreq(fromi)\n",
    "            # save to map\n",
    "            currentmap[i1] = 1\n",
    "            currentmap_freq[i1] = h1 \n",
    "        \n",
    "            val = self.prevmap.get(fromi)\n",
    "            if val ==None:\n",
    "                pass\n",
    "            else:\n",
    "                matchfreq[i] = matchfreq[i] +1\n",
    "        avecurrentx = np.mean(xvalues) ##USE AS CURRENT X\n",
    "        avecurrenty = np.mean(yvalues)\n",
    "        currentmap3[numo2] = [avecurrentx, avecurrenty]\n",
    "        if matchfreq[i] > f:\n",
    "            ky = i\n",
    "            hxvalues = xvalues\n",
    "            hyvalues = yvalues\n",
    "            totalmap[ky]= currentmap\n",
    "            \n",
    "            \n",
    "\n",
    "        if len(hxvalues)==0:\n",
    "            foundmin=0\n",
    "            mindist = thres\n",
    "            c_first=0\n",
    "            for c in currentmap3:\n",
    "                cvalue = currentmap3[c]\n",
    "                cx = cvalue[0]\n",
    "                cy = cvalue[1]\n",
    "                ax = finalx[-1]\n",
    "                ay = finaly[-1]\n",
    "                dist1 = pow(cx - ax,2) + pow(cy - ay,2)\n",
    "                dist = math.sqrt(dist1)\n",
    "                if dist < thres:\n",
    "                    if c_first==0:\n",
    "                        c_first=1\n",
    "                        minclust=c\n",
    "                        mcx = cx\n",
    "                        mcy= cy\n",
    "                        mindist = dist\n",
    "                    foundmin=1\n",
    "                    if dist< mindist:\n",
    "                        mindist = dist\n",
    "                        minclust=c\n",
    "                        mcx = cx\n",
    "                        mcy = cy\n",
    "            if foundmin==1:\n",
    "                print(\"found min\")\n",
    "                print(\"dist is\", mindist)\n",
    "                print(\"minclust is\", minclust)\n",
    "                if len(angles)==0:\n",
    "                    print(\"angles array is of length 0 and minclust:\", minclust)\n",
    "                    prevmap = totalmap[minclust]\n",
    "                    avx = mcx\n",
    "                    avy = mcy \n",
    "                    finalarray.append(minclust)\n",
    "                    # add to angles\n",
    "                    xdiff = avx - finalx[-1]\n",
    "                    ydiff = avy - finaly[-1]\n",
    "                    rad = math.atan2(ydiff, xdiff)\n",
    "                    ang = math.degrees(rad)\n",
    "                    if ang<0:\n",
    "                        ang = 360+ang\n",
    "                    angles.append(ang)\n",
    "                    \n",
    "                    finalx.append(mcx)\n",
    "                    finaly.append(mcy)\n",
    "                    \n",
    "                    continue\n",
    "                prev= self.tracking_list[-1]\n",
    "                prev_avex= prev[0]\n",
    "                prev_avey= prev[1]\n",
    "                xdiff_curr = mcx - prev_avex #how is avx set?\n",
    "                ydiff_curr = mcy - prev_avey \n",
    "                # calc angle\n",
    "                rad = math.atan2(ydiff_curr, xdiff_curr)\n",
    "                \n",
    "                ang = math.degrees(rad)\n",
    "                if ang<0:\n",
    "                    ang = 360+ang\n",
    "                    \n",
    "                prev_ang = self.angles[-1]\n",
    "                ang_diff = abs(ang - prev_ang)\n",
    "                if ang_diff <= 30: # change from 45 to 30\n",
    "                    print(\"angle holds\")\n",
    "                    prevmap= totalmap[minclust]\n",
    "                    avx = mcx\n",
    "                    avy =mcy\n",
    "                    finalarray.append(minclust)\n",
    "                    finalx.append(mcx)\n",
    "                    finaly.append(mcy)\n",
    "                    # append to slopes / diffs\n",
    "                    #xdiff.append(avx - avex[-1])\n",
    "                    #ydiff.append(avy - avey[-1])\n",
    "                    #avex.append(avx)\n",
    "                    #avey.append(avy)\n",
    "                    #append to angles\n",
    "                    angles.append(ang)\n",
    "                else:\n",
    "                    print(\"angles too large, stop\")\n",
    "                    break\n",
    "                \n",
    "                \n",
    "        else:\n",
    "            # return ky\n",
    "            self.trackinglist[ind] = ky \n",
    "            return ky\n",
    "                "
   ]
  },
  {
   "cell_type": "code",
   "execution_count": 4,
   "id": "adult-sperm",
   "metadata": {},
   "outputs": [],
   "source": [
    "# linear sum assignment\n",
    "from scipy.optimize import linear_sum_assignment\n",
    "\n",
    "# input: cost matrix \n",
    "\n",
    "# cost is the reciprocal of the frequency or negative of frequency ?\n",
    "\n"
   ]
  },
  {
   "cell_type": "code",
   "execution_count": 2,
   "id": "supposed-scientist",
   "metadata": {},
   "outputs": [],
   "source": [
    "import numpy as np\n",
    "# test lin sum assignment\n",
    "cost = np.array([[4, 1, 3], [2, 0, 5], [3, 2, 2]])\n"
   ]
  },
  {
   "cell_type": "code",
   "execution_count": 6,
   "id": "thorough-monday",
   "metadata": {},
   "outputs": [],
   "source": [
    "cost2 = np.array([[0, 1, 3], [2, 0, 5], [3, 2, 0]])"
   ]
  },
  {
   "cell_type": "code",
   "execution_count": 10,
   "id": "greater-moderator",
   "metadata": {},
   "outputs": [
    {
     "data": {
      "text/plain": [
       "array([[1, 2, 1],\n",
       "       [0, 5, 4]])"
      ]
     },
     "execution_count": 10,
     "metadata": {},
     "output_type": "execute_result"
    }
   ],
   "source": [
    "# test vstack\n",
    "A = [1,2,1]\n",
    "newrow = [0,5,4]\n",
    "np.vstack([A, newrow])"
   ]
  },
  {
   "cell_type": "code",
   "execution_count": 3,
   "id": "blond-oakland",
   "metadata": {},
   "outputs": [
    {
     "data": {
      "text/plain": [
       "array([[4, 1, 3],\n",
       "       [2, 0, 5],\n",
       "       [3, 2, 2]])"
      ]
     },
     "execution_count": 3,
     "metadata": {},
     "output_type": "execute_result"
    }
   ],
   "source": [
    "cost"
   ]
  },
  {
   "cell_type": "code",
   "execution_count": 5,
   "id": "acquired-republic",
   "metadata": {},
   "outputs": [],
   "source": [
    "row_ind, col_ind = linear_sum_assignment(cost)"
   ]
  },
  {
   "cell_type": "code",
   "execution_count": 7,
   "id": "loving-public",
   "metadata": {},
   "outputs": [
    {
     "data": {
      "text/plain": [
       "array([0, 1, 2], dtype=int64)"
      ]
     },
     "execution_count": 7,
     "metadata": {},
     "output_type": "execute_result"
    }
   ],
   "source": [
    "row_ind"
   ]
  },
  {
   "cell_type": "code",
   "execution_count": 8,
   "id": "upset-premiere",
   "metadata": {},
   "outputs": [],
   "source": [
    "r2, c2 = linear_sum_assignment(cost2)"
   ]
  },
  {
   "cell_type": "code",
   "execution_count": 9,
   "id": "driving-knife",
   "metadata": {},
   "outputs": [
    {
     "data": {
      "text/plain": [
       "array([0, 1, 2], dtype=int64)"
      ]
     },
     "execution_count": 9,
     "metadata": {},
     "output_type": "execute_result"
    }
   ],
   "source": [
    "c2"
   ]
  },
  {
   "cell_type": "code",
   "execution_count": null,
   "id": "minute-welsh",
   "metadata": {},
   "outputs": [],
   "source": [
    "# for each row: calculate the frequency from that row to each cluster in next frame\n"
   ]
  }
 ],
 "metadata": {
  "kernelspec": {
   "display_name": "Python 3",
   "language": "python",
   "name": "python3"
  },
  "language_info": {
   "codemirror_mode": {
    "name": "ipython",
    "version": 3
   },
   "file_extension": ".py",
   "mimetype": "text/x-python",
   "name": "python",
   "nbconvert_exporter": "python",
   "pygments_lexer": "ipython3",
   "version": "3.7.7"
  }
 },
 "nbformat": 4,
 "nbformat_minor": 5
}
